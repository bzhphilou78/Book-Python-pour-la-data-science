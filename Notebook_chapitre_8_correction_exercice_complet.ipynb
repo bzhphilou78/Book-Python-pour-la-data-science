{
 "cells": [
  {
   "cell_type": "markdown",
   "metadata": {},
   "source": [
    "# Etude des films et séries disponibles sur Netflix jusqu'en 2019."
   ]
  },
  {
   "cell_type": "markdown",
   "metadata": {},
   "source": [
    "## 2. Présentation du jeu de données\n",
    "Ce jeu de données regroupe l'ensemble des films et séries disponibles sur Netflix jusqu'en 2019.\n",
    "Il contient 12 variables que l'on pourra étudier : \n",
    "* show_id : correspond à l'ID unique du film ou de la série\n",
    "* type : permet de dire s'il s'agit d'un film (movie) ou d'une série télévisée (TV show)\n",
    "* title : le titre du film/de la série\n",
    "* director : le directeur de production\n",
    "* cast : les acteurs présents dans le film/la série\n",
    "* country : pays dans lequel le film/la série a été produit\n",
    "* date_added : date à laquelle le film/la série a été ajouté sur Netflix\n",
    "* release_year : l'année de sortie réelle du film/de la série\n",
    "* rating : classement du contenu (TV-MA, TV-14, TV-PG, R, PG-13, NR, TV-Y7, TV-G, TV-Y, TV-Y7-FV, G, UR, NC-17). Pour voir la signification des différents classements de contenu : https://fr.wikipedia.org/wiki/TV_Parental_Guidelines\n",
    "* duration : pour les films - durée du film en minutes. Pour les séries - nombre de saisons\n",
    "* listed_in : le genre du film/de la série, la catégorie.\n",
    "* description : la description du film/de la série"
   ]
  },
  {
   "cell_type": "markdown",
   "metadata": {},
   "source": [
    "# 3. Enoncé de l'exercice"
   ]
  },
  {
   "cell_type": "markdown",
   "metadata": {},
   "source": [
    "## 3.1.\tLecture du fichier"
   ]
  },
  {
   "cell_type": "code",
   "execution_count": 4,
   "metadata": {},
   "outputs": [],
   "source": [
    "# importation de la librairie Pandas\n",
    "import pandas as pd\n",
    "# lecture du fichier situé dans le dossier datasets, derrière le dossier de travail.\n",
    "# on défini la colonne 1 du fichier (show_id) comme étant l'index du dataframe.\n",
    "donnees=pd.read_csv(\"../Netflix_titles/netflix_titles.csv\", index_col=[0])"
   ]
  },
  {
   "cell_type": "code",
   "execution_count": 5,
   "metadata": {},
   "outputs": [
    {
     "data": {
      "text/html": [
       "<div>\n",
       "<style scoped>\n",
       "    .dataframe tbody tr th:only-of-type {\n",
       "        vertical-align: middle;\n",
       "    }\n",
       "\n",
       "    .dataframe tbody tr th {\n",
       "        vertical-align: top;\n",
       "    }\n",
       "\n",
       "    .dataframe thead th {\n",
       "        text-align: right;\n",
       "    }\n",
       "</style>\n",
       "<table border=\"1\" class=\"dataframe\">\n",
       "  <thead>\n",
       "    <tr style=\"text-align: right;\">\n",
       "      <th></th>\n",
       "      <th>type</th>\n",
       "      <th>title</th>\n",
       "      <th>director</th>\n",
       "      <th>cast</th>\n",
       "      <th>country</th>\n",
       "      <th>date_added</th>\n",
       "      <th>release_year</th>\n",
       "      <th>rating</th>\n",
       "      <th>duration</th>\n",
       "      <th>listed_in</th>\n",
       "      <th>description</th>\n",
       "    </tr>\n",
       "    <tr>\n",
       "      <th>show_id</th>\n",
       "      <th></th>\n",
       "      <th></th>\n",
       "      <th></th>\n",
       "      <th></th>\n",
       "      <th></th>\n",
       "      <th></th>\n",
       "      <th></th>\n",
       "      <th></th>\n",
       "      <th></th>\n",
       "      <th></th>\n",
       "      <th></th>\n",
       "    </tr>\n",
       "  </thead>\n",
       "  <tbody>\n",
       "    <tr>\n",
       "      <th>81145628</th>\n",
       "      <td>Movie</td>\n",
       "      <td>Norm of the North: King Sized Adventure</td>\n",
       "      <td>Richard Finn, Tim Maltby</td>\n",
       "      <td>Alan Marriott, Andrew Toth, Brian Dobson, Cole...</td>\n",
       "      <td>United States, India, South Korea, China</td>\n",
       "      <td>September 9, 2019</td>\n",
       "      <td>2019</td>\n",
       "      <td>TV-PG</td>\n",
       "      <td>90 min</td>\n",
       "      <td>Children &amp; Family Movies, Comedies</td>\n",
       "      <td>Before planning an awesome wedding for his gra...</td>\n",
       "    </tr>\n",
       "    <tr>\n",
       "      <th>80117401</th>\n",
       "      <td>Movie</td>\n",
       "      <td>Jandino: Whatever it Takes</td>\n",
       "      <td>NaN</td>\n",
       "      <td>Jandino Asporaat</td>\n",
       "      <td>United Kingdom</td>\n",
       "      <td>September 9, 2016</td>\n",
       "      <td>2016</td>\n",
       "      <td>TV-MA</td>\n",
       "      <td>94 min</td>\n",
       "      <td>Stand-Up Comedy</td>\n",
       "      <td>Jandino Asporaat riffs on the challenges of ra...</td>\n",
       "    </tr>\n",
       "    <tr>\n",
       "      <th>70234439</th>\n",
       "      <td>TV Show</td>\n",
       "      <td>Transformers Prime</td>\n",
       "      <td>NaN</td>\n",
       "      <td>Peter Cullen, Sumalee Montano, Frank Welker, J...</td>\n",
       "      <td>United States</td>\n",
       "      <td>September 8, 2018</td>\n",
       "      <td>2013</td>\n",
       "      <td>TV-Y7-FV</td>\n",
       "      <td>1 Season</td>\n",
       "      <td>Kids' TV</td>\n",
       "      <td>With the help of three human allies, the Autob...</td>\n",
       "    </tr>\n",
       "    <tr>\n",
       "      <th>80058654</th>\n",
       "      <td>TV Show</td>\n",
       "      <td>Transformers: Robots in Disguise</td>\n",
       "      <td>NaN</td>\n",
       "      <td>Will Friedle, Darren Criss, Constance Zimmer, ...</td>\n",
       "      <td>United States</td>\n",
       "      <td>September 8, 2018</td>\n",
       "      <td>2016</td>\n",
       "      <td>TV-Y7</td>\n",
       "      <td>1 Season</td>\n",
       "      <td>Kids' TV</td>\n",
       "      <td>When a prison ship crash unleashes hundreds of...</td>\n",
       "    </tr>\n",
       "    <tr>\n",
       "      <th>80125979</th>\n",
       "      <td>Movie</td>\n",
       "      <td>#realityhigh</td>\n",
       "      <td>Fernando Lebrija</td>\n",
       "      <td>Nesta Cooper, Kate Walsh, John Michael Higgins...</td>\n",
       "      <td>United States</td>\n",
       "      <td>September 8, 2017</td>\n",
       "      <td>2017</td>\n",
       "      <td>TV-14</td>\n",
       "      <td>99 min</td>\n",
       "      <td>Comedies</td>\n",
       "      <td>When nerdy high schooler Dani finally attracts...</td>\n",
       "    </tr>\n",
       "  </tbody>\n",
       "</table>\n",
       "</div>"
      ],
      "text/plain": [
       "             type                                    title  \\\n",
       "show_id                                                      \n",
       "81145628    Movie  Norm of the North: King Sized Adventure   \n",
       "80117401    Movie               Jandino: Whatever it Takes   \n",
       "70234439  TV Show                       Transformers Prime   \n",
       "80058654  TV Show         Transformers: Robots in Disguise   \n",
       "80125979    Movie                             #realityhigh   \n",
       "\n",
       "                          director  \\\n",
       "show_id                              \n",
       "81145628  Richard Finn, Tim Maltby   \n",
       "80117401                       NaN   \n",
       "70234439                       NaN   \n",
       "80058654                       NaN   \n",
       "80125979          Fernando Lebrija   \n",
       "\n",
       "                                                       cast  \\\n",
       "show_id                                                       \n",
       "81145628  Alan Marriott, Andrew Toth, Brian Dobson, Cole...   \n",
       "80117401                                   Jandino Asporaat   \n",
       "70234439  Peter Cullen, Sumalee Montano, Frank Welker, J...   \n",
       "80058654  Will Friedle, Darren Criss, Constance Zimmer, ...   \n",
       "80125979  Nesta Cooper, Kate Walsh, John Michael Higgins...   \n",
       "\n",
       "                                           country         date_added  \\\n",
       "show_id                                                                 \n",
       "81145628  United States, India, South Korea, China  September 9, 2019   \n",
       "80117401                            United Kingdom  September 9, 2016   \n",
       "70234439                             United States  September 8, 2018   \n",
       "80058654                             United States  September 8, 2018   \n",
       "80125979                             United States  September 8, 2017   \n",
       "\n",
       "          release_year    rating  duration  \\\n",
       "show_id                                      \n",
       "81145628          2019     TV-PG    90 min   \n",
       "80117401          2016     TV-MA    94 min   \n",
       "70234439          2013  TV-Y7-FV  1 Season   \n",
       "80058654          2016     TV-Y7  1 Season   \n",
       "80125979          2017     TV-14    99 min   \n",
       "\n",
       "                                   listed_in  \\\n",
       "show_id                                        \n",
       "81145628  Children & Family Movies, Comedies   \n",
       "80117401                     Stand-Up Comedy   \n",
       "70234439                            Kids' TV   \n",
       "80058654                            Kids' TV   \n",
       "80125979                            Comedies   \n",
       "\n",
       "                                                description  \n",
       "show_id                                                      \n",
       "81145628  Before planning an awesome wedding for his gra...  \n",
       "80117401  Jandino Asporaat riffs on the challenges of ra...  \n",
       "70234439  With the help of three human allies, the Autob...  \n",
       "80058654  When a prison ship crash unleashes hundreds of...  \n",
       "80125979  When nerdy high schooler Dani finally attracts...  "
      ]
     },
     "execution_count": 5,
     "metadata": {},
     "output_type": "execute_result"
    }
   ],
   "source": [
    "# aperçu du dataframe\n",
    "donnees.head()"
   ]
  },
  {
   "cell_type": "markdown",
   "metadata": {},
   "source": [
    "## 3.2.\tDimension du dataframe"
   ]
  },
  {
   "cell_type": "code",
   "execution_count": 6,
   "metadata": {},
   "outputs": [
    {
     "data": {
      "text/plain": [
       "(6234, 11)"
      ]
     },
     "execution_count": 6,
     "metadata": {},
     "output_type": "execute_result"
    }
   ],
   "source": [
    "# dimensions du tableau\n",
    "donnees.shape"
   ]
  },
  {
   "cell_type": "markdown",
   "metadata": {},
   "source": [
    "Il y a 6234 lignes, soit 6234 films/séries et 11 variables qui les décrivent"
   ]
  },
  {
   "cell_type": "markdown",
   "metadata": {},
   "source": [
    "## 3.3.\tCombien y a-t-il de films dans ce jeu de données ? Combien y a-t-il de séries ?"
   ]
  },
  {
   "cell_type": "code",
   "execution_count": 7,
   "metadata": {},
   "outputs": [
    {
     "data": {
      "text/plain": [
       "Movie      4265\n",
       "TV Show    1969\n",
       "Name: type, dtype: int64"
      ]
     },
     "execution_count": 7,
     "metadata": {},
     "output_type": "execute_result"
    }
   ],
   "source": [
    "# on sélectionne la colonne dont le label est \"type\" grâce à l'attribut .loc (qui utilise les labels plutôt que les positions)\n",
    "# grâce au slicing, on sélectionne toutes les lignes avec le \":\" à gauche de la virgule\n",
    "# puis on applique la méthode value_counts() pour afficher les modalités uniques et le nombre d'occurrences de chaque modalité\n",
    "donnees.loc[:,\"type\"].value_counts()"
   ]
  },
  {
   "cell_type": "markdown",
   "metadata": {},
   "source": [
    "Il y a 4265 films et 1969 séries sur Netflix, en 2019."
   ]
  },
  {
   "cell_type": "markdown",
   "metadata": {},
   "source": [
    "## 3.4.\tGénérer le résumé statistique du dataframe"
   ]
  },
  {
   "cell_type": "code",
   "execution_count": 8,
   "metadata": {},
   "outputs": [
    {
     "data": {
      "text/html": [
       "<div>\n",
       "<style scoped>\n",
       "    .dataframe tbody tr th:only-of-type {\n",
       "        vertical-align: middle;\n",
       "    }\n",
       "\n",
       "    .dataframe tbody tr th {\n",
       "        vertical-align: top;\n",
       "    }\n",
       "\n",
       "    .dataframe thead th {\n",
       "        text-align: right;\n",
       "    }\n",
       "</style>\n",
       "<table border=\"1\" class=\"dataframe\">\n",
       "  <thead>\n",
       "    <tr style=\"text-align: right;\">\n",
       "      <th></th>\n",
       "      <th>type</th>\n",
       "      <th>title</th>\n",
       "      <th>director</th>\n",
       "      <th>cast</th>\n",
       "      <th>country</th>\n",
       "      <th>date_added</th>\n",
       "      <th>release_year</th>\n",
       "      <th>rating</th>\n",
       "      <th>duration</th>\n",
       "      <th>listed_in</th>\n",
       "      <th>description</th>\n",
       "    </tr>\n",
       "  </thead>\n",
       "  <tbody>\n",
       "    <tr>\n",
       "      <th>count</th>\n",
       "      <td>6234</td>\n",
       "      <td>6234</td>\n",
       "      <td>4265</td>\n",
       "      <td>5664</td>\n",
       "      <td>5758</td>\n",
       "      <td>6223</td>\n",
       "      <td>6234.00000</td>\n",
       "      <td>6224</td>\n",
       "      <td>6234</td>\n",
       "      <td>6234</td>\n",
       "      <td>6234</td>\n",
       "    </tr>\n",
       "    <tr>\n",
       "      <th>unique</th>\n",
       "      <td>2</td>\n",
       "      <td>6172</td>\n",
       "      <td>3301</td>\n",
       "      <td>5469</td>\n",
       "      <td>554</td>\n",
       "      <td>1524</td>\n",
       "      <td>NaN</td>\n",
       "      <td>14</td>\n",
       "      <td>201</td>\n",
       "      <td>461</td>\n",
       "      <td>6226</td>\n",
       "    </tr>\n",
       "    <tr>\n",
       "      <th>top</th>\n",
       "      <td>Movie</td>\n",
       "      <td>The Silence</td>\n",
       "      <td>Raúl Campos, Jan Suter</td>\n",
       "      <td>David Attenborough</td>\n",
       "      <td>United States</td>\n",
       "      <td>January 1, 2020</td>\n",
       "      <td>NaN</td>\n",
       "      <td>TV-MA</td>\n",
       "      <td>1 Season</td>\n",
       "      <td>Documentaries</td>\n",
       "      <td>A surly septuagenarian gets another chance at ...</td>\n",
       "    </tr>\n",
       "    <tr>\n",
       "      <th>freq</th>\n",
       "      <td>4265</td>\n",
       "      <td>3</td>\n",
       "      <td>18</td>\n",
       "      <td>18</td>\n",
       "      <td>2032</td>\n",
       "      <td>122</td>\n",
       "      <td>NaN</td>\n",
       "      <td>2027</td>\n",
       "      <td>1321</td>\n",
       "      <td>299</td>\n",
       "      <td>3</td>\n",
       "    </tr>\n",
       "    <tr>\n",
       "      <th>mean</th>\n",
       "      <td>NaN</td>\n",
       "      <td>NaN</td>\n",
       "      <td>NaN</td>\n",
       "      <td>NaN</td>\n",
       "      <td>NaN</td>\n",
       "      <td>NaN</td>\n",
       "      <td>2013.35932</td>\n",
       "      <td>NaN</td>\n",
       "      <td>NaN</td>\n",
       "      <td>NaN</td>\n",
       "      <td>NaN</td>\n",
       "    </tr>\n",
       "    <tr>\n",
       "      <th>std</th>\n",
       "      <td>NaN</td>\n",
       "      <td>NaN</td>\n",
       "      <td>NaN</td>\n",
       "      <td>NaN</td>\n",
       "      <td>NaN</td>\n",
       "      <td>NaN</td>\n",
       "      <td>8.81162</td>\n",
       "      <td>NaN</td>\n",
       "      <td>NaN</td>\n",
       "      <td>NaN</td>\n",
       "      <td>NaN</td>\n",
       "    </tr>\n",
       "    <tr>\n",
       "      <th>min</th>\n",
       "      <td>NaN</td>\n",
       "      <td>NaN</td>\n",
       "      <td>NaN</td>\n",
       "      <td>NaN</td>\n",
       "      <td>NaN</td>\n",
       "      <td>NaN</td>\n",
       "      <td>1925.00000</td>\n",
       "      <td>NaN</td>\n",
       "      <td>NaN</td>\n",
       "      <td>NaN</td>\n",
       "      <td>NaN</td>\n",
       "    </tr>\n",
       "    <tr>\n",
       "      <th>25%</th>\n",
       "      <td>NaN</td>\n",
       "      <td>NaN</td>\n",
       "      <td>NaN</td>\n",
       "      <td>NaN</td>\n",
       "      <td>NaN</td>\n",
       "      <td>NaN</td>\n",
       "      <td>2013.00000</td>\n",
       "      <td>NaN</td>\n",
       "      <td>NaN</td>\n",
       "      <td>NaN</td>\n",
       "      <td>NaN</td>\n",
       "    </tr>\n",
       "    <tr>\n",
       "      <th>50%</th>\n",
       "      <td>NaN</td>\n",
       "      <td>NaN</td>\n",
       "      <td>NaN</td>\n",
       "      <td>NaN</td>\n",
       "      <td>NaN</td>\n",
       "      <td>NaN</td>\n",
       "      <td>2016.00000</td>\n",
       "      <td>NaN</td>\n",
       "      <td>NaN</td>\n",
       "      <td>NaN</td>\n",
       "      <td>NaN</td>\n",
       "    </tr>\n",
       "    <tr>\n",
       "      <th>75%</th>\n",
       "      <td>NaN</td>\n",
       "      <td>NaN</td>\n",
       "      <td>NaN</td>\n",
       "      <td>NaN</td>\n",
       "      <td>NaN</td>\n",
       "      <td>NaN</td>\n",
       "      <td>2018.00000</td>\n",
       "      <td>NaN</td>\n",
       "      <td>NaN</td>\n",
       "      <td>NaN</td>\n",
       "      <td>NaN</td>\n",
       "    </tr>\n",
       "    <tr>\n",
       "      <th>max</th>\n",
       "      <td>NaN</td>\n",
       "      <td>NaN</td>\n",
       "      <td>NaN</td>\n",
       "      <td>NaN</td>\n",
       "      <td>NaN</td>\n",
       "      <td>NaN</td>\n",
       "      <td>2020.00000</td>\n",
       "      <td>NaN</td>\n",
       "      <td>NaN</td>\n",
       "      <td>NaN</td>\n",
       "      <td>NaN</td>\n",
       "    </tr>\n",
       "  </tbody>\n",
       "</table>\n",
       "</div>"
      ],
      "text/plain": [
       "         type        title                director                cast  \\\n",
       "count    6234         6234                    4265                5664   \n",
       "unique      2         6172                    3301                5469   \n",
       "top     Movie  The Silence  Raúl Campos, Jan Suter  David Attenborough   \n",
       "freq     4265            3                      18                  18   \n",
       "mean      NaN          NaN                     NaN                 NaN   \n",
       "std       NaN          NaN                     NaN                 NaN   \n",
       "min       NaN          NaN                     NaN                 NaN   \n",
       "25%       NaN          NaN                     NaN                 NaN   \n",
       "50%       NaN          NaN                     NaN                 NaN   \n",
       "75%       NaN          NaN                     NaN                 NaN   \n",
       "max       NaN          NaN                     NaN                 NaN   \n",
       "\n",
       "              country       date_added  release_year rating  duration  \\\n",
       "count            5758             6223    6234.00000   6224      6234   \n",
       "unique            554             1524           NaN     14       201   \n",
       "top     United States  January 1, 2020           NaN  TV-MA  1 Season   \n",
       "freq             2032              122           NaN   2027      1321   \n",
       "mean              NaN              NaN    2013.35932    NaN       NaN   \n",
       "std               NaN              NaN       8.81162    NaN       NaN   \n",
       "min               NaN              NaN    1925.00000    NaN       NaN   \n",
       "25%               NaN              NaN    2013.00000    NaN       NaN   \n",
       "50%               NaN              NaN    2016.00000    NaN       NaN   \n",
       "75%               NaN              NaN    2018.00000    NaN       NaN   \n",
       "max               NaN              NaN    2020.00000    NaN       NaN   \n",
       "\n",
       "            listed_in                                        description  \n",
       "count            6234                                               6234  \n",
       "unique            461                                               6226  \n",
       "top     Documentaries  A surly septuagenarian gets another chance at ...  \n",
       "freq              299                                                  3  \n",
       "mean              NaN                                                NaN  \n",
       "std               NaN                                                NaN  \n",
       "min               NaN                                                NaN  \n",
       "25%               NaN                                                NaN  \n",
       "50%               NaN                                                NaN  \n",
       "75%               NaN                                                NaN  \n",
       "max               NaN                                                NaN  "
      ]
     },
     "execution_count": 8,
     "metadata": {},
     "output_type": "execute_result"
    }
   ],
   "source": [
    "donnees.describe(include=\"all\")"
   ]
  },
  {
   "cell_type": "markdown",
   "metadata": {},
   "source": [
    "* Colonne \"type\" : On constate qu'il y a plus de films que de séries sur Netflix en 2019 (top = Movie), avec 4265 films sur 6234 films/séries, soit 1969 séries sur Netflix.\n",
    "* Colonne \"title\" : on constate qu'il y a trois contenus dont le titre est \"Tunnel\" et 6172 titre uniques sur les 6234 films/séries (vous pouvez les visualiser avec le code : donnees[(donnees[\"title\"]==\"Tunnel\")])\n",
    "* Colonne \"director\" : il y a 3301 directeurs de production uniques, la valeur la plus présente dans cette colonne est \"Raúl Campos, Jan Suter\", avec 18 occurrences. Nous nous intéresserons plus tard aux directeurs ayant dirigés le plus de contenus sur Netflix.\n",
    "* Colonne \"cast\" : David Attenborough est la valeur la plus présente dans la colonne, avec 18 apparitions. Mais, nous l'avons vu plus haut, la colonne \"cast\" contient une liste d'acteurs séparés par des virgules. Il faudra étudier chaque acteur séparémment et non les listes d'acteurs. Ici, la fonction describe() ressort la valeur unique la plus présente, mais ce n'est pas forcément l'acteur le plus présent sur Netflix si celui-ci est intégré dans des listes d'acteurs : la fonction describe() a ses limites ici.\n",
    "* Colonne \"country\" : 554 pays ont produit des films/séries disponibles sur Netflix, sur 5758 films/séries, 2032 ont été produit par les Etats-Unis.\n",
    "* Colonne \"rating\" : le classement de contenu le plus présent sur Netflix est TV-MA (inapproprié pour les jeunes de moins de 17 ans)\n",
    "* Colonne \"duration\" : il semble y avoir beaucoup de séries avec uniquement une saison, nous pourrons étudier cela sous forme de graphiques plus tard.\n",
    "* Colonne \"listed_in\" : la catégorie des documentaires semblent contenir le plus de contenus. Encore une fois, ces catégories sont sous forme de listes, nous verrons plus tard comment les étudier."
   ]
  },
  {
   "cell_type": "markdown",
   "metadata": {},
   "source": [
    "## 3.5.\tCompter les valeurs manquantes"
   ]
  },
  {
   "cell_type": "code",
   "execution_count": 9,
   "metadata": {},
   "outputs": [
    {
     "data": {
      "text/plain": [
       "type               0\n",
       "title              0\n",
       "director        1969\n",
       "cast             570\n",
       "country          476\n",
       "date_added        11\n",
       "release_year       0\n",
       "rating            10\n",
       "duration           0\n",
       "listed_in          0\n",
       "description        0\n",
       "dtype: int64"
      ]
     },
     "execution_count": 9,
     "metadata": {},
     "output_type": "execute_result"
    }
   ],
   "source": [
    "# nombre de valeurs manquantes dans le dataframe\n",
    "donnees.isna().sum()"
   ]
  },
  {
   "cell_type": "markdown",
   "metadata": {},
   "source": [
    "Il y a :\n",
    "* 1969 valeurs manquantes dans la colonne des directeurs de production\n",
    "* 570 valeurs manquantes dans les acteurs ayant participé au film/a la série\n",
    "* 476 films/séries pour lesquels on ne connait pas le pays où il a été produit\n",
    "* 11 films/séries pour lesquels on ne connait pas la date d'ajout sur netflix\n",
    "* 10 films/séries qui n'ont pas de classement de leur contenu."
   ]
  },
  {
   "cell_type": "markdown",
   "metadata": {},
   "source": [
    "## 3.6.\tExploration des valeurs manquantes "
   ]
  },
  {
   "cell_type": "markdown",
   "metadata": {},
   "source": [
    "### Sur la colonne des directeurs de production"
   ]
  },
  {
   "cell_type": "code",
   "execution_count": 10,
   "metadata": {},
   "outputs": [
    {
     "data": {
      "text/plain": [
       "TV Show    1841\n",
       "Movie       128\n",
       "Name: type, dtype: int64"
      ]
     },
     "execution_count": 10,
     "metadata": {},
     "output_type": "execute_result"
    }
   ],
   "source": [
    "# 1. donnees[donnees.loc[:,\"director\"].isna()] : on sélectionne les lignes pour lesquelles \n",
    "# la valeur dans la colonne director est manquante\n",
    "# 2. Sur le tableau des \"directeurs manquants\", on sélectionne la colonne type avec l'attribut .loc : .loc[:,\"type\"]\n",
    "# 3. On affiche les modalités uniques et leur occurrence dans ce tableau\n",
    "donnees_nan_director=donnees[donnees.loc[:,\"director\"].isna()]\n",
    "donnees_nan_director.loc[:,\"type\"].value_counts()"
   ]
  },
  {
   "cell_type": "markdown",
   "metadata": {},
   "source": [
    "Sur 1969 séries, 1841 n'ont pas de directeurs de production\n",
    "Sur 4265 films, 128 n'ont pas de directeurs de production"
   ]
  },
  {
   "cell_type": "markdown",
   "metadata": {},
   "source": [
    "### Sur la colonne des acteurs"
   ]
  },
  {
   "cell_type": "markdown",
   "metadata": {},
   "source": [
    "On peut imaginer que certaines catégories de films/séries ne possèdent pas de cast, comme les dessins-animés, les documentaires, etc ... Vérifions si c'est bien cette catégorie qui possède des valeurs manquantes. Pour rappel, la catégorie du film/série se trouve dans la colonne \"listed_in\"."
   ]
  },
  {
   "cell_type": "code",
   "execution_count": 11,
   "metadata": {},
   "outputs": [
    {
     "data": {
      "text/plain": [
       "Documentaries                                         148\n",
       "Documentaries, International Movies                    94\n",
       "Docuseries                                             31\n",
       "Documentaries, Sports Movies                           20\n",
       "Crime TV Shows, Docuseries                             19\n",
       "Documentaries, Music & Musicals                        15\n",
       "Documentaries, International Movies, Sports Movies     14\n",
       "Kids' TV                                               14\n",
       "Docuseries, International TV Shows                     14\n",
       "Crime TV Shows, Docuseries, International TV Shows     12\n",
       "Name: listed_in, dtype: int64"
      ]
     },
     "execution_count": 11,
     "metadata": {},
     "output_type": "execute_result"
    }
   ],
   "source": [
    "# je sélectionne les lignes où la colonne cast est à NaN, puis je sélectionne la catégorie du film\n",
    "# j'utilise value_counts() pour récupérer les modalités de cette colonne et leur occurrence\n",
    "# puis j'affiche les 10 premières valeurs avec head()\n",
    "donnees_nan_cast=donnees[donnees.loc[:,\"cast\"].isna()]\n",
    "donnees_nan_cast.loc[:,\"listed_in\"].value_counts().head(n=10)"
   ]
  },
  {
   "cell_type": "markdown",
   "metadata": {},
   "source": [
    "On constate que les films/séries sans acteurs sont bien des documentaires, ce qui justifie l'absence d'un cast."
   ]
  },
  {
   "cell_type": "markdown",
   "metadata": {},
   "source": [
    "### Sur les autres colonnes"
   ]
  },
  {
   "cell_type": "markdown",
   "metadata": {},
   "source": [
    "Regardons les lignes concernées par des données manquantes sur la date d'ajout du contenu sur Netflix."
   ]
  },
  {
   "cell_type": "code",
   "execution_count": 12,
   "metadata": {},
   "outputs": [
    {
     "data": {
      "text/html": [
       "<div>\n",
       "<style scoped>\n",
       "    .dataframe tbody tr th:only-of-type {\n",
       "        vertical-align: middle;\n",
       "    }\n",
       "\n",
       "    .dataframe tbody tr th {\n",
       "        vertical-align: top;\n",
       "    }\n",
       "\n",
       "    .dataframe thead th {\n",
       "        text-align: right;\n",
       "    }\n",
       "</style>\n",
       "<table border=\"1\" class=\"dataframe\">\n",
       "  <thead>\n",
       "    <tr style=\"text-align: right;\">\n",
       "      <th></th>\n",
       "      <th>type</th>\n",
       "      <th>title</th>\n",
       "      <th>director</th>\n",
       "      <th>cast</th>\n",
       "      <th>country</th>\n",
       "      <th>date_added</th>\n",
       "      <th>release_year</th>\n",
       "      <th>rating</th>\n",
       "      <th>duration</th>\n",
       "      <th>listed_in</th>\n",
       "      <th>description</th>\n",
       "    </tr>\n",
       "    <tr>\n",
       "      <th>show_id</th>\n",
       "      <th></th>\n",
       "      <th></th>\n",
       "      <th></th>\n",
       "      <th></th>\n",
       "      <th></th>\n",
       "      <th></th>\n",
       "      <th></th>\n",
       "      <th></th>\n",
       "      <th></th>\n",
       "      <th></th>\n",
       "      <th></th>\n",
       "    </tr>\n",
       "  </thead>\n",
       "  <tbody>\n",
       "    <tr>\n",
       "      <th>70204989</th>\n",
       "      <td>TV Show</td>\n",
       "      <td>Gunslinger Girl</td>\n",
       "      <td>NaN</td>\n",
       "      <td>Yuuka Nanri, Kanako Mitsuhashi, Eri Sendai, Am...</td>\n",
       "      <td>Japan</td>\n",
       "      <td>NaN</td>\n",
       "      <td>2008</td>\n",
       "      <td>TV-14</td>\n",
       "      <td>2 Seasons</td>\n",
       "      <td>Anime Series, Crime TV Shows</td>\n",
       "      <td>On the surface, the Social Welfare Agency appe...</td>\n",
       "    </tr>\n",
       "    <tr>\n",
       "      <th>70304979</th>\n",
       "      <td>TV Show</td>\n",
       "      <td>Anthony Bourdain: Parts Unknown</td>\n",
       "      <td>NaN</td>\n",
       "      <td>Anthony Bourdain</td>\n",
       "      <td>United States</td>\n",
       "      <td>NaN</td>\n",
       "      <td>2018</td>\n",
       "      <td>TV-PG</td>\n",
       "      <td>5 Seasons</td>\n",
       "      <td>Docuseries</td>\n",
       "      <td>This CNN original series has chef Anthony Bour...</td>\n",
       "    </tr>\n",
       "    <tr>\n",
       "      <th>70153412</th>\n",
       "      <td>TV Show</td>\n",
       "      <td>Frasier</td>\n",
       "      <td>NaN</td>\n",
       "      <td>Kelsey Grammer, Jane Leeves, David Hyde Pierce...</td>\n",
       "      <td>United States</td>\n",
       "      <td>NaN</td>\n",
       "      <td>2003</td>\n",
       "      <td>TV-PG</td>\n",
       "      <td>11 Seasons</td>\n",
       "      <td>Classic &amp; Cult TV, TV Comedies</td>\n",
       "      <td>Frasier Crane is a snooty but lovable Seattle ...</td>\n",
       "    </tr>\n",
       "    <tr>\n",
       "      <th>70243132</th>\n",
       "      <td>TV Show</td>\n",
       "      <td>La Familia P. Luche</td>\n",
       "      <td>NaN</td>\n",
       "      <td>Eugenio Derbez, Consuelo Duval, Luis Manuel Áv...</td>\n",
       "      <td>United States</td>\n",
       "      <td>NaN</td>\n",
       "      <td>2012</td>\n",
       "      <td>TV-14</td>\n",
       "      <td>3 Seasons</td>\n",
       "      <td>International TV Shows, Spanish-Language TV Sh...</td>\n",
       "      <td>This irreverent sitcom featues Ludovico, Feder...</td>\n",
       "    </tr>\n",
       "    <tr>\n",
       "      <th>80005756</th>\n",
       "      <td>TV Show</td>\n",
       "      <td>The Adventures of Figaro Pho</td>\n",
       "      <td>NaN</td>\n",
       "      <td>Luke Jurevicius, Craig Behenna, Charlotte Haml...</td>\n",
       "      <td>Australia</td>\n",
       "      <td>NaN</td>\n",
       "      <td>2015</td>\n",
       "      <td>TV-Y7</td>\n",
       "      <td>2 Seasons</td>\n",
       "      <td>Kids' TV, TV Comedies</td>\n",
       "      <td>Imagine your worst fears, then multiply them: ...</td>\n",
       "    </tr>\n",
       "    <tr>\n",
       "      <th>80159925</th>\n",
       "      <td>TV Show</td>\n",
       "      <td>Kikoriki</td>\n",
       "      <td>NaN</td>\n",
       "      <td>Igor Dmitriev</td>\n",
       "      <td>NaN</td>\n",
       "      <td>NaN</td>\n",
       "      <td>2010</td>\n",
       "      <td>TV-Y</td>\n",
       "      <td>2 Seasons</td>\n",
       "      <td>Kids' TV</td>\n",
       "      <td>A wacky rabbit and his gang of animal pals hav...</td>\n",
       "    </tr>\n",
       "    <tr>\n",
       "      <th>80000063</th>\n",
       "      <td>TV Show</td>\n",
       "      <td>Red vs. Blue</td>\n",
       "      <td>NaN</td>\n",
       "      <td>Burnie Burns, Jason Saldaña, Gustavo Sorola, G...</td>\n",
       "      <td>United States</td>\n",
       "      <td>NaN</td>\n",
       "      <td>2015</td>\n",
       "      <td>NR</td>\n",
       "      <td>13 Seasons</td>\n",
       "      <td>TV Action &amp; Adventure, TV Comedies, TV Sci-Fi ...</td>\n",
       "      <td>This parody of first-person shooter games, mil...</td>\n",
       "    </tr>\n",
       "    <tr>\n",
       "      <th>70286564</th>\n",
       "      <td>TV Show</td>\n",
       "      <td>Maron</td>\n",
       "      <td>NaN</td>\n",
       "      <td>Marc Maron, Judd Hirsch, Josh Brener, Nora Zeh...</td>\n",
       "      <td>United States</td>\n",
       "      <td>NaN</td>\n",
       "      <td>2016</td>\n",
       "      <td>TV-MA</td>\n",
       "      <td>4 Seasons</td>\n",
       "      <td>TV Comedies</td>\n",
       "      <td>Marc Maron stars as Marc Maron, who interviews...</td>\n",
       "    </tr>\n",
       "    <tr>\n",
       "      <th>80116008</th>\n",
       "      <td>Movie</td>\n",
       "      <td>Little Baby Bum: Nursery Rhyme Friends</td>\n",
       "      <td>NaN</td>\n",
       "      <td>NaN</td>\n",
       "      <td>NaN</td>\n",
       "      <td>NaN</td>\n",
       "      <td>2016</td>\n",
       "      <td>NaN</td>\n",
       "      <td>60 min</td>\n",
       "      <td>Movies</td>\n",
       "      <td>Nursery rhymes and original music for children...</td>\n",
       "    </tr>\n",
       "    <tr>\n",
       "      <th>70281022</th>\n",
       "      <td>TV Show</td>\n",
       "      <td>A Young Doctor's Notebook and Other Stories</td>\n",
       "      <td>NaN</td>\n",
       "      <td>Daniel Radcliffe, Jon Hamm, Adam Godley, Chris...</td>\n",
       "      <td>United Kingdom</td>\n",
       "      <td>NaN</td>\n",
       "      <td>2013</td>\n",
       "      <td>TV-MA</td>\n",
       "      <td>2 Seasons</td>\n",
       "      <td>British TV Shows, TV Comedies, TV Dramas</td>\n",
       "      <td>Set during the Russian Revolution, this comic ...</td>\n",
       "    </tr>\n",
       "    <tr>\n",
       "      <th>70153404</th>\n",
       "      <td>TV Show</td>\n",
       "      <td>Friends</td>\n",
       "      <td>NaN</td>\n",
       "      <td>Jennifer Aniston, Courteney Cox, Lisa Kudrow, ...</td>\n",
       "      <td>United States</td>\n",
       "      <td>NaN</td>\n",
       "      <td>2003</td>\n",
       "      <td>TV-14</td>\n",
       "      <td>10 Seasons</td>\n",
       "      <td>Classic &amp; Cult TV, TV Comedies</td>\n",
       "      <td>This hit sitcom follows the merry misadventure...</td>\n",
       "    </tr>\n",
       "  </tbody>\n",
       "</table>\n",
       "</div>"
      ],
      "text/plain": [
       "             type                                        title director  \\\n",
       "show_id                                                                   \n",
       "70204989  TV Show                              Gunslinger Girl      NaN   \n",
       "70304979  TV Show              Anthony Bourdain: Parts Unknown      NaN   \n",
       "70153412  TV Show                                      Frasier      NaN   \n",
       "70243132  TV Show                          La Familia P. Luche      NaN   \n",
       "80005756  TV Show                 The Adventures of Figaro Pho      NaN   \n",
       "80159925  TV Show                                     Kikoriki      NaN   \n",
       "80000063  TV Show                                 Red vs. Blue      NaN   \n",
       "70286564  TV Show                                        Maron      NaN   \n",
       "80116008    Movie       Little Baby Bum: Nursery Rhyme Friends      NaN   \n",
       "70281022  TV Show  A Young Doctor's Notebook and Other Stories      NaN   \n",
       "70153404  TV Show                                      Friends      NaN   \n",
       "\n",
       "                                                       cast         country  \\\n",
       "show_id                                                                       \n",
       "70204989  Yuuka Nanri, Kanako Mitsuhashi, Eri Sendai, Am...           Japan   \n",
       "70304979                                   Anthony Bourdain   United States   \n",
       "70153412  Kelsey Grammer, Jane Leeves, David Hyde Pierce...   United States   \n",
       "70243132  Eugenio Derbez, Consuelo Duval, Luis Manuel Áv...   United States   \n",
       "80005756  Luke Jurevicius, Craig Behenna, Charlotte Haml...       Australia   \n",
       "80159925                                      Igor Dmitriev             NaN   \n",
       "80000063  Burnie Burns, Jason Saldaña, Gustavo Sorola, G...   United States   \n",
       "70286564  Marc Maron, Judd Hirsch, Josh Brener, Nora Zeh...   United States   \n",
       "80116008                                                NaN             NaN   \n",
       "70281022  Daniel Radcliffe, Jon Hamm, Adam Godley, Chris...  United Kingdom   \n",
       "70153404  Jennifer Aniston, Courteney Cox, Lisa Kudrow, ...   United States   \n",
       "\n",
       "         date_added  release_year rating    duration  \\\n",
       "show_id                                                \n",
       "70204989        NaN          2008  TV-14   2 Seasons   \n",
       "70304979        NaN          2018  TV-PG   5 Seasons   \n",
       "70153412        NaN          2003  TV-PG  11 Seasons   \n",
       "70243132        NaN          2012  TV-14   3 Seasons   \n",
       "80005756        NaN          2015  TV-Y7   2 Seasons   \n",
       "80159925        NaN          2010   TV-Y   2 Seasons   \n",
       "80000063        NaN          2015     NR  13 Seasons   \n",
       "70286564        NaN          2016  TV-MA   4 Seasons   \n",
       "80116008        NaN          2016    NaN      60 min   \n",
       "70281022        NaN          2013  TV-MA   2 Seasons   \n",
       "70153404        NaN          2003  TV-14  10 Seasons   \n",
       "\n",
       "                                                  listed_in  \\\n",
       "show_id                                                       \n",
       "70204989                       Anime Series, Crime TV Shows   \n",
       "70304979                                         Docuseries   \n",
       "70153412                     Classic & Cult TV, TV Comedies   \n",
       "70243132  International TV Shows, Spanish-Language TV Sh...   \n",
       "80005756                              Kids' TV, TV Comedies   \n",
       "80159925                                           Kids' TV   \n",
       "80000063  TV Action & Adventure, TV Comedies, TV Sci-Fi ...   \n",
       "70286564                                        TV Comedies   \n",
       "80116008                                             Movies   \n",
       "70281022           British TV Shows, TV Comedies, TV Dramas   \n",
       "70153404                     Classic & Cult TV, TV Comedies   \n",
       "\n",
       "                                                description  \n",
       "show_id                                                      \n",
       "70204989  On the surface, the Social Welfare Agency appe...  \n",
       "70304979  This CNN original series has chef Anthony Bour...  \n",
       "70153412  Frasier Crane is a snooty but lovable Seattle ...  \n",
       "70243132  This irreverent sitcom featues Ludovico, Feder...  \n",
       "80005756  Imagine your worst fears, then multiply them: ...  \n",
       "80159925  A wacky rabbit and his gang of animal pals hav...  \n",
       "80000063  This parody of first-person shooter games, mil...  \n",
       "70286564  Marc Maron stars as Marc Maron, who interviews...  \n",
       "80116008  Nursery rhymes and original music for children...  \n",
       "70281022  Set during the Russian Revolution, this comic ...  \n",
       "70153404  This hit sitcom follows the merry misadventure...  "
      ]
     },
     "execution_count": 12,
     "metadata": {},
     "output_type": "execute_result"
    }
   ],
   "source": [
    "donnees[donnees.loc[:,\"date_added\"].isna()]"
   ]
  },
  {
   "cell_type": "markdown",
   "metadata": {},
   "source": [
    "On constate par exemple que la date d'ajout de la série Friends sur Netflix est manquante."
   ]
  },
  {
   "cell_type": "code",
   "execution_count": 13,
   "metadata": {},
   "outputs": [
    {
     "data": {
      "text/html": [
       "<div>\n",
       "<style scoped>\n",
       "    .dataframe tbody tr th:only-of-type {\n",
       "        vertical-align: middle;\n",
       "    }\n",
       "\n",
       "    .dataframe tbody tr th {\n",
       "        vertical-align: top;\n",
       "    }\n",
       "\n",
       "    .dataframe thead th {\n",
       "        text-align: right;\n",
       "    }\n",
       "</style>\n",
       "<table border=\"1\" class=\"dataframe\">\n",
       "  <thead>\n",
       "    <tr style=\"text-align: right;\">\n",
       "      <th></th>\n",
       "      <th>type</th>\n",
       "      <th>title</th>\n",
       "      <th>director</th>\n",
       "      <th>cast</th>\n",
       "      <th>country</th>\n",
       "      <th>date_added</th>\n",
       "      <th>release_year</th>\n",
       "      <th>rating</th>\n",
       "      <th>duration</th>\n",
       "      <th>listed_in</th>\n",
       "      <th>description</th>\n",
       "    </tr>\n",
       "    <tr>\n",
       "      <th>show_id</th>\n",
       "      <th></th>\n",
       "      <th></th>\n",
       "      <th></th>\n",
       "      <th></th>\n",
       "      <th></th>\n",
       "      <th></th>\n",
       "      <th></th>\n",
       "      <th></th>\n",
       "      <th></th>\n",
       "      <th></th>\n",
       "      <th></th>\n",
       "    </tr>\n",
       "  </thead>\n",
       "  <tbody>\n",
       "    <tr>\n",
       "      <th>70129452</th>\n",
       "      <td>Movie</td>\n",
       "      <td>Louis C.K.: Hilarious</td>\n",
       "      <td>Louis C.K.</td>\n",
       "      <td>Louis C.K.</td>\n",
       "      <td>United States</td>\n",
       "      <td>September 16, 2016</td>\n",
       "      <td>2010</td>\n",
       "      <td>NaN</td>\n",
       "      <td>84 min</td>\n",
       "      <td>Movies</td>\n",
       "      <td>Emmy-winning comedy writer Louis C.K. brings h...</td>\n",
       "    </tr>\n",
       "    <tr>\n",
       "      <th>80144119</th>\n",
       "      <td>Movie</td>\n",
       "      <td>My Honor Was Loyalty</td>\n",
       "      <td>Alessandro Pepe</td>\n",
       "      <td>Leone Frisa, Paolo Vaccarino, Francesco Miglio...</td>\n",
       "      <td>Italy</td>\n",
       "      <td>March 1, 2017</td>\n",
       "      <td>2015</td>\n",
       "      <td>NaN</td>\n",
       "      <td>115 min</td>\n",
       "      <td>Dramas</td>\n",
       "      <td>Amid the chaos and horror of World War II, a c...</td>\n",
       "    </tr>\n",
       "    <tr>\n",
       "      <th>80169801</th>\n",
       "      <td>Movie</td>\n",
       "      <td>13TH: A Conversation with Oprah Winfrey &amp; Ava ...</td>\n",
       "      <td>NaN</td>\n",
       "      <td>Oprah Winfrey, Ava DuVernay</td>\n",
       "      <td>NaN</td>\n",
       "      <td>January 26, 2017</td>\n",
       "      <td>2017</td>\n",
       "      <td>NaN</td>\n",
       "      <td>37 min</td>\n",
       "      <td>Movies</td>\n",
       "      <td>Oprah Winfrey sits down with director Ava DuVe...</td>\n",
       "    </tr>\n",
       "    <tr>\n",
       "      <th>80078037</th>\n",
       "      <td>TV Show</td>\n",
       "      <td>Little Lunch</td>\n",
       "      <td>NaN</td>\n",
       "      <td>Flynn Curry, Olivia Deeble, Madison Lu, Oisín ...</td>\n",
       "      <td>Australia</td>\n",
       "      <td>February 1, 2018</td>\n",
       "      <td>2015</td>\n",
       "      <td>NaN</td>\n",
       "      <td>1 Season</td>\n",
       "      <td>Kids' TV, TV Comedies</td>\n",
       "      <td>Adopting a child's perspective, this show take...</td>\n",
       "    </tr>\n",
       "    <tr>\n",
       "      <th>80092839</th>\n",
       "      <td>Movie</td>\n",
       "      <td>Fireplace 4K: Classic Crackling Fireplace from...</td>\n",
       "      <td>George Ford</td>\n",
       "      <td>NaN</td>\n",
       "      <td>NaN</td>\n",
       "      <td>December 21, 2015</td>\n",
       "      <td>2015</td>\n",
       "      <td>NaN</td>\n",
       "      <td>60 min</td>\n",
       "      <td>Movies</td>\n",
       "      <td>The first of its kind in UHD 4K, with the clea...</td>\n",
       "    </tr>\n",
       "    <tr>\n",
       "      <th>80092835</th>\n",
       "      <td>Movie</td>\n",
       "      <td>Fireplace 4K: Crackling Birchwood from Firepla...</td>\n",
       "      <td>George Ford</td>\n",
       "      <td>NaN</td>\n",
       "      <td>NaN</td>\n",
       "      <td>December 21, 2015</td>\n",
       "      <td>2015</td>\n",
       "      <td>NaN</td>\n",
       "      <td>60 min</td>\n",
       "      <td>Movies</td>\n",
       "      <td>For the first time in 4K Ultra-HD, everyone's ...</td>\n",
       "    </tr>\n",
       "    <tr>\n",
       "      <th>80039789</th>\n",
       "      <td>TV Show</td>\n",
       "      <td>Gargantia on the Verdurous Planet</td>\n",
       "      <td>NaN</td>\n",
       "      <td>Kaito Ishikawa, Hisako Kanemoto, Ai Kayano, Ka...</td>\n",
       "      <td>Japan</td>\n",
       "      <td>December 1, 2016</td>\n",
       "      <td>2013</td>\n",
       "      <td>NaN</td>\n",
       "      <td>1 Season</td>\n",
       "      <td>Anime Series, International TV Shows</td>\n",
       "      <td>After falling through a wormhole, a space-dwel...</td>\n",
       "    </tr>\n",
       "    <tr>\n",
       "      <th>80114111</th>\n",
       "      <td>Movie</td>\n",
       "      <td>Louis C.K.: Live at the Comedy Store</td>\n",
       "      <td>Louis C.K.</td>\n",
       "      <td>Louis C.K.</td>\n",
       "      <td>United States</td>\n",
       "      <td>August 15, 2016</td>\n",
       "      <td>2015</td>\n",
       "      <td>NaN</td>\n",
       "      <td>66 min</td>\n",
       "      <td>Movies</td>\n",
       "      <td>The comic puts his trademark hilarious/thought...</td>\n",
       "    </tr>\n",
       "    <tr>\n",
       "      <th>80161109</th>\n",
       "      <td>Movie</td>\n",
       "      <td>Louis C.K. 2017</td>\n",
       "      <td>Louis C.K.</td>\n",
       "      <td>Louis C.K.</td>\n",
       "      <td>United States</td>\n",
       "      <td>April 4, 2017</td>\n",
       "      <td>2017</td>\n",
       "      <td>NaN</td>\n",
       "      <td>74 min</td>\n",
       "      <td>Movies</td>\n",
       "      <td>Louis C.K. muses on religion, eternal love, gi...</td>\n",
       "    </tr>\n",
       "    <tr>\n",
       "      <th>80116008</th>\n",
       "      <td>Movie</td>\n",
       "      <td>Little Baby Bum: Nursery Rhyme Friends</td>\n",
       "      <td>NaN</td>\n",
       "      <td>NaN</td>\n",
       "      <td>NaN</td>\n",
       "      <td>NaN</td>\n",
       "      <td>2016</td>\n",
       "      <td>NaN</td>\n",
       "      <td>60 min</td>\n",
       "      <td>Movies</td>\n",
       "      <td>Nursery rhymes and original music for children...</td>\n",
       "    </tr>\n",
       "  </tbody>\n",
       "</table>\n",
       "</div>"
      ],
      "text/plain": [
       "             type                                              title  \\\n",
       "show_id                                                                \n",
       "70129452    Movie                              Louis C.K.: Hilarious   \n",
       "80144119    Movie                               My Honor Was Loyalty   \n",
       "80169801    Movie  13TH: A Conversation with Oprah Winfrey & Ava ...   \n",
       "80078037  TV Show                                       Little Lunch   \n",
       "80092839    Movie  Fireplace 4K: Classic Crackling Fireplace from...   \n",
       "80092835    Movie  Fireplace 4K: Crackling Birchwood from Firepla...   \n",
       "80039789  TV Show                  Gargantia on the Verdurous Planet   \n",
       "80114111    Movie               Louis C.K.: Live at the Comedy Store   \n",
       "80161109    Movie                                    Louis C.K. 2017   \n",
       "80116008    Movie             Little Baby Bum: Nursery Rhyme Friends   \n",
       "\n",
       "                 director                                               cast  \\\n",
       "show_id                                                                        \n",
       "70129452       Louis C.K.                                         Louis C.K.   \n",
       "80144119  Alessandro Pepe  Leone Frisa, Paolo Vaccarino, Francesco Miglio...   \n",
       "80169801              NaN                        Oprah Winfrey, Ava DuVernay   \n",
       "80078037              NaN  Flynn Curry, Olivia Deeble, Madison Lu, Oisín ...   \n",
       "80092839      George Ford                                                NaN   \n",
       "80092835      George Ford                                                NaN   \n",
       "80039789              NaN  Kaito Ishikawa, Hisako Kanemoto, Ai Kayano, Ka...   \n",
       "80114111       Louis C.K.                                         Louis C.K.   \n",
       "80161109       Louis C.K.                                         Louis C.K.   \n",
       "80116008              NaN                                                NaN   \n",
       "\n",
       "                country          date_added  release_year rating  duration  \\\n",
       "show_id                                                                      \n",
       "70129452  United States  September 16, 2016          2010    NaN    84 min   \n",
       "80144119          Italy       March 1, 2017          2015    NaN   115 min   \n",
       "80169801            NaN    January 26, 2017          2017    NaN    37 min   \n",
       "80078037      Australia    February 1, 2018          2015    NaN  1 Season   \n",
       "80092839            NaN   December 21, 2015          2015    NaN    60 min   \n",
       "80092835            NaN   December 21, 2015          2015    NaN    60 min   \n",
       "80039789          Japan    December 1, 2016          2013    NaN  1 Season   \n",
       "80114111  United States     August 15, 2016          2015    NaN    66 min   \n",
       "80161109  United States       April 4, 2017          2017    NaN    74 min   \n",
       "80116008            NaN                 NaN          2016    NaN    60 min   \n",
       "\n",
       "                                     listed_in  \\\n",
       "show_id                                          \n",
       "70129452                                Movies   \n",
       "80144119                                Dramas   \n",
       "80169801                                Movies   \n",
       "80078037                 Kids' TV, TV Comedies   \n",
       "80092839                                Movies   \n",
       "80092835                                Movies   \n",
       "80039789  Anime Series, International TV Shows   \n",
       "80114111                                Movies   \n",
       "80161109                                Movies   \n",
       "80116008                                Movies   \n",
       "\n",
       "                                                description  \n",
       "show_id                                                      \n",
       "70129452  Emmy-winning comedy writer Louis C.K. brings h...  \n",
       "80144119  Amid the chaos and horror of World War II, a c...  \n",
       "80169801  Oprah Winfrey sits down with director Ava DuVe...  \n",
       "80078037  Adopting a child's perspective, this show take...  \n",
       "80092839  The first of its kind in UHD 4K, with the clea...  \n",
       "80092835  For the first time in 4K Ultra-HD, everyone's ...  \n",
       "80039789  After falling through a wormhole, a space-dwel...  \n",
       "80114111  The comic puts his trademark hilarious/thought...  \n",
       "80161109  Louis C.K. muses on religion, eternal love, gi...  \n",
       "80116008  Nursery rhymes and original music for children...  "
      ]
     },
     "execution_count": 13,
     "metadata": {},
     "output_type": "execute_result"
    }
   ],
   "source": [
    "donnees[donnees.loc[:,\"rating\"].isna()]"
   ]
  },
  {
   "cell_type": "markdown",
   "metadata": {},
   "source": [
    "Il ne semble rien y avoir de particulier sur les 10 films/séries dont le contenu n'a pas été classé.\n",
    "\n",
    "Dans tous les cas, nous laissons ces valeurs manquantes telles quelles dans le tableau, nous les traiterons au cas par cas, selon la question."
   ]
  },
  {
   "cell_type": "markdown",
   "metadata": {},
   "source": [
    "## 3.7.\tSuppression des lignes dupliquées"
   ]
  },
  {
   "cell_type": "markdown",
   "metadata": {},
   "source": [
    "Nous allons voir si des lignes sont dupliquées, si oui on les supprime et on ne garde qu'une version de ces lignes duppliquées."
   ]
  },
  {
   "cell_type": "code",
   "execution_count": 14,
   "metadata": {},
   "outputs": [
    {
     "data": {
      "text/html": [
       "<div>\n",
       "<style scoped>\n",
       "    .dataframe tbody tr th:only-of-type {\n",
       "        vertical-align: middle;\n",
       "    }\n",
       "\n",
       "    .dataframe tbody tr th {\n",
       "        vertical-align: top;\n",
       "    }\n",
       "\n",
       "    .dataframe thead th {\n",
       "        text-align: right;\n",
       "    }\n",
       "</style>\n",
       "<table border=\"1\" class=\"dataframe\">\n",
       "  <thead>\n",
       "    <tr style=\"text-align: right;\">\n",
       "      <th></th>\n",
       "      <th>type</th>\n",
       "      <th>title</th>\n",
       "      <th>director</th>\n",
       "      <th>cast</th>\n",
       "      <th>country</th>\n",
       "      <th>date_added</th>\n",
       "      <th>release_year</th>\n",
       "      <th>rating</th>\n",
       "      <th>duration</th>\n",
       "      <th>listed_in</th>\n",
       "      <th>description</th>\n",
       "    </tr>\n",
       "    <tr>\n",
       "      <th>show_id</th>\n",
       "      <th></th>\n",
       "      <th></th>\n",
       "      <th></th>\n",
       "      <th></th>\n",
       "      <th></th>\n",
       "      <th></th>\n",
       "      <th></th>\n",
       "      <th></th>\n",
       "      <th></th>\n",
       "      <th></th>\n",
       "      <th></th>\n",
       "    </tr>\n",
       "  </thead>\n",
       "  <tbody>\n",
       "    <tr>\n",
       "      <th>81072516</th>\n",
       "      <td>Movie</td>\n",
       "      <td>Sarkar</td>\n",
       "      <td>A.R. Murugadoss</td>\n",
       "      <td>Vijay, Varalakshmi Sarathkumar, Keerthi Suresh...</td>\n",
       "      <td>India</td>\n",
       "      <td>March 2, 2019</td>\n",
       "      <td>2018</td>\n",
       "      <td>TV-MA</td>\n",
       "      <td>162 min</td>\n",
       "      <td>Action &amp; Adventure, Dramas, International Movies</td>\n",
       "      <td>A ruthless businessman’s mission to expose ele...</td>\n",
       "    </tr>\n",
       "  </tbody>\n",
       "</table>\n",
       "</div>"
      ],
      "text/plain": [
       "           type   title         director  \\\n",
       "show_id                                    \n",
       "81072516  Movie  Sarkar  A.R. Murugadoss   \n",
       "\n",
       "                                                       cast country  \\\n",
       "show_id                                                               \n",
       "81072516  Vijay, Varalakshmi Sarathkumar, Keerthi Suresh...   India   \n",
       "\n",
       "             date_added  release_year rating duration  \\\n",
       "show_id                                                 \n",
       "81072516  March 2, 2019          2018  TV-MA  162 min   \n",
       "\n",
       "                                                 listed_in  \\\n",
       "show_id                                                      \n",
       "81072516  Action & Adventure, Dramas, International Movies   \n",
       "\n",
       "                                                description  \n",
       "show_id                                                      \n",
       "81072516  A ruthless businessman’s mission to expose ele...  "
      ]
     },
     "execution_count": 14,
     "metadata": {},
     "output_type": "execute_result"
    }
   ],
   "source": [
    "# vu dans le chapitre sur la librairie Pandas, cette commande permet d'afficher les lignes dupliquées \n",
    "# (sans la première occurrence) car on souhaite la garder\n",
    "donnees[donnees.duplicated()]"
   ]
  },
  {
   "cell_type": "markdown",
   "metadata": {},
   "source": [
    "Il y a une seule ligne dupliquée, on la supprime"
   ]
  },
  {
   "cell_type": "code",
   "execution_count": 15,
   "metadata": {},
   "outputs": [],
   "source": [
    "# l'option inplace=True permet de modifier directement notre tableau en supprimant la ligne duppliquée.\n",
    "donnees.drop_duplicates(inplace=True)"
   ]
  },
  {
   "cell_type": "markdown",
   "metadata": {},
   "source": [
    "## 3.8.\tCombien de films/séries ont été produit par les Etats-Unis ? Par la France ?"
   ]
  },
  {
   "cell_type": "markdown",
   "metadata": {},
   "source": [
    "On fait une indexation avec une expression booléenne afin d'accéder à l'ensemble des lignes dont la valeur dans la colonne \"country\" est \"United States\" (Etats-Unis). Puis on affiche la dimension du tableau avec l'attribut \"shape\", pour avoir le nombre de contenus produit par les Etats-Unis. Enfin, on fait la même chose avec la valeur \"France\"."
   ]
  },
  {
   "cell_type": "code",
   "execution_count": 16,
   "metadata": {},
   "outputs": [
    {
     "data": {
      "text/plain": [
       "(2032, 11)"
      ]
     },
     "execution_count": 16,
     "metadata": {},
     "output_type": "execute_result"
    }
   ],
   "source": [
    "donnees[(donnees[\"country\"]==\"United States\")].shape"
   ]
  },
  {
   "cell_type": "code",
   "execution_count": 17,
   "metadata": {},
   "outputs": [
    {
     "data": {
      "text/plain": [
       "(90, 11)"
      ]
     },
     "execution_count": 17,
     "metadata": {},
     "output_type": "execute_result"
    }
   ],
   "source": [
    "donnees[(donnees[\"country\"]==\"France\")].shape"
   ]
  },
  {
   "cell_type": "markdown",
   "metadata": {},
   "source": [
    "Il y a bien moins de contenu produit en France et disponible sur Netflix que de contenu produit aux Etats-Unis.\n",
    "Affichons un aperçu du contenu produit en france."
   ]
  },
  {
   "cell_type": "code",
   "execution_count": 18,
   "metadata": {},
   "outputs": [
    {
     "data": {
      "text/html": [
       "<div>\n",
       "<style scoped>\n",
       "    .dataframe tbody tr th:only-of-type {\n",
       "        vertical-align: middle;\n",
       "    }\n",
       "\n",
       "    .dataframe tbody tr th {\n",
       "        vertical-align: top;\n",
       "    }\n",
       "\n",
       "    .dataframe thead th {\n",
       "        text-align: right;\n",
       "    }\n",
       "</style>\n",
       "<table border=\"1\" class=\"dataframe\">\n",
       "  <thead>\n",
       "    <tr style=\"text-align: right;\">\n",
       "      <th></th>\n",
       "      <th>type</th>\n",
       "      <th>title</th>\n",
       "      <th>director</th>\n",
       "      <th>cast</th>\n",
       "      <th>country</th>\n",
       "      <th>date_added</th>\n",
       "      <th>release_year</th>\n",
       "      <th>rating</th>\n",
       "      <th>duration</th>\n",
       "      <th>listed_in</th>\n",
       "      <th>description</th>\n",
       "    </tr>\n",
       "    <tr>\n",
       "      <th>show_id</th>\n",
       "      <th></th>\n",
       "      <th></th>\n",
       "      <th></th>\n",
       "      <th></th>\n",
       "      <th></th>\n",
       "      <th></th>\n",
       "      <th></th>\n",
       "      <th></th>\n",
       "      <th></th>\n",
       "      <th></th>\n",
       "      <th></th>\n",
       "    </tr>\n",
       "  </thead>\n",
       "  <tbody>\n",
       "    <tr>\n",
       "      <th>80178151</th>\n",
       "      <td>TV Show</td>\n",
       "      <td>The Spy</td>\n",
       "      <td>NaN</td>\n",
       "      <td>Sacha Baron Cohen, Noah Emmerich, Hadar Ratzon...</td>\n",
       "      <td>France</td>\n",
       "      <td>September 6, 2019</td>\n",
       "      <td>2019</td>\n",
       "      <td>TV-MA</td>\n",
       "      <td>1 Season</td>\n",
       "      <td>International TV Shows, TV Dramas, TV Thrillers</td>\n",
       "      <td>In the 1960s, Israeli clerk-turned-secret agen...</td>\n",
       "    </tr>\n",
       "    <tr>\n",
       "      <th>70153543</th>\n",
       "      <td>Movie</td>\n",
       "      <td>Sarah's Key</td>\n",
       "      <td>Gilles Paquet-Brenner</td>\n",
       "      <td>Aidan Quinn, Kristin Scott Thomas, Frédéric Pi...</td>\n",
       "      <td>France</td>\n",
       "      <td>September 21, 2019</td>\n",
       "      <td>2010</td>\n",
       "      <td>PG-13</td>\n",
       "      <td>102 min</td>\n",
       "      <td>Dramas, International Movies</td>\n",
       "      <td>Paris, 1942: To protect her brother from the p...</td>\n",
       "    </tr>\n",
       "    <tr>\n",
       "      <th>80217779</th>\n",
       "      <td>TV Show</td>\n",
       "      <td>Marianne</td>\n",
       "      <td>NaN</td>\n",
       "      <td>Victoire Du Bois, Lucie Boujenah, Tiphaine Dav...</td>\n",
       "      <td>France</td>\n",
       "      <td>September 13, 2019</td>\n",
       "      <td>2019</td>\n",
       "      <td>TV-MA</td>\n",
       "      <td>1 Season</td>\n",
       "      <td>International TV Shows, TV Dramas, TV Horror</td>\n",
       "      <td>Lured back to her hometown, a famous horror wr...</td>\n",
       "    </tr>\n",
       "    <tr>\n",
       "      <th>81005314</th>\n",
       "      <td>Movie</td>\n",
       "      <td>Sparring</td>\n",
       "      <td>Samuel Jouy</td>\n",
       "      <td>Mathieu Kassovitz, Olivia Merilahti, Souleyman...</td>\n",
       "      <td>France</td>\n",
       "      <td>September 1, 2018</td>\n",
       "      <td>2017</td>\n",
       "      <td>TV-14</td>\n",
       "      <td>94 min</td>\n",
       "      <td>Dramas, International Movies, Sports Movies</td>\n",
       "      <td>A middle-aged boxer with a mixed record become...</td>\n",
       "    </tr>\n",
       "    <tr>\n",
       "      <th>80160358</th>\n",
       "      <td>Movie</td>\n",
       "      <td>Rocco</td>\n",
       "      <td>Thierry Demaizière, Alban Teurlai</td>\n",
       "      <td>Rocco Siffredi</td>\n",
       "      <td>France</td>\n",
       "      <td>September 1, 2017</td>\n",
       "      <td>2016</td>\n",
       "      <td>TV-MA</td>\n",
       "      <td>103 min</td>\n",
       "      <td>Documentaries, International Movies</td>\n",
       "      <td>Italian porn star Rocco Siffredi is showcased ...</td>\n",
       "    </tr>\n",
       "  </tbody>\n",
       "</table>\n",
       "</div>"
      ],
      "text/plain": [
       "             type        title                           director  \\\n",
       "show_id                                                             \n",
       "80178151  TV Show      The Spy                                NaN   \n",
       "70153543    Movie  Sarah's Key              Gilles Paquet-Brenner   \n",
       "80217779  TV Show     Marianne                                NaN   \n",
       "81005314    Movie     Sparring                        Samuel Jouy   \n",
       "80160358    Movie        Rocco  Thierry Demaizière, Alban Teurlai   \n",
       "\n",
       "                                                       cast country  \\\n",
       "show_id                                                               \n",
       "80178151  Sacha Baron Cohen, Noah Emmerich, Hadar Ratzon...  France   \n",
       "70153543  Aidan Quinn, Kristin Scott Thomas, Frédéric Pi...  France   \n",
       "80217779  Victoire Du Bois, Lucie Boujenah, Tiphaine Dav...  France   \n",
       "81005314  Mathieu Kassovitz, Olivia Merilahti, Souleyman...  France   \n",
       "80160358                                     Rocco Siffredi  France   \n",
       "\n",
       "                  date_added  release_year rating  duration  \\\n",
       "show_id                                                       \n",
       "80178151   September 6, 2019          2019  TV-MA  1 Season   \n",
       "70153543  September 21, 2019          2010  PG-13   102 min   \n",
       "80217779  September 13, 2019          2019  TV-MA  1 Season   \n",
       "81005314   September 1, 2018          2017  TV-14    94 min   \n",
       "80160358   September 1, 2017          2016  TV-MA   103 min   \n",
       "\n",
       "                                                listed_in  \\\n",
       "show_id                                                     \n",
       "80178151  International TV Shows, TV Dramas, TV Thrillers   \n",
       "70153543                     Dramas, International Movies   \n",
       "80217779     International TV Shows, TV Dramas, TV Horror   \n",
       "81005314      Dramas, International Movies, Sports Movies   \n",
       "80160358              Documentaries, International Movies   \n",
       "\n",
       "                                                description  \n",
       "show_id                                                      \n",
       "80178151  In the 1960s, Israeli clerk-turned-secret agen...  \n",
       "70153543  Paris, 1942: To protect her brother from the p...  \n",
       "80217779  Lured back to her hometown, a famous horror wr...  \n",
       "81005314  A middle-aged boxer with a mixed record become...  \n",
       "80160358  Italian porn star Rocco Siffredi is showcased ...  "
      ]
     },
     "execution_count": 18,
     "metadata": {},
     "output_type": "execute_result"
    }
   ],
   "source": [
    "donnees[(donnees[\"country\"]==\"France\")].head()"
   ]
  },
  {
   "cell_type": "markdown",
   "metadata": {},
   "source": [
    "On peut aussi afficher le résumé statistique uniquement pour les films/séries produits en France"
   ]
  },
  {
   "cell_type": "code",
   "execution_count": 19,
   "metadata": {},
   "outputs": [
    {
     "data": {
      "text/html": [
       "<div>\n",
       "<style scoped>\n",
       "    .dataframe tbody tr th:only-of-type {\n",
       "        vertical-align: middle;\n",
       "    }\n",
       "\n",
       "    .dataframe tbody tr th {\n",
       "        vertical-align: top;\n",
       "    }\n",
       "\n",
       "    .dataframe thead th {\n",
       "        text-align: right;\n",
       "    }\n",
       "</style>\n",
       "<table border=\"1\" class=\"dataframe\">\n",
       "  <thead>\n",
       "    <tr style=\"text-align: right;\">\n",
       "      <th></th>\n",
       "      <th>type</th>\n",
       "      <th>title</th>\n",
       "      <th>director</th>\n",
       "      <th>cast</th>\n",
       "      <th>country</th>\n",
       "      <th>date_added</th>\n",
       "      <th>release_year</th>\n",
       "      <th>rating</th>\n",
       "      <th>duration</th>\n",
       "      <th>listed_in</th>\n",
       "      <th>description</th>\n",
       "    </tr>\n",
       "  </thead>\n",
       "  <tbody>\n",
       "    <tr>\n",
       "      <th>count</th>\n",
       "      <td>90</td>\n",
       "      <td>90</td>\n",
       "      <td>51</td>\n",
       "      <td>77</td>\n",
       "      <td>90</td>\n",
       "      <td>90</td>\n",
       "      <td>90.000000</td>\n",
       "      <td>90</td>\n",
       "      <td>90</td>\n",
       "      <td>90</td>\n",
       "      <td>90</td>\n",
       "    </tr>\n",
       "    <tr>\n",
       "      <th>unique</th>\n",
       "      <td>2</td>\n",
       "      <td>90</td>\n",
       "      <td>51</td>\n",
       "      <td>77</td>\n",
       "      <td>1</td>\n",
       "      <td>84</td>\n",
       "      <td>NaN</td>\n",
       "      <td>11</td>\n",
       "      <td>33</td>\n",
       "      <td>39</td>\n",
       "      <td>90</td>\n",
       "    </tr>\n",
       "    <tr>\n",
       "      <th>top</th>\n",
       "      <td>Movie</td>\n",
       "      <td>The Spy</td>\n",
       "      <td>Gilles Paquet-Brenner</td>\n",
       "      <td>Sacha Baron Cohen, Noah Emmerich, Hadar Ratzon...</td>\n",
       "      <td>France</td>\n",
       "      <td>December 29, 2017</td>\n",
       "      <td>NaN</td>\n",
       "      <td>TV-MA</td>\n",
       "      <td>1 Season</td>\n",
       "      <td>Documentaries, International Movies</td>\n",
       "      <td>In the 1960s, Israeli clerk-turned-secret agen...</td>\n",
       "    </tr>\n",
       "    <tr>\n",
       "      <th>freq</th>\n",
       "      <td>50</td>\n",
       "      <td>1</td>\n",
       "      <td>1</td>\n",
       "      <td>1</td>\n",
       "      <td>90</td>\n",
       "      <td>2</td>\n",
       "      <td>NaN</td>\n",
       "      <td>51</td>\n",
       "      <td>33</td>\n",
       "      <td>8</td>\n",
       "      <td>1</td>\n",
       "    </tr>\n",
       "    <tr>\n",
       "      <th>mean</th>\n",
       "      <td>NaN</td>\n",
       "      <td>NaN</td>\n",
       "      <td>NaN</td>\n",
       "      <td>NaN</td>\n",
       "      <td>NaN</td>\n",
       "      <td>NaN</td>\n",
       "      <td>2016.200000</td>\n",
       "      <td>NaN</td>\n",
       "      <td>NaN</td>\n",
       "      <td>NaN</td>\n",
       "      <td>NaN</td>\n",
       "    </tr>\n",
       "    <tr>\n",
       "      <th>std</th>\n",
       "      <td>NaN</td>\n",
       "      <td>NaN</td>\n",
       "      <td>NaN</td>\n",
       "      <td>NaN</td>\n",
       "      <td>NaN</td>\n",
       "      <td>NaN</td>\n",
       "      <td>5.032925</td>\n",
       "      <td>NaN</td>\n",
       "      <td>NaN</td>\n",
       "      <td>NaN</td>\n",
       "      <td>NaN</td>\n",
       "    </tr>\n",
       "    <tr>\n",
       "      <th>min</th>\n",
       "      <td>NaN</td>\n",
       "      <td>NaN</td>\n",
       "      <td>NaN</td>\n",
       "      <td>NaN</td>\n",
       "      <td>NaN</td>\n",
       "      <td>NaN</td>\n",
       "      <td>1974.000000</td>\n",
       "      <td>NaN</td>\n",
       "      <td>NaN</td>\n",
       "      <td>NaN</td>\n",
       "      <td>NaN</td>\n",
       "    </tr>\n",
       "    <tr>\n",
       "      <th>25%</th>\n",
       "      <td>NaN</td>\n",
       "      <td>NaN</td>\n",
       "      <td>NaN</td>\n",
       "      <td>NaN</td>\n",
       "      <td>NaN</td>\n",
       "      <td>NaN</td>\n",
       "      <td>2015.250000</td>\n",
       "      <td>NaN</td>\n",
       "      <td>NaN</td>\n",
       "      <td>NaN</td>\n",
       "      <td>NaN</td>\n",
       "    </tr>\n",
       "    <tr>\n",
       "      <th>50%</th>\n",
       "      <td>NaN</td>\n",
       "      <td>NaN</td>\n",
       "      <td>NaN</td>\n",
       "      <td>NaN</td>\n",
       "      <td>NaN</td>\n",
       "      <td>NaN</td>\n",
       "      <td>2017.000000</td>\n",
       "      <td>NaN</td>\n",
       "      <td>NaN</td>\n",
       "      <td>NaN</td>\n",
       "      <td>NaN</td>\n",
       "    </tr>\n",
       "    <tr>\n",
       "      <th>75%</th>\n",
       "      <td>NaN</td>\n",
       "      <td>NaN</td>\n",
       "      <td>NaN</td>\n",
       "      <td>NaN</td>\n",
       "      <td>NaN</td>\n",
       "      <td>NaN</td>\n",
       "      <td>2018.000000</td>\n",
       "      <td>NaN</td>\n",
       "      <td>NaN</td>\n",
       "      <td>NaN</td>\n",
       "      <td>NaN</td>\n",
       "    </tr>\n",
       "    <tr>\n",
       "      <th>max</th>\n",
       "      <td>NaN</td>\n",
       "      <td>NaN</td>\n",
       "      <td>NaN</td>\n",
       "      <td>NaN</td>\n",
       "      <td>NaN</td>\n",
       "      <td>NaN</td>\n",
       "      <td>2020.000000</td>\n",
       "      <td>NaN</td>\n",
       "      <td>NaN</td>\n",
       "      <td>NaN</td>\n",
       "      <td>NaN</td>\n",
       "    </tr>\n",
       "  </tbody>\n",
       "</table>\n",
       "</div>"
      ],
      "text/plain": [
       "         type    title               director  \\\n",
       "count      90       90                     51   \n",
       "unique      2       90                     51   \n",
       "top     Movie  The Spy  Gilles Paquet-Brenner   \n",
       "freq       50        1                      1   \n",
       "mean      NaN      NaN                    NaN   \n",
       "std       NaN      NaN                    NaN   \n",
       "min       NaN      NaN                    NaN   \n",
       "25%       NaN      NaN                    NaN   \n",
       "50%       NaN      NaN                    NaN   \n",
       "75%       NaN      NaN                    NaN   \n",
       "max       NaN      NaN                    NaN   \n",
       "\n",
       "                                                     cast country  \\\n",
       "count                                                  77      90   \n",
       "unique                                                 77       1   \n",
       "top     Sacha Baron Cohen, Noah Emmerich, Hadar Ratzon...  France   \n",
       "freq                                                    1      90   \n",
       "mean                                                  NaN     NaN   \n",
       "std                                                   NaN     NaN   \n",
       "min                                                   NaN     NaN   \n",
       "25%                                                   NaN     NaN   \n",
       "50%                                                   NaN     NaN   \n",
       "75%                                                   NaN     NaN   \n",
       "max                                                   NaN     NaN   \n",
       "\n",
       "               date_added  release_year rating  duration  \\\n",
       "count                  90     90.000000     90        90   \n",
       "unique                 84           NaN     11        33   \n",
       "top     December 29, 2017           NaN  TV-MA  1 Season   \n",
       "freq                    2           NaN     51        33   \n",
       "mean                  NaN   2016.200000    NaN       NaN   \n",
       "std                   NaN      5.032925    NaN       NaN   \n",
       "min                   NaN   1974.000000    NaN       NaN   \n",
       "25%                   NaN   2015.250000    NaN       NaN   \n",
       "50%                   NaN   2017.000000    NaN       NaN   \n",
       "75%                   NaN   2018.000000    NaN       NaN   \n",
       "max                   NaN   2020.000000    NaN       NaN   \n",
       "\n",
       "                                  listed_in  \\\n",
       "count                                    90   \n",
       "unique                                   39   \n",
       "top     Documentaries, International Movies   \n",
       "freq                                      8   \n",
       "mean                                    NaN   \n",
       "std                                     NaN   \n",
       "min                                     NaN   \n",
       "25%                                     NaN   \n",
       "50%                                     NaN   \n",
       "75%                                     NaN   \n",
       "max                                     NaN   \n",
       "\n",
       "                                              description  \n",
       "count                                                  90  \n",
       "unique                                                 90  \n",
       "top     In the 1960s, Israeli clerk-turned-secret agen...  \n",
       "freq                                                    1  \n",
       "mean                                                  NaN  \n",
       "std                                                   NaN  \n",
       "min                                                   NaN  \n",
       "25%                                                   NaN  \n",
       "50%                                                   NaN  \n",
       "75%                                                   NaN  \n",
       "max                                                   NaN  "
      ]
     },
     "execution_count": 19,
     "metadata": {},
     "output_type": "execute_result"
    }
   ],
   "source": [
    "donnees[(donnees[\"country\"]==\"France\")].describe(include=\"all\")"
   ]
  },
  {
   "cell_type": "markdown",
   "metadata": {},
   "source": [
    "Il y a 50 films et 40 séries, les séries ont majoritairement une unique saison pour l'instant (33)."
   ]
  },
  {
   "cell_type": "markdown",
   "metadata": {},
   "source": [
    "## 3.9.\tQuel est le contenu le plus vieux disponible sur Netflix ?"
   ]
  },
  {
   "cell_type": "markdown",
   "metadata": {},
   "source": [
    "Continuons à explorer le contenu de notre dataframe et affichons le contenu le plus vieux disponible sur Netflix, c'est à dire le contenu avec la valeur la plus faible dans la colonne \"release_year\"."
   ]
  },
  {
   "cell_type": "markdown",
   "metadata": {},
   "source": [
    "Premièrement, il faut récupérer la date la plus ancienne dans la colonne \"release_year\", grâce à la méthode min() de Pandas."
   ]
  },
  {
   "cell_type": "code",
   "execution_count": 20,
   "metadata": {},
   "outputs": [
    {
     "data": {
      "text/plain": [
       "1925"
      ]
     },
     "execution_count": 20,
     "metadata": {},
     "output_type": "execute_result"
    }
   ],
   "source": [
    "donnees[\"release_year\"].min()"
   ]
  },
  {
   "cell_type": "markdown",
   "metadata": {},
   "source": [
    "Puis on utilise une expression booléenne pour n'afficher que les lignes dont les valeurs dans la colonne \"release_year\" sont égales à son minimum."
   ]
  },
  {
   "cell_type": "code",
   "execution_count": 21,
   "metadata": {},
   "outputs": [
    {
     "data": {
      "text/html": [
       "<div>\n",
       "<style scoped>\n",
       "    .dataframe tbody tr th:only-of-type {\n",
       "        vertical-align: middle;\n",
       "    }\n",
       "\n",
       "    .dataframe tbody tr th {\n",
       "        vertical-align: top;\n",
       "    }\n",
       "\n",
       "    .dataframe thead th {\n",
       "        text-align: right;\n",
       "    }\n",
       "</style>\n",
       "<table border=\"1\" class=\"dataframe\">\n",
       "  <thead>\n",
       "    <tr style=\"text-align: right;\">\n",
       "      <th></th>\n",
       "      <th>type</th>\n",
       "      <th>title</th>\n",
       "      <th>director</th>\n",
       "      <th>cast</th>\n",
       "      <th>country</th>\n",
       "      <th>date_added</th>\n",
       "      <th>release_year</th>\n",
       "      <th>rating</th>\n",
       "      <th>duration</th>\n",
       "      <th>listed_in</th>\n",
       "      <th>description</th>\n",
       "    </tr>\n",
       "    <tr>\n",
       "      <th>show_id</th>\n",
       "      <th></th>\n",
       "      <th></th>\n",
       "      <th></th>\n",
       "      <th></th>\n",
       "      <th></th>\n",
       "      <th></th>\n",
       "      <th></th>\n",
       "      <th></th>\n",
       "      <th></th>\n",
       "      <th></th>\n",
       "      <th></th>\n",
       "    </tr>\n",
       "  </thead>\n",
       "  <tbody>\n",
       "    <tr>\n",
       "      <th>81030762</th>\n",
       "      <td>TV Show</td>\n",
       "      <td>Pioneers: First Women Filmmakers*</td>\n",
       "      <td>NaN</td>\n",
       "      <td>NaN</td>\n",
       "      <td>NaN</td>\n",
       "      <td>December 30, 2018</td>\n",
       "      <td>1925</td>\n",
       "      <td>TV-PG</td>\n",
       "      <td>1 Season</td>\n",
       "      <td>TV Shows</td>\n",
       "      <td>This collection restores films from women who ...</td>\n",
       "    </tr>\n",
       "  </tbody>\n",
       "</table>\n",
       "</div>"
      ],
      "text/plain": [
       "             type                              title director cast country  \\\n",
       "show_id                                                                      \n",
       "81030762  TV Show  Pioneers: First Women Filmmakers*      NaN  NaN     NaN   \n",
       "\n",
       "                 date_added  release_year rating  duration listed_in  \\\n",
       "show_id                                                                \n",
       "81030762  December 30, 2018          1925  TV-PG  1 Season  TV Shows   \n",
       "\n",
       "                                                description  \n",
       "show_id                                                      \n",
       "81030762  This collection restores films from women who ...  "
      ]
     },
     "execution_count": 21,
     "metadata": {},
     "output_type": "execute_result"
    }
   ],
   "source": [
    "donnees[(donnees[\"release_year\"]==donnees[\"release_year\"].min())]"
   ]
  },
  {
   "cell_type": "markdown",
   "metadata": {},
   "source": [
    "Je ne connaissais pas cette série. Apparemment, il s'agit d'une série dont chaque épisode est une restauration d'un film très ancien, ici la date de la sortie réelle étant notée à 1925. Cette série est disponible sur netflix depuis décembre 2018."
   ]
  },
  {
   "cell_type": "markdown",
   "metadata": {},
   "source": [
    "On peut aussi afficher les 5 contenus les plus anciens grâce à la méthode sort_values() de Pandas, puis la méthode head()"
   ]
  },
  {
   "cell_type": "code",
   "execution_count": 22,
   "metadata": {},
   "outputs": [
    {
     "data": {
      "text/html": [
       "<div>\n",
       "<style scoped>\n",
       "    .dataframe tbody tr th:only-of-type {\n",
       "        vertical-align: middle;\n",
       "    }\n",
       "\n",
       "    .dataframe tbody tr th {\n",
       "        vertical-align: top;\n",
       "    }\n",
       "\n",
       "    .dataframe thead th {\n",
       "        text-align: right;\n",
       "    }\n",
       "</style>\n",
       "<table border=\"1\" class=\"dataframe\">\n",
       "  <thead>\n",
       "    <tr style=\"text-align: right;\">\n",
       "      <th></th>\n",
       "      <th>type</th>\n",
       "      <th>title</th>\n",
       "      <th>director</th>\n",
       "      <th>cast</th>\n",
       "      <th>country</th>\n",
       "      <th>date_added</th>\n",
       "      <th>release_year</th>\n",
       "      <th>rating</th>\n",
       "      <th>duration</th>\n",
       "      <th>listed_in</th>\n",
       "      <th>description</th>\n",
       "    </tr>\n",
       "    <tr>\n",
       "      <th>show_id</th>\n",
       "      <th></th>\n",
       "      <th></th>\n",
       "      <th></th>\n",
       "      <th></th>\n",
       "      <th></th>\n",
       "      <th></th>\n",
       "      <th></th>\n",
       "      <th></th>\n",
       "      <th></th>\n",
       "      <th></th>\n",
       "      <th></th>\n",
       "    </tr>\n",
       "  </thead>\n",
       "  <tbody>\n",
       "    <tr>\n",
       "      <th>81030762</th>\n",
       "      <td>TV Show</td>\n",
       "      <td>Pioneers: First Women Filmmakers*</td>\n",
       "      <td>NaN</td>\n",
       "      <td>NaN</td>\n",
       "      <td>NaN</td>\n",
       "      <td>December 30, 2018</td>\n",
       "      <td>1925</td>\n",
       "      <td>TV-PG</td>\n",
       "      <td>1 Season</td>\n",
       "      <td>TV Shows</td>\n",
       "      <td>This collection restores films from women who ...</td>\n",
       "    </tr>\n",
       "    <tr>\n",
       "      <th>60027942</th>\n",
       "      <td>Movie</td>\n",
       "      <td>The Battle of Midway</td>\n",
       "      <td>John Ford</td>\n",
       "      <td>Henry Fonda, Jane Darwell</td>\n",
       "      <td>United States</td>\n",
       "      <td>March 31, 2017</td>\n",
       "      <td>1942</td>\n",
       "      <td>TV-G</td>\n",
       "      <td>18 min</td>\n",
       "      <td>Classic Movies, Documentaries</td>\n",
       "      <td>Director John Ford captures combat footage of ...</td>\n",
       "    </tr>\n",
       "    <tr>\n",
       "      <th>60027945</th>\n",
       "      <td>Movie</td>\n",
       "      <td>Prelude to War</td>\n",
       "      <td>Frank Capra</td>\n",
       "      <td>NaN</td>\n",
       "      <td>United States</td>\n",
       "      <td>March 31, 2017</td>\n",
       "      <td>1942</td>\n",
       "      <td>TV-PG</td>\n",
       "      <td>52 min</td>\n",
       "      <td>Classic Movies, Documentaries</td>\n",
       "      <td>Frank Capra's documentary chronicles the rise ...</td>\n",
       "    </tr>\n",
       "    <tr>\n",
       "      <th>70013050</th>\n",
       "      <td>Movie</td>\n",
       "      <td>Why We Fight: The Battle of Russia</td>\n",
       "      <td>Frank Capra, Anatole Litvak</td>\n",
       "      <td>NaN</td>\n",
       "      <td>United States</td>\n",
       "      <td>March 31, 2017</td>\n",
       "      <td>1943</td>\n",
       "      <td>TV-14</td>\n",
       "      <td>82 min</td>\n",
       "      <td>Documentaries</td>\n",
       "      <td>This installment of Frank Capra's acclaimed do...</td>\n",
       "    </tr>\n",
       "    <tr>\n",
       "      <th>80119186</th>\n",
       "      <td>Movie</td>\n",
       "      <td>Undercover: How to Operate Behind Enemy Lines</td>\n",
       "      <td>John Ford</td>\n",
       "      <td>NaN</td>\n",
       "      <td>United States</td>\n",
       "      <td>March 31, 2017</td>\n",
       "      <td>1943</td>\n",
       "      <td>TV-PG</td>\n",
       "      <td>61 min</td>\n",
       "      <td>Classic Movies, Documentaries</td>\n",
       "      <td>This World War II-era training film dramatizes...</td>\n",
       "    </tr>\n",
       "  </tbody>\n",
       "</table>\n",
       "</div>"
      ],
      "text/plain": [
       "             type                                          title  \\\n",
       "show_id                                                            \n",
       "81030762  TV Show              Pioneers: First Women Filmmakers*   \n",
       "60027942    Movie                           The Battle of Midway   \n",
       "60027945    Movie                                 Prelude to War   \n",
       "70013050    Movie             Why We Fight: The Battle of Russia   \n",
       "80119186    Movie  Undercover: How to Operate Behind Enemy Lines   \n",
       "\n",
       "                             director                       cast  \\\n",
       "show_id                                                            \n",
       "81030762                          NaN                        NaN   \n",
       "60027942                    John Ford  Henry Fonda, Jane Darwell   \n",
       "60027945                  Frank Capra                        NaN   \n",
       "70013050  Frank Capra, Anatole Litvak                        NaN   \n",
       "80119186                    John Ford                        NaN   \n",
       "\n",
       "                country         date_added  release_year rating  duration  \\\n",
       "show_id                                                                     \n",
       "81030762            NaN  December 30, 2018          1925  TV-PG  1 Season   \n",
       "60027942  United States     March 31, 2017          1942   TV-G    18 min   \n",
       "60027945  United States     March 31, 2017          1942  TV-PG    52 min   \n",
       "70013050  United States     March 31, 2017          1943  TV-14    82 min   \n",
       "80119186  United States     March 31, 2017          1943  TV-PG    61 min   \n",
       "\n",
       "                              listed_in  \\\n",
       "show_id                                   \n",
       "81030762                       TV Shows   \n",
       "60027942  Classic Movies, Documentaries   \n",
       "60027945  Classic Movies, Documentaries   \n",
       "70013050                  Documentaries   \n",
       "80119186  Classic Movies, Documentaries   \n",
       "\n",
       "                                                description  \n",
       "show_id                                                      \n",
       "81030762  This collection restores films from women who ...  \n",
       "60027942  Director John Ford captures combat footage of ...  \n",
       "60027945  Frank Capra's documentary chronicles the rise ...  \n",
       "70013050  This installment of Frank Capra's acclaimed do...  \n",
       "80119186  This World War II-era training film dramatizes...  "
      ]
     },
     "execution_count": 22,
     "metadata": {},
     "output_type": "execute_result"
    }
   ],
   "source": [
    "donnees.sort_values(\"release_year\").head(n=5)"
   ]
  },
  {
   "cell_type": "markdown",
   "metadata": {},
   "source": [
    "## 3.10. Quel est le film avec la durée la plus longue sur Netflix ?"
   ]
  },
  {
   "cell_type": "markdown",
   "metadata": {},
   "source": [
    "Pour répondre à cette question, il faut tout d'abord sélectionner les contenus appartenant au type \"Movie\" puis modifier la colonne \"duration\" afin d'enlever le terme \"min\" qui suit, qui signifie minutes. Le but est de transformer cette colonne en \"integer\" plutôt qu'en \"string\". Pour cela, nous allons utiliser la fonction str.replace() de Pandas pour lui dire de remplacer le texte \" min\" par rien, ce qui nous permettra de ne garder que les chiffres, puis on transformera cette colonne en int."
   ]
  },
  {
   "cell_type": "code",
   "execution_count": 23,
   "metadata": {},
   "outputs": [],
   "source": [
    "# sélection des contenus correspondant à un film\n",
    "donnees_film=donnees[(donnees[\"type\"]==\"Movie\")]\n",
    "# on crée une série contenant les valeurs de la colonne \"duration\" sans le texte \" min\" et \n",
    "# qu'on a transformé en integer grâce à la fonction astype(\"int\")\n",
    "duree=donnees_film[\"duration\"].str.replace(\" min\", \"\").astype(\"int\")"
   ]
  },
  {
   "cell_type": "markdown",
   "metadata": {},
   "source": [
    "Après avoir créé la série duree qui contient les valeurs de la colonne \"duration\" transformées en integer, on peut utiliser la méthode sort_values() pour trier ces valeurs, en lui précisant qu'on veut que ce tri se fasse dans l'ordre décroissant (du plus grand au plus petit) grâce à l'option \"ascending=False\". Puis on récupère les index de cette série triée (grâce à l'attribut index) afin de les utiliser pour finalement récupérer les lignes de donnees_film correspondantes."
   ]
  },
  {
   "cell_type": "code",
   "execution_count": 24,
   "metadata": {},
   "outputs": [
    {
     "data": {
      "text/html": [
       "<div>\n",
       "<style scoped>\n",
       "    .dataframe tbody tr th:only-of-type {\n",
       "        vertical-align: middle;\n",
       "    }\n",
       "\n",
       "    .dataframe tbody tr th {\n",
       "        vertical-align: top;\n",
       "    }\n",
       "\n",
       "    .dataframe thead th {\n",
       "        text-align: right;\n",
       "    }\n",
       "</style>\n",
       "<table border=\"1\" class=\"dataframe\">\n",
       "  <thead>\n",
       "    <tr style=\"text-align: right;\">\n",
       "      <th></th>\n",
       "      <th>type</th>\n",
       "      <th>title</th>\n",
       "      <th>director</th>\n",
       "      <th>cast</th>\n",
       "      <th>country</th>\n",
       "      <th>date_added</th>\n",
       "      <th>release_year</th>\n",
       "      <th>rating</th>\n",
       "      <th>duration</th>\n",
       "      <th>listed_in</th>\n",
       "      <th>description</th>\n",
       "    </tr>\n",
       "    <tr>\n",
       "      <th>show_id</th>\n",
       "      <th></th>\n",
       "      <th></th>\n",
       "      <th></th>\n",
       "      <th></th>\n",
       "      <th></th>\n",
       "      <th></th>\n",
       "      <th></th>\n",
       "      <th></th>\n",
       "      <th></th>\n",
       "      <th></th>\n",
       "      <th></th>\n",
       "    </tr>\n",
       "  </thead>\n",
       "  <tbody>\n",
       "    <tr>\n",
       "      <th>80988062</th>\n",
       "      <td>Movie</td>\n",
       "      <td>Black Mirror: Bandersnatch</td>\n",
       "      <td>NaN</td>\n",
       "      <td>Fionn Whitehead, Will Poulter, Craig Parkinson...</td>\n",
       "      <td>United States</td>\n",
       "      <td>December 28, 2018</td>\n",
       "      <td>2018</td>\n",
       "      <td>TV-MA</td>\n",
       "      <td>312 min</td>\n",
       "      <td>Dramas, International Movies, Sci-Fi &amp; Fantasy</td>\n",
       "      <td>In 1984, a young programmer begins to question...</td>\n",
       "    </tr>\n",
       "    <tr>\n",
       "      <th>60002818</th>\n",
       "      <td>Movie</td>\n",
       "      <td>Sangam</td>\n",
       "      <td>Raj Kapoor</td>\n",
       "      <td>Raj Kapoor, Vyjayanthimala, Rajendra Kumar, La...</td>\n",
       "      <td>India</td>\n",
       "      <td>December 31, 2019</td>\n",
       "      <td>1964</td>\n",
       "      <td>TV-14</td>\n",
       "      <td>228 min</td>\n",
       "      <td>Classic Movies, Dramas, International Movies</td>\n",
       "      <td>Returning home from war after being assumed de...</td>\n",
       "    </tr>\n",
       "    <tr>\n",
       "      <th>60020906</th>\n",
       "      <td>Movie</td>\n",
       "      <td>Lagaan</td>\n",
       "      <td>Ashutosh Gowariker</td>\n",
       "      <td>Aamir Khan, Gracy Singh, Rachel Shelley, Paul ...</td>\n",
       "      <td>India</td>\n",
       "      <td>December 8, 2017</td>\n",
       "      <td>2001</td>\n",
       "      <td>PG</td>\n",
       "      <td>224 min</td>\n",
       "      <td>Dramas, International Movies, Music &amp; Musicals</td>\n",
       "      <td>In 1890s India, an arrogant British commander ...</td>\n",
       "    </tr>\n",
       "    <tr>\n",
       "      <th>70090035</th>\n",
       "      <td>Movie</td>\n",
       "      <td>Jodhaa Akbar</td>\n",
       "      <td>Ashutosh Gowariker</td>\n",
       "      <td>Hrithik Roshan, Aishwarya Rai Bachchan, Sonu S...</td>\n",
       "      <td>India</td>\n",
       "      <td>October 1, 2018</td>\n",
       "      <td>2008</td>\n",
       "      <td>TV-14</td>\n",
       "      <td>214 min</td>\n",
       "      <td>Action &amp; Adventure, Dramas, International Movies</td>\n",
       "      <td>In 16th-century India, what begins as a strate...</td>\n",
       "    </tr>\n",
       "    <tr>\n",
       "      <th>80175798</th>\n",
       "      <td>Movie</td>\n",
       "      <td>The Irishman</td>\n",
       "      <td>Martin Scorsese</td>\n",
       "      <td>Robert De Niro, Al Pacino, Joe Pesci, Harvey K...</td>\n",
       "      <td>United States</td>\n",
       "      <td>November 27, 2019</td>\n",
       "      <td>2019</td>\n",
       "      <td>R</td>\n",
       "      <td>209 min</td>\n",
       "      <td>Dramas</td>\n",
       "      <td>Hit man Frank Sheeran looks back at the secret...</td>\n",
       "    </tr>\n",
       "  </tbody>\n",
       "</table>\n",
       "</div>"
      ],
      "text/plain": [
       "           type                       title            director  \\\n",
       "show_id                                                           \n",
       "80988062  Movie  Black Mirror: Bandersnatch                 NaN   \n",
       "60002818  Movie                      Sangam          Raj Kapoor   \n",
       "60020906  Movie                      Lagaan  Ashutosh Gowariker   \n",
       "70090035  Movie                Jodhaa Akbar  Ashutosh Gowariker   \n",
       "80175798  Movie                The Irishman     Martin Scorsese   \n",
       "\n",
       "                                                       cast        country  \\\n",
       "show_id                                                                      \n",
       "80988062  Fionn Whitehead, Will Poulter, Craig Parkinson...  United States   \n",
       "60002818  Raj Kapoor, Vyjayanthimala, Rajendra Kumar, La...          India   \n",
       "60020906  Aamir Khan, Gracy Singh, Rachel Shelley, Paul ...          India   \n",
       "70090035  Hrithik Roshan, Aishwarya Rai Bachchan, Sonu S...          India   \n",
       "80175798  Robert De Niro, Al Pacino, Joe Pesci, Harvey K...  United States   \n",
       "\n",
       "                 date_added  release_year rating duration  \\\n",
       "show_id                                                     \n",
       "80988062  December 28, 2018          2018  TV-MA  312 min   \n",
       "60002818  December 31, 2019          1964  TV-14  228 min   \n",
       "60020906   December 8, 2017          2001     PG  224 min   \n",
       "70090035    October 1, 2018          2008  TV-14  214 min   \n",
       "80175798  November 27, 2019          2019      R  209 min   \n",
       "\n",
       "                                                 listed_in  \\\n",
       "show_id                                                      \n",
       "80988062    Dramas, International Movies, Sci-Fi & Fantasy   \n",
       "60002818      Classic Movies, Dramas, International Movies   \n",
       "60020906    Dramas, International Movies, Music & Musicals   \n",
       "70090035  Action & Adventure, Dramas, International Movies   \n",
       "80175798                                            Dramas   \n",
       "\n",
       "                                                description  \n",
       "show_id                                                      \n",
       "80988062  In 1984, a young programmer begins to question...  \n",
       "60002818  Returning home from war after being assumed de...  \n",
       "60020906  In 1890s India, an arrogant British commander ...  \n",
       "70090035  In 16th-century India, what begins as a strate...  \n",
       "80175798  Hit man Frank Sheeran looks back at the secret...  "
      ]
     },
     "execution_count": 24,
     "metadata": {},
     "output_type": "execute_result"
    }
   ],
   "source": [
    "donnees_film.loc[duree.sort_values(ascending=False).head(n=5).index,:]"
   ]
  },
  {
   "cell_type": "markdown",
   "metadata": {},
   "source": [
    "On constate que certains films durent plus de 180 min, c'est à dire plus de trois heures ! Par exemple, \"The Irishman\" de Martin Scorsese dure 3h30."
   ]
  },
  {
   "cell_type": "markdown",
   "metadata": {},
   "source": [
    "## 3.11. Etude des catégories avec le plus de contenu"
   ]
  },
  {
   "cell_type": "markdown",
   "metadata": {},
   "source": [
    "Intéressons nous aux catégories et regardons quelle catégorie (colonne \"listed_in\") contient le plus de contenus, films et séries confondus."
   ]
  },
  {
   "cell_type": "markdown",
   "metadata": {},
   "source": [
    "Il est possible qu'un contenu appartienne à plusieurs catégories, celles-ci étant séparées par des virgules. Pour pouvoir étudier chaque catégorie séparémment, nous allons devoir \"splitter\", couper, les valeurs de la colonne \"listed_in\" selon le symbole \",\". Générons un aperçu de la colonne \"listed_in\" actuellement."
   ]
  },
  {
   "cell_type": "code",
   "execution_count": 25,
   "metadata": {},
   "outputs": [
    {
     "ename": "FileNotFoundError",
     "evalue": "[Errno 2] No such file or directory: '../datasets/netflix_titles.csv'",
     "output_type": "error",
     "traceback": [
      "\u001b[1;31m---------------------------------------------------------------------------\u001b[0m",
      "\u001b[1;31mFileNotFoundError\u001b[0m                         Traceback (most recent call last)",
      "\u001b[1;32m~\\AppData\\Local\\Temp/ipykernel_16492/2910648194.py\u001b[0m in \u001b[0;36m<module>\u001b[1;34m\u001b[0m\n\u001b[0;32m      1\u001b[0m \u001b[1;32mimport\u001b[0m \u001b[0mpandas\u001b[0m \u001b[1;32mas\u001b[0m \u001b[0mpd\u001b[0m\u001b[1;33m\u001b[0m\u001b[1;33m\u001b[0m\u001b[0m\n\u001b[1;32m----> 2\u001b[1;33m \u001b[0mdonnees\u001b[0m\u001b[1;33m=\u001b[0m\u001b[0mpd\u001b[0m\u001b[1;33m.\u001b[0m\u001b[0mread_csv\u001b[0m\u001b[1;33m(\u001b[0m\u001b[1;34m\"../datasets/netflix_titles.csv\"\u001b[0m\u001b[1;33m,\u001b[0m \u001b[0mindex_col\u001b[0m\u001b[1;33m=\u001b[0m\u001b[1;33m[\u001b[0m\u001b[1;36m0\u001b[0m\u001b[1;33m]\u001b[0m\u001b[1;33m)\u001b[0m\u001b[1;33m\u001b[0m\u001b[1;33m\u001b[0m\u001b[0m\n\u001b[0m\u001b[0;32m      3\u001b[0m \u001b[0mdonnees\u001b[0m\u001b[1;33m[\u001b[0m\u001b[1;34m\"listed_in\"\u001b[0m\u001b[1;33m]\u001b[0m\u001b[1;33m.\u001b[0m\u001b[0mhead\u001b[0m\u001b[1;33m(\u001b[0m\u001b[1;33m)\u001b[0m\u001b[1;33m\u001b[0m\u001b[1;33m\u001b[0m\u001b[0m\n",
      "\u001b[1;32m~\\anaconda3\\lib\\site-packages\\pandas\\util\\_decorators.py\u001b[0m in \u001b[0;36mwrapper\u001b[1;34m(*args, **kwargs)\u001b[0m\n\u001b[0;32m    309\u001b[0m                     \u001b[0mstacklevel\u001b[0m\u001b[1;33m=\u001b[0m\u001b[0mstacklevel\u001b[0m\u001b[1;33m,\u001b[0m\u001b[1;33m\u001b[0m\u001b[1;33m\u001b[0m\u001b[0m\n\u001b[0;32m    310\u001b[0m                 )\n\u001b[1;32m--> 311\u001b[1;33m             \u001b[1;32mreturn\u001b[0m \u001b[0mfunc\u001b[0m\u001b[1;33m(\u001b[0m\u001b[1;33m*\u001b[0m\u001b[0margs\u001b[0m\u001b[1;33m,\u001b[0m \u001b[1;33m**\u001b[0m\u001b[0mkwargs\u001b[0m\u001b[1;33m)\u001b[0m\u001b[1;33m\u001b[0m\u001b[1;33m\u001b[0m\u001b[0m\n\u001b[0m\u001b[0;32m    312\u001b[0m \u001b[1;33m\u001b[0m\u001b[0m\n\u001b[0;32m    313\u001b[0m         \u001b[1;32mreturn\u001b[0m \u001b[0mwrapper\u001b[0m\u001b[1;33m\u001b[0m\u001b[1;33m\u001b[0m\u001b[0m\n",
      "\u001b[1;32m~\\anaconda3\\lib\\site-packages\\pandas\\io\\parsers\\readers.py\u001b[0m in \u001b[0;36mread_csv\u001b[1;34m(filepath_or_buffer, sep, delimiter, header, names, index_col, usecols, squeeze, prefix, mangle_dupe_cols, dtype, engine, converters, true_values, false_values, skipinitialspace, skiprows, skipfooter, nrows, na_values, keep_default_na, na_filter, verbose, skip_blank_lines, parse_dates, infer_datetime_format, keep_date_col, date_parser, dayfirst, cache_dates, iterator, chunksize, compression, thousands, decimal, lineterminator, quotechar, quoting, doublequote, escapechar, comment, encoding, encoding_errors, dialect, error_bad_lines, warn_bad_lines, on_bad_lines, delim_whitespace, low_memory, memory_map, float_precision, storage_options)\u001b[0m\n\u001b[0;32m    584\u001b[0m     \u001b[0mkwds\u001b[0m\u001b[1;33m.\u001b[0m\u001b[0mupdate\u001b[0m\u001b[1;33m(\u001b[0m\u001b[0mkwds_defaults\u001b[0m\u001b[1;33m)\u001b[0m\u001b[1;33m\u001b[0m\u001b[1;33m\u001b[0m\u001b[0m\n\u001b[0;32m    585\u001b[0m \u001b[1;33m\u001b[0m\u001b[0m\n\u001b[1;32m--> 586\u001b[1;33m     \u001b[1;32mreturn\u001b[0m \u001b[0m_read\u001b[0m\u001b[1;33m(\u001b[0m\u001b[0mfilepath_or_buffer\u001b[0m\u001b[1;33m,\u001b[0m \u001b[0mkwds\u001b[0m\u001b[1;33m)\u001b[0m\u001b[1;33m\u001b[0m\u001b[1;33m\u001b[0m\u001b[0m\n\u001b[0m\u001b[0;32m    587\u001b[0m \u001b[1;33m\u001b[0m\u001b[0m\n\u001b[0;32m    588\u001b[0m \u001b[1;33m\u001b[0m\u001b[0m\n",
      "\u001b[1;32m~\\anaconda3\\lib\\site-packages\\pandas\\io\\parsers\\readers.py\u001b[0m in \u001b[0;36m_read\u001b[1;34m(filepath_or_buffer, kwds)\u001b[0m\n\u001b[0;32m    480\u001b[0m \u001b[1;33m\u001b[0m\u001b[0m\n\u001b[0;32m    481\u001b[0m     \u001b[1;31m# Create the parser.\u001b[0m\u001b[1;33m\u001b[0m\u001b[1;33m\u001b[0m\u001b[0m\n\u001b[1;32m--> 482\u001b[1;33m     \u001b[0mparser\u001b[0m \u001b[1;33m=\u001b[0m \u001b[0mTextFileReader\u001b[0m\u001b[1;33m(\u001b[0m\u001b[0mfilepath_or_buffer\u001b[0m\u001b[1;33m,\u001b[0m \u001b[1;33m**\u001b[0m\u001b[0mkwds\u001b[0m\u001b[1;33m)\u001b[0m\u001b[1;33m\u001b[0m\u001b[1;33m\u001b[0m\u001b[0m\n\u001b[0m\u001b[0;32m    483\u001b[0m \u001b[1;33m\u001b[0m\u001b[0m\n\u001b[0;32m    484\u001b[0m     \u001b[1;32mif\u001b[0m \u001b[0mchunksize\u001b[0m \u001b[1;32mor\u001b[0m \u001b[0miterator\u001b[0m\u001b[1;33m:\u001b[0m\u001b[1;33m\u001b[0m\u001b[1;33m\u001b[0m\u001b[0m\n",
      "\u001b[1;32m~\\anaconda3\\lib\\site-packages\\pandas\\io\\parsers\\readers.py\u001b[0m in \u001b[0;36m__init__\u001b[1;34m(self, f, engine, **kwds)\u001b[0m\n\u001b[0;32m    809\u001b[0m             \u001b[0mself\u001b[0m\u001b[1;33m.\u001b[0m\u001b[0moptions\u001b[0m\u001b[1;33m[\u001b[0m\u001b[1;34m\"has_index_names\"\u001b[0m\u001b[1;33m]\u001b[0m \u001b[1;33m=\u001b[0m \u001b[0mkwds\u001b[0m\u001b[1;33m[\u001b[0m\u001b[1;34m\"has_index_names\"\u001b[0m\u001b[1;33m]\u001b[0m\u001b[1;33m\u001b[0m\u001b[1;33m\u001b[0m\u001b[0m\n\u001b[0;32m    810\u001b[0m \u001b[1;33m\u001b[0m\u001b[0m\n\u001b[1;32m--> 811\u001b[1;33m         \u001b[0mself\u001b[0m\u001b[1;33m.\u001b[0m\u001b[0m_engine\u001b[0m \u001b[1;33m=\u001b[0m \u001b[0mself\u001b[0m\u001b[1;33m.\u001b[0m\u001b[0m_make_engine\u001b[0m\u001b[1;33m(\u001b[0m\u001b[0mself\u001b[0m\u001b[1;33m.\u001b[0m\u001b[0mengine\u001b[0m\u001b[1;33m)\u001b[0m\u001b[1;33m\u001b[0m\u001b[1;33m\u001b[0m\u001b[0m\n\u001b[0m\u001b[0;32m    812\u001b[0m \u001b[1;33m\u001b[0m\u001b[0m\n\u001b[0;32m    813\u001b[0m     \u001b[1;32mdef\u001b[0m \u001b[0mclose\u001b[0m\u001b[1;33m(\u001b[0m\u001b[0mself\u001b[0m\u001b[1;33m)\u001b[0m\u001b[1;33m:\u001b[0m\u001b[1;33m\u001b[0m\u001b[1;33m\u001b[0m\u001b[0m\n",
      "\u001b[1;32m~\\anaconda3\\lib\\site-packages\\pandas\\io\\parsers\\readers.py\u001b[0m in \u001b[0;36m_make_engine\u001b[1;34m(self, engine)\u001b[0m\n\u001b[0;32m   1038\u001b[0m             )\n\u001b[0;32m   1039\u001b[0m         \u001b[1;31m# error: Too many arguments for \"ParserBase\"\u001b[0m\u001b[1;33m\u001b[0m\u001b[1;33m\u001b[0m\u001b[0m\n\u001b[1;32m-> 1040\u001b[1;33m         \u001b[1;32mreturn\u001b[0m \u001b[0mmapping\u001b[0m\u001b[1;33m[\u001b[0m\u001b[0mengine\u001b[0m\u001b[1;33m]\u001b[0m\u001b[1;33m(\u001b[0m\u001b[0mself\u001b[0m\u001b[1;33m.\u001b[0m\u001b[0mf\u001b[0m\u001b[1;33m,\u001b[0m \u001b[1;33m**\u001b[0m\u001b[0mself\u001b[0m\u001b[1;33m.\u001b[0m\u001b[0moptions\u001b[0m\u001b[1;33m)\u001b[0m  \u001b[1;31m# type: ignore[call-arg]\u001b[0m\u001b[1;33m\u001b[0m\u001b[1;33m\u001b[0m\u001b[0m\n\u001b[0m\u001b[0;32m   1041\u001b[0m \u001b[1;33m\u001b[0m\u001b[0m\n\u001b[0;32m   1042\u001b[0m     \u001b[1;32mdef\u001b[0m \u001b[0m_failover_to_python\u001b[0m\u001b[1;33m(\u001b[0m\u001b[0mself\u001b[0m\u001b[1;33m)\u001b[0m\u001b[1;33m:\u001b[0m\u001b[1;33m\u001b[0m\u001b[1;33m\u001b[0m\u001b[0m\n",
      "\u001b[1;32m~\\anaconda3\\lib\\site-packages\\pandas\\io\\parsers\\c_parser_wrapper.py\u001b[0m in \u001b[0;36m__init__\u001b[1;34m(self, src, **kwds)\u001b[0m\n\u001b[0;32m     49\u001b[0m \u001b[1;33m\u001b[0m\u001b[0m\n\u001b[0;32m     50\u001b[0m         \u001b[1;31m# open handles\u001b[0m\u001b[1;33m\u001b[0m\u001b[1;33m\u001b[0m\u001b[0m\n\u001b[1;32m---> 51\u001b[1;33m         \u001b[0mself\u001b[0m\u001b[1;33m.\u001b[0m\u001b[0m_open_handles\u001b[0m\u001b[1;33m(\u001b[0m\u001b[0msrc\u001b[0m\u001b[1;33m,\u001b[0m \u001b[0mkwds\u001b[0m\u001b[1;33m)\u001b[0m\u001b[1;33m\u001b[0m\u001b[1;33m\u001b[0m\u001b[0m\n\u001b[0m\u001b[0;32m     52\u001b[0m         \u001b[1;32massert\u001b[0m \u001b[0mself\u001b[0m\u001b[1;33m.\u001b[0m\u001b[0mhandles\u001b[0m \u001b[1;32mis\u001b[0m \u001b[1;32mnot\u001b[0m \u001b[1;32mNone\u001b[0m\u001b[1;33m\u001b[0m\u001b[1;33m\u001b[0m\u001b[0m\n\u001b[0;32m     53\u001b[0m \u001b[1;33m\u001b[0m\u001b[0m\n",
      "\u001b[1;32m~\\anaconda3\\lib\\site-packages\\pandas\\io\\parsers\\base_parser.py\u001b[0m in \u001b[0;36m_open_handles\u001b[1;34m(self, src, kwds)\u001b[0m\n\u001b[0;32m    220\u001b[0m         \u001b[0mLet\u001b[0m \u001b[0mthe\u001b[0m \u001b[0mreaders\u001b[0m \u001b[0mopen\u001b[0m \u001b[0mIOHandles\u001b[0m \u001b[0mafter\u001b[0m \u001b[0mthey\u001b[0m \u001b[0mare\u001b[0m \u001b[0mdone\u001b[0m \u001b[1;32mwith\u001b[0m \u001b[0mtheir\u001b[0m \u001b[0mpotential\u001b[0m \u001b[0mraises\u001b[0m\u001b[1;33m.\u001b[0m\u001b[1;33m\u001b[0m\u001b[1;33m\u001b[0m\u001b[0m\n\u001b[0;32m    221\u001b[0m         \"\"\"\n\u001b[1;32m--> 222\u001b[1;33m         self.handles = get_handle(\n\u001b[0m\u001b[0;32m    223\u001b[0m             \u001b[0msrc\u001b[0m\u001b[1;33m,\u001b[0m\u001b[1;33m\u001b[0m\u001b[1;33m\u001b[0m\u001b[0m\n\u001b[0;32m    224\u001b[0m             \u001b[1;34m\"r\"\u001b[0m\u001b[1;33m,\u001b[0m\u001b[1;33m\u001b[0m\u001b[1;33m\u001b[0m\u001b[0m\n",
      "\u001b[1;32m~\\anaconda3\\lib\\site-packages\\pandas\\io\\common.py\u001b[0m in \u001b[0;36mget_handle\u001b[1;34m(path_or_buf, mode, encoding, compression, memory_map, is_text, errors, storage_options)\u001b[0m\n\u001b[0;32m    700\u001b[0m         \u001b[1;32mif\u001b[0m \u001b[0mioargs\u001b[0m\u001b[1;33m.\u001b[0m\u001b[0mencoding\u001b[0m \u001b[1;32mand\u001b[0m \u001b[1;34m\"b\"\u001b[0m \u001b[1;32mnot\u001b[0m \u001b[1;32min\u001b[0m \u001b[0mioargs\u001b[0m\u001b[1;33m.\u001b[0m\u001b[0mmode\u001b[0m\u001b[1;33m:\u001b[0m\u001b[1;33m\u001b[0m\u001b[1;33m\u001b[0m\u001b[0m\n\u001b[0;32m    701\u001b[0m             \u001b[1;31m# Encoding\u001b[0m\u001b[1;33m\u001b[0m\u001b[1;33m\u001b[0m\u001b[0m\n\u001b[1;32m--> 702\u001b[1;33m             handle = open(\n\u001b[0m\u001b[0;32m    703\u001b[0m                 \u001b[0mhandle\u001b[0m\u001b[1;33m,\u001b[0m\u001b[1;33m\u001b[0m\u001b[1;33m\u001b[0m\u001b[0m\n\u001b[0;32m    704\u001b[0m                 \u001b[0mioargs\u001b[0m\u001b[1;33m.\u001b[0m\u001b[0mmode\u001b[0m\u001b[1;33m,\u001b[0m\u001b[1;33m\u001b[0m\u001b[1;33m\u001b[0m\u001b[0m\n",
      "\u001b[1;31mFileNotFoundError\u001b[0m: [Errno 2] No such file or directory: '../datasets/netflix_titles.csv'"
     ]
    }
   ],
   "source": [
    "import pandas as pd\n",
    "donnees=pd.read_csv(\"../datasets/netflix_titles.csv\", index_col=[0])\n",
    "donnees[\"listed_in\"].head()"
   ]
  },
  {
   "cell_type": "markdown",
   "metadata": {},
   "source": [
    "On constate bien que chaque contenu peut appartenir à une ou plusieurs catégories. Dans le cas où il appartient à plusieurs catégories, celles-ci sont séparées par une virgule et un espace \", \". Nous devons splitter ces catégories pour pouvoir les étudier, sinon Python considèrera \"Children & Family Movies, Comedies\" comme une unique catégorie, alors qu'en réalité il y en a 2 ici : \"Children & Family Movies\" et \"Comedies\"."
   ]
  },
  {
   "cell_type": "markdown",
   "metadata": {},
   "source": [
    "Pour faire ça, nous allons voir une méthode Pandas non introduite dans le cours, mais que vous connaissez peut-être si vous travaillez déjà avec Python, car cette méthode existe plus généralement en Python. Il s'agit de la méthode join() qui permet de joindre tous les éléments d'un tuple, d'une liste ou même d'une série, selon un caractère de séparation que nous lui donnons. Pour illustrer ce propos, utilisons la fonction join sur la colonne \"listed_in\" de notre dataframe \"donnees\" et joignons l'ensemble des éléments de la colonne avec comme séparateur \", \" (une virgule et un espace)."
   ]
  },
  {
   "cell_type": "code",
   "execution_count": 26,
   "metadata": {},
   "outputs": [
    {
     "data": {
      "text/plain": [
       "\"Children & Family Movies, Comedies, Stand-Up Comedy, Kids' TV, Kids' TV, Comedies, Crime TV Shows, International TV Shows, Spanish-Language TV Shows, International Movies, Sci-Fi & Fantasy, Thrillers, Stand-Up Comedy, Docuseries, Science & Nature TV, Action & Adventure, Thrillers, Stand-Up Comedy, Action & Adventure, Dramas, International Movies, Children & Family Movies, Children & Family Movies, Children & Family Movies, Children & Family Movies, Children & Family Movies, Children & Family Movies, Children & Family Movies, Cult Movies, Dramas, Independent Movies, Comedies, Independent Movies, Romantic Movies, Action & Adventure, Comedies, International Movies, Documentaries, Horror Movies, Thrillers, Dramas, Independent Movies, Dramas, Independent Movies, Romantic Movies, International TV Shows, Romantic TV Shows, TV Comedies, Documentaries, Docuseries, Horror Movies, International Movies, Children & Family Movies, Comedies, Sci-Fi & Fantasy, Comedies, Romantic Movies, Dramas, International Movies, Thrillers, Dramas, Independent Movies, International Movies, Kids' TV, TV Comedies, Dramas, International Movies, Thrillers, Comedies, Dramas, Independent Movies, Comedies, International Movies, Comedies, International Movies, Romantic Movies, International TV Shows, TV Dramas, TV Thrillers, Action & Adventure, Comedies, Independent Movies, Comedies, Dramas, International Movies, Dramas, Independent Movies, Documentaries, Documentaries, Comedies, International Movies, Romantic Movies, Comedies, International Movies, Romantic Movies, Comedies, International Movies, Romantic Movies, Dramas, International Movies, Romantic Movies, Horror Movies, International Movies, Horror Movies, International Movies, Comedies, International Movies, Comedies, Dramas, Stand-Up Comedy, Romantic TV Shows, TV Comedies, TV Dramas, Dramas, Independent Movies, International Movies, Horror Movies, Dramas, Romantic Movies, Comedies, Dramas, International Movies, Action & Adventure, Sci-Fi & Fantasy, Comedies, International Movies, Romantic Movies, Crime TV Shows, TV Dramas, TV Mysteries, Stand-Up Comedy, TV Comedies, Kids' TV, Children & Family Movies, Dramas, Docuseries, Docuseries, Docuseries, Docuseries, Kids' TV, TV Comedies, Dramas, International Movies, British TV Shows, Docuseries, International TV Shows, Documentaries, International TV Shows, Romantic TV Shows, TV Dramas, Action & Adventure, Action & Adventure, International Movies, Dramas, Independent Movies, International Movies, Horror Movies, Thrillers, Documentaries, International TV Shows, TV Comedies, TV Dramas, Dramas, Romantic Movies, Documentaries, International Movies, British TV Shows, Docuseries, International TV Shows, International TV Shows, TV Dramas, Children & Family Movies, Music & Musicals, Documentaries, International Movies, International Movies, Thrillers, Dramas, International Movies, Dramas, International Movies, Action & Adventure, International Movies, Sci-Fi & Fantasy, Action & Adventure, Dramas, Documentaries, International TV Shows, Reality TV, Spanish-Language TV Shows, Comedies, International Movies, Romantic Movies, Horror Movies, International Movies, Dramas, International Movies, Romantic Movies, Documentaries, International Movies, Documentaries, International TV Shows, TV Action & Adventure, TV Dramas, Comedies, International Movies, Kids' TV, TV Comedies, Dramas, Sci-Fi & Fantasy, Thrillers, Crime TV Shows, International TV Shows, TV Dramas, Anime Features, Music & Musicals, Sci-Fi & Fantasy, TV Comedies, TV Dramas, Teen TV Shows, Dramas, Independent Movies, International Movies, Dramas, Independent Movies, International Movies, Children & Family Movies, Dramas, Faith & Spirituality, International Movies, Romantic Movies, Action & Adventure, Dramas, International Movies, Crime TV Shows, International TV Shows, Spanish-Language TV Shows, Action & Adventure, Stand-Up Comedy, Documentaries, Documentaries, Documentaries, International Movies, Action & Adventure, Dramas, International Movies, Children & Family Movies, Comedies, Comedies, International Movies, Music & Musicals, Comedies, International Movies, Music & Musicals, Action & Adventure, Children & Family Movies, Documentaries, Comedies, Independent Movies, Thrillers, Action & Adventure, Stand-Up Comedy, Action & Adventure, International Movies, Comedies, International Movies, Comedies, Horror Movies, International Movies, Comedies, Dramas, International Movies, Kids' TV, TV Comedies, Comedies, Independent Movies, Romantic Movies, Documentaries, Stand-Up Comedy, TV Comedies, TV Dramas, Dramas, Independent Movies, International Movies, Documentaries, Music & Musicals, Independent Movies, International Movies, Thrillers, Documentaries, Music & Musicals, Dramas, Independent Movies, Thrillers, Comedies, Dramas, International Movies, Comedies, International Movies, Dramas, International Movies, Comedies, International Movies, Romantic Movies, International TV Shows, Korean TV Shows, TV Action & Adventure, Reality TV, Science & Nature TV, TV Action & Adventure, Anime Series, International TV Shows, Kids' TV, TV Comedies, TV Dramas, TV Mysteries, Documentaries, Music & Musicals, Stand-Up Comedy, Crime TV Shows, TV Comedies, TV Dramas, Comedies, Crime TV Shows, International TV Shows, TV Dramas, Crime TV Shows, International TV Shows, TV Dramas, Crime TV Shows, International TV Shows, Spanish-Language TV Shows, British TV Shows, Crime TV Shows, International TV Shows, Dramas, Independent Movies, LGBTQ Movies, Docuseries, Science & Nature TV, International TV Shows, TV Comedies, TV Dramas, Comedies, International Movies, Children & Family Movies, TV Horror, Teen TV Shows, Dramas, International Movies, Anime Series, International TV Shows, Action & Adventure, Dramas, International Movies, Dramas, Independent Movies, Documentaries, Crime TV Shows, International TV Shows, TV Action & Adventure, Action & Adventure, Comedies, International Movies, Comedies, Dramas, International Movies, Dramas, Thrillers, Docuseries, Kids' TV, Dramas, International Movies, Dramas, International Movies, Romantic Movies, Documentaries, International Movies, Independent Movies, Sci-Fi & Fantasy, Thrillers, Kids' TV, Stand-Up Comedy, Crime TV Shows, TV Dramas, TV Mysteries, Stand-Up Comedy, Stand-Up Comedy, Stand-Up Comedy, Stand-Up Comedy, Stand-Up Comedy, Stand-Up Comedy, Dramas, Thrillers, International TV Shows, Korean TV Shows, Romantic TV Shows, Comedies, Children & Family Movies, International TV Shows, TV Dramas, International TV Shows, TV Dramas, International TV Shows, TV Dramas, Documentaries, Music & Musicals, Horror Movies, Independent Movies, Docuseries, Science & Nature TV, Action & Adventure, Documentaries, Music & Musicals, Action & Adventure, International Movies, Stand-Up Comedy, Kids' TV, TV Comedies, Horror Movies, Independent Movies, British TV Shows, Crime TV Shows, Docuseries, Action & Adventure, Dramas, Horror Movies, Thrillers, Action & Adventure, Comedies, Cult Movies, International Movies, Sci-Fi & Fantasy, Thrillers, Stand-Up Comedy, Movies, Documentaries, Documentaries, Docuseries, Anime Series, Kids' TV, Crime TV Shows, Docuseries, Documentaries, International Movies, Music & Musicals, Reality TV, Documentaries, Docuseries, Docuseries, Movies, Reality TV, Docuseries, Science & Nature TV, Crime TV Shows, International TV Shows, TV Dramas, Comedies, Dramas, International Movies, British TV Shows, International TV Shows, Reality TV, Dramas, International Movies, Dramas, International Movies, Romantic Movies, Dramas, International Movies, Romantic Movies, Dramas, International Movies, Action & Adventure, Dramas, International Movies, British TV Shows, International TV Shows, Reality TV, British TV Shows, Docuseries, International TV Shows, Documentaries, Dramas, International Movies, Dramas, International Movies, Dramas, International Movies, Dramas, International Movies, Horror Movies, International Movies, Dramas, Dramas, International Movies, Comedies, Dramas, International Movies, Action & Adventure, Action & Adventure, Independent Movies, Documentaries, British TV Shows, Crime TV Shows, TV Dramas, Comedies, Documentaries, Music & Musicals, Docuseries, International TV Shows, Documentaries, Comedies, International Movies, Music & Musicals, Documentaries, International Movies, Dramas, Thrillers, Dramas, International Movies, International TV Shows, Romantic TV Shows, TV Dramas, Action & Adventure, International Movies, Sci-Fi & Fantasy, Docuseries, International TV Shows, Spanish-Language TV Shows, Reality TV, Stand-Up Comedy & Talk Shows, TV Comedies, Horror Movies, International Movies, Kids' TV, Dramas, International Movies, Thrillers, Comedies, Dramas, Independent Movies, International TV Shows, Romantic TV Shows, TV Action & Adventure, Dramas, Thrillers, Horror Movies, Independent Movies, Documentaries, Anime Series, International TV Shows, TV Horror, Comedies, International Movies, International TV Shows, TV Dramas, TV Horror, International TV Shows, Spanish-Language TV Shows, TV Dramas, Dramas, International Movies, Romantic Movies, Children & Family Movies, Comedies, Romantic Movies, Action & Adventure, Sci-Fi & Fantasy, British TV Shows, Crime TV Shows, International TV Shows, Crime TV Shows, TV Dramas, Documentaries, Documentaries, Documentaries, TV Action & Adventure, TV Dramas, TV Sci-Fi & Fantasy, Docuseries, Science & Nature TV, Children & Family Movies, Comedies, International TV Shows, Korean TV Shows, TV Dramas, Dramas, International Movies, Documentaries, Stand-Up Comedy, Stand-Up Comedy & Talk Shows, TV Comedies, Docuseries, Kids' TV, Science & Nature TV, Dramas, International Movies, Horror Movies, Stand-Up Comedy, Dramas, Romantic Movies, Documentaries, International Movies, Documentaries, International Movies, International TV Shows, Reality TV, Thrillers, Comedies, Independent Movies, Thrillers, Comedies, Cult Movies, Dramas, Action & Adventure, Documentaries, International Movies, Action & Adventure, Documentaries, Children & Family Movies, Comedies, Romantic Movies, Kids' TV, Dramas, International Movies, Comedies, Dramas, Dramas, Thrillers, Dramas, International Movies, Thrillers, Dramas, Independent Movies, International Movies, Children & Family Movies, Comedies, Comedies, International Movies, Romantic Movies, Action & Adventure, Dramas, Dramas, Independent Movies, British TV Shows, Crime TV Shows, Docuseries, Children & Family Movies, Classic Movies, Comedies, Cult Movies, Comedies, Cult Movies, Dramas, International Movies, Romantic Movies, Dramas, International Movies, Thrillers, Dramas, Romantic Movies, Sci-Fi & Fantasy, Horror Movies, Independent Movies, Thrillers, Action & Adventure, Romantic Movies, Action & Adventure, Kids' TV, Kids' TV, Comedies, International Movies, Action & Adventure, Comedies, International Movies, Action & Adventure, Comedies, Crime TV Shows, International TV Shows, TV Dramas, Documentaries, International Movies, Sports Movies, Independent Movies, Thrillers, Dramas, International Movies, Thrillers, Horror Movies, Thrillers, Dramas, Independent Movies, International Movies, Children & Family Movies, Comedies, Dramas, Dramas, Independent Movies, International Movies, Dramas, Independent Movies, International Movies, Comedies, Cult Movies, Horror Movies, Dramas, Independent Movies, International Movies, Comedies, Horror Movies, International Movies, International TV Shows, TV Comedies, TV Dramas, Comedies, Independent Movies, International Movies, Dramas, International Movies, Sports Movies, Horror Movies, Horror Movies, Independent Movies, Thrillers, Dramas, Thrillers, Documentaries, International Movies, Sports Movies, Horror Movies, International Movies, Thrillers, Action & Adventure, International TV Shows, TV Dramas, Children & Family Movies, International TV Shows, TV Comedies, TV Dramas, International TV Shows, TV Dramas, TV Horror, Action & Adventure, International Movies, Documentaries, International Movies, International TV Shows, TV Dramas, TV Horror, Action & Adventure, Anime Features, International Movies, Action & Adventure, Anime Features, International Movies, Dramas, Independent Movies, Comedies, International Movies, Romantic Movies, Documentaries, International Movies, Sports Movies, Dramas, International Movies, Music & Musicals, International TV Shows, TV Dramas, Anime Series, International TV Shows, Docuseries, Reality TV, Documentaries, Action & Adventure, Anime Features, International Movies, Action & Adventure, Anime Features, International Movies, Action & Adventure, Anime Features, International Movies, Action & Adventure, International Movies, Kids' TV, Comedies, Horror Movies, Dramas, International Movies, Sports Movies, International TV Shows, TV Comedies, TV Dramas, Comedies, International Movies, Music & Musicals, Action & Adventure, Dramas, International Movies, Action & Adventure, Anime Features, International Movies, Action & Adventure, Anime Features, International Movies, Action & Adventure, Anime Features, International Movies, Action & Adventure, Anime Features, International Movies, Action & Adventure, Anime Features, International Movies, Action & Adventure, Anime Features, International Movies, Action & Adventure, Comedies, International Movies, Documentaries, Sports Movies, Documentaries, International Movies, Classic Movies, Comedies, Independent Movies, Dramas, International Movies, Romantic Movies, Comedies, Dramas, International Movies, Thrillers, Children & Family Movies, Comedies, Documentaries, International Movies, Dramas, International Movies, Kids' TV, Documentaries, International Movies, Documentaries, LGBTQ Movies, Music & Musicals, Dramas, International Movies, Comedies, International Movies, British TV Shows, Docuseries, British TV Shows, TV Horror, TV Thrillers, Dramas, Independent Movies, International Movies, International TV Shows, Romantic TV Shows, TV Comedies, Children & Family Movies, Comedies, Children & Family Movies, Dramas, Sports Movies, International TV Shows, TV Comedies, TV Dramas, Documentaries, International TV Shows, Romantic TV Shows, TV Comedies, Comedies, International Movies, Documentaries, International TV Shows, TV Comedies, TV Dramas, International TV Shows, Romantic TV Shows, TV Dramas, International TV Shows, Romantic TV Shows, TV Comedies, International TV Shows, Romantic TV Shows, TV Comedies, Comedies, International Movies, Romantic Movies, British TV Shows, Crime TV Shows, Docuseries, Stand-Up Comedy, Dramas, Romantic Movies, Dramas, Thrillers, Reality TV, Children & Family Movies, Dramas, Sports Movies, Stand-Up Comedy, Dramas, International Movies, Romantic Movies, Documentaries, International Movies, Stand-Up Comedy, Children & Family Movies, Comedies, Action & Adventure, Dramas, International Movies, Dramas, International Movies, Documentaries, Music & Musicals, Documentaries, Stand-Up Comedy, Kids' TV, Action & Adventure, Dramas, International Movies, Dramas, International Movies, Romantic Movies, Comedies, Dramas, International Movies, Horror Movies, Anime Series, International TV Shows, Action & Adventure, Comedies, International Movies, Documentaries, LGBTQ Movies, Kids' TV, International TV Shows, Korean TV Shows, TV Action & Adventure, Dramas, Independent Movies, International Movies, Dramas, International Movies, Sports Movies, Reality TV, Dramas, International Movies, Docuseries, Anime Series, International TV Shows, Horror Movies, Thrillers, Comedies, Dramas, Independent Movies, Children & Family Movies, International TV Shows, Korean TV Shows, TV Comedies, Documentaries, Comedies, International Movies, Romantic Movies, Horror Movies, Thrillers, Children & Family Movies, Comedies, Kids' TV, TV Action & Adventure, TV Dramas, Children & Family Movies, Dramas, Thrillers, Dramas, International Movies, Horror Movies, Thrillers, Anime Series, International TV Shows, Romantic TV Shows, Children & Family Movies, Comedies, Stand-Up Comedy, Crime TV Shows, International TV Shows, TV Action & Adventure, Crime TV Shows, International TV Shows, TV Dramas, Dramas, International Movies, Thrillers, Dramas, International Movies, Stand-Up Comedy, Documentaries, International TV Shows, Reality TV, Horror Movies, International TV Shows, Korean TV Shows, Romantic TV Shows, Dramas, International Movies, Romantic Movies, International TV Shows, Korean TV Shows, Romantic TV Shows, Crime TV Shows, International TV Shows, TV Dramas, Dramas, Independent Movies, International Movies, Dramas, International Movies, Dramas, Independent Movies, International Movies, Stand-Up Comedy & Talk Shows, TV Comedies, Dramas, International Movies, Dramas, Romantic Movies, Sports Movies, Documentaries, Anime Series, Crime TV Shows, Children & Family Movies, Dramas, International Movies, Horror Movies, Horror Movies, Stand-Up Comedy, Action & Adventure, Stand-Up Comedy, Docuseries, Documentaries, International Movies, Dramas, Children & Family Movies, Comedies, Documentaries, International Movies, Documentaries, International Movies, Sports Movies, Dramas, Romantic Movies, Sci-Fi & Fantasy, Children & Family Movies, Comedies, Horror Movies, International Movies, Thrillers, Documentaries, Comedies, Dramas, International Movies, Comedies, International Movies, International TV Shows, TV Comedies, Comedies, Dramas, International Movies, International TV Shows, Romantic TV Shows, Teen TV Shows, Horror Movies, Thrillers, Action & Adventure, International Movies, Stand-Up Comedy & Talk Shows, TV Mysteries, TV Sci-Fi & Fantasy, Documentaries, Dramas, International Movies, Comedies, Dramas, Independent Movies, International TV Shows, Romantic TV Shows, Teen TV Shows, Dramas, Sports Movies, Dramas, International Movies, Music & Musicals, Dramas, International Movies, Action & Adventure, Sci-Fi & Fantasy, Comedies, Dramas, International Movies, Comedies, International Movies, Romantic Movies, Documentaries, Crime TV Shows, Docuseries, International TV Shows, Dramas, International Movies, Thrillers, Dramas, Independent Movies, Dramas, International Movies, Horror Movies, Sci-Fi & Fantasy, Thrillers, Crime TV Shows, International TV Shows, TV Dramas, Dramas, International Movies, Thrillers, Comedies, Dramas, Crime TV Shows, International TV Shows, Spanish-Language TV Shows, Documentaries, Crime TV Shows, International TV Shows, Spanish-Language TV Shows, International Movies, International TV Shows, Reality TV, International TV Shows, Reality TV, Spanish-Language TV Shows, Reality TV, TV Comedies, TV Horror, Horror Movies, Independent Movies, Thrillers, Comedies, Dramas, International Movies, International TV Shows, TV Action & Adventure, TV Mysteries, Kids' TV, TV Comedies, Stand-Up Comedy & Talk Shows, TV Comedies, Documentaries, Documentaries, Action & Adventure, Thrillers, Children & Family Movies, TV Action & Adventure, TV Comedies, TV Horror, Documentaries, Music & Musicals, Horror Movies, International Movies, Action & Adventure, Dramas, International Movies, British TV Shows, Crime TV Shows, International TV Shows, Stand-Up Comedy, TV Dramas, TV Horror, TV Mysteries, Documentaries, Kids' TV, TV Comedies, Action & Adventure, Dramas, Docuseries, Documentaries, Action & Adventure, International Movies, Stand-Up Comedy, International TV Shows, Romantic TV Shows, TV Dramas, Action & Adventure, Sci-Fi & Fantasy, Comedies, Dramas, Independent Movies, Action & Adventure, Independent Movies, Comedies, Dramas, Independent Movies, Documentaries, Stand-Up Comedy, Cult Movies, Horror Movies, Independent Movies, Action & Adventure, Dramas, Independent Movies, International Movies, Documentaries, Dramas, International Movies, Dramas, International Movies, Thrillers, International Movies, Music & Musicals, Romantic Movies, Dramas, International Movies, Music & Musicals, International Movies, Music & Musicals, Romantic Movies, Dramas, International Movies, Sports Movies, Comedies, International Movies, Romantic Movies, Comedies, Independent Movies, Action & Adventure, Comedies, Independent Movies, Children & Family Movies, Dramas, International Movies, Crime TV Shows, International TV Shows, TV Dramas, TV Dramas, TV Thrillers, Stand-Up Comedy, Stand-Up Comedy, Comedies, International Movies, Romantic Movies, Dramas, Faith & Spirituality, Dramas, Thrillers, Documentaries, Documentaries, Crime TV Shows, Docuseries, International TV Shows, Action & Adventure, Reality TV, British TV Shows, Docuseries, International TV Shows, International TV Shows, Reality TV, Crime TV Shows, Docuseries, International TV Shows, British TV Shows, Reality TV, Reality TV, British TV Shows, Docuseries, International TV Shows, British TV Shows, International TV Shows, Reality TV, Reality TV, Docuseries, Comedies, International Movies, Romantic Movies, Documentaries, Action & Adventure, Comedies, Music & Musicals, Stand-Up Comedy, British TV Shows, Docuseries, TV Comedies, Documentaries, Comedies, Comedies, Documentaries, Comedies, Documentaries, Comedies, Documentaries, British TV Shows, Docuseries, International TV Shows, TV Comedies, Classic Movies, Comedies, Cult Movies, British TV Shows, TV Comedies, Comedies, Documentaries, Comedies, Dramas, Independent Movies, Stand-Up Comedy, Children & Family Movies, Comedies, Action & Adventure, Comedies, Sci-Fi & Fantasy, Comedies, Dramas, International Movies, Dramas, International Movies, Thrillers, International TV Shows, Romantic TV Shows, TV Comedies, Docuseries, International TV Shows, Science & Nature TV, Kids' TV, TV Comedies, Movies, Movies, Children & Family Movies, Comedies, Action & Adventure, International Movies, Sci-Fi & Fantasy, Dramas, International Movies, Movies, Action & Adventure, International Movies, Dramas, Faith & Spirituality, Dramas, Faith & Spirituality, Dramas, Faith & Spirituality, Action & Adventure, International Movies, British TV Shows, International TV Shows, Romantic TV Shows, Comedies, International Movies, Romantic Movies, Comedies, International Movies, Romantic Movies, Dramas, International Movies, Thrillers, Horror Movies, Dramas, International Movies, British TV Shows, International TV Shows, Reality TV, TV Comedies, TV Dramas, Comedies, International Movies, Romantic Movies, Kids' TV, TV Comedies, Kids' TV, Korean TV Shows, Dramas, International Movies, Comedies, Dramas, International Movies, Action & Adventure, Dramas, International Movies, Documentaries, Comedies, Dramas, Docuseries, Science & Nature TV, Dramas, International Movies, Comedies, Dramas, International Movies, Dramas, Faith & Spirituality, International Movies, Dramas, International Movies, Thrillers, Children & Family Movies, Documentaries, International Movies, Children & Family Movies, Dramas, Kids' TV, TV Thrillers, Children & Family Movies, Comedies, Stand-Up Comedy, International TV Shows, Korean TV Shows, Romantic TV Shows, Documentaries, Documentaries, Stand-Up Comedy, International TV Shows, Korean TV Shows, Romantic TV Shows, Horror Movies, Documentaries, Sports Movies, Stand-Up Comedy, Action & Adventure, International Movies, Dramas, Thrillers, International TV Shows, TV Dramas, International TV Shows, Romantic TV Shows, TV Dramas, International TV Shows, TV Dramas, International TV Shows, Romantic TV Shows, TV Comedies, Dramas, International Movies, Music & Musicals, Documentaries, International Movies, Stand-Up Comedy, Dramas, Independent Movies, Dramas, Independent Movies, Sci-Fi & Fantasy, Crime TV Shows, International TV Shows, TV Dramas, Dramas, Thrillers, Dramas, Independent Movies, International Movies, Docuseries, International TV Shows, Science & Nature TV, Kids' TV, International TV Shows, Dramas, International Movies, Dramas, International Movies, British TV Shows, International TV Shows, Reality TV, International Movies, Thrillers, Dramas, Independent Movies, International Movies, Dramas, International Movies, Thrillers, Documentaries, International Movies, Dramas, International Movies, Dramas, International Movies, Documentaries, International Movies, Dramas, Independent Movies, International Movies, Kids' TV, TV Comedies, Dramas, Independent Movies, International Movies, Horror Movies, International Movies, Thrillers, Dramas, International Movies, Music & Musicals, Dramas, Independent Movies, International Movies, Action & Adventure, Comedies, International Movies, Kids' TV, Comedies, Dramas, International Movies, Comedies, International Movies, Romantic Movies, Action & Adventure, International Movies, Romantic Movies, Comedies, International Movies, Romantic Movies, Dramas, International Movies, Action & Adventure, Dramas, International Movies, Documentaries, Comedies, International Movies, Sports Movies, Action & Adventure, Anime Features, International Movies, Action & Adventure, Anime Features, Sci-Fi & Fantasy, Action & Adventure, Anime Features, Sci-Fi & Fantasy, Comedies, International Movies, Romantic Movies, Anime Series, Crime TV Shows, International TV Shows, Action & Adventure, Anime Features, International Movies, Action & Adventure, Anime Features, International Movies, Kids' TV, Crime TV Shows, International TV Shows, TV Dramas, Stand-Up Comedy, Comedies, International Movies, Romantic Movies, Documentaries, Dramas, International Movies, Thrillers, Docuseries, Stand-Up Comedy & Talk Shows, Stand-Up Comedy, Dramas, International Movies, Crime TV Shows, International TV Shows, Korean TV Shows, Dramas, International Movies, Sports Movies, International TV Shows, TV Dramas, Comedies, Dramas, International Movies, Dramas, International Movies, Stand-Up Comedy, Documentaries, Comedies, Horror Movies, Comedies, Dramas, Independent Movies, Comedies, Horror Movies, International Movies, Thrillers, Crime TV Shows, International TV Shows, TV Dramas, Horror Movies, International Movies, Sci-Fi & Fantasy, Documentaries, LGBTQ Movies, Docuseries, Horror Movies, International Movies, Documentaries, Music & Musicals, TV Comedies, TV Mysteries, TV Dramas, TV Horror, TV Mysteries, Dramas, Independent Movies, Comedies, International Movies, Romantic Movies, Comedies, Independent Movies, International Movies, Music & Musicals, Children & Family Movies, Sci-Fi & Fantasy, Comedies, International Movies, Romantic Movies, Dramas, Thrillers, Thrillers, Dramas, International Movies, Dramas, International Movies, Thrillers, Horror Movies, International Movies, Dramas, International Movies, Crime TV Shows, International TV Shows, TV Dramas, Docuseries, Dramas, Independent Movies, International Movies, Anime Series, Kids' TV, International Movies, Music & Musicals, Anime Series, International TV Shows, Dramas, Thrillers, Crime TV Shows, International TV Shows, TV Dramas, Cult Movies, Horror Movies, Independent Movies, Stand-Up Comedy, British TV Shows, Docuseries, Science & Nature TV, British TV Shows, Docuseries, International TV Shows, Stand-Up Comedy, Dramas, International Movies, Horror Movies, Thrillers, Children & Family Movies, Action & Adventure, Comedies, Action & Adventure, Comedies, Dramas, Cult Movies, Horror Movies, Action & Adventure, Comedies, Action & Adventure, Comedies, International TV Shows, Korean TV Shows, Romantic TV Shows, International TV Shows, Korean TV Shows, Romantic TV Shows, International TV Shows, Romantic TV Shows, TV Comedies, Dramas, Independent Movies, Comedies, Children & Family Movies, Sci-Fi & Fantasy, International TV Shows, TV Comedies, Comedies, Dramas, Independent Movies, Action & Adventure, Dramas, International Movies, Romantic Movies, International TV Shows, TV Comedies, TV Dramas, Children & Family Movies, Comedies, Comedies, Romantic Movies, Comedies, Cult Movies, Dramas, Romantic Movies, Classic Movies, Dramas, International Movies, Horror Movies, International TV Shows, TV Comedies, Dramas, International Movies, Romantic Movies, Sci-Fi & Fantasy, Thrillers, Documentaries, International Movies, Sports Movies, Children & Family Movies, Horror Movies, International Movies, Thrillers, Action & Adventure, Comedies, Sci-Fi & Fantasy, Kids' TV, Korean TV Shows, Stand-Up Comedy, Comedies, Romantic Movies, Action & Adventure, Comedies, Action & Adventure, Comedies, Documentaries, Music & Musicals, Classic Movies, Dramas, Sports Movies, Children & Family Movies, Comedies, Horror Movies, Documentaries, International Movies, Sports Movies, Crime TV Shows, International TV Shows, Korean TV Shows, Action & Adventure, Horror Movies, International Movies, Action & Adventure, Sci-Fi & Fantasy, Action & Adventure, Sci-Fi & Fantasy, Children & Family Movies, Comedies, Sports Movies, Action & Adventure, Comedies, Romantic Movies, Comedies, Dramas, Comedies, Cult Movies, International Movies, Horror Movies, International Movies, Thrillers, Children & Family Movies, Comedies, Children & Family Movies, Comedies, Romantic Movies, International TV Shows, Korean TV Shows, Romantic TV Shows, International TV Shows, Korean TV Shows, Romantic TV Shows, Dramas, International Movies, Dramas, Children & Family Movies, Comedies, Dramas, Independent Movies, International Movies, Comedies, Dramas, Independent Movies, Dramas, Romantic Movies, Sci-Fi & Fantasy, Comedies, Cult Movies, Dramas, Action & Adventure, Dramas, Crime TV Shows, International TV Shows, Korean TV Shows, Children & Family Movies, Comedies, Dramas, Independent Movies, Thrillers, Dramas, International Movies, Classic Movies, Dramas, International Movies, Action & Adventure, Dramas, International Movies, Children & Family Movies, Horror Movies, International Movies, Action & Adventure, Dramas, International Movies, Dramas, International Movies, Sports Movies, Dramas, Thrillers, Dramas, British TV Shows, Docuseries, Dramas, International Movies, Dramas, International Movies, Romantic Movies, International Movies, Music & Musicals, Romantic Movies, Dramas, International Movies, British TV Shows, Docuseries, Science & Nature TV, Comedies, International Movies, Romantic Movies, Documentaries, Dramas, International Movies, Thrillers, Dramas, International Movies, Music & Musicals, Comedies, International Movies, Music & Musicals, Dramas, International Movies, Romantic TV Shows, TV Comedies, Action & Adventure, Comedies, International Movies, Comedies, Dramas, International Movies, Action & Adventure, Dramas, International Movies, Comedies, Dramas, International Movies, Dramas, International Movies, Music & Musicals, Stand-Up Comedy, Stand-Up Comedy, Dramas, International Movies, Sports Movies, Comedies, International Movies, Romantic Movies, British TV Shows, Docuseries, Science & Nature TV, Action & Adventure, Dramas, International Movies, Comedies, International Movies, Music & Musicals, International Movies, Thrillers, Dramas, International Movies, Comedies, International Movies, Comedies, International Movies, Romantic Movies, Comedies, Dramas, International Movies, Comedies, International Movies, Action & Adventure, Documentaries, International Movies, Action & Adventure, International Movies, Action & Adventure, International Movies, Comedies, International Movies, Sci-Fi & Fantasy, Children & Family Movies, Children & Family Movies, Comedies, Dramas, Independent Movies, Action & Adventure, Dramas, International Movies, Dramas, International Movies, Romantic Movies, Docuseries, Science & Nature TV, Comedies, International Movies, Music & Musicals, Action & Adventure, Dramas, International Movies, Comedies, Dramas, Independent Movies, Action & Adventure, International Movies, Horror Movies, International Movies, Thrillers, Comedies, International Movies, Music & Musicals, Action & Adventure, International Movies, Music & Musicals, Action & Adventure, International Movies, Music & Musicals, Comedies, Dramas, International Movies, Comedies, Dramas, International Movies, Reality TV, Action & Adventure, International Movies, Music & Musicals, Documentaries, International Movies, Comedies, International Movies, Music & Musicals, British TV Shows, International TV Shows, Reality TV, Action & Adventure, Dramas, International Movies, Dramas, Independent Movies, International Movies, Action & Adventure, Dramas, Sci-Fi & Fantasy, Action & Adventure, International Movies, Music & Musicals, Comedies, International Movies, Romantic Movies, Dramas, International Movies, Comedies, International Movies, Romantic Movies, Comedies, Independent Movies, Romantic Movies, Dramas, International Movies, Romantic Movies, Dramas, International Movies, Thrillers, Action & Adventure, Comedies, International Movies, Children & Family Movies, Children & Family Movies, Children & Family Movies, Children & Family Movies, Children & Family Movies, Children & Family Movies, Children & Family Movies, Children & Family Movies, Children & Family Movies, Children & Family Movies, Anime Series, Kids' TV, Children & Family Movies, British TV Shows, Docuseries, Science & Nature TV, Kids' TV, TV Comedies, Docuseries, Science & Nature TV, Comedies, International Movies, Documentaries, International Movies, Comedies, Dramas, Independent Movies, Documentaries, Sports Movies, Children & Family Movies, Comedies, Docuseries, Science & Nature TV, Documentaries, Sports Movies, Dramas, Faith & Spirituality, Romantic Movies, Documentaries, International Movies, Sports Movies, International TV Shows, TV Dramas, Children & Family Movies, Dramas, Anime Features, Children & Family Movies, Children & Family Movies, Comedies, Dramas, International Movies, British TV Shows, Docuseries, Science & Nature TV, Action & Adventure, Dramas, International Movies, Kids' TV, International TV Shows, Romantic TV Shows, TV Dramas, Crime TV Shows, International TV Shows, TV Dramas, International TV Shows, Romantic TV Shows, TV Dramas, Documentaries, Sports Movies, Dramas, International Movies, Comedies, Dramas, International Movies, Documentaries, International Movies, Music & Musicals, Dramas, Independent Movies, International Movies, Children & Family Movies, International TV Shows, TV Dramas, Dramas, International Movies, International TV Shows, Romantic TV Shows, TV Dramas, International TV Shows, Romantic TV Shows, TV Dramas, Dramas, Dramas, International Movies, British TV Shows, TV Comedies, International TV Shows, Romantic TV Shows, TV Comedies, Dramas, International Movies, International TV Shows, Romantic TV Shows, TV Comedies, Kids' TV, Dramas, Independent Movies, International Movies, International TV Shows, Romantic TV Shows, TV Comedies, Comedies, International Movies, Children & Family Movies, Comedies, International TV Shows, TV Comedies, TV Dramas, Movies, Dramas, International Movies, Anime Series, International TV Shows, Romantic TV Shows, TV Dramas, Dramas, Independent Movies, International Movies, Documentaries, Sports Movies, Comedies, International Movies, International TV Shows, Romantic TV Shows, TV Comedies, Kids' TV, Dramas, Dramas, Dramas, Dramas, Dramas, Sports Movies, Dramas, Dramas, Dramas, Dramas, Sports Movies, Dramas, Dramas, Thrillers, Comedies, International Movies, Romantic Movies, Dramas, Independent Movies, International Movies, Comedies, International Movies, International TV Shows, Romantic TV Shows, TV Dramas, Docuseries, TV Dramas, Action & Adventure, Dramas, International TV Shows, TV Comedies, Crime TV Shows, International TV Shows, Spanish-Language TV Shows, Reality TV, Crime TV Shows, International TV Shows, TV Dramas, British TV Shows, Docuseries, International TV Shows, Kids' TV, TV Action & Adventure, TV Comedies, Action & Adventure, Comedies, Romantic Movies, Comedies, Dramas, LGBTQ Movies, Action & Adventure, Dramas, International Movies, Dramas, Dramas, International Movies, Dramas, Crime TV Shows, International TV Shows, TV Sci-Fi & Fantasy, International Movies, LGBTQ Movies, Romantic Movies, International Movies, LGBTQ Movies, Romantic Movies, Documentaries, International Movies, International Movies, Thrillers, Crime TV Shows, TV Dramas, Dramas, International Movies, Sci-Fi & Fantasy, Dramas, Independent Movies, Documentaries, Kids' TV, TV Comedies, Dramas, Documentaries, International Movies, Dramas, Crime TV Shows, International TV Shows, TV Dramas, Action & Adventure, Dramas, International Movies, Documentaries, Children & Family Movies, Comedies, Stand-Up Comedy, Comedies, Dramas, Independent Movies, Dramas, International Movies, Romantic Movies, Comedies, Crime TV Shows, International TV Shows, TV Dramas, Dramas, International Movies, Stand-Up Comedy, Comedies, Dramas, International Movies, Children & Family Movies, Comedies, Romantic Movies, Comedies, Romantic Movies, Comedies, Romantic Movies, Action & Adventure, International Movies, Sci-Fi & Fantasy, Comedies, Independent Movies, Romantic Movies, Documentaries, Dramas, International Movies, Thrillers, Crime TV Shows, Docuseries, Documentaries, International Movies, Sports Movies, Stand-Up Comedy, International TV Shows, Romantic TV Shows, Spanish-Language TV Shows, Documentaries, International TV Shows, Korean TV Shows, Romantic TV Shows, Documentaries, International Movies, Comedies, Dramas, International Movies, Crime TV Shows, International TV Shows, TV Dramas, Children & Family Movies, Dramas, Romantic Movies, Children & Family Movies, Kids' TV, TV Comedies, Reality TV, Dramas, International Movies, Children & Family Movies, Dramas, Sports Movies, Dramas, Independent Movies, International Movies, Dramas, International Movies, Romantic Movies, International TV Shows, Romantic TV Shows, TV Dramas, Dramas, Independent Movies, International Movies, Comedies, Dramas, International Movies, Action & Adventure, Comedies, International Movies, Dramas, Independent Movies, International Movies, Documentaries, International Movies, Action & Adventure, Children & Family Movies, Comedies, International TV Shows, TV Dramas, Crime TV Shows, International TV Shows, TV Dramas, Dramas, Independent Movies, International Movies, Comedies, International Movies, Thrillers, Dramas, Independent Movies, International Movies, Dramas, International Movies, Comedies, International Movies, Comedies, Independent Movies, International Movies, Reality TV, Action & Adventure, Comedies, International Movies, International TV Shows, Romantic TV Shows, TV Comedies, Dramas, International Movies, Thrillers, Docuseries, Children & Family Movies, Dramas, Anime Series, International TV Shows, International TV Shows, Stand-Up Comedy & Talk Shows, TV Comedies, TV Comedies, International TV Shows, TV Comedies, TV Dramas, Dramas, Thrillers, Action & Adventure, International Movies, Docuseries, Action & Adventure, Dramas, Comedies, International Movies, Romantic Movies, Children & Family Movies, Comedies, Dramas, Independent Movies, Dramas, Stand-Up Comedy & Talk Shows, TV Comedies, Kids' TV, Action & Adventure, International Movies, Comedies, International Movies, Stand-Up Comedy, Children & Family Movies, Movies, International TV Shows, Spanish-Language TV Shows, Stand-Up Comedy & Talk Shows, Crime TV Shows, TV Dramas, TV Mysteries, Action & Adventure, Dramas, International Movies, Documentaries, International Movies, Documentaries, Children & Family Movies, Documentaries, International Movies, Documentaries, International Movies, TV Comedies, TV Dramas, Teen TV Shows, Stand-Up Comedy, Thrillers, Action & Adventure, Children & Family Movies, Comedies, Dramas, Thrillers, Crime TV Shows, International TV Shows, Korean TV Shows, Action & Adventure, Independent Movies, Documentaries, Dramas, Independent Movies, International Movies, International TV Shows, Romantic TV Shows, TV Dramas, International TV Shows, TV Comedies, Children & Family Movies, Classic Movies, Action & Adventure, Action & Adventure, Dramas, International TV Shows, TV Comedies, TV Sci-Fi & Fantasy, Action & Adventure, Sci-Fi & Fantasy, Crime TV Shows, International TV Shows, Spanish-Language TV Shows, TV Shows, Children & Family Movies, Comedies, Dramas, Independent Movies, International Movies, Anime Series, Kids' TV, TV Dramas, Action & Adventure, Anime Features, International Movies, Stand-Up Comedy, Crime TV Shows, Docuseries, International TV Shows, TV Comedies, TV Dramas, Documentaries, Sports Movies, International TV Shows, Reality TV, Children & Family Movies, Comedies, International TV Shows, Korean TV Shows, TV Dramas, Music & Musicals, TV Dramas, Horror Movies, Independent Movies, International Movies, Dramas, Thrillers, Dramas, Independent Movies, International Movies, Action & Adventure, Dramas, Crime TV Shows, International TV Shows, TV Dramas, Children & Family Movies, Comedies, Romantic Movies, Documentaries, International TV Shows, Romantic TV Shows, TV Comedies, Comedies, International Movies, Children & Family Movies, Music & Musicals, Stand-Up Comedy, Documentaries, Dramas, Faith & Spirituality, Stand-Up Comedy, Dramas, Independent Movies, International Movies, International TV Shows, TV Comedies, TV Dramas, Comedies, Dramas, Romantic Movies, Comedies, Cult Movies, Comedies, Documentaries, Dramas, Independent Movies, Horror Movies, Sci-Fi & Fantasy, Thrillers, Dramas, International Movies, Romantic Movies, Documentaries, Comedies, Sci-Fi & Fantasy, Dramas, Thrillers, International TV Shows, TV Dramas, Comedies, Sports Movies, Children & Family Movies, Comedies, Documentaries, International Movies, Sports Movies, Comedies, International Movies, Romantic Movies, Dramas, Independent Movies, International Movies, Action & Adventure, Classic Movies, International Movies, Comedies, Romantic Movies, Comedies, Children & Family Movies, Horror Movies, Thrillers, Comedies, Dramas, Thrillers, Comedies, Classic Movies, Comedies, Sports Movies, Comedies, Sports Movies, Dramas, Thrillers, Classic Movies, Dramas, Independent Movies, Crime TV Shows, Docuseries, International TV Shows, Action & Adventure, Dramas, Comedies, Dramas, Independent Movies, Children & Family Movies, Comedies, Cult Movies, Dramas, Thrillers, Kids' TV, Kids' TV, TV Comedies, Children & Family Movies, Comedies, Horror Movies, International Movies, Comedies, Horror Movies, International Movies, Reality TV, Stand-Up Comedy, Movies, Children & Family Movies, Comedies, Kids' TV, TV Comedies, Children & Family Movies, Comedies, Horror Movies, Children & Family Movies, Children & Family Movies, Comedies, Children & Family Movies, Comedies, Children & Family Movies, Children & Family Movies, Comedies, Horror Movies, Children & Family Movies, Comedies, Children & Family Movies, Comedies, Comedies, International Movies, LGBTQ Movies, Kids' TV, Documentaries, Music & Musicals, Dramas, Romantic Movies, Crime TV Shows, International TV Shows, TV Dramas, Dramas, Independent Movies, Documentaries, Dramas, International Movies, Dramas, International Movies, Stand-Up Comedy, International TV Shows, Romantic TV Shows, TV Comedies, International TV Shows, Reality TV, Spanish-Language TV Shows, Stand-Up Comedy, Documentaries, Action & Adventure, Dramas, International Movies, Stand-Up Comedy, Dramas, Independent Movies, International Movies, Crime TV Shows, International TV Shows, Spanish-Language TV Shows, Documentaries, Comedies, Dramas, LGBTQ Movies, Horror Movies, International TV Shows, TV Dramas, Teen TV Shows, International TV Shows, Romantic TV Shows, TV Dramas, Spanish-Language TV Shows, TV Dramas, Romantic TV Shows, Spanish-Language TV Shows, TV Comedies, Children & Family Movies, Dramas, Romantic Movies, Documentaries, Children & Family Movies, Dramas, Independent Movies, Children & Family Movies, Comedies, Reality TV, British TV Shows, Crime TV Shows, International TV Shows, Action & Adventure, Dramas, Independent Movies, Action & Adventure, Comedies, International Movies, Stand-Up Comedy, Dramas, International Movies, Horror Movies, Independent Movies, Independent Movies, Thrillers, Docuseries, Documentaries, International Movies, Crime TV Shows, TV Action & Adventure, TV Dramas, Comedies, Dramas, International Movies, Comedies, Dramas, Children & Family Movies, Dramas, Romantic Movies, Docuseries, International TV Shows, Reality TV, Action & Adventure, Independent Movies, Sci-Fi & Fantasy, International TV Shows, Romantic TV Shows, Dramas, Romantic Movies, Documentaries, International Movies, Children & Family Movies, Music & Musicals, Action & Adventure, Dramas, International Movies, Comedies, Independent Movies, International Movies, Reality TV, International TV Shows, Korean TV Shows, Romantic TV Shows, Anime Features, Children & Family Movies, Comedies, International TV Shows, Romantic TV Shows, Comedies, Romantic Movies, International TV Shows, Romantic TV Shows, TV Dramas, International TV Shows, Korean TV Shows, Romantic TV Shows, Documentaries, International Movies, Documentaries, Sports Movies, Crime TV Shows, International TV Shows, Spanish-Language TV Shows, Anime Features, International Movies, Romantic Movies, International TV Shows, TV Action & Adventure, TV Dramas, International TV Shows, Romantic TV Shows, TV Action & Adventure, Dramas, Independent Movies, International Movies, Anime Series, Kids' TV, Comedies, International Movies, Romantic Movies, Comedies, Dramas, Independent Movies, Dramas, International Movies, Horror Movies, International Movies, Documentaries, International Movies, Comedies, International Movies, Documentaries, International Movies, Dramas, Independent Movies, International Movies, Horror Movies, International Movies, Movies, Movies, Movies, Action & Adventure, International Movies, Dramas, International Movies, Action & Adventure, International Movies, Sci-Fi & Fantasy, Kids' TV, Dramas, International Movies, Romantic Movies, Anime Series, International TV Shows, Teen TV Shows, Crime TV Shows, International TV Shows, TV Dramas, TV Comedies, Stand-Up Comedy, Dramas, Independent Movies, International Movies, Docuseries, Documentaries, Music & Musicals, Stand-Up Comedy, International TV Shows, Romantic TV Shows, TV Comedies, Stand-Up Comedy, Action & Adventure, Stand-Up Comedy, Comedies, Docuseries, Spanish-Language TV Shows, Action & Adventure, International Movies, Music & Musicals, Crime TV Shows, International TV Shows, TV Dramas, Documentaries, Music & Musicals, Stand-Up Comedy, TV Comedies, Stand-Up Comedy, Horror Movies, Thrillers, Documentaries, International Movies, Music & Musicals, Dramas, Independent Movies, LGBTQ Movies, International TV Shows, Romantic TV Shows, Teen TV Shows, Action & Adventure, Dramas, Documentaries, Action & Adventure, Comedies, International Movies, Docuseries, International TV Shows, Science & Nature TV, Action & Adventure, Comedies, Docuseries, International TV Shows, Science & Nature TV, TV Horror, TV Mysteries, TV Sci-Fi & Fantasy, Dramas, International Movies, Stand-Up Comedy, International TV Shows, TV Action & Adventure, TV Comedies, Stand-Up Comedy, Stand-Up Comedy, Action & Adventure, International Movies, Docuseries, International TV Shows, Stand-Up Comedy, British TV Shows, International TV Shows, Reality TV, Action & Adventure, Dramas, Comedies, International Movies, Docuseries, International TV Shows, Science & Nature TV, Crime TV Shows, International TV Shows, TV Dramas, Dramas, Dramas, Comedies, Documentaries, Kids' TV, Classic Movies, Dramas, Romantic Movies, Classic Movies, Dramas, Children & Family Movies, Comedies, Dramas, Comedies, Action & Adventure, Classic Movies, Action & Adventure, Comedies, Classic Movies, Dramas, Romantic Movies, Action & Adventure, International Movies, Children & Family Movies, Action & Adventure, Classic Movies, Dramas, International Movies, LGBTQ Movies, Action & Adventure, Thrillers, Comedies, Cult Movies, Dramas, Documentaries, Action & Adventure, Classic Movies, Sci-Fi & Fantasy, Comedies, Romantic Movies, Classic Movies, Comedies, Music & Musicals, Comedies, Dramas, International Movies, Horror Movies, Thrillers, Classic Movies, Comedies, Music & Musicals, Crime TV Shows, International TV Shows, Spanish-Language TV Shows, Documentaries, Sports Movies, Kids' TV, Children & Family Movies, Dramas, Romantic Movies, Children & Family Movies, Comedies, Romantic Movies, Comedies, Comedies, Dramas, Sports Movies, Documentaries, Music & Musicals, Action & Adventure, Comedies, Action & Adventure, Horror Movies, Sci-Fi & Fantasy, Classic Movies, Dramas, International Movies, Documentaries, Music & Musicals, Action & Adventure, Classic Movies, Cult Movies, Classic Movies, Dramas, Romantic Movies, Comedies, Dramas, Independent Movies, Comedies, Anime Series, Romantic TV Shows, Action & Adventure, Comedies, Children & Family Movies, Comedies, Action & Adventure, Classic Movies, Dramas, Comedies, Sports Movies, Action & Adventure, Comedies, Independent Movies, Action & Adventure, Classic Movies, Comedies, Action & Adventure, Dramas, International TV Shows, Reality TV, Classic Movies, Dramas, Dramas, Romantic Movies, Classic Movies, Horror Movies, Thrillers, Dramas, Action & Adventure, Comedies, International Movies, Children & Family Movies, Comedies, Romantic Movies, Dramas, Independent Movies, Dramas, Music & Musicals, Action & Adventure, Sci-Fi & Fantasy, Documentaries, Comedies, Action & Adventure, Classic Movies, Dramas, Dramas, Thrillers, Dramas, Faith & Spirituality, Classic Movies, Dramas, Thrillers, Action & Adventure, Dramas, Movies, Dramas, Action & Adventure, Comedies, Dramas, International Movies, Action & Adventure, Sci-Fi & Fantasy, Action & Adventure, Sci-Fi & Fantasy, Action & Adventure, Sci-Fi & Fantasy, Documentaries, International Movies, Dramas, Thrillers, Action & Adventure, Comedies, Documentaries, Music & Musicals, Movies, Action & Adventure, International TV Shows, Spanish-Language TV Shows, TV Dramas, International TV Shows, TV Dramas, TV Mysteries, Comedies, Romantic Movies, Documentaries, International Movies, Music & Musicals, Comedies, Horror Movies, Action & Adventure, Dramas, International Movies, Comedies, International Movies, Music & Musicals, International Movies, Thrillers, Dramas, International Movies, Music & Musicals, Dramas, International Movies, Action & Adventure, Dramas, International Movies, Dramas, International Movies, Music & Musicals, Comedies, Dramas, International Movies, Comedies, Sports Movies, Kids' TV, Children & Family Movies, Children & Family Movies, Dramas, Faith & Spirituality, International Movies, Comedies, Dramas, International Movies, International Movies, Romantic Movies, Comedies, Dramas, International Movies, Dramas, Music & Musicals, Sports Movies, Comedies, International Movies, Music & Musicals, Comedies, International Movies, Independent Movies, Thrillers, Stand-Up Comedy, Documentaries, Dramas, International Movies, Thrillers, Crime TV Shows, TV Comedies, TV Dramas, Comedies, International Movies, Thrillers, International TV Shows, TV Dramas, TV Mysteries, International Movies, Thrillers, Comedies, Dramas, International Movies, Dramas, International Movies, Action & Adventure, Comedies, International Movies, Comedies, International Movies, Music & Musicals, Comedies, International Movies, Music & Musicals, Dramas, International Movies, Sports Movies, Comedies, International Movies, Music & Musicals, Stand-Up Comedy, Comedies, Dramas, International Movies, Dramas, International Movies, Music & Musicals, Stand-Up Comedy, Dramas, Independent Movies, International Movies, Dramas, International Movies, Comedies, International Movies, Music & Musicals, Dramas, International Movies, Comedies, Dramas, International Movies, Action & Adventure, Dramas, International Movies, Dramas, International Movies, Thrillers, Dramas, International Movies, Music & Musicals, Comedies, International Movies, Music & Musicals, Dramas, International Movies, Thrillers, Stand-Up Comedy, Documentaries, British TV Shows, Reality TV, Documentaries, Documentaries, LGBTQ Movies, Children & Family Movies, Sci-Fi & Fantasy, Thrillers, Dramas, Independent Movies, International Movies, Comedies, Dramas, International Movies, Comedies, Dramas, Independent Movies, Children & Family Movies, Dramas, Horror Movies, International Movies, Thrillers, Action & Adventure, Dramas, International Movies, Dramas, International Movies, Romantic Movies, Comedies, Independent Movies, International Movies, International Movies, Thrillers, International Movies, Sci-Fi & Fantasy, Action & Adventure, Dramas, International Movies, Documentaries, International Movies, Dramas, International Movies, Romantic Movies, Comedies, International Movies, Dramas, Independent Movies, International Movies, International TV Shows, Stand-Up Comedy & Talk Shows, Documentaries, International Movies, Music & Musicals, Children & Family Movies, Comedies, Dramas, International Movies, Dramas, Independent Movies, International Movies, Action & Adventure, Comedies, Music & Musicals, Documentaries, International Movies, Music & Musicals, Action & Adventure, Independent Movies, Crime TV Shows, International TV Shows, Korean TV Shows, Action & Adventure, Dramas, International Movies, International TV Shows, TV Dramas, International TV Shows, TV Dramas, International TV Shows, TV Dramas, Crime TV Shows, International TV Shows, TV Action & Adventure, International TV Shows, TV Dramas, International Movies, Thrillers, Action & Adventure, Children & Family Movies, Comedies, Action & Adventure, International Movies, Sci-Fi & Fantasy, Comedies, Dramas, International Movies, Dramas, International Movies, Music & Musicals, Documentaries, International TV Shows, Romantic TV Shows, TV Comedies, International TV Shows, Romantic TV Shows, TV Comedies, International TV Shows, Romantic TV Shows, TV Comedies, International TV Shows, Romantic TV Shows, TV Comedies, International TV Shows, Romantic TV Shows, TV Comedies, International TV Shows, Romantic TV Shows, TV Comedies, Documentaries, Movies, Comedies, International Movies, Romantic Movies, Cult Movies, Dramas, Thrillers, Classic Movies, Dramas, Documentaries, Classic Movies, Dramas, Action & Adventure, International Movies, Stand-Up Comedy, Stand-Up Comedy, Cult Movies, Horror Movies, Comedies, International Movies, Documentaries, Music & Musicals, Action & Adventure, Dramas, International Movies, Horror Movies, Thrillers, Action & Adventure, International Movies, Action & Adventure, Dramas, International Movies, Comedies, International Movies, Comedies, International Movies, Stand-Up Comedy, International TV Shows, TV Dramas, International TV Shows, TV Comedies, International TV Shows, Romantic TV Shows, TV Dramas, International TV Shows, Romantic TV Shows, TV Dramas, International TV Shows, Romantic TV Shows, TV Dramas, International TV Shows, TV Dramas, International TV Shows, Romantic TV Shows, TV Comedies, International TV Shows, TV Dramas, International TV Shows, TV Dramas, TV Sci-Fi & Fantasy, Horror Movies, Thrillers, Stand-Up Comedy, Thrillers, Documentaries, Dramas, Independent Movies, International Movies, Crime TV Shows, International TV Shows, Korean TV Shows, International TV Shows, TV Comedies, TV Dramas, International TV Shows, TV Dramas, Documentaries, Crime TV Shows, International TV Shows, TV Dramas, International TV Shows, TV Dramas, Documentaries, International Movies, Comedies, International Movies, Documentaries, Documentaries, International Movies, Dramas, Faith & Spirituality, International Movies, Sci-Fi & Fantasy, Dramas, Stand-Up Comedy, Horror Movies, Horror Movies, Crime TV Shows, International TV Shows, Spanish-Language TV Shows, Children & Family Movies, Comedies, Music & Musicals, Comedies, Stand-Up Comedy, Children & Family Movies, Documentaries, International TV Shows, TV Comedies, TV Dramas, Comedies, LGBTQ Movies, Dramas, International Movies, Stand-Up Comedy & Talk Shows, TV Comedies, Dramas, Sci-Fi & Fantasy, Thrillers, Stand-Up Comedy, Documentaries, Dramas, International Movies, Comedies, International Movies, Romantic Movies, Action & Adventure, International Movies, Comedies, Dramas, International Movies, Comedies, Dramas, International Movies, International TV Shows, Romantic TV Shows, Spanish-Language TV Shows, Comedies, Romantic Movies, Action & Adventure, Comedies, International Movies, Comedies, Dramas, Independent Movies, Crime TV Shows, International TV Shows, TV Comedies, Crime TV Shows, Docuseries, International TV Shows, Comedies, International Movies, Music & Musicals, Action & Adventure, Horror Movies, International Movies, Dramas, International Movies, Horror Movies, International Movies, Comedies, Dramas, International Movies, Horror Movies, International Movies, Horror Movies, International Movies, Comedies, Dramas, Independent Movies, Crime TV Shows, TV Dramas, Documentaries, Documentaries, Dramas, Romantic Movies, International Movies, Thrillers, Comedies, Dramas, Independent Movies, Stand-Up Comedy, Documentaries, LGBTQ Movies, Crime TV Shows, International TV Shows, Spanish-Language TV Shows, TV Comedies, TV Dramas, Comedies, International Movies, Romantic Movies, Dramas, Independent Movies, Reality TV, Comedies, International Movies, Music & Musicals, Dramas, International Movies, Thrillers, Comedies, Romantic Movies, TV Comedies, Crime TV Shows, International TV Shows, TV Dramas, Comedies, International Movies, Documentaries, International Movies, Sports Movies, Action & Adventure, Dramas, International Movies, Documentaries, Horror Movies, Independent Movies, Thrillers, Children & Family Movies, Documentaries, TV Dramas, TV Sci-Fi & Fantasy, Stand-Up Comedy & Talk Shows, TV Comedies, Stand-Up Comedy & Talk Shows, TV Comedies, Action & Adventure, Comedies, International TV Shows, Romantic TV Shows, TV Dramas, Action & Adventure, Horror Movies, International Movies, Dramas, International Movies, Thrillers, International TV Shows, Korean TV Shows, Romantic TV Shows, Documentaries, Documentaries, Action & Adventure, Dramas, International Movies, Comedies, Dramas, Documentaries, International TV Shows, Romantic TV Shows, TV Dramas, TV Shows, Dramas, International Movies, Stand-Up Comedy, Comedies, Romantic Movies, Stand-Up Comedy, Thrillers, Documentaries, Docuseries, International TV Shows, Dramas, Independent Movies, International Movies, Action & Adventure, Independent Movies, Sci-Fi & Fantasy, Horror Movies, LGBTQ Movies, Thrillers, TV Dramas, TV Thrillers, Documentaries, Comedies, Music & Musicals, Sports Movies, Action & Adventure, International Movies, Sci-Fi & Fantasy, Stand-Up Comedy, Romantic TV Shows, TV Comedies, TV Dramas, Documentaries, International Movies, Action & Adventure, Comedies, International Movies, International TV Shows, TV Action & Adventure, TV Comedies, Stand-Up Comedy, International TV Shows, Korean TV Shows, Romantic TV Shows, International TV Shows, Korean TV Shows, Romantic TV Shows, International TV Shows, Korean TV Shows, Romantic TV Shows, Documentaries, Crime TV Shows, International TV Shows, Korean TV Shows, International TV Shows, Korean TV Shows, Romantic TV Shows, International TV Shows, Korean TV Shows, Romantic TV Shows, Kids' TV, Stand-Up Comedy, Documentaries, Music & Musicals, Dramas, Independent Movies, LGBTQ Movies, Stand-Up Comedy, Comedies, Dramas, International Movies, Docuseries, Comedies, International Movies, Dramas, Action & Adventure, Sci-Fi & Fantasy, Comedies, Dramas, International Movies, Action & Adventure, Crime TV Shows, International TV Shows, TV Dramas, Action & Adventure, International Movies, Stand-Up Comedy, Dramas, Independent Movies, Romantic Movies, Dramas, Dramas, Independent Movies, International Movies, Thrillers, Crime TV Shows, International TV Shows, TV Dramas, Action & Adventure, Anime Features, International Movies, International TV Shows, Korean TV Shows, Reality TV, Docuseries, International TV Shows, Documentaries, International Movies, LGBTQ Movies, Crime TV Shows, Docuseries, TV Mysteries, Horror Movies, Independent Movies, Thrillers, Dramas, Independent Movies, Sports Movies, Horror Movies, International Movies, Comedies, International Movies, Romantic Movies, Kids' TV, Romantic TV Shows, Spanish-Language TV Shows, TV Dramas, Crime TV Shows, Docuseries, International TV Shows, Documentaries, International Movies, Documentaries, International Movies, Documentaries, International Movies, Comedies, Romantic Movies, TV Comedies, Action & Adventure, International Movies, Documentaries, Music & Musicals, Stand-Up Comedy, Dramas, Sci-Fi & Fantasy, Thrillers, International TV Shows, Romantic TV Shows, TV Comedies, Stand-Up Comedy, Children & Family Movies, Dramas, International Movies, Children & Family Movies, Dramas, Dramas, Independent Movies, International Movies, Comedies, International Movies, Sci-Fi & Fantasy, Action & Adventure, Sci-Fi & Fantasy, Thrillers, Dramas, Independent Movies, International Movies, Action & Adventure, International Movies, Music & Musicals, Dramas, International Movies, Music & Musicals, Comedies, Comedies, Romantic Movies, Sports Movies, Children & Family Movies, Comedies, International Movies, Comedies, Cult Movies, International Movies, Documentaries, International Movies, Dramas, Independent Movies, Dramas, Independent Movies, Stand-Up Comedy, Comedies, International Movies, Music & Musicals, Action & Adventure, Comedies, Dramas, International Movies, British TV Shows, Kids' TV, TV Comedies, Comedies, Dramas, International Movies, Dramas, Independent Movies, International Movies, Kids' TV, Spanish-Language TV Shows, International TV Shows, Romantic TV Shows, TV Dramas, Dramas, International Movies, Thrillers, Comedies, International Movies, Music & Musicals, Comedies, International Movies, Dramas, International Movies, Music & Musicals, Action & Adventure, Dramas, International Movies, Comedies, International Movies, Action & Adventure, Dramas, International Movies, Comedies, Dramas, International Movies, Action & Adventure, Anime Features, Classic Movies, Cult Movies, Independent Movies, Thrillers, Anime Series, International TV Shows, Comedies, International Movies, Sci-Fi & Fantasy, Docuseries, International TV Shows, Documentaries, Comedies, Dramas, International Movies, Dramas, Independent Movies, Romantic Movies, Movies, Dramas, International Movies, Music & Musicals, International TV Shows, Spanish-Language TV Shows, TV Dramas, Documentaries, Sports Movies, Dramas, International Movies, Dramas, International Movies, Thrillers, Documentaries, International Movies, Action & Adventure, Dramas, Thrillers, Anime Series, International TV Shows, Comedies, Documentaries, British TV Shows, Docuseries, Science & Nature TV, Children & Family Movies, Comedies, Children & Family Movies, Stand-Up Comedy, Comedies, Documentaries, Crime TV Shows, International TV Shows, TV Dramas, Comedies, Independent Movies, Kids' TV, TV Action & Adventure, TV Comedies, Documentaries, Comedies, Cult Movies, Independent Movies, Children & Family Movies, Dramas, Independent Movies, International Movies, Dramas, Independent Movies, International Movies, Action & Adventure, Comedies, Dramas, Kids' TV, Stand-Up Comedy, Crime TV Shows, Docuseries, TV Mysteries, Comedies, Romantic Movies, Kids' TV, TV Comedies, Children & Family Movies, Movies, Children & Family Movies, Movies, Comedies, Dramas, International Movies, Reality TV, TV Dramas, International TV Shows, Romantic TV Shows, TV Dramas, TV Dramas, Teen TV Shows, Comedies, Comedies, International Movies, Music & Musicals, Action & Adventure, Comedies, Dramas, Action & Adventure, Dramas, International Movies, Dramas, International Movies, Thrillers, Dramas, Independent Movies, International Movies, Children & Family Movies, Comedies, Dramas, International Movies, Children & Family Movies, Comedies, Sports Movies, Documentaries, Children & Family Movies, Comedies, Dramas, Independent Movies, International Movies, Dramas, Independent Movies, Thrillers, Documentaries, Music & Musicals, Dramas, Independent Movies, International Movies, Documentaries, International Movies, Documentaries, Documentaries, International Movies, Horror Movies, International Movies, Action & Adventure, Independent Movies, International Movies, Classic & Cult TV, TV Dramas, TV Sci-Fi & Fantasy, Action & Adventure, Cult Movies, International Movies, Comedies, Dramas, International Movies, Children & Family Movies, Comedies, Children & Family Movies, Reality TV, Thrillers, Action & Adventure, Comedies, International Movies, Documentaries, Comedies, International Movies, Sci-Fi & Fantasy, Dramas, International Movies, International TV Shows, TV Horror, TV Mysteries, International TV Shows, Korean TV Shows, Romantic TV Shows, Action & Adventure, Dramas, International Movies, Documentaries, International Movies, Action & Adventure, Independent Movies, Comedies, International Movies, Dramas, Independent Movies, International Movies, Dramas, International Movies, Thrillers, Dramas, International Movies, International TV Shows, Korean TV Shows, TV Action & Adventure, Documentaries, LGBTQ Movies, Stand-Up Comedy, Crime TV Shows, International TV Shows, TV Comedies, Documentaries, International Movies, Sports Movies, Comedies, International Movies, Romantic Movies, International TV Shows, Korean TV Shows, Romantic TV Shows, International TV Shows, TV Dramas, International Movies, Romantic Movies, Action & Adventure, Dramas, International Movies, Dramas, International Movies, Movies, Movies, Movies, Movies, Movies, Movies, International TV Shows, Stand-Up Comedy & Talk Shows, TV Comedies, Dramas, International Movies, Documentaries, International Movies, Kids' TV, Dramas, International Movies, International TV Shows, Stand-Up Comedy & Talk Shows, International TV Shows, TV Dramas, Documentaries, Sports Movies, Comedies, Dramas, Independent Movies, Comedies, International Movies, Action & Adventure, Comedies, Horror Movies, Dramas, International Movies, Dramas, Independent Movies, Thrillers, Dramas, Independent Movies, International Movies, Comedies, Dramas, International Movies, Comedies, Dramas, International Movies, Dramas, International Movies, Action & Adventure, Comedies, International Movies, Dramas, Independent Movies, International Movies, Dramas, International Movies, Romantic Movies, Comedies, International Movies, Music & Musicals, Documentaries, Comedies, International Movies, Comedies, Dramas, Independent Movies, Dramas, International Movies, Thrillers, Comedies, Dramas, International Movies, Documentaries, International Movies, Action & Adventure, Comedies, International Movies, Action & Adventure, Anime Features, Sci-Fi & Fantasy, Documentaries, Comedies, International Movies, Dramas, International Movies, Thrillers, Dramas, International Movies, Romantic Movies, International TV Shows, Stand-Up Comedy & Talk Shows, Documentaries, Dramas, International Movies, Romantic Movies, Dramas, Independent Movies, International Movies, Documentaries, Sports Movies, Dramas, International Movies, Sports Movies, Documentaries, Dramas, Independent Movies, International Movies, Documentaries, International Movies, Comedies, International Movies, Romantic Movies, Comedies, Dramas, International Movies, Comedies, Dramas, International Movies, Comedies, Dramas, International Movies, Comedies, Dramas, International Movies, Comedies, Dramas, International Movies, Dramas, International Movies, Romantic Movies, Documentaries, International Movies, Action & Adventure, Dramas, Independent Movies, Dramas, International Movies, Thrillers, Comedies, Dramas, International Movies, Dramas, International Movies, Comedies, International Movies, Action & Adventure, Comedies, International Movies, Movies, Dramas, International Movies, Romantic Movies, Documentaries, International Movies, Horror Movies, Sci-Fi & Fantasy, Thrillers, Anime Series, International TV Shows, British TV Shows, Crime TV Shows, International TV Shows, Dramas, Dramas, Thrillers, Dramas, Independent Movies, Documentaries, Documentaries, International Movies, Comedies, International Movies, Dramas, Independent Movies, International Movies, Dramas, International Movies, Thrillers, British TV Shows, International TV Shows, TV Comedies, International TV Shows, Romantic TV Shows, TV Dramas, Comedies, Dramas, Independent Movies, TV Comedies, International TV Shows, TV Dramas, TV Mysteries, Docuseries, Action & Adventure, Comedies, International Movies, International TV Shows, TV Dramas, TV Horror, Anime Series, International TV Shows, Dramas, Independent Movies, Romantic Movies, Dramas, Independent Movies, International Movies, Crime TV Shows, International TV Shows, TV Action & Adventure, Children & Family Movies, Comedies, International TV Shows, TV Dramas, Action & Adventure, Sci-Fi & Fantasy, Comedies, Dramas, Romantic Movies, Children & Family Movies, Dramas, Crime TV Shows, International TV Shows, Korean TV Shows, Documentaries, International Movies, Sports Movies, Comedies, Sports Movies, Dramas, Faith & Spirituality, Comedies, Dramas, Romantic Movies, Comedies, International Movies, Dramas, International Movies, Romantic Movies, International Movies, Romantic Movies, Dramas, International Movies, Romantic Movies, TV Dramas, TV Horror, TV Mysteries, Action & Adventure, Horror Movies, International Movies, Thrillers, Stand-Up Comedy, Action & Adventure, Sci-Fi & Fantasy, Crime TV Shows, TV Dramas, Crime TV Shows, TV Dramas, TV Thrillers, Children & Family Movies, Comedies, Sci-Fi & Fantasy, Children & Family Movies, Classic Movies, Children & Family Movies, Dramas, Crime TV Shows, International TV Shows, TV Dramas, Children & Family Movies, Stand-Up Comedy, Dramas, Independent Movies, Stand-Up Comedy, Documentaries, International TV Shows, Korean TV Shows, Romantic TV Shows, Children & Family Movies, Comedies, Dramas, International Movies, Children & Family Movies, Comedies, Dramas, Action & Adventure, Comedies, Romantic Movies, International Movies, Romantic Movies, Dramas, Independent Movies, International Movies, Dramas, International Movies, Sports Movies, Comedies, Dramas, International Movies, Dramas, International Movies, Romantic Movies, Documentaries, Sports Movies, Documentaries, Comedies, Romantic Movies, Kids' TV, TV Comedies, Horror Movies, Dramas, Independent Movies, International Movies, TV Comedies, Kids' TV, Crime TV Shows, International TV Shows, Spanish-Language TV Shows, Action & Adventure, Sci-Fi & Fantasy, Kids' TV, TV Comedies, Dramas, Independent Movies, Thrillers, Stand-Up Comedy, Horror Movies, International Movies, Docuseries, Documentaries, Sports Movies, Documentaries, Classic Movies, Documentaries, Classic Movies, Documentaries, British TV Shows, Crime TV Shows, International TV Shows, British TV Shows, Docuseries, Science & Nature TV, Classic Movies, Documentaries, British TV Shows, Romantic TV Shows, TV Dramas, Classic Movies, Documentaries, Classic Movies, Documentaries, Classic Movies, Documentaries, Dramas, Independent Movies, Romantic Movies, British TV Shows, Crime TV Shows, TV Dramas, British TV Shows, Crime TV Shows, International TV Shows, Classic Movies, Documentaries, British TV Shows, Crime TV Shows, Docuseries, Classic Movies, Documentaries, Classic Movies, Documentaries, Classic Movies, Documentaries, Classic Movies, Documentaries, Documentaries, British TV Shows, Docuseries, Science & Nature TV, British TV Shows, Docuseries, Science & Nature TV, Documentaries, Documentaries, Faith & Spirituality, Music & Musicals, Crime TV Shows, International TV Shows, TV Dramas, British TV Shows, Kids' TV, International TV Shows, Romantic TV Shows, TV Comedies, Dramas, Independent Movies, Sports Movies, Comedies, Romantic Movies, Action & Adventure, International Movies, Sci-Fi & Fantasy, Docuseries, Stand-Up Comedy, Dramas, Sci-Fi & Fantasy, Thrillers, Comedies, Cult Movies, Comedies, Cult Movies, Docuseries, Horror Movies, Independent Movies, Thrillers, Comedies, Dramas, Independent Movies, Action & Adventure, Comedies, Romantic Movies, Children & Family Movies, Comedies, International TV Shows, Spanish-Language TV Shows, TV Comedies, Comedies, Dramas, Independent Movies, Dramas, International Movies, Sports Movies, Crime TV Shows, International TV Shows, TV Dramas, International TV Shows, TV Dramas, TV Mysteries, Dramas, Sports Movies, Dramas, Documentaries, International TV Shows, TV Dramas, British TV Shows, International TV Shows, TV Dramas, Comedies, Horror Movies, Independent Movies, Dramas, Independent Movies, Sports Movies, TV Dramas, Teen TV Shows, Kids' TV, Stand-Up Comedy, Horror Movies, International Movies, Dramas, International Movies, Romantic Movies, Horror Movies, International Movies, British TV Shows, International TV Shows, Stand-Up Comedy & Talk Shows, Dramas, International Movies, Romantic Movies, Stand-Up Comedy, Dramas, International Movies, Thrillers, Action & Adventure, Comedies, Dramas, Crime TV Shows, International TV Shows, TV Action & Adventure, Children & Family Movies, Comedies, Action & Adventure, Comedies, International Movies, Children & Family Movies, Documentaries, International Movies, Stand-Up Comedy, Documentaries, Dramas, Crime TV Shows, Docuseries, Comedies, Action & Adventure, Comedies, International Movies, Crime TV Shows, International TV Shows, TV Dramas, Action & Adventure, Comedies, Dramas, International Movies, Documentaries, International Movies, Dramas, Independent Movies, British TV Shows, International TV Shows, TV Dramas, Dramas, Dramas, International Movies, Music & Musicals, Dramas, Independent Movies, Kids' TV, Crime TV Shows, International TV Shows, Spanish-Language TV Shows, Crime TV Shows, International TV Shows, TV Dramas, Dramas, International Movies, Sci-Fi & Fantasy, International TV Shows, Romantic TV Shows, TV Dramas, Documentaries, Music & Musicals, Reality TV, International TV Shows, TV Dramas, Comedies, Dramas, Music & Musicals, Documentaries, International Movies, Music & Musicals, Documentaries, International Movies, Sports Movies, Kids' TV, International TV Shows, TV Comedies, TV Dramas, Action & Adventure, Comedies, International Movies, Action & Adventure, Comedies, International Movies, Comedies, Dramas, International Movies, Dramas, International Movies, Romantic Movies, Horror Movies, International Movies, International Movies, Romantic Movies, Documentaries, Sports Movies, Dramas, Independent Movies, International Movies, Stand-Up Comedy & Talk Shows, TV Comedies, Documentaries, International Movies, Documentaries, International Movies, Action & Adventure, Children & Family Movies, Independent Movies, Documentaries, International Movies, Sports Movies, International TV Shows, TV Dramas, Dramas, Independent Movies, International Movies, International TV Shows, Romantic TV Shows, TV Dramas, Documentaries, International TV Shows, Spanish-Language TV Shows, TV Dramas, Anime Series, Crime TV Shows, International TV Shows, Action & Adventure, Dramas, Independent Movies, Comedies, Dramas, Independent Movies, Dramas, International Movies, Action & Adventure, Dramas, International Movies, Comedies, Dramas, TV Comedies, Dramas, Comedies, Dramas, International Movies, Documentaries, International Movies, Dramas, International Movies, Music & Musicals, Anime Series, Crime TV Shows, International TV Shows, Docuseries, Science & Nature TV, Stand-Up Comedy, Stand-Up Comedy, Horror Movies, International Movies, Documentaries, Music & Musicals, Dramas, Independent Movies, International Movies, Documentaries, Stand-Up Comedy, Documentaries, Dramas, Independent Movies, Sci-Fi & Fantasy, Action & Adventure, Dramas, Children & Family Movies, Comedies, Comedies, Dramas, Independent Movies, Documentaries, Action & Adventure, Horror Movies, International Movies, Comedies, Horror Movies, Stand-Up Comedy, Documentaries, International Movies, Children & Family Movies, Comedies, Cult Movies, Comedies, Dramas, Independent Movies, International TV Shows, Romantic TV Shows, TV Comedies, Comedies, Dramas, Independent Movies, Kids' TV, Documentaries, Dramas, International Movies, Thrillers, International TV Shows, TV Dramas, Dramas, International Movies, Children & Family Movies, Dramas, International TV Shows, Spanish-Language TV Shows, TV Dramas, Documentaries, Crime TV Shows, Docuseries, Stand-Up Comedy, Comedies, Dramas, Romantic Movies, Children & Family Movies, Crime TV Shows, International TV Shows, TV Dramas, Classic Movies, Dramas, Independent Movies, Action & Adventure, Dramas, International Movies, Children & Family Movies, Comedies, Comedies, Dramas, International Movies, Action & Adventure, International Movies, Comedies, Dramas, International Movies, Stand-Up Comedy, Children & Family Movies, Comedies, Dramas, International Movies, LGBTQ Movies, International TV Shows, Romantic TV Shows, TV Dramas, Stand-Up Comedy, Stand-Up Comedy, Stand-Up Comedy, Stand-Up Comedy, Action & Adventure, Comedies, Cult Movies, Documentaries, Sports Movies, TV Action & Adventure, TV Horror, TV Sci-Fi & Fantasy, International TV Shows, TV Dramas, Action & Adventure, Dramas, International Movies, Crime TV Shows, Docuseries, Dramas, International Movies, Thrillers, Thrillers, British TV Shows, Docuseries, Science & Nature TV, British TV Shows, International TV Shows, TV Comedies, Horror Movies, Independent Movies, Thrillers, Dramas, International Movies, Comedies, Dramas, International Movies, Dramas, Independent Movies, International Movies, Comedies, Dramas, International Movies, Anime Features, Children & Family Movies, International Movies, Comedies, Dramas, International Movies, Comedies, Dramas, International Movies, Crime TV Shows, International TV Shows, TV Dramas, Action & Adventure, Dramas, International Movies, Dramas, International Movies, Children & Family Movies, Comedies, Children & Family Movies, Comedies, Dramas, Independent Movies, Documentaries, International Movies, TV Comedies, TV Sci-Fi & Fantasy, Dramas, International Movies, Horror Movies, International Movies, Thrillers, International TV Shows, Romantic TV Shows, TV Comedies, Dramas, International Movies, Music & Musicals, International TV Shows, Romantic TV Shows, TV Dramas, Dramas, International Movies, International TV Shows, TV Dramas, TV Mysteries, Dramas, International Movies, Action & Adventure, Dramas, International Movies, Action & Adventure, Comedies, International Movies, Documentaries, International Movies, Sports Movies, Dramas, Independent Movies, Documentaries, Dramas, International Movies, Action & Adventure, Comedies, Dramas, Dramas, International Movies, Dramas, Independent Movies, International Movies, Documentaries, Sports Movies, Kids' TV, Dramas, Independent Movies, Sports Movies, Dramas, International Movies, Romantic Movies, Dramas, International Movies, Romantic Movies, Comedies, Dramas, International Movies, International Movies, Romantic Movies, Comedies, Dramas, International Movies, Action & Adventure, Dramas, International Movies, Dramas, Independent Movies, International Movies, Reality TV, Teen TV Shows, Stand-Up Comedy, Docuseries, International TV Shows, TV Dramas, TV Mysteries, International TV Shows, TV Comedies, TV Sci-Fi & Fantasy, Action & Adventure, Anime Series, International TV Shows, Stand-Up Comedy, Children & Family Movies, Crime TV Shows, International TV Shows, Korean TV Shows, International TV Shows, Korean TV Shows, Romantic TV Shows, Stand-Up Comedy, Music & Musicals, Action & Adventure, International TV Shows, Romantic TV Shows, TV Dramas, International TV Shows, TV Dramas, Thrillers, Comedies, Dramas, Independent Movies, TV Comedies, Horror Movies, Dramas, Independent Movies, International Movies, Dramas, International Movies, Sports Movies, Comedies, International Movies, Romantic Movies, Comedies, International Movies, Sports Movies, Kids' TV, TV Comedies, Dramas, Independent Movies, Comedies, International Movies, Comedies, International Movies, Comedies, International Movies, Comedies, International Movies, Romantic Movies, Comedies, International Movies, Comedies, International Movies, Comedies, International Movies, Comedies, International Movies, Romantic Movies, Comedies, International Movies, Action & Adventure, Comedies, International Movies, Comedies, Dramas, International Movies, Comedies, Dramas, International Movies, Comedies, International Movies, Comedies, International Movies, Dramas, International Movies, Romantic Movies, Comedies, International Movies, Comedies, International Movies, Romantic Movies, Comedies, International Movies, Romantic Movies, Comedies, Dramas, International Movies, Dramas, International Movies, Comedies, International Movies, International TV Shows, Korean TV Shows, Romantic TV Shows, Comedies, International Movies, Romantic Movies, Documentaries, Comedies, International Movies, Romantic Movies, Comedies, International Movies, Romantic Movies, Dramas, International Movies, Romantic Movies, Comedies, International Movies, Dramas, International Movies, Romantic Movies, Dramas, International Movies, Romantic Movies, Comedies, Dramas, International Movies, Comedies, Dramas, International Movies, Documentaries, International Movies, Sports Movies, Dramas, Faith & Spirituality, Documentaries, International Movies, Music & Musicals, Comedies, International Movies, Children & Family Movies, Dramas, Romantic Movies, Docuseries, International TV Shows, Action & Adventure, International Movies, Romantic Movies, Comedies, Reality TV, Science & Nature TV, Horror Movies, Independent Movies, Action & Adventure, Sci-Fi & Fantasy, Comedies, Dramas, Independent Movies, Dramas, Independent Movies, Thrillers, Independent Movies, International Movies, Thrillers, Docuseries, TV Dramas, Children & Family Movies, Comedies, Horror Movies, International Movies, Thrillers, Children & Family Movies, Comedies, Comedies, Independent Movies, Dramas, International Movies, Music & Musicals, Children & Family Movies, Dramas, Independent Movies, Children & Family Movies, Comedies, Children & Family Movies, Action & Adventure, International Movies, Children & Family Movies, International TV Shows, TV Horror, TV Mysteries, Documentaries, Sports Movies, Comedies, Cult Movies, Independent Movies, Dramas, Independent Movies, Dramas, International Movies, Thrillers, Crime TV Shows, International TV Shows, TV Dramas, Action & Adventure, Independent Movies, Sci-Fi & Fantasy, Stand-Up Comedy, Documentaries, International Movies, Music & Musicals, Romantic Movies, Documentaries, International Movies, International Movies, Romantic Movies, Action & Adventure, Independent Movies, Sci-Fi & Fantasy, Action & Adventure, Dramas, International Movies, Action & Adventure, Dramas, International Movies, International TV Shows, TV Horror, TV Thrillers, International Movies, Sports Movies, Dramas, International Movies, Romantic Movies, Action & Adventure, Dramas, International Movies, Documentaries, International Movies, Comedies, International Movies, Music & Musicals, Dramas, International Movies, Dramas, International Movies, Music & Musicals, International Movies, Music & Musicals, Action & Adventure, Comedies, Dramas, Horror Movies, International Movies, Thrillers, Thrillers, Action & Adventure, Dramas, International Movies, Dramas, Independent Movies, International Movies, Dramas, International Movies, Romantic Movies, Dramas, International Movies, Music & Musicals, Action & Adventure, Comedies, International Movies, Dramas, International Movies, Romantic Movies, Dramas, Independent Movies, International Movies, Horror Movies, International Movies, Thrillers, Action & Adventure, Dramas, International Movies, Comedies, International Movies, Music & Musicals, International Movies, Romantic Movies, Documentaries, Dramas, International Movies, Thrillers, Dramas, Romantic Movies, International TV Shows, TV Comedies, Children & Family Movies, Children & Family Movies, Comedies, International Movies, Dramas, International Movies, Romantic Movies, Dramas, International Movies, Music & Musicals, Action & Adventure, Dramas, International Movies, Dramas, International Movies, Action & Adventure, International Movies, Music & Musicals, Dramas, International Movies, Comedies, International Movies, Dramas, International Movies, Thrillers, Dramas, Independent Movies, International Movies, Comedies, International Movies, Music & Musicals, Dramas, International Movies, Dramas, International Movies, Romantic Movies, Dramas, International Movies, Thrillers, Dramas, International Movies, Comedies, Independent Movies, International Movies, Comedies, Dramas, International Movies, Dramas, International Movies, Comedies, International Movies, Dramas, International Movies, Music & Musicals, International Movies, Thrillers, Dramas, International Movies, Thrillers, Dramas, Dramas, International Movies, Thrillers, Comedies, International Movies, Music & Musicals, Dramas, International Movies, Dramas, International Movies, Dramas, Independent Movies, International Movies, Movies, Movies, Comedies, Cult Movies, Movies, Action & Adventure, Dramas, International Movies, Dramas, Comedies, Independent Movies, International Movies, Comedies, International Movies, Dramas, Independent Movies, International Movies, Dramas, International Movies, Romantic Movies, Dramas, International Movies, British TV Shows, Docuseries, Science & Nature TV, Documentaries, International Movies, Children & Family Movies, Documentaries, International Movies, Documentaries, International Movies, British TV Shows, Docuseries, Science & Nature TV, British TV Shows, Docuseries, Science & Nature TV, British TV Shows, Docuseries, Science & Nature TV, Docuseries, International TV Shows, Science & Nature TV, Documentaries, International TV Shows, TV Dramas, Dramas, Docuseries, Science & Nature TV, Documentaries, Dramas, International Movies, Romantic Movies, Dramas, International Movies, International TV Shows, TV Comedies, British TV Shows, Docuseries, Science & Nature TV, Documentaries, Dramas, International Movies, Sports Movies, International TV Shows, Korean TV Shows, TV Action & Adventure, Dramas, International Movies, Thrillers, Documentaries, Comedies, Comedies, Comedies, International Movies, Romantic Movies, International Movies, Thrillers, Anime Series, International TV Shows, Romantic TV Shows, International TV Shows, Korean TV Shows, Romantic TV Shows, Dramas, Independent Movies, Thrillers, Independent Movies, Thrillers, Dramas, International Movies, Romantic Movies, Action & Adventure, Dramas, Sci-Fi & Fantasy, Comedies, Dramas, Independent Movies, Comedies, Independent Movies, International Movies, Stand-Up Comedy, Kids' TV, TV Thrillers, Crime TV Shows, Docuseries, TV Mysteries, Horror Movies, International Movies, Thrillers, Dramas, Independent Movies, International Movies, Dramas, International Movies, LGBTQ Movies, International Movies, Sci-Fi & Fantasy, Thrillers, Comedies, International Movies, Romantic Movies, Children & Family Movies, Children & Family Movies, Dramas, International Movies, Comedies, Horror Movies, Independent Movies, Kids' TV, TV Dramas, Documentaries, Music & Musicals, Documentaries, Sports Movies, Dramas, Independent Movies, International Movies, Kids' TV, Dramas, Independent Movies, Romantic Movies, Dramas, International Movies, Comedies, International Movies, Horror Movies, Thrillers, Comedies, Faith & Spirituality, Romantic Movies, Dramas, International Movies, Thrillers, Comedies, International Movies, Comedies, International Movies, Children & Family Movies, Comedies, Dramas, Dramas, International Movies, Romantic Movies, Comedies, International Movies, Music & Musicals, Comedies, International Movies, Comedies, International Movies, Comedies, International Movies, Dramas, International Movies, Dramas, International Movies, Anime Features, International Movies, Children & Family Movies, Children & Family Movies, Comedies, Documentaries, Horror Movies, Independent Movies, Thrillers, Action & Adventure, Comedies, Sci-Fi & Fantasy, Dramas, International Movies, Romantic Movies, Children & Family Movies, Dramas, Music & Musicals, Dramas, International Movies, Sci-Fi & Fantasy, Stand-Up Comedy, Children & Family Movies, Sci-Fi & Fantasy, Comedies, International TV Shows, Romantic TV Shows, TV Comedies, Children & Family Movies, Faith & Spirituality, Horror Movies, International Movies, Romantic Movies, Dramas, Independent Movies, Thrillers, Dramas, International Movies, Thrillers, Stand-Up Comedy, Action & Adventure, Horror Movies, Independent Movies, Crime TV Shows, TV Dramas, TV Mysteries, Horror Movies, Independent Movies, International Movies, Documentaries, Faith & Spirituality, International Movies, TV Dramas, Documentaries, Documentaries, Documentaries, International Movies, Sports Movies, Kids' TV, TV Action & Adventure, TV Comedies, Comedies, Dramas, International Movies, Action & Adventure, International Movies, Action & Adventure, International Movies, Dramas, International Movies, Thrillers, Music & Musicals, Stand-Up Comedy, Romantic Movies, Comedies, Dramas, International Movies, Dramas, International Movies, Thrillers, British TV Shows, International TV Shows, Reality TV, Stand-Up Comedy, British TV Shows, Crime TV Shows, International TV Shows, International TV Shows, Spanish-Language TV Shows, TV Comedies, Comedies, Dramas, International Movies, Documentaries, Sci-Fi & Fantasy, Thrillers, Crime TV Shows, International TV Shows, TV Dramas, Stand-Up Comedy, Dramas, Independent Movies, Anime Series, International TV Shows, Documentaries, International Movies, Crime TV Shows, Docuseries, Science & Nature TV, International TV Shows, TV Comedies, TV Dramas, Action & Adventure, International Movies, Sci-Fi & Fantasy, Thrillers, Kids' TV, TV Dramas, International TV Shows, TV Dramas, TV Mysteries, Comedies, Independent Movies, International Movies, Action & Adventure, Comedies, Dramas, Dramas, Independent Movies, Music & Musicals, Crime TV Shows, International TV Shows, TV Comedies, Stand-Up Comedy, Documentaries, Sports Movies, Stand-Up Comedy, International Movies, Music & Musicals, International Movies, Music & Musicals, Thrillers, Action & Adventure, Comedies, Horror Movies, Independent Movies, International Movies, Documentaries, International Movies, Kids' TV, TV Comedies, Action & Adventure, Children & Family Movies, Sci-Fi & Fantasy, Stand-Up Comedy, Dramas, LGBTQ Movies, Dramas, International Movies, Documentaries, Music & Musicals, Stand-Up Comedy, Dramas, Dramas, Independent Movies, International Movies, International TV Shows, TV Comedies, Action & Adventure, Anime Features, Sci-Fi & Fantasy, Dramas, International Movies, Comedies, International Movies, LGBTQ Movies, Children & Family Movies, Comedies, Children & Family Movies, Comedies, Kids' TV, Stand-Up Comedy, Comedies, Dramas, Independent Movies, Documentaries, Faith & Spirituality, Horror Movies, Independent Movies, International Movies, TV Dramas, Children & Family Movies, Action & Adventure, International Movies, Sci-Fi & Fantasy, Kids' TV, Children & Family Movies, Documentaries, Documentaries, Children & Family Movies, Dramas, Thrillers, Dramas, Independent Movies, Sci-Fi & Fantasy, Dramas, International Movies, Action & Adventure, International Movies, Dramas, Independent Movies, International Movies, Reality TV, International Movies, Dramas, International Movies, Romantic Movies, Dramas, Independent Movies, Sci-Fi & Fantasy, Horror Movies, Dramas, Independent Movies, International Movies, International TV Shows, Romantic TV Shows, Spanish-Language TV Shows, Action & Adventure, Anime Features, International Movies, Dramas, International Movies, International TV Shows, Romantic TV Shows, TV Comedies, TV Comedies, Anime Series, International TV Shows, Action & Adventure, Anime Features, International Movies, Dramas, International Movies, Sports Movies, Comedies, Dramas, International Movies, Comedies, International Movies, Romantic Movies, Horror Movies, Independent Movies, International Movies, Dramas, International Movies, Dramas, International Movies, Comedies, International Movies, Dramas, International Movies, Thrillers, Comedies, Dramas, International Movies, International Movies, Thrillers, Docuseries, Comedies, Dramas, International Movies, Children & Family Movies, Comedies, Stand-Up Comedy, British TV Shows, Docuseries, Science & Nature TV, International TV Shows, Korean TV Shows, TV Action & Adventure, Dramas, Dramas, International Movies, Dramas, Dramas, International Movies, Dramas, International Movies, British TV Shows, International TV Shows, Romantic TV Shows, International Movies, Sci-Fi & Fantasy, Thrillers, International TV Shows, Korean TV Shows, Reality TV, International TV Shows, TV Dramas, Dramas, Independent Movies, Music & Musicals, Documentaries, Dramas, Romantic Movies, Documentaries, International Movies, Dramas, Stand-Up Comedy, International TV Shows, TV Dramas, Teen TV Shows, International Movies, Sci-Fi & Fantasy, Thrillers, Stand-Up Comedy, Children & Family Movies, Action & Adventure, Documentaries, Children & Family Movies, Children & Family Movies, Children & Family Movies, Thrillers, International TV Shows, Spanish-Language TV Shows, TV Comedies, International TV Shows, Spanish-Language TV Shows, TV Comedies, International TV Shows, TV Comedies, TV Dramas, Action & Adventure, Dramas, International Movies, Dramas, Independent Movies, Thrillers, Thrillers, Comedies, Dramas, Independent Movies, Documentaries, Sports Movies, Documentaries, Sports Movies, Documentaries, Documentaries, Faith & Spirituality, International TV Shows, TV Dramas, Anime Series, International TV Shows, Documentaries, Comedies, International Movies, Romantic Movies, Comedies, International Movies, Dramas, Independent Movies, International Movies, Anime Series, International TV Shows, International TV Shows, Romantic TV Shows, TV Comedies, Crime TV Shows, Docuseries, International TV Shows, Crime TV Shows, International TV Shows, TV Dramas, Dramas, International Movies, Thrillers, Documentaries, International Movies, Comedies, Dramas, International Movies, Comedies, International Movies, Documentaries, International Movies, Comedies, Romantic Movies, Dramas, Independent Movies, International Movies, Dramas, International Movies, Kids' TV, Kids' TV, Action & Adventure, International Movies, Thrillers, Comedies, Dramas, International Movies, Stand-Up Comedy, Documentaries, International Movies, Documentaries, International Movies, Documentaries, Children & Family Movies, Reality TV, Children & Family Movies, Comedies, International TV Shows, TV Dramas, TV Mysteries, Comedies, TV Dramas, Teen TV Shows, Crime TV Shows, International TV Shows, Spanish-Language TV Shows, Documentaries, Dramas, International Movies, Comedies, International Movies, International TV Shows, TV Dramas, TV Mysteries, Documentaries, Comedies, International Movies, Romantic Movies, Horror Movies, International Movies, Comedies, Dramas, International Movies, Action & Adventure, Dramas, International Movies, Dramas, International Movies, Romantic Movies, Action & Adventure, Sci-Fi & Fantasy, Stand-Up Comedy, Documentaries, Music & Musicals, Stand-Up Comedy, Documentaries, Music & Musicals, Documentaries, International Movies, Dramas, Faith & Spirituality, Children & Family Movies, Comedies, Kids' TV, International TV Shows, Korean TV Shows, Romantic TV Shows, Classic Movies, Dramas, Independent Movies, Horror Movies, Thrillers, International TV Shows, Korean TV Shows, Romantic TV Shows, Crime TV Shows, International TV Shows, Korean TV Shows, Crime TV Shows, International TV Shows, Korean TV Shows, International TV Shows, Romantic TV Shows, TV Dramas, Action & Adventure, Dramas, International Movies, International TV Shows, Korean TV Shows, TV Dramas, Comedies, Dramas, International Movies, Comedies, Dramas, International Movies, Action & Adventure, Comedies, Dramas, Independent Movies, International TV Shows, TV Dramas, Independent Movies, Thrillers, Classic Movies, Cult Movies, Horror Movies, Crime TV Shows, Spanish-Language TV Shows, TV Dramas, Dramas, Independent Movies, International Movies, Documentaries, LGBTQ Movies, International Movies, Romantic Movies, Comedies, International Movies, Documentaries, Dramas, Thrillers, Documentaries, Music & Musicals, Action & Adventure, Comedies, Sci-Fi & Fantasy, Sci-Fi & Fantasy, Thrillers, Dramas, Music & Musicals, Romantic Movies, Action & Adventure, Romantic Movies, Sci-Fi & Fantasy, Comedies, Dramas, Independent Movies, Action & Adventure, International Movies, Sports Movies, Children & Family Movies, Comedies, Dramas, International Movies, International Movies, Thrillers, Documentaries, International TV Shows, TV Dramas, Documentaries, Children & Family Movies, Dramas, Sports Movies, Action & Adventure, Children & Family Movies, Dramas, International Movies, Docuseries, International TV Shows, Dramas, Independent Movies, Documentaries, International Movies, Sports Movies, Action & Adventure, Dramas, Sci-Fi & Fantasy, Dramas, International Movies, Music & Musicals, Documentaries, Documentaries, Documentaries, Comedies, Independent Movies, Stand-Up Comedy, Dramas, International Movies, International TV Shows, TV Horror, TV Thrillers, Children & Family Movies, Comedies, Documentaries, Documentaries, International TV Shows, TV Dramas, Dramas, Independent Movies, International Movies, Comedies, Dramas, Independent Movies, Comedies, International Movies, Romantic Movies, Dramas, International Movies, Music & Musicals, Documentaries, International Movies, LGBTQ Movies, Crime TV Shows, International TV Shows, TV Dramas, Kids' TV, Korean TV Shows, Action & Adventure, Comedies, International Movies, Crime TV Shows, International TV Shows, Spanish-Language TV Shows, Kids' TV, Korean TV Shows, Dramas, International Movies, Romantic Movies, Dramas, International Movies, International TV Shows, Romantic TV Shows, TV Dramas, Dramas, International Movies, Thrillers, International TV Shows, TV Dramas, International TV Shows, TV Dramas, Docuseries, International TV Shows, Documentaries, Dramas, Independent Movies, International Movies, Docuseries, International TV Shows, Science & Nature TV, Docuseries, International TV Shows, Science & Nature TV, Documentaries, International Movies, TV Shows, Crime TV Shows, International TV Shows, Romantic TV Shows, Action & Adventure, Comedies, International Movies, Documentaries, International Movies, Dramas, International Movies, Comedies, Dramas, International Movies, Stand-Up Comedy, Children & Family Movies, Music & Musicals, Kids' TV, International TV Shows, Korean TV Shows, Romantic TV Shows, Horror Movies, Independent Movies, Thrillers, Dramas, International Movies, Dramas, Romantic Movies, Sports Movies, International TV Shows, Romantic TV Shows, TV Dramas, International TV Shows, TV Dramas, International TV Shows, TV Dramas, Comedies, Independent Movies, International TV Shows, TV Action & Adventure, TV Dramas, Crime TV Shows, International TV Shows, TV Dramas, Children & Family Movies, Dramas, International Movies, Thrillers, Documentaries, International Movies, Stand-Up Comedy, Action & Adventure, Comedies, Dramas, Dramas, Independent Movies, International Movies, Children & Family Movies, Dramas, Children & Family Movies, Comedies, Comedies, Dramas, Independent Movies, Comedies, Independent Movies, International Movies, Crime TV Shows, TV Dramas, Documentaries, International Movies, Sports Movies, International TV Shows, Romantic TV Shows, TV Dramas, Dramas, Independent Movies, Romantic Movies, International TV Shows, TV Dramas, TV Sci-Fi & Fantasy, Docuseries, International TV Shows, International TV Shows, TV Dramas, Documentaries, Action & Adventure, Comedies, Stand-Up Comedy, Documentaries, International TV Shows, Romantic TV Shows, TV Dramas, Dramas, International Movies, Dramas, Thrillers, Action & Adventure, International Movies, International TV Shows, Romantic TV Shows, TV Dramas, Action & Adventure, Cult Movies, International Movies, TV Comedies, TV Shows, International Movies, Thrillers, Thrillers, Stand-Up Comedy, Comedies, Faith & Spirituality, International Movies, Comedies, Faith & Spirituality, International Movies, Horror Movies, International Movies, Dramas, Independent Movies, International Movies, Docuseries, TV Dramas, Horror Movies, Stand-Up Comedy, Stand-Up Comedy, Stand-Up Comedy, Action & Adventure, Dramas, Children & Family Movies, Comedies, Kids' TV, Dramas, Romantic Movies, Sci-Fi & Fantasy, Dramas, Independent Movies, Movies, Comedies, Dramas, Independent Movies, Action & Adventure, Dramas, International Movies, Comedies, Horror Movies, International Movies, Docuseries, Documentaries, Comedies, Independent Movies, Romantic Movies, Stand-Up Comedy, Action & Adventure, Dramas, Sci-Fi & Fantasy, Crime TV Shows, International TV Shows, TV Action & Adventure, Documentaries, International TV Shows, TV Comedies, TV Dramas, Horror Movies, Independent Movies, Dramas, Independent Movies, International Movies, Horror Movies, International Movies, British TV Shows, Crime TV Shows, Docuseries, Comedies, Horror Movies, International Movies, Documentaries, International Movies, British TV Shows, International TV Shows, Reality TV, British TV Shows, International TV Shows, Reality TV, British TV Shows, Docuseries, International TV Shows, British TV Shows, Docuseries, International TV Shows, Dramas, Romantic Movies, Dramas, Independent Movies, International Movies, Documentaries, International Movies, Music & Musicals, Action & Adventure, Comedies, Dramas, International Movies, Thrillers, Dramas, Independent Movies, International Movies, Action & Adventure, Dramas, Dramas, Independent Movies, Dramas, Independent Movies, Thrillers, Action & Adventure, International Movies, Action & Adventure, Dramas, Action & Adventure, Dramas, International Movies, Dramas, Independent Movies, TV Action & Adventure, TV Dramas, TV Mysteries, Action & Adventure, International Movies, Action & Adventure, Dramas, International Movies, Comedies, Horror Movies, International Movies, Comedies, Horror Movies, International Movies, Comedies, Horror Movies, International Movies, Dramas, International Movies, Comedies, Faith & Spirituality, International Movies, Horror Movies, International Movies, Documentaries, Stand-Up Comedy, Thrillers, Documentaries, Stand-Up Comedy, International Movies, Thrillers, Horror Movies, Documentaries, Music & Musicals, Dramas, International TV Shows, Comedies, Romantic Movies, Documentaries, Horror Movies, Action & Adventure, British TV Shows, International TV Shows, Reality TV, International TV Shows, Reality TV, Comedies, Dramas, Independent Movies, Dramas, Thrillers, Children & Family Movies, Comedies, Dramas, International Movies, Romantic Movies, Action & Adventure, International Movies, Stand-Up Comedy, Stand-Up Comedy, Action & Adventure, International Movies, Comedies, International Movies, Action & Adventure, Comedies, International Movies, Action & Adventure, International Movies, Comedies, Horror Movies, Independent Movies, Action & Adventure, Dramas, Independent Movies, Dramas, International Movies, Thrillers, Comedies, Comedies, International Movies, Music & Musicals, International TV Shows, Romantic TV Shows, TV Dramas, British TV Shows, International TV Shows, Reality TV, Docuseries, International TV Shows, Children & Family Movies, Comedies, Comedies, International TV Shows, TV Comedies, TV Dramas, Dramas, Faith & Spirituality, International Movies, Dramas, Thrillers, Comedies, Independent Movies, International Movies, International TV Shows, TV Comedies, TV Dramas, Kids' TV, TV Action & Adventure, TV Sci-Fi & Fantasy, International TV Shows, Romantic TV Shows, TV Dramas, International TV Shows, Romantic TV Shows, TV Dramas, International TV Shows, Korean TV Shows, TV Dramas, Dramas, International Movies, Comedies, Dramas, International Movies, Action & Adventure, International Movies, Comedies, International Movies, Documentaries, Sports Movies, Anime Series, International TV Shows, International TV Shows, TV Horror, TV Mysteries, Comedies, International Movies, Stand-Up Comedy, Comedies, Dramas, Independent Movies, Dramas, Independent Movies, Comedies, Dramas, Independent Movies, Action & Adventure, Dramas, Independent Movies, International Movies, Thrillers, Classic Movies, Dramas, Thrillers, International TV Shows, Korean TV Shows, Romantic TV Shows, Thrillers, Dramas, Independent Movies, Docuseries, International TV Shows, Spanish-Language TV Shows, Documentaries, International Movies, Music & Musicals, Action & Adventure, Anime Features, International Movies, Stand-Up Comedy, Stand-Up Comedy & Talk Shows, Documentaries, Action & Adventure, Dramas, International Movies, International TV Shows, Romantic TV Shows, TV Dramas, Anime Features, Children & Family Movies, Dramas, International Movies, Documentaries, Stand-Up Comedy, Dramas, International Movies, Comedies, Documentaries, Sports Movies, Comedies, Dramas, Romantic Movies, Children & Family Movies, Thrillers, Anime Series, International TV Shows, Anime Series, International TV Shows, Teen TV Shows, Anime Series, International TV Shows, Anime Series, International TV Shows, Kids' TV, TV Comedies, Dramas, Thrillers, Comedies, Independent Movies, Independent Movies, Thrillers, Comedies, Cult Movies, International Movies, Documentaries, International Movies, Sports Movies, Dramas, Independent Movies, Children & Family Movies, Dramas, International Movies, Dramas, Independent Movies, Documentaries, International Movies, Sports Movies, Comedies, Cult Movies, Dramas, Documentaries, Dramas, International Movies, Classic Movies, Dramas, International Movies, Dramas, International Movies, Dramas, Thrillers, Dramas, Independent Movies, Romantic Movies, Dramas, Independent Movies, International Movies, Dramas, International Movies, Romantic Movies, Action & Adventure, Dramas, International Movies, Dramas, International Movies, Comedies, Horror Movies, Comedies, International Movies, Sports Movies, Dramas, Thrillers, Documentaries, Action & Adventure, Dramas, International Movies, Children & Family Movies, Classic Movies, Comedies, International TV Shows, TV Dramas, TV Sci-Fi & Fantasy, Dramas, Independent Movies, International Movies, International TV Shows, Romantic TV Shows, TV Dramas, Movies, Documentaries, Dramas, Independent Movies, Action & Adventure, Anime Series, International TV Shows, Horror Movies, Independent Movies, Thrillers, Dramas, Independent Movies, International Movies, Crime TV Shows, International TV Shows, TV Action & Adventure, Action & Adventure, Sci-Fi & Fantasy, Stand-Up Comedy, Stand-Up Comedy, Horror Movies, Independent Movies, International Movies, Sci-Fi & Fantasy, Thrillers, Stand-Up Comedy, Documentaries, Stand-Up Comedy, Comedies, Dramas, Independent Movies, British TV Shows, Reality TV, Romantic TV Shows, British TV Shows, Docuseries, International TV Shows, Dramas, International TV Shows, Reality TV, Dramas, Independent Movies, International Movies, British TV Shows, Crime TV Shows, Docuseries, International TV Shows, Reality TV, British TV Shows, Docuseries, Dramas, International Movies, Thrillers, International TV Shows, Spanish-Language TV Shows, TV Dramas, British TV Shows, Docuseries, International TV Shows, Reality TV, British TV Shows, International TV Shows, Reality TV, International TV Shows, Korean TV Shows, Romantic TV Shows, International TV Shows, TV Action & Adventure, TV Sci-Fi & Fantasy, Action & Adventure, Comedies, Dramas, Independent Movies, Docuseries, International TV Shows, Reality TV, Documentaries, International Movies, Kids' TV, International TV Shows, TV Dramas, TV Thrillers, Kids' TV, TV Comedies, Children & Family Movies, Comedies, Documentaries, International Movies, Music & Musicals, Dramas, International Movies, Thrillers, Documentaries, Sports Movies, Dramas, International Movies, Romantic Movies, Dramas, International Movies, Sports Movies, Stand-Up Comedy, Classic Movies, Comedies, Dramas, Kids' TV, TV Action & Adventure, TV Comedies, Kids' TV, Korean TV Shows, Dramas, Independent Movies, Action & Adventure, Children & Family Movies, Sci-Fi & Fantasy, Crime TV Shows, Docuseries, Stand-Up Comedy, Action & Adventure, Dramas, Independent Movies, Sci-Fi & Fantasy, Thrillers, Children & Family Movies, Comedies, Dramas, Independent Movies, Thrillers, Classic Movies, Dramas, Independent Movies, Kids' TV, Action & Adventure, Sci-Fi & Fantasy, Dramas, Romantic Movies, Children & Family Movies, Documentaries, Documentaries, Documentaries, Documentaries, Documentaries, Documentaries, Documentaries, Documentaries, Documentaries, Documentaries, Documentaries, Documentaries, Documentaries, Documentaries, Documentaries, Documentaries, Documentaries, Documentaries, Documentaries, Movies, Action & Adventure, Comedies, Classic Movies, Dramas, LGBTQ Movies, Kids' TV, TV Comedies, Children & Family Movies, Classic Movies, Dramas, Anime Series, Children & Family Movies, Independent Movies, Horror Movies, Children & Family Movies, Comedies, Horror Movies, Independent Movies, Action & Adventure, Comedies, Kids' TV, Korean TV Shows, Comedies, Action & Adventure, Classic Movies, Dramas, Thrillers, Children & Family Movies, Documentaries, International Movies, Action & Adventure, Sci-Fi & Fantasy, Action & Adventure, Sci-Fi & Fantasy, Action & Adventure, Sci-Fi & Fantasy, Action & Adventure, Comedies, Children & Family Movies, Comedies, Kids' TV, Korean TV Shows, Documentaries, International Movies, Classic Movies, Dramas, Independent Movies, Action & Adventure, Comedies, Dramas, Comedies, Dramas, International Movies, Stand-Up Comedy, Comedies, Dramas, International Movies, Dramas, International Movies, Romantic Movies, Comedies, International Movies, International TV Shows, TV Comedies, Dramas, Thrillers, Dramas, International Movies, Comedies, Dramas, International Movies, Documentaries, Dramas, Independent Movies, LGBTQ Movies, Dramas, Children & Family Movies, Comedies, Dramas, Dramas, International Movies, Dramas, Independent Movies, LGBTQ Movies, International Movies, Thrillers, Comedies, Dramas, Independent Movies, Dramas, International Movies, Thrillers, Dramas, International Movies, Romantic Movies, Comedies, Dramas, International Movies, Dramas, International Movies, Dramas, Independent Movies, International Movies, Dramas, International Movies, Comedies, International Movies, Dramas, International Movies, Dramas, International Movies, Romantic Movies, Comedies, International Movies, Romantic Movies, Horror Movies, International Movies, Comedies, Independent Movies, LGBTQ Movies, Dramas, International Movies, Music & Musicals, Documentaries, Sports Movies, Dramas, International Movies, Romantic Movies, Dramas, Thrillers, Comedies, Dramas, International Movies, Dramas, International Movies, Documentaries, International Movies, Comedies, Dramas, International Movies, Documentaries, Music & Musicals, Dramas, Independent Movies, International Movies, Dramas, Romantic Movies, Comedies, Dramas, International Movies, International TV Shows, TV Dramas, TV Mysteries, Children & Family Movies, Dramas, Sports Movies, Crime TV Shows, International TV Shows, TV Dramas, Children & Family Movies, Dramas, International Movies, Music & Musicals, Kids' TV, TV Comedies, Dramas, International Movies, Thrillers, International TV Shows, TV Dramas, Children & Family Movies, Comedies, Crime TV Shows, International TV Shows, TV Dramas, Stand-Up Comedy, Horror Movies, Dramas, International Movies, Romantic Movies, Classic Movies, Dramas, International Movies, British TV Shows, Kids' TV, Dramas, Independent Movies, International Movies, International TV Shows, Korean TV Shows, Romantic TV Shows, International TV Shows, TV Dramas, TV Horror, Action & Adventure, International Movies, Comedies, Dramas, International Movies, International TV Shows, Romantic TV Shows, TV Dramas, International Movies, Thrillers, International TV Shows, Romantic TV Shows, TV Dramas, Crime TV Shows, International TV Shows, TV Dramas, International TV Shows, TV Dramas, Dramas, International Movies, Thrillers, Action & Adventure, International Movies, International TV Shows, TV Dramas, Comedies, International Movies, Romantic Movies, Dramas, International Movies, International TV Shows, TV Dramas, International TV Shows, Romantic TV Shows, TV Comedies, Children & Family Movies, Comedies, Crime TV Shows, International TV Shows, TV Dramas, Documentaries, International Movies, TV Comedies, TV Dramas, Stand-Up Comedy, Dramas, Independent Movies, Crime TV Shows, TV Dramas, TV Sci-Fi & Fantasy, International TV Shows, Korean TV Shows, Romantic TV Shows, Dramas, International Movies, Documentaries, International Movies, International Movies, Thrillers, Docuseries, International TV Shows, Science & Nature TV, Dramas, Independent Movies, International Movies, Dramas, International Movies, Action & Adventure, Comedies, Documentaries, Sports Movies, Action & Adventure, Anime Features, International Movies, Comedies, Dramas, International Movies, Action & Adventure, Children & Family Movies, Sci-Fi & Fantasy, Action & Adventure, Children & Family Movies, Sci-Fi & Fantasy, Horror Movies, Independent Movies, Documentaries, Horror Movies, International Movies, Thrillers, Docuseries, Reality TV, Teen TV Shows, Documentaries, Music & Musicals, Horror Movies, Thrillers, International TV Shows, Romantic TV Shows, TV Comedies, Stand-Up Comedy, Dramas, Independent Movies, Comedies, Dramas, International Movies, Action & Adventure, Romantic Movies, Documentaries, International Movies, Dramas, Independent Movies, International Movies, Comedies, Dramas, International Movies, Documentaries, Music & Musicals, Horror Movies, International Movies, Thrillers, Documentaries, Children & Family Movies, Dramas, Documentaries, LGBTQ Movies, Children & Family Movies, Dramas, International Movies, Dramas, International Movies, Sports Movies, Action & Adventure, Comedies, International Movies, Dramas, International Movies, Romantic Movies, Comedies, International Movies, Romantic Movies, Horror Movies, Thrillers, Horror Movies, International Movies, Romantic Movies, Dramas, International Movies, Horror Movies, Thrillers, Anime Series, International TV Shows, TV Horror, Comedies, Independent Movies, Comedies, Dramas, International Movies, Comedies, International Movies, Thrillers, Action & Adventure, International Movies, British TV Shows, International TV Shows, TV Dramas, Kids' TV, Dramas, Independent Movies, International Movies, Anime Series, Crime TV Shows, TV Thrillers, Dramas, International Movies, Music & Musicals, Comedies, Dramas, Independent Movies, International TV Shows, Romantic TV Shows, TV Dramas, Children & Family Movies, Sci-Fi & Fantasy, Dramas, Crime TV Shows, International TV Shows, TV Action & Adventure, Comedies, Horror Movies, International Movies, Children & Family Movies, Documentaries, Comedies, Dramas, International Movies, Kids' TV, Documentaries, Sports Movies, Comedies, Dramas, Documentaries, International Movies, Stand-Up Comedy, Dramas, International Movies, Dramas, International Movies, Dramas, Faith & Spirituality, International Movies, Comedies, Dramas, Independent Movies, Children & Family Movies, Comedies, Comedies, Dramas, Sports Movies, Dramas, International Movies, Music & Musicals, Stand-Up Comedy, Children & Family Movies, British TV Shows, Crime TV Shows, International TV Shows, International TV Shows, Korean TV Shows, TV Dramas, Comedies, International Movies, Romantic Movies, International Movies, Thrillers, Classic Movies, Comedies, Cult Movies, Action & Adventure, Sci-Fi & Fantasy, Documentaries, Faith & Spirituality, International Movies, Stand-Up Comedy, Action & Adventure, Comedies, Sci-Fi & Fantasy, Dramas, Independent Movies, International Movies, Stand-Up Comedy, Dramas, International Movies, Docuseries, International TV Shows, Dramas, International Movies, Sci-Fi & Fantasy, Comedies, Dramas, Faith & Spirituality, Documentaries, International Movies, Documentaries, Documentaries, Comedies, International Movies, Documentaries, Dramas, International Movies, Romantic Movies, Dramas, Independent Movies, International Movies, Dramas, International Movies, Dramas, Faith & Spirituality, International Movies, Dramas, Faith & Spirituality, International Movies, British TV Shows, Docuseries, International TV Shows, Movies, Movies, British TV Shows, Docuseries, Science & Nature TV, International TV Shows, TV Dramas, International Movies, Sci-Fi & Fantasy, Thrillers, International TV Shows, Spanish-Language TV Shows, TV Dramas, Crime TV Shows, Docuseries, International TV Shows, Documentaries, Music & Musicals, Dramas, International Movies, Comedies, Crime TV Shows, Docuseries, Stand-Up Comedy, Stand-Up Comedy, Children & Family Movies, Stand-Up Comedy, Movies, Horror Movies, International Movies, British TV Shows, International TV Shows, TV Dramas, Crime TV Shows, Docuseries, International TV Shows, International TV Shows, Korean TV Shows, TV Action & Adventure, Comedies, International Movies, Action & Adventure, International Movies, International TV Shows, Romantic TV Shows, TV Comedies, Action & Adventure, International Movies, Dramas, International Movies, Crime TV Shows, Docuseries, Children & Family Movies, Comedies, Dramas, International Movies, Music & Musicals, Comedies, Independent Movies, International Movies, International TV Shows, Korean TV Shows, TV Comedies, Stand-Up Comedy, Comedies, Dramas, Romantic Movies, Stand-Up Comedy, Documentaries, Crime TV Shows, International TV Shows, TV Dramas, Children & Family Movies, Comedies, Sci-Fi & Fantasy, Action & Adventure, International Movies, Sci-Fi & Fantasy, Comedies, Independent Movies, Stand-Up Comedy, Stand-Up Comedy, Docuseries, Science & Nature TV, Stand-Up Comedy, Documentaries, International Movies, Crime TV Shows, Docuseries, Comedies, Stand-Up Comedy, Crime TV Shows, International TV Shows, TV Dramas, International TV Shows, Romantic TV Shows, TV Dramas, Comedies, International Movies, Romantic Movies, Dramas, International Movies, Comedies, Dramas, International Movies, Romantic Movies, Docuseries, Science & Nature TV, International TV Shows, TV Action & Adventure, TV Dramas, International TV Shows, Romantic TV Shows, TV Dramas, Action & Adventure, Classic Movies, Comedies, Documentaries, Horror Movies, Comedies, Dramas, Independent Movies, Documentaries, International Movies, Documentaries, Stand-Up Comedy, Comedies, Horror Movies, Thrillers, Comedies, Independent Movies, Dramas, Independent Movies, Action & Adventure, International Movies, Documentaries, Dramas, Sci-Fi & Fantasy, Comedies, Independent Movies, Docuseries, International TV Shows, Romantic TV Shows, TV Dramas, Documentaries, International Movies, Documentaries, International Movies, Dramas, Independent Movies, International Movies, Docuseries, International TV Shows, Docuseries, Independent Movies, International Movies, Thrillers, International TV Shows, Romantic TV Shows, Spanish-Language TV Shows, Documentaries, Dramas, Thrillers, International TV Shows, TV Dramas, TV Horror, International TV Shows, Reality TV, Stand-Up Comedy, TV Shows, Stand-Up Comedy, Action & Adventure, Sci-Fi & Fantasy, Crime TV Shows, International TV Shows, TV Dramas, Documentaries, International Movies, Horror Movies, Comedies, Music & Musicals, International TV Shows, TV Dramas, TV Sci-Fi & Fantasy, Children & Family Movies, Comedies, Dramas, Independent Movies, Dramas, International Movies, Thrillers, Action & Adventure, Anime Features, Children & Family Movies, Dramas, Dramas, Action & Adventure, Sci-Fi & Fantasy, Comedies, Independent Movies, Dramas, Independent Movies, LGBTQ Movies, Stand-Up Comedy, Dramas, Horror Movies, International Movies, Children & Family Movies, Comedies, Dramas, Independent Movies, International Movies, Dramas, International Movies, Thrillers, Crime TV Shows, Docuseries, International Movies, Sci-Fi & Fantasy, Thrillers, Dramas, Action & Adventure, Independent Movies, Action & Adventure, Comedies, Dramas, Documentaries, Dramas, International Movies, Comedies, International Movies, Thrillers, Comedies, International Movies, Independent Movies, Thrillers, International Movies, Thrillers, Classic & Cult TV, Crime TV Shows, International TV Shows, Crime TV Shows, International TV Shows, Spanish-Language TV Shows, International TV Shows, Romantic TV Shows, TV Dramas, Thrillers, Action & Adventure, Dramas, International Movies, Horror Movies, International Movies, Action & Adventure, International Movies, Stand-Up Comedy, Documentaries, Horror Movies, International Movies, Horror Movies, International Movies, Dramas, Sci-Fi & Fantasy, Action & Adventure, International Movies, Sci-Fi & Fantasy, Documentaries, Dramas, Independent Movies, Documentaries, International Movies, Documentaries, Action & Adventure, Dramas, International Movies, International Movies, Romantic Movies, Dramas, International Movies, Music & Musicals, Children & Family Movies, Dramas, Sports Movies, Action & Adventure, International Movies, Sports Movies, Documentaries, Dramas, Independent Movies, International Movies, Dramas, International Movies, Music & Musicals, Documentaries, Sports Movies, Documentaries, International Movies, Dramas, Independent Movies, Dramas, International Movies, International Movies, Thrillers, Dramas, Independent Movies, LGBTQ Movies, Horror Movies, Independent Movies, International Movies, Dramas, International Movies, Dramas, International Movies, Action & Adventure, Dramas, International Movies, Action & Adventure, International Movies, Kids' TV, TV Comedies, Stand-Up Comedy, Dramas, Independent Movies, Action & Adventure, Dramas, International Movies, Documentaries, International TV Shows, TV Dramas, Dramas, Independent Movies, Dramas, International Movies, Romantic Movies, Comedies, Dramas, Independent Movies, Dramas, Independent Movies, Kids' TV, TV Comedies, TV Dramas, Dramas, Horror Movies, Thrillers, Dramas, International Movies, Dramas, Sports Movies, Dramas, International Movies, Documentaries, International Movies, Horror Movies, Thrillers, Crime TV Shows, International TV Shows, Spanish-Language TV Shows, Documentaries, Comedies, Dramas, International Movies, Dramas, Romantic Movies, Horror Movies, Thrillers, Dramas, International Movies, Documentaries, Music & Musicals, Comedies, Independent Movies, Documentaries, International Movies, Stand-Up Comedy, Dramas, Independent Movies, Comedies, Dramas, International Movies, Children & Family Movies, Comedies, Comedies, Dramas, International Movies, International TV Shows, Reality TV, Romantic TV Shows, Documentaries, Music & Musicals, British TV Shows, International TV Shows, TV Comedies, Dramas, Independent Movies, International Movies, Comedies, Dramas, Dramas, Independent Movies, TV Comedies, TV Dramas, British TV Shows, Crime TV Shows, International TV Shows, Crime TV Shows, International TV Shows, TV Dramas, Crime TV Shows, TV Action & Adventure, TV Comedies, Action & Adventure, Dramas, Independent Movies, Action & Adventure, Action & Adventure, Dramas, Classic Movies, Cult Movies, Horror Movies, International TV Shows, Reality TV, TV Comedies, TV Dramas, International TV Shows, TV Action & Adventure, TV Dramas, Stand-Up Comedy, Horror Movies, International Movies, Thrillers, Documentaries, Faith & Spirituality, Stand-Up Comedy, Kids' TV, TV Comedies, Dramas, Children & Family Movies, Comedies, Children & Family Movies, Dramas, Children & Family Movies, Comedies, Dramas, International Movies, Comedies, Romantic Movies, Comedies, International TV Shows, Korean TV Shows, Romantic TV Shows, Comedies, Dramas, Anime Series, Teen TV Shows, Dramas, Children & Family Movies, Comedies, Comedies, Cult Movies, Dramas, Kids' TV, Children & Family Movies, Classic Movies, Comedies, Independent Movies, Thrillers, Dramas, Independent Movies, International Movies, Comedies, Sci-Fi & Fantasy, Action & Adventure, Horror Movies, Sci-Fi & Fantasy, Dramas, Sports Movies, Comedies, Dramas, Thrillers, Action & Adventure, Sci-Fi & Fantasy, Action & Adventure, Sci-Fi & Fantasy, Action & Adventure, Sci-Fi & Fantasy, Horror Movies, Sci-Fi & Fantasy, Comedies, Cult Movies, Horror Movies, Thrillers, Horror Movies, Thrillers, Horror Movies, Children & Family Movies, Dramas, Horror Movies, Children & Family Movies, Comedies, Children & Family Movies, Comedies, Children & Family Movies, Comedies, Action & Adventure, Sci-Fi & Fantasy, Horror Movies, International Movies, Thrillers, Action & Adventure, Sci-Fi & Fantasy, Children & Family Movies, Comedies, Music & Musicals, Comedies, Cult Movies, Comedies, Romantic Movies, Action & Adventure, Action & Adventure, Sci-Fi & Fantasy, Thrillers, Comedies, Dramas, International Movies, Stand-Up Comedy, Children & Family Movies, Comedies, Sci-Fi & Fantasy, Comedies, Dramas, Comedies, Romantic Movies, Action & Adventure, Action & Adventure, Comedies, Cult Movies, Sports Movies, Thrillers, Classic Movies, Dramas, Music & Musicals, Children & Family Movies, International TV Shows, Korean TV Shows, TV Dramas, Children & Family Movies, Comedies, Dramas, Independent Movies, Dramas, Independent Movies, International Movies, Comedies, Dramas, International Movies, TV Dramas, TV Thrillers, Comedies, Romantic Movies, Dramas, Independent Movies, Sci-Fi & Fantasy, Dramas, Children & Family Movies, Comedies, Crime TV Shows, Docuseries, International TV Shows, Dramas, International Movies, Sci-Fi & Fantasy, Horror Movies, Thrillers, Action & Adventure, Anime Features, Children & Family Movies, Dramas, International Movies, Romantic Movies, International TV Shows, Korean TV Shows, Romantic TV Shows, Action & Adventure, Horror Movies, Sci-Fi & Fantasy, Action & Adventure, Comedies, International TV Shows, Korean TV Shows, TV Dramas, Comedies, Horror Movies, Action & Adventure, Horror Movies, Thrillers, Children & Family Movies, Comedies, TV Dramas, Classic Movies, Comedies, Romantic Movies, Children & Family Movies, Comedies, Children & Family Movies, Comedies, Dramas, Horror Movies, Music & Musicals, Children & Family Movies, Comedies, Action & Adventure, Comedies, Action & Adventure, Sci-Fi & Fantasy, Action & Adventure, Sci-Fi & Fantasy, Horror Movies, International TV Shows, Korean TV Shows, Romantic TV Shows, Reality TV, Horror Movies, Thrillers, Classic Movies, Independent Movies, Thrillers, Action & Adventure, Comedies, Action & Adventure, Comedies, Horror Movies, Comedies, Romantic Movies, Action & Adventure, Sci-Fi & Fantasy, Action & Adventure, Sci-Fi & Fantasy, Action & Adventure, Romantic Movies, Comedies, Comedies, Cult Movies, Classic Movies, Dramas, Sports Movies, Stand-Up Comedy, Action & Adventure, Horror Movies, Thrillers, Dramas, Thrillers, Comedies, Cult Movies, Horror Movies, Comedies, Horror Movies, Sci-Fi & Fantasy, Comedies, Horror Movies, Sci-Fi & Fantasy, Comedies, Horror Movies, Sci-Fi & Fantasy, Comedies, Horror Movies, Sci-Fi & Fantasy, Classic Movies, Dramas, Comedies, Dramas, Romantic Movies, Horror Movies, Thrillers, Action & Adventure, Comedies, Sci-Fi & Fantasy, Children & Family Movies, Classic Movies, Comedies, Action & Adventure, Comedies, Romantic Movies, Dramas, Independent Movies, LGBTQ Movies, Dramas, Music & Musicals, Romantic Movies, Dramas, Independent Movies, Comedies, International Movies, Romantic Movies, Action & Adventure, Dramas, Action & Adventure, Sci-Fi & Fantasy, Children & Family Movies, Comedies, Children & Family Movies, Comedies, Independent Movies, Crime TV Shows, TV Comedies, TV Dramas, Dramas, Independent Movies, Action & Adventure, Children & Family Movies, Sci-Fi & Fantasy, Action & Adventure, Children & Family Movies, Classic Movies, Action & Adventure, Children & Family Movies, Classic Movies, Action & Adventure, Children & Family Movies, Classic Movies, Comedies, Cult Movies, Dramas, Music & Musicals, Documentaries, LGBTQ Movies, Comedies, Dramas, Dramas, Independent Movies, Romantic Movies, Action & Adventure, Comedies, Independent Movies, Dramas, Independent Movies, International Movies, Dramas, Stand-Up Comedy, Thrillers, Anime Features, Children & Family Movies, Classic Movies, Cult Movies, Dramas, International Movies, Thrillers, Dramas, Independent Movies, International Movies, Action & Adventure, Dramas, Dramas, Independent Movies, International Movies, Action & Adventure, Cult Movies, Sci-Fi & Fantasy, Dramas, Independent Movies, LGBTQ Movies, Reality TV, Dramas, Independent Movies, Thrillers, Stand-Up Comedy, Action & Adventure, Sports Movies, Action & Adventure, Comedies, Dramas, International Movies, Comedies, Dramas, International Movies, Documentaries, Dramas, International Movies, Children & Family Movies, Comedies, Dramas, Dramas, Independent Movies, International Movies, Dramas, International Movies, Documentaries, International Movies, Documentaries, International Movies, Documentaries, International Movies, Dramas, Independent Movies, International Movies, Anime Series, International TV Shows, Documentaries, Comedies, Independent Movies, International Movies, Horror Movies, Independent Movies, Thrillers, Dramas, International Movies, Classic Movies, Dramas, International Movies, Dramas, International Movies, Music & Musicals, Comedies, International Movies, Romantic Movies, Action & Adventure, International Movies, Documentaries, Music & Musicals, Comedies, Dramas, International Movies, Dramas, International Movies, Documentaries, Dramas, International Movies, Music & Musicals, Documentaries, Faith & Spirituality, Comedies, International Movies, Romantic Movies, Comedies, International Movies, Sci-Fi & Fantasy, Children & Family Movies, Children & Family Movies, Children & Family Movies, Children & Family Movies, Children & Family Movies, Documentaries, Documentaries, Music & Musicals, Dramas, Independent Movies, International Movies, Dramas, International Movies, Anime Series, Kids' TV, Documentaries, Music & Musicals, Comedies, Dramas, International Movies, Comedies, International Movies, Dramas, Independent Movies, Thrillers, Action & Adventure, Dramas, International Movies, Dramas, International Movies, Dramas, International Movies, Crime TV Shows, International TV Shows, TV Dramas, Dramas, Independent Movies, International Movies, Thrillers, Horror Movies, Thrillers, Comedies, Dramas, International Movies, Documentaries, Dramas, International Movies, Docuseries, Comedies, Dramas, International Movies, International TV Shows, Romantic TV Shows, TV Dramas, Documentaries, International Movies, International TV Shows, Romantic TV Shows, TV Dramas, Dramas, International Movies, Thrillers, Children & Family Movies, Comedies, International TV Shows, Romantic TV Shows, TV Comedies, International TV Shows, Romantic TV Shows, TV Comedies, Dramas, Independent Movies, International Movies, Comedies, Independent Movies, LGBTQ Movies, International TV Shows, Romantic TV Shows, TV Comedies, Dramas, International Movies, Dramas, International Movies, Documentaries, International Movies, Documentaries, International Movies, Documentaries, Dramas, International Movies, International TV Shows, Romantic TV Shows, TV Comedies, International TV Shows, Romantic TV Shows, TV Comedies, Documentaries, International Movies, Kids' TV, Kids' TV, TV Comedies, Kids' TV, Kids' TV, Kids' TV, Kids' TV, Kids' TV, Kids' TV, Kids' TV, Kids' TV, Kids' TV, Kids' TV, Kids' TV, Movies, Children & Family Movies, Movies, Kids' TV, Movies, Kids' TV, Children & Family Movies, Sci-Fi & Fantasy, Movies, Kids' TV, Kids' TV, Kids' TV, Kids' TV, Kids' TV, Children & Family Movies, Children & Family Movies, Kids' TV, Dramas, Independent Movies, Thrillers, Children & Family Movies, Dramas, Faith & Spirituality, International TV Shows, Romantic TV Shows, TV Dramas, Documentaries, Horror Movies, International Movies, Thrillers, Documentaries, International Movies, Crime TV Shows, International TV Shows, TV Dramas, Comedies, Romantic Movies, Horror Movies, International Movies, Dramas, Sports Movies, Children & Family Movies, Comedies, Children & Family Movies, Comedies, International TV Shows, Reality TV, Spanish-Language TV Shows, Documentaries, Music & Musicals, Dramas, Independent Movies, International Movies, Crime TV Shows, International TV Shows, Spanish-Language TV Shows, Action & Adventure, Dramas, International Movies, Children & Family Movies, Comedies, International Movies, Romantic Movies, Children & Family Movies, Music & Musicals, Docuseries, Science & Nature TV, Comedies, LGBTQ Movies, International TV Shows, TV Comedies, Comedies, Music & Musicals, Romantic Movies, Action & Adventure, International Movies, Sci-Fi & Fantasy, Comedies, Dramas, Independent Movies, Music & Musicals, Stand-Up Comedy, TV Action & Adventure, TV Dramas, Comedies, Horror Movies, Independent Movies, Children & Family Movies, Comedies, Dramas, Thrillers, Crime TV Shows, International TV Shows, TV Dramas, Crime TV Shows, International TV Shows, Korean TV Shows, Stand-Up Comedy, British TV Shows, Crime TV Shows, International TV Shows, International TV Shows, TV Dramas, Anime Series, International TV Shows, Romantic TV Shows, Crime TV Shows, International TV Shows, TV Dramas, Dramas, Independent Movies, LGBTQ Movies, Action & Adventure, Sci-Fi & Fantasy, Dramas, Thrillers, Documentaries, International Movies, Documentaries, Action & Adventure, Dramas, Independent Movies, Stand-Up Comedy, Action & Adventure, Horror Movies, Thrillers, Dramas, Independent Movies, Stand-Up Comedy & Talk Shows, International TV Shows, Korean TV Shows, Romantic TV Shows, Stand-Up Comedy, Dramas, Documentaries, Faith & Spirituality, Dramas, International Movies, Thrillers, Dramas, Independent Movies, International Movies, Documentaries, Sports Movies, Comedies, Dramas, International Movies, Thrillers, Documentaries, Stand-Up Comedy, Dramas, LGBTQ Movies, Dramas, International Movies, Romantic Movies, Action & Adventure, Comedies, International Movies, Comedies, International Movies, Romantic Movies, Comedies, Dramas, International Movies, Dramas, Independent Movies, International Movies, Comedies, Dramas, International Movies, Comedies, International Movies, Comedies, International Movies, Romantic Movies, Dramas, International Movies, Romantic Movies, Dramas, International Movies, Dramas, International Movies, Romantic Movies, Dramas, International Movies, Romantic Movies, Dramas, International Movies, Romantic Movies, Comedies, International Movies, Crime TV Shows, TV Dramas, Comedies, Dramas, International Movies, Comedies, International Movies, Romantic Movies, Movies, Stand-Up Comedy, Action & Adventure, International Movies, Stand-Up Comedy, Comedies, Dramas, Independent Movies, Stand-Up Comedy, Comedies, Dramas, Romantic Movies, Dramas, Independent Movies, Horror Movies, Independent Movies, Sci-Fi & Fantasy, Documentaries, International Movies, Dramas, International Movies, Action & Adventure, Romantic Movies, Documentaries, International Movies, Independent Movies, Thrillers, Children & Family Movies, Dramas, Dramas, Independent Movies, International Movies, Horror Movies, International Movies, Thrillers, Crime TV Shows, International TV Shows, Spanish-Language TV Shows, Action & Adventure, International Movies, Anime Series, International TV Shows, Action & Adventure, Anime Features, International Movies, Action & Adventure, Anime Features, International Movies, Action & Adventure, Anime Features, International Movies, Dramas, Independent Movies, Thrillers, Kids' TV, International TV Shows, Korean TV Shows, TV Comedies, Children & Family Movies, Sci-Fi & Fantasy, Dramas, International Movies, International TV Shows, Romantic TV Shows, TV Comedies, Sci-Fi & Fantasy, Thrillers, Crime TV Shows, TV Dramas, Crime TV Shows, Docuseries, International TV Shows, Docuseries, Action & Adventure, Independent Movies, Sci-Fi & Fantasy, Documentaries, International Movies, Stand-Up Comedy, Dramas, International Movies, Comedies, Dramas, Independent Movies, Dramas, Independent Movies, International Movies, Dramas, Independent Movies, International Movies, Action & Adventure, Documentaries, Dramas, British TV Shows, Docuseries, International TV Shows, Docuseries, Docuseries, Children & Family Movies, Documentaries, International Movies, Crime TV Shows, Docuseries, Documentaries, International Movies, Documentaries, International Movies, Documentaries, International Movies, Documentaries, International Movies, Documentaries, Docuseries, Dramas, International Movies, Thrillers, Dramas, International Movies, Dramas, International Movies, Thrillers, Dramas, Dramas, Stand-Up Comedy, Documentaries, Stand-Up Comedy, Documentaries, LGBTQ Movies, Documentaries, International Movies, Children & Family Movies, Dramas, International Movies, Dramas, International Movies, Music & Musicals, Horror Movies, Thrillers, Horror Movies, Sci-Fi & Fantasy, Dramas, Independent Movies, International Movies, Docuseries, Science & Nature TV, Action & Adventure, Sci-Fi & Fantasy, Crime TV Shows, TV Action & Adventure, TV Dramas, Docuseries, Reality TV, Stand-Up Comedy, Dramas, International Movies, Romantic Movies, Comedies, Dramas, International Movies, Comedies, Dramas, Independent Movies, Dramas, Independent Movies, LGBTQ Movies, Children & Family Movies, Comedies, Docuseries, Documentaries, Thrillers, Action & Adventure, Dramas, International Movies, Dramas, International Movies, Thrillers, International TV Shows, Korean TV Shows, Stand-Up Comedy & Talk Shows, International Movies, Thrillers, Children & Family Movies, Documentaries, Children & Family Movies, Music & Musicals, Docuseries, Action & Adventure, Anime Features, Horror Movies, Children & Family Movies, Comedies, Children & Family Movies, Comedies, Dramas, International Movies, International TV Shows, TV Dramas, TV Horror, Action & Adventure, Crime TV Shows, Docuseries, Dramas, Independent Movies, International Movies, Action & Adventure, International TV Shows, Korean TV Shows, Romantic TV Shows, Dramas, Independent Movies, International Movies, Action & Adventure, International Movies, Dramas, International Movies, Thrillers, Action & Adventure, Dramas, International Movies, Documentaries, Horror Movies, Stand-Up Comedy, TV Comedies, TV Dramas, Teen TV Shows, Dramas, Romantic Movies, Docuseries, International TV Shows, Dramas, Independent Movies, LGBTQ Movies, Comedies, Dramas, Independent Movies, Action & Adventure, Sci-Fi & Fantasy, Dramas, Comedies, International Movies, Comedies, Dramas, LGBTQ Movies, Dramas, International Movies, Sci-Fi & Fantasy, Dramas, International Movies, Documentaries, Comedies, Dramas, Independent Movies, Dramas, Independent Movies, International Movies, Dramas, International Movies, Dramas, Thrillers, Comedies, Dramas, International Movies, International TV Shows, TV Comedies, TV Dramas, Docuseries, TV Comedies, Comedies, International Movies, Dramas, International Movies, Romantic Movies, Dramas, Faith & Spirituality, Action & Adventure, Comedies, International Movies, Romantic Movies, Dramas, International Movies, Crime TV Shows, Docuseries, International TV Shows, Comedies, Independent Movies, International Movies, Horror Movies, Thrillers, International TV Shows, Spanish-Language TV Shows, TV Horror, TV Action & Adventure, TV Mysteries, TV Sci-Fi & Fantasy, Comedies, International Movies, Romantic Movies, Comedies, Dramas, Independent Movies, Comedies, International Movies, Action & Adventure, Dramas, International Movies, Action & Adventure, Dramas, International Movies, Action & Adventure, Dramas, International Movies, Comedies, Dramas, International Movies, Dramas, International Movies, Crime TV Shows, International TV Shows, TV Dramas, International Movies, Romantic Movies, International TV Shows, TV Dramas, TV Mysteries, Dramas, International Movies, Music & Musicals, Dramas, International Movies, Action & Adventure, International Movies, Sci-Fi & Fantasy, Dramas, Faith & Spirituality, International Movies, Dramas, International Movies, Dramas, Independent Movies, International Movies, Dramas, Independent Movies, Comedies, International Movies, International TV Shows, Korean TV Shows, TV Dramas, Documentaries, Music & Musicals, International TV Shows, Korean TV Shows, Romantic TV Shows, International Movies, Thrillers, Dramas, International Movies, Documentaries, International Movies, Sports Movies, Reality TV, Romantic TV Shows, Comedies, Independent Movies, Stand-Up Comedy, Stand-Up Comedy, Comedies, International Movies, Romantic Movies, Docuseries, Comedies, Independent Movies, Stand-Up Comedy, Comedies, Dramas, International Movies, International TV Shows, Korean TV Shows, TV Dramas, Comedies, Dramas, Romantic Movies, Action & Adventure, Dramas, International Movies, Documentaries, Documentaries, Documentaries, Dramas, Independent Movies, International Movies, Dramas, International Movies, Dramas, Independent Movies, Action & Adventure, Dramas, International Movies, Anime Series, International TV Shows, Comedies, International Movies, Stand-Up Comedy, Documentaries, International Movies, TV Shows, Documentaries, Comedies, Dramas, International Movies, International TV Shows, Spanish-Language TV Shows, TV Dramas, Docuseries, Dramas, Independent Movies, International Movies, Docuseries, Children & Family Movies, Comedies, Comedies, Dramas, International Movies, Documentaries, Movies, Dramas, International Movies, British TV Shows, Crime TV Shows, Docuseries, Documentaries, International Movies, Documentaries, British TV Shows, Docuseries, Movies, Kids' TV, Children & Family Movies, Children & Family Movies, Action & Adventure, Children & Family Movies, Crime TV Shows, Docuseries, International TV Shows, Horror Movies, British TV Shows, Docuseries, Action & Adventure, British TV Shows, Reality TV, Dramas, International Movies, Thrillers, TV Comedies, TV Dramas, Crime TV Shows, International TV Shows, TV Dramas, Anime Series, International TV Shows, British TV Shows, Docuseries, Science & Nature TV, British TV Shows, Reality TV, British TV Shows, Docuseries, Comedies, Dramas, Docuseries, Horror Movies, Thrillers, Comedies, Dramas, International Movies, Children & Family Movies, Dramas, Thrillers, Documentaries, Documentaries, British TV Shows, Docuseries, Movies, Documentaries, Action & Adventure, Sci-Fi & Fantasy, Documentaries, Dramas, International Movies, Music & Musicals, Documentaries, LGBTQ Movies, Documentaries, Music & Musicals, Dramas, Independent Movies, International Movies, Documentaries, Music & Musicals, Documentaries, Kids' TV, TV Comedies, Action & Adventure, International Movies, Documentaries, Documentaries, Dramas, Independent Movies, Romantic Movies, Dramas, British TV Shows, Kids' TV, British TV Shows, Docuseries, International TV Shows, Documentaries, Crime TV Shows, Romantic TV Shows, Spanish-Language TV Shows, Dramas, Independent Movies, International Movies, Action & Adventure, Dramas, International Movies, Documentaries, International Movies, Sports Movies, Action & Adventure, Comedies, Dramas, Dramas, Independent Movies, International Movies, Action & Adventure, Comedies, International Movies, Documentaries, International Movies, Music & Musicals, Documentaries, International Movies, Dramas, Thrillers, Comedies, International Movies, Dramas, Independent Movies, International Movies, International TV Shows, Reality TV, Spanish-Language TV Shows, Classic Movies, Cult Movies, Documentaries, TV Shows, Documentaries, Sports Movies, Dramas, International Movies, Romantic Movies, Children & Family Movies, Comedies, Kids' TV, Crime TV Shows, TV Dramas, TV Thrillers, Movies, Horror Movies, Independent Movies, Dramas, Independent Movies, Romantic Movies, Crime TV Shows, Docuseries, Crime TV Shows, International TV Shows, Spanish-Language TV Shows, Children & Family Movies, Music & Musicals, Action & Adventure, Sci-Fi & Fantasy, Docuseries, International TV Shows, Reality TV, Comedies, International Movies, Action & Adventure, International Movies, Action & Adventure, International Movies, Comedies, Dramas, International Movies, Action & Adventure, Comedies, Independent Movies, Dramas, International Movies, Romantic Movies, Comedies, Dramas, International Movies, Dramas, International Movies, Romantic Movies, Action & Adventure, Comedies, International Movies, Dramas, International Movies, Comedies, Dramas, Action & Adventure, International Movies, Comedies, International Movies, Music & Musicals, Dramas, International Movies, Music & Musicals, Comedies, Dramas, International Movies, Comedies, Dramas, Independent Movies, Dramas, International Movies, Music & Musicals, Dramas, International Movies, Action & Adventure, International Movies, Action & Adventure, International TV Shows, Romantic TV Shows, TV Comedies, Comedies, Dramas, Independent Movies, Docuseries, International TV Shows, Children & Family Movies, Comedies, Sci-Fi & Fantasy, Dramas, Faith & Spirituality, International Movies, Comedies, International Movies, Crime TV Shows, International TV Shows, TV Dramas, Comedies, Dramas, Independent Movies, Movies, Action & Adventure, Children & Family Movies, Dramas, International TV Shows, TV Dramas, Documentaries, Music & Musicals, Children & Family Movies, Documentaries, Documentaries, Faith & Spirituality, TV Comedies, Comedies, International Movies, Dramas, International Movies, British TV Shows, International TV Shows, Reality TV, Dramas, Action & Adventure, Anime Features, Sci-Fi & Fantasy, Dramas, International Movies, Children & Family Movies, Anime Series, International TV Shows, Romantic TV Shows, Crime TV Shows, Docuseries, Comedies, Dramas, International TV Shows, Spanish-Language TV Shows, TV Dramas, Crime TV Shows, International TV Shows, Romantic TV Shows, Romantic TV Shows, TV Dramas, Comedies, Dramas, International Movies, Comedies, Dramas, International Movies, Crime TV Shows, TV Action & Adventure, TV Comedies, International Movies, LGBTQ Movies, Romantic Movies, Children & Family Movies, Comedies, Music & Musicals, Dramas, Independent Movies, Romantic Movies, Documentaries, Sports Movies, Music & Musicals, Stand-Up Comedy, Dramas, Independent Movies, International Movies, Children & Family Movies, Dramas, Romantic Movies, International TV Shows, Romantic TV Shows, TV Comedies, Documentaries, TV Action & Adventure, TV Dramas, TV Horror, Dramas, Sports Movies, Kids' TV, TV Comedies, Stand-Up Comedy, Dramas, Independent Movies, Thrillers, Stand-Up Comedy, Dramas, International Movies, Romantic Movies, International TV Shows, TV Dramas, Teen TV Shows, International TV Shows, Romantic TV Shows, Spanish-Language TV Shows, Dramas, Faith & Spirituality, Stand-Up Comedy, Dramas, Independent Movies, International Movies, Dramas, International Movies, Sports Movies, Comedies, Music & Musicals, Dramas, International Movies, Thrillers, Dramas, International Movies, Horror Movies, International Movies, Thrillers, Horror Movies, Independent Movies, International Movies, Dramas, International Movies, Romantic Movies, Dramas, Independent Movies, International Movies, Action & Adventure, Classic Movies, Comedies, Dramas, Independent Movies, International Movies, Docuseries, International TV Shows, Dramas, International Movies, Classic Movies, Comedies, Dramas, Dramas, Independent Movies, International Movies, Comedies, Sports Movies, Comedies, International Movies, Romantic Movies, Horror Movies, International Movies, Thrillers, Classic Movies, Dramas, International Movies, Horror Movies, Comedies, International Movies, Romantic Movies, Cult Movies, Horror Movies, Classic Movies, Comedies, International Movies, Independent Movies, International Movies, Thrillers, Action & Adventure, Comedies, International Movies, Action & Adventure, Action & Adventure, Classic Movies, Dramas, Dramas, Independent Movies, International Movies, Action & Adventure, Dramas, International Movies, Action & Adventure, Dramas, International Movies, Classic Movies, Comedies, International Movies, Action & Adventure, Comedies, International Movies, Comedies, Romantic Movies, Action & Adventure, Comedies, Dramas, Comedies, Dramas, International Movies, Romantic Movies, Dramas, International Movies, Action & Adventure, Dramas, International Movies, International Movies, Thrillers, Comedies, International Movies, Romantic Movies, Action & Adventure, Dramas, International Movies, Comedies, Dramas, Independent Movies, Classic Movies, Comedies, Dramas, International Movies, Romantic Movies, Dramas, Independent Movies, International Movies, Comedies, International Movies, Music & Musicals, Dramas, Independent Movies, International Movies, Comedies, International Movies, Romantic Movies, Action & Adventure, Comedies, International Movies, Dramas, International Movies, Thrillers, Dramas, Independent Movies, International Movies, Kids' TV, Korean TV Shows, Kids' TV, Comedies, Dramas, Independent Movies, Classic Movies, Dramas, International Movies, Comedies, Dramas, International Movies, Action & Adventure, Cult Movies, Dramas, Independent Movies, International Movies, Dramas, Independent Movies, International Movies, Dramas, International Movies, Romantic Movies, Classic Movies, Dramas, International Movies, Comedies, Cult Movies, Dramas, Action & Adventure, Dramas, International Movies, Dramas, Independent Movies, International Movies, Dramas, International Movies, Action & Adventure, Classic Movies, Cult Movies, International TV Shows, Spanish-Language TV Shows, TV Comedies, Action & Adventure, Action & Adventure, Dramas, Independent Movies, International Movies, Comedies, Dramas, Independent Movies, Dramas, Independent Movies, International Movies, Comedies, Dramas, International Movies, Dramas, International Movies, Thrillers, International TV Shows, TV Dramas, Comedies, Dramas, International Movies, Stand-Up Comedy, Documentaries, Stand-Up Comedy, Stand-Up Comedy, Stand-Up Comedy, Docuseries, TV Comedies, Reality TV, Stand-Up Comedy, Stand-Up Comedy, Reality TV, Documentaries, International Movies, Music & Musicals, Stand-Up Comedy, Stand-Up Comedy, Stand-Up Comedy, Documentaries, Comedies, Horror Movies, International Movies, Reality TV, Music & Musicals, Documentaries, Action & Adventure, Anime Features, International Movies, Stand-Up Comedy, Stand-Up Comedy, Music & Musicals, Stand-Up Comedy, Music & Musicals, Stand-Up Comedy, Stand-Up Comedy, Stand-Up Comedy, Kids' TV, Documentaries, Documentaries, Sports Movies, Stand-Up Comedy & Talk Shows, TV Comedies, Classic & Cult TV, Kids' TV, Spanish-Language TV Shows, Documentaries, International Movies, Documentaries, International Movies, Comedies, International Movies, Kids' TV, TV Comedies, Horror Movies, Crime TV Shows, International TV Shows, Romantic TV Shows, Documentaries, International Movies, International TV Shows, Romantic TV Shows, Spanish-Language TV Shows, International TV Shows, Romantic TV Shows, Spanish-Language TV Shows, International TV Shows, Romantic TV Shows, Spanish-Language TV Shows, Documentaries, International Movies, Children & Family Movies, Dramas, Thrillers, Dramas, Independent Movies, International Movies, Crime TV Shows, TV Comedies, TV Dramas, Anime Series, International TV Shows, Documentaries, Dramas, Independent Movies, TV Shows, Horror Movies, Independent Movies, Thrillers, Comedies, International Movies, Sports Movies, International TV Shows, Korean TV Shows, Romantic TV Shows, Comedies, International Movies, Stand-Up Comedy, Action & Adventure, Comedies, Children & Family Movies, Dramas, British TV Shows, Docuseries, Science & Nature TV, Action & Adventure, Independent Movies, Dramas, International Movies, Dramas, Independent Movies, International Movies, Dramas, Crime TV Shows, International TV Shows, TV Dramas, Crime TV Shows, International TV Shows, TV Dramas, Horror Movies, Thrillers, Action & Adventure, Comedies, Dramas, British TV Shows, Docuseries, International TV Shows, International TV Shows, TV Dramas, Children & Family Movies, Comedies, Music & Musicals, Dramas, International Movies, Dramas, International Movies, Documentaries, International Movies, Music & Musicals, Dramas, International Movies, Sci-Fi & Fantasy, Crime TV Shows, International TV Shows, TV Comedies, Action & Adventure, Comedies, Dramas, Crime TV Shows, Docuseries, Documentaries, International Movies, Music & Musicals, Dramas, International Movies, Romantic Movies, International TV Shows, TV Dramas, Teen TV Shows, Documentaries, International Movies, Dramas, International Movies, Thrillers, Documentaries, International Movies, Dramas, International Movies, Action & Adventure, Comedies, International Movies, Documentaries, International Movies, Docuseries, International TV Shows, TV Dramas, TV Mysteries, Children & Family Movies, Comedies, Comedies, International Movies, Dramas, Sci-Fi & Fantasy, Children & Family Movies, Music & Musicals, Action & Adventure, International TV Shows, Reality TV, Reality TV, Teen TV Shows, Kids' TV, Dramas, Independent Movies, International Movies, International TV Shows, TV Dramas, Action & Adventure, Faith & Spirituality, Sci-Fi & Fantasy, Dramas, International Movies, Crime TV Shows, Romantic TV Shows, TV Dramas, Comedies, Independent Movies, Stand-Up Comedy, Documentaries, Crime TV Shows, International TV Shows, TV Dramas, Crime TV Shows, International TV Shows, TV Action & Adventure, International TV Shows, Romantic TV Shows, TV Dramas, International TV Shows, Romantic TV Shows, TV Dramas, Movies, Action & Adventure, Horror Movies, Sci-Fi & Fantasy, Anime Features, Romantic Movies, Children & Family Movies, Comedies, Action & Adventure, Dramas, Action & Adventure, Comedies, International Movies, Horror Movies, Sci-Fi & Fantasy, Thrillers, Action & Adventure, Sci-Fi & Fantasy, Dramas, Thrillers, Documentaries, International TV Shows, Korean TV Shows, TV Comedies, British TV Shows, Docuseries, Science & Nature TV, Documentaries, International Movies, Kids' TV, TV Comedies, Comedies, International Movies, Music & Musicals, Children & Family Movies, Comedies, Anime Series, International TV Shows, Romantic TV Shows, Stand-Up Comedy & Talk Shows, TV Comedies, International TV Shows, Romantic TV Shows, TV Comedies, Anime Series, Kids' TV, Comedies, Independent Movies, British TV Shows, International TV Shows, TV Action & Adventure, Horror Movies, Independent Movies, Thrillers, British TV Shows, Docuseries, Dramas, International Movies, Music & Musicals, Stand-Up Comedy, Documentaries, Thrillers, Crime TV Shows, International TV Shows, TV Dramas, Action & Adventure, Dramas, International TV Shows, Romantic TV Shows, TV Dramas, Docuseries, International TV Shows, Science & Nature TV, Action & Adventure, Sci-Fi & Fantasy, Documentaries, International Movies, Children & Family Movies, Sports Movies, Comedies, International Movies, Docuseries, Comedies, Dramas, International Movies, Dramas, Sci-Fi & Fantasy, Thrillers, International TV Shows, Spanish-Language TV Shows, TV Action & Adventure, International TV Shows, Romantic TV Shows, TV Comedies, International TV Shows, Romantic TV Shows, TV Comedies, International TV Shows, Romantic TV Shows, TV Dramas, Crime TV Shows, International TV Shows, TV Dramas, Anime Series, International TV Shows, TV Thrillers, Documentaries, Comedies, International Movies, Dramas, Thrillers, International TV Shows, TV Action & Adventure, TV Dramas, Dramas, International Movies, Romantic Movies, Documentaries, Movies, Movies, International TV Shows, TV Dramas, Dramas, International Movies, Romantic Movies, International Movies, Music & Musicals, Dramas, International Movies, Romantic Movies, Dramas, International Movies, Dramas, TV Action & Adventure, TV Dramas, TV Mysteries, Sci-Fi & Fantasy, Horror Movies, International Movies, Movies, Anime Series, Crime TV Shows, International TV Shows, Action & Adventure, International Movies, International Movies, Thrillers, Dramas, International Movies, Thrillers, Children & Family Movies, Comedies, International TV Shows, Romantic TV Shows, TV Dramas, Documentaries, Movies, Action & Adventure, Horror Movies, International Movies, Stand-Up Comedy, Children & Family Movies, Comedies, Children & Family Movies, Comedies, Children & Family Movies, Children & Family Movies, TV Horror, TV Mysteries, TV Sci-Fi & Fantasy, Crime TV Shows, International TV Shows, Korean TV Shows, Action & Adventure, Comedies, International Movies, Comedies, International Movies, Romantic Movies, Comedies, International Movies, Romantic Movies, Horror Movies, Independent Movies, Documentaries, Crime TV Shows, TV Comedies, Dramas, Independent Movies, Comedies, Horror Movies, Independent Movies, Kids' TV, Documentaries, International Movies, International TV Shows, Romantic TV Shows, TV Dramas, Dramas, Independent Movies, International Movies, Romantic Movies, Stand-Up Comedy, Crime TV Shows, International TV Shows, TV Comedies, Comedies, Dramas, Faith & Spirituality, Comedies, Romantic Movies, Dramas, Independent Movies, Comedies, Movies, Crime TV Shows, Docuseries, Romantic TV Shows, TV Dramas, Stand-Up Comedy & Talk Shows, TV Comedies, Action & Adventure, Sci-Fi & Fantasy, Dramas, Romantic Movies, Stand-Up Comedy, Movies, Stand-Up Comedy, Dramas, International Movies, Thrillers, Children & Family Movies, Comedies, Action & Adventure, Children & Family Movies, Children & Family Movies, Comedies, Dramas, Romantic Movies, Comedies, Dramas, Independent Movies, Dramas, International Movies, LGBTQ Movies, Documentaries, Comedies, Dramas, International Movies, International TV Shows, Romantic TV Shows, TV Comedies, Children & Family Movies, Comedies, Kids' TV, TV Comedies, Dramas, Thrillers, Comedies, Dramas, Dramas, Romantic Movies, Music & Musicals, Dramas, Romantic Movies, Action & Adventure, International Movies, Kids' TV, Dramas, International TV Shows, Spanish-Language TV Shows, TV Dramas, British TV Shows, International TV Shows, TV Comedies, Documentaries, Dramas, Documentaries, Dramas, Comedies, Dramas, International Movies, International TV Shows, Korean TV Shows, Romantic TV Shows, International TV Shows, Korean TV Shows, Romantic TV Shows, International TV Shows, TV Dramas, Comedies, Dramas, International Movies, Comedies, Dramas, International Movies, Action & Adventure, International Movies, Action & Adventure, International Movies, Music & Musicals, Action & Adventure, Comedies, Dramas, International Movies, Thrillers, Anime Series, International TV Shows, Children & Family Movies, Comedies, International Movies, Comedies, Dramas, International Movies, Documentaries, International Movies, Sports Movies, Comedies, International Movies, Romantic Movies, Dramas, International Movies, Thrillers, Action & Adventure, Dramas, International Movies, Dramas, International Movies, Romantic Movies, Comedies, Dramas, International Movies, Dramas, International Movies, Music & Musicals, Children & Family Movies, Kids' TV, Dramas, International Movies, Thrillers, Children & Family Movies, Comedies, Documentaries, International Movies, Music & Musicals, Comedies, Dramas, International Movies, International TV Shows, TV Horror, TV Thrillers, Reality TV, Children & Family Movies, Sci-Fi & Fantasy, Reality TV, TV Comedies, International Movies, Romantic Movies, Reality TV, Documentaries, Music & Musicals, Documentaries, Music & Musicals, Documentaries, Music & Musicals, Documentaries, Music & Musicals, Documentaries, International Movies, Reality TV, Comedies, Dramas, International Movies, Thrillers, Reality TV, Horror Movies, International Movies, Thrillers, TV Dramas, Anime Series, Kids' TV, Crime TV Shows, International TV Shows, Korean TV Shows, Thrillers, Comedies, Independent Movies, Documentaries, International Movies, LGBTQ Movies, International TV Shows, Stand-Up Comedy & Talk Shows, TV Comedies, Dramas, International Movies, Romantic Movies, Dramas, International Movies, Thrillers, Documentaries, International TV Shows, TV Dramas, TV Mysteries, Documentaries, Dramas, International Movies, Action & Adventure, Dramas, International Movies, Documentaries, International Movies, Dramas, Independent Movies, International Movies, Dramas, Independent Movies, International Movies, Comedies, Dramas, International Movies, Comedies, Independent Movies, Horror Movies, International Movies, Comedies, Dramas, International Movies, Comedies, Dramas, International Movies, Action & Adventure, Documentaries, Sports Movies, Crime TV Shows, Docuseries, Comedies, International Movies, Crime TV Shows, International TV Shows, TV Dramas, International TV Shows, Korean TV Shows, Romantic TV Shows, Documentaries, Sports Movies, Documentaries, International Movies, International TV Shows, Korean TV Shows, Romantic TV Shows, International TV Shows, Korean TV Shows, TV Dramas, International TV Shows, Korean TV Shows, TV Dramas, International TV Shows, Romantic TV Shows, TV Dramas, International TV Shows, TV Action & Adventure, TV Sci-Fi & Fantasy, International TV Shows, Korean TV Shows, TV Dramas, International TV Shows, Korean TV Shows, Romantic TV Shows, International TV Shows, Korean TV Shows, Romantic TV Shows, International TV Shows, Romantic TV Shows, TV Dramas, Dramas, Independent Movies, International Movies, International TV Shows, Romantic TV Shows, TV Dramas, Comedies, Dramas, Independent Movies, Dramas, Documentaries, International Movies, Music & Musicals, International TV Shows, Korean TV Shows, Romantic TV Shows, British TV Shows, Crime TV Shows, Docuseries, Dramas, Independent Movies, International Movies, Action & Adventure, Dramas, Faith & Spirituality, British TV Shows, Docuseries, International TV Shows, TV Comedies, Crime TV Shows, Docuseries, Crime TV Shows, International TV Shows, TV Dramas, Documentaries, Sports Movies, Action & Adventure, Dramas, Comedies, International Movies, Comedies, International Movies, Romantic Movies, Comedies, International Movies, Romantic Movies, Dramas, International Movies, Romantic Movies, Horror Movies, International Movies, Thrillers, International Movies, Thrillers, International TV Shows, TV Dramas, Stand-Up Comedy, Anime Series, International TV Shows, Documentaries, Stand-Up Comedy, Comedies, Dramas, International Movies, Dramas, Documentaries, Stand-Up Comedy, Children & Family Movies, Comedies, Children & Family Movies, Documentaries, Sports Movies, Dramas, International Movies, Action & Adventure, Stand-Up Comedy, International TV Shows, TV Dramas, Horror Movies, Horror Movies, Documentaries, Action & Adventure, Comedies, Comedies, International Movies, Stand-Up Comedy, Horror Movies, Thrillers, Thrillers, Documentaries, LGBTQ Movies, International TV Shows, TV Dramas, International TV Shows, TV Dramas, TV Thrillers, Documentaries, Sports Movies, Children & Family Movies, Comedies, Music & Musicals, Comedies, Cult Movies, Action & Adventure, Comedies, Comedies, Action & Adventure, Comedies, Sci-Fi & Fantasy, Comedies, International Movies, Romantic Movies, Dramas, Thrillers, Dramas, International Movies, Thrillers, Comedies, International Movies, Romantic Movies, Dramas, Independent Movies, Music & Musicals, Documentaries, International Movies, Dramas, International Movies, Romantic Movies, Dramas, International Movies, Romantic Movies, Comedies, Dramas, International Movies, Stand-Up Comedy, British TV Shows, Kids' TV, Dramas, Thrillers, Dramas, International Movies, Romantic Movies, Documentaries, International Movies, Music & Musicals, International TV Shows, Korean TV Shows, TV Dramas, Dramas, Independent Movies, Thrillers, Children & Family Movies, Dramas, International Movies, Children & Family Movies, Reality TV, Romantic TV Shows, Dramas, Thrillers, Dramas, Independent Movies, Sports Movies, Comedies, Dramas, International Movies, Documentaries, International Movies, Music & Musicals, Dramas, International Movies, Thrillers, International TV Shows, TV Dramas, Dramas, International Movies, Romantic Movies, International Movies, Thrillers, Documentaries, International Movies, Dramas, International Movies, Romantic Movies, Anime Series, International TV Shows, Action & Adventure, Comedies, International Movies, Documentaries, International Movies, Sports Movies, Comedies, International Movies, Romantic Movies, Comedies, Dramas, International Movies, Dramas, International Movies, Comedies, International Movies, Romantic Movies, Comedies, International Movies, Romantic Movies, Action & Adventure, Dramas, International Movies, Kids' TV, Korean TV Shows, Action & Adventure, International Movies, Action & Adventure, Cult Movies, Sci-Fi & Fantasy, Action & Adventure, Dramas, International Movies, Kids' TV, TV Comedies, Children & Family Movies, Comedies, Comedies, International Movies, Romantic Movies, International TV Shows, Reality TV, TV Action & Adventure, Movies, Action & Adventure, Comedies, International Movies, Dramas, International Movies, Documentaries, Sports Movies, Comedies, International Movies, Dramas, International Movies, Dramas, Romantic Movies, Children & Family Movies, Dramas, Movies, Crime TV Shows, Kids' TV, TV Comedies, Dramas, Independent Movies, International Movies, International TV Shows, Reality TV, International TV Shows, TV Dramas, Documentaries, International Movies, Documentaries, International Movies, LGBTQ Movies, Children & Family Movies, Comedies, Music & Musicals, Dramas, International Movies, Documentaries, International Movies, LGBTQ Movies, Horror Movies, International Movies, Thrillers, International TV Shows, TV Comedies, Children & Family Movies, Dramas, Independent Movies, International Movies, Kids' TV, TV Comedies, International TV Shows, Romantic TV Shows, TV Dramas, Dramas, Dramas, Independent Movies, International Movies, Comedies, International Movies, Music & Musicals, Action & Adventure, International Movies, Music & Musicals, Docuseries, International TV Shows, Spanish-Language TV Shows, Documentaries, International Movies, Sci-Fi & Fantasy, Thrillers, Documentaries, Kids' TV, Documentaries, Sports Movies, Dramas, International Movies, Dramas, Comedies, International Movies, International TV Shows, Romantic TV Shows, TV Comedies, International TV Shows, Romantic TV Shows, TV Comedies, TV Shows, Anime Series, International TV Shows, Dramas, International Movies, Thrillers, Anime Series, Crime TV Shows, International TV Shows, International TV Shows, TV Dramas, Teen TV Shows, Dramas, Independent Movies, Anime Series, Crime TV Shows, Comedies, Dramas, Independent Movies, International TV Shows, Romantic TV Shows, TV Comedies, Stand-Up Comedy, Children & Family Movies, Crime TV Shows, Docuseries, Dramas, Independent Movies, International Movies, Anime Features, Children & Family Movies, International TV Shows, TV Dramas, Children & Family Movies, Comedies, Documentaries, International Movies, Children & Family Movies, Comedies, Stand-Up Comedy, Dramas, Independent Movies, International Movies, Children & Family Movies, Comedies, LGBTQ Movies, Crime TV Shows, International TV Shows, TV Dramas, Docuseries, Kids' TV, TV Comedies, Reality TV, Documentaries, Sports Movies, Dramas, International Movies, Thrillers, Documentaries, Action & Adventure, Crime TV Shows, International TV Shows, Korean TV Shows, International TV Shows, TV Dramas, Children & Family Movies, Comedies, International TV Shows, Korean TV Shows, Romantic TV Shows, International TV Shows, Korean TV Shows, Romantic TV Shows, International TV Shows, Korean TV Shows, TV Dramas, International TV Shows, Korean TV Shows, Romantic TV Shows, International TV Shows, Korean TV Shows, Romantic TV Shows, International TV Shows, Korean TV Shows, Romantic TV Shows, Documentaries, Horror Movies, Independent Movies, International TV Shows, TV Dramas, TV Action & Adventure, TV Sci-Fi & Fantasy, Crime TV Shows, Spanish-Language TV Shows, TV Dramas, International TV Shows, Romantic TV Shows, TV Dramas, Stand-Up Comedy, International Movies, Thrillers, Documentaries, Stand-Up Comedy, Action & Adventure, Dramas, International Movies, Action & Adventure, Dramas, International Movies, Action & Adventure, Dramas, International Movies, Action & Adventure, Dramas, International Movies, Action & Adventure, Dramas, International Movies, Action & Adventure, Dramas, International Movies, Comedies, International Movies, Romantic Movies, Horror Movies, Comedies, Dramas, International Movies, Stand-Up Comedy, Stand-Up Comedy, Comedies, Romantic Movies, Documentaries, Sports Movies, Stand-Up Comedy, Movies, Children & Family Movies, Comedies, International Movies, Action & Adventure, International Movies, Documentaries, International Movies, Dramas, International Movies, International TV Shows, TV Dramas, TV Mysteries, Action & Adventure, International Movies, Sci-Fi & Fantasy, Action & Adventure, Action & Adventure, International Movies, Action & Adventure, International Movies, Stand-Up Comedy, Children & Family Movies, Children & Family Movies, Comedies, Comedies, Dramas, International Movies, Action & Adventure, International Movies, Comedies, Dramas, International Movies, Anime Features, International Movies, Romantic Movies, Stand-Up Comedy, Docuseries, Science & Nature TV, Documentaries, Sports Movies, Independent Movies, Thrillers, TV Comedies, British TV Shows, Kids' TV, International TV Shows, Spanish-Language TV Shows, TV Dramas, Action & Adventure, Comedies, International Movies, Crime TV Shows, Docuseries, International TV Shows, Action & Adventure, Comedies, International Movies, TV Comedies, Comedies, International Movies, Romantic Movies, Comedies, International Movies, Romantic Movies, Crime TV Shows, International TV Shows, Spanish-Language TV Shows, International TV Shows, TV Comedies, Dramas, International Movies, Comedies, International Movies, Anime Series, International TV Shows, Teen TV Shows, Comedies, International Movies, Children & Family Movies, Comedies, Dramas, Reality TV, British TV Shows, International TV Shows, TV Dramas, TV Action & Adventure, TV Dramas, TV Sci-Fi & Fantasy, Crime TV Shows, International TV Shows, Spanish-Language TV Shows, International Movies, Thrillers, Documentaries, Children & Family Movies, Comedies, International Movies, Crime TV Shows, International TV Shows, Spanish-Language TV Shows, British TV Shows, Crime TV Shows, Docuseries, Comedies, Dramas, Docuseries, International Movies, Thrillers, Action & Adventure, Dramas, Independent Movies, Comedies, Romantic Movies, Dramas, Faith & Spirituality, International Movies, Dramas, Independent Movies, International Movies, Kids' TV, Documentaries, Comedies, Stand-Up Comedy, Documentaries, Music & Musicals, Horror Movies, International Movies, Thrillers, Action & Adventure, International Movies, Comedies, International Movies, Romantic Movies, Action & Adventure, International Movies, Dramas, LGBTQ Movies, Documentaries, Docuseries, Dramas, Independent Movies, Stand-Up Comedy, Dramas, International Movies, Independent Movies, Thrillers, International Movies, Thrillers, Dramas, Independent Movies, International Movies, Stand-Up Comedy, Dramas, Dramas, Documentaries, Dramas, Independent Movies, LGBTQ Movies, Action & Adventure, Anime Features, International Movies, Stand-Up Comedy, Dramas, Independent Movies, International Movies, Documentaries, International Movies, International Movies, Thrillers, Horror Movies, Thrillers, Dramas, International Movies, Dramas, International Movies, British TV Shows, TV Dramas, TV Sci-Fi & Fantasy, Comedies, International Movies, Thrillers, Stand-Up Comedy, Crime TV Shows, International TV Shows, Spanish-Language TV Shows, Crime TV Shows, International TV Shows, Spanish-Language TV Shows, International TV Shows, TV Dramas, TV Horror, Comedies, International TV Shows, TV Comedies, TV Dramas, Comedies, Music & Musicals, International TV Shows, TV Comedies, British TV Shows, International TV Shows, Romantic TV Shows, Documentaries, Comedies, Dramas, International Movies, Comedies, International Movies, International Movies, Music & Musicals, International TV Shows, Reality TV, Dramas, Independent Movies, International Movies, Dramas, International Movies, Sci-Fi & Fantasy, Crime TV Shows, International TV Shows, TV Dramas, International Movies, Sci-Fi & Fantasy, Horror Movies, International Movies, Documentaries, International TV Shows, Korean TV Shows, Romantic TV Shows, Stand-Up Comedy, Comedies, Sci-Fi & Fantasy, Documentaries, Horror Movies, International Movies, Thrillers, Horror Movies, International Movies, Thrillers, Horror Movies, International Movies, Thrillers, Reality TV, International Movies, Romantic Movies, Comedies, Dramas, International Movies, Action & Adventure, Dramas, International Movies, Dramas, International Movies, Thrillers, Dramas, International Movies, Romantic Movies, Comedies, Dramas, International Movies, Documentaries, Music & Musicals, International TV Shows, Romantic TV Shows, TV Dramas, Comedies, Horror Movies, International Movies, Action & Adventure, Comedies, International Movies, Documentaries, Dramas, Documentaries, Stand-Up Comedy, Kids' TV, Comedies, Dramas, Comedies, Dramas, Independent Movies, Docuseries, Reality TV, Kids' TV, Dramas, International Movies, Documentaries, Dramas, Comedies, Dramas, International Movies, Dramas, International Movies, Thrillers, Children & Family Movies, Comedies, Dramas, Dramas, Independent Movies, LGBTQ Movies, Horror Movies, Thrillers, Dramas, International Movies, Dramas, International Movies, Romantic Movies, Dramas, International Movies, Music & Musicals, Documentaries, International Movies, Sports Movies, Dramas, International Movies, Dramas, International Movies, Romantic Movies, Action & Adventure, Dramas, International Movies, Comedies, International Movies, Music & Musicals, Comedies, International Movies, Music & Musicals, Comedies, Dramas, International Movies, International Movies, Music & Musicals, Romantic Movies, Action & Adventure, Dramas, International Movies, Action & Adventure, International Movies, Dramas, International Movies, Thrillers, Dramas, International Movies, Action & Adventure, Comedies, International Movies, Dramas, International Movies, Romantic Movies, Comedies, International Movies, Music & Musicals, Comedies, International Movies, Romantic Movies, Comedies, International Movies, Romantic Movies, Children & Family Movies, Dramas, Independent Movies, Stand-Up Comedy, Comedies, Independent Movies, International Movies, Comedies, International Movies, Comedies, International Movies, International Movies, Thrillers, Action & Adventure, Comedies, International Movies, Docuseries, Documentaries, Music & Musicals, Documentaries, International Movies, Music & Musicals, Children & Family Movies, Comedies, Reality TV, Crime TV Shows, TV Action & Adventure, TV Dramas, Documentaries, Sports Movies, Action & Adventure, Sci-Fi & Fantasy, Reality TV, TV Comedies, Comedies, Dramas, Faith & Spirituality, Reality TV, Comedies, Dramas, International Movies, Comedies, International Movies, Romantic Movies, Crime TV Shows, International TV Shows, TV Dramas, Stand-Up Comedy, Children & Family Movies, Comedies, Kids' TV, TV Action & Adventure, TV Comedies, International TV Shows, Romantic TV Shows, Spanish-Language TV Shows, Crime TV Shows, International TV Shows, Spanish-Language TV Shows, Crime TV Shows, International TV Shows, TV Dramas, Anime Series, International TV Shows, Docuseries, Science & Nature TV, Comedies, Crime TV Shows, International TV Shows, Spanish-Language TV Shows, Children & Family Movies, Comedies, Sci-Fi & Fantasy, Sci-Fi & Fantasy, Thrillers, Comedies, Children & Family Movies, International TV Shows, TV Action & Adventure, TV Dramas, Comedies, International Movies, International TV Shows, Spanish-Language TV Shows, TV Action & Adventure, Dramas, International Movies, Sci-Fi & Fantasy, Action & Adventure, Dramas, International Movies, Action & Adventure, International Movies, Action & Adventure, Cult Movies, International Movies, Action & Adventure, International Movies, Action & Adventure, Comedies, International Movies, Action & Adventure, Comedies, International Movies, Dramas, International Movies, Comedies, International Movies, Action & Adventure, International Movies, Comedies, Dramas, International Movies, Action & Adventure, Comedies, International Movies, Comedies, Horror Movies, International Movies, Action & Adventure, International Movies, Dramas, International Movies, Action & Adventure, Comedies, International Movies, Dramas, International Movies, Action & Adventure, International Movies, Action & Adventure, International Movies, Comedies, International Movies, Sci-Fi & Fantasy, Action & Adventure, Comedies, International Movies, Comedies, Dramas, Independent Movies, Anime Series, International TV Shows, Children & Family Movies, International TV Shows, TV Dramas, TV Thrillers, Stand-Up Comedy, Comedies, Dramas, International Movies, LGBTQ Movies, Comedies, Dramas, Independent Movies, Dramas, Comedies, Independent Movies, LGBTQ Movies, Docuseries, International TV Shows, Spanish-Language TV Shows, Docuseries, International TV Shows, Comedies, International Movies, Music & Musicals, Crime TV Shows, International TV Shows, TV Dramas, Documentaries, International Movies, Stand-Up Comedy, Stand-Up Comedy, Comedies, Sports Movies, Crime TV Shows, International TV Shows, TV Dramas, Comedies, Romantic Movies, Comedies, Dramas, Independent Movies, British TV Shows, Docuseries, Documentaries, International Movies, Sports Movies, Documentaries, International Movies, Movies, Documentaries, Documentaries, Crime TV Shows, Docuseries, Dramas, International Movies, International TV Shows, TV Dramas, International TV Shows, TV Dramas, Crime TV Shows, International TV Shows, TV Dramas, International TV Shows, TV Dramas, Comedies, Stand-Up Comedy, Comedies, International Movies, Music & Musicals, Documentaries, Sports Movies, Documentaries, International Movies, Stand-Up Comedy & Talk Shows, TV Comedies, Documentaries, Music & Musicals, Comedies, Independent Movies, Documentaries, Horror Movies, Independent Movies, Thrillers, Kids' TV, Dramas, Dramas, International Movies, Comedies, Romantic Movies, Stand-Up Comedy, Stand-Up Comedy, Stand-Up Comedy, Stand-Up Comedy, Docuseries, International TV Shows, Science & Nature TV, Docuseries, Reality TV, TV Comedies, Dramas, Independent Movies, International Movies, Documentaries, International Movies, Dramas, Romantic Movies, Comedies, Documentaries, Sports Movies, Documentaries, Horror Movies, Independent Movies, Documentaries, Music & Musicals, Action & Adventure, Comedies, Dramas, International Movies, Comedies, Dramas, International Movies, Action & Adventure, Action & Adventure, Sci-Fi & Fantasy, Horror Movies, International Movies, Thrillers, Dramas, International Movies, Thrillers, Comedies, International Movies, Sports Movies, Classic Movies, Comedies, International Movies, Dramas, Horror Movies, Sci-Fi & Fantasy, Dramas, Thrillers, Action & Adventure, Sci-Fi & Fantasy, Crime TV Shows, International TV Shows, Romantic TV Shows, Action & Adventure, Dramas, Independent Movies, International Movies, Action & Adventure, Dramas, International Movies, Thrillers, Docuseries, International TV Shows, Action & Adventure, Classic Movies, Dramas, Dramas, Sports Movies, Dramas, Sports Movies, Dramas, Sports Movies, Dramas, Sports Movies, Comedies, Romantic Movies, Thrillers, International TV Shows, TV Mysteries, TV Thrillers, Comedies, Romantic Movies, Action & Adventure, Dramas, Sci-Fi & Fantasy, International TV Shows, Reality TV, Comedies, Cult Movies, LGBTQ Movies, Dramas, International Movies, Thrillers, Sci-Fi & Fantasy, Thrillers, Comedies, International Movies, Docuseries, International TV Shows, Documentaries, Action & Adventure, Dramas, International Movies, Horror Movies, Thrillers, Action & Adventure, Comedies, International Movies, Dramas, Independent Movies, Music & Musicals, Action & Adventure, International Movies, Dramas, International Movies, Action & Adventure, International Movies, Dramas, Independent Movies, International Movies, Dramas, International Movies, Children & Family Movies, Comedies, Dramas, International Movies, Romantic Movies, Comedies, Horror Movies, International Movies, Action & Adventure, International Movies, Romantic Movies, Crime TV Shows, Docuseries, International TV Shows, Comedies, Dramas, International Movies, Action & Adventure, Dramas, International Movies, Dramas, Independent Movies, International Movies, Dramas, International Movies, Romantic Movies, Dramas, International Movies, Horror Movies, International Movies, Documentaries, Music & Musicals, Documentaries, Music & Musicals, Documentaries, Music & Musicals, Documentaries, Music & Musicals, Comedies, Dramas, International Movies, Comedies, Independent Movies, International Movies, Children & Family Movies, Comedies, Dramas, International Movies, Music & Musicals, Comedies, Dramas, International Movies, International TV Shows, TV Dramas, TV Mysteries, International TV Shows, Romantic TV Shows, TV Dramas, Horror Movies, Sci-Fi & Fantasy, Thrillers, Comedies, Dramas, Action & Adventure, Comedies, Dramas, International Movies, Dramas, Independent Movies, Children & Family Movies, Independent Movies, Dramas, Independent Movies, International Movies, Children & Family Movies, Docuseries, International TV Shows, Reality TV, Dramas, Independent Movies, International Movies, International TV Shows, TV Dramas, TV Sci-Fi & Fantasy, Crime TV Shows, International TV Shows, TV Dramas, Action & Adventure, Cult Movies, Dramas, Documentaries, International Movies, International TV Shows, TV Dramas, British TV Shows, Docuseries, International TV Shows, Crime TV Shows, International TV Shows, TV Dramas, British TV Shows, Docuseries, International TV Shows, British TV Shows, Docuseries, International TV Shows, Comedies, Dramas, International Movies, Crime TV Shows, International TV Shows, TV Dramas, Kids' TV, Children & Family Movies, Comedies, International TV Shows, Romantic TV Shows, TV Dramas, Crime TV Shows, International TV Shows, Romantic TV Shows, International TV Shows, Romantic TV Shows, TV Comedies, Stand-Up Comedy, British TV Shows, Crime TV Shows, Docuseries, Comedies, Independent Movies, Music & Musicals, Children & Family Movies, Dramas, Sports Movies, Crime TV Shows, International TV Shows, Spanish-Language TV Shows, Dramas, Independent Movies, International Movies, Documentaries, International TV Shows, TV Dramas, Documentaries, International Movies, Documentaries, International Movies, Comedies, Dramas, International Movies, International TV Shows, TV Dramas, TV Thrillers, British TV Shows, Docuseries, International TV Shows, Documentaries, International TV Shows, Romantic TV Shows, TV Dramas, British TV Shows, Docuseries, Reality TV, Documentaries, British TV Shows, Crime TV Shows, Docuseries, British TV Shows, Docuseries, Science & Nature TV, Documentaries, Sports Movies, Dramas, International Movies, LGBTQ Movies, Documentaries, Documentaries, International TV Shows, Spanish-Language TV Shows, TV Dramas, International TV Shows, Romantic TV Shows, TV Comedies, International TV Shows, Romantic TV Shows, TV Comedies, International TV Shows, Romantic TV Shows, TV Comedies, International TV Shows, Romantic TV Shows, TV Comedies, Documentaries, International TV Shows, Romantic TV Shows, TV Comedies, International TV Shows, Romantic TV Shows, TV Comedies, International TV Shows, Romantic TV Shows, TV Comedies, Comedies, Horror Movies, Thrillers, International TV Shows, TV Dramas, Comedies, Dramas, Independent Movies, Comedies, International Movies, Dramas, International Movies, Music & Musicals, Action & Adventure, Dramas, International Movies, Documentaries, International Movies, Dramas, International Movies, Romantic Movies, Horror Movies, Thrillers, British TV Shows, International TV Shows, TV Horror, Action & Adventure, Comedies, Dramas, Docuseries, Action & Adventure, Documentaries, Documentaries, International Movies, LGBTQ Movies, Dramas, International Movies, Romantic Movies, Comedies, Independent Movies, Romantic Movies, Thrillers, Dramas, Dramas, Independent Movies, Dramas, Independent Movies, Sports Movies, Dramas, International Movies, Sci-Fi & Fantasy, Documentaries, Faith & Spirituality, Stand-Up Comedy, Comedies, Dramas, Independent Movies, Action & Adventure, Dramas, International Movies, Stand-Up Comedy, British TV Shows, International TV Shows, Romantic TV Shows, Horror Movies, Independent Movies, Action & Adventure, Sci-Fi & Fantasy, Dramas, Independent Movies, Thrillers, TV Dramas, TV Sci-Fi & Fantasy, Teen TV Shows, Horror Movies, International Movies, Thrillers, Docuseries, Science & Nature TV, Action & Adventure, Comedies, Dramas, Documentaries, International Movies, Crime TV Shows, International TV Shows, TV Dramas, Kids' TV, Documentaries, International Movies, Crime TV Shows, International TV Shows, Spanish-Language TV Shows, Comedies, Dramas, Independent Movies, Documentaries, LGBTQ Movies, Music & Musicals, Horror Movies, Independent Movies, TV Dramas, TV Thrillers, Crime TV Shows, International TV Shows, Korean TV Shows, Action & Adventure, Comedies, International Movies, Dramas, International Movies, Romantic Movies, Action & Adventure, Comedies, International Movies, Dramas, International Movies, Comedies, International Movies, Music & Musicals, Comedies, International Movies, Romantic Movies, Dramas, Independent Movies, International Movies, Comedies, International Movies, Children & Family Movies, Action & Adventure, Comedies, International Movies, Comedies, International Movies, Movies, Comedies, International Movies, International TV Shows, TV Action & Adventure, TV Comedies, Stand-Up Comedy, International TV Shows, TV Comedies, TV Dramas, Anime Series, Crime TV Shows, International TV Shows, International TV Shows, TV Comedies, TV Dramas, International TV Shows, TV Comedies, TV Sci-Fi & Fantasy, International TV Shows, TV Comedies, TV Dramas, Documentaries, Crime TV Shows, International TV Shows, Romantic TV Shows, Dramas, International Movies, International TV Shows, TV Dramas, Comedies, International Movies, Romantic Movies, Dramas, International Movies, Action & Adventure, International Movies, Stand-Up Comedy, Horror Movies, International Movies, International TV Shows, Romantic TV Shows, TV Dramas, Stand-Up Comedy, Dramas, Dramas, International Movies, Thrillers, Dramas, Independent Movies, International Movies, Comedies, Dramas, Independent Movies, Dramas, Independent Movies, International Movies, Comedies, Documentaries, Sports Movies, International Movies, Music & Musicals, Documentaries, Documentaries, International TV Shows, Korean TV Shows, Romantic TV Shows, International TV Shows, Korean TV Shows, TV Dramas, Dramas, Dramas, Thrillers, International TV Shows, Korean TV Shows, Romantic TV Shows, British TV Shows, Docuseries, International TV Shows, Dramas, Independent Movies, Docuseries, Children & Family Movies, Dramas, Romantic Movies, International TV Shows, Romantic TV Shows, TV Comedies, Comedies, International Movies, Sports Movies, International TV Shows, TV Dramas, International TV Shows, Reality TV, Romantic TV Shows, Kids' TV, TV Action & Adventure, TV Sci-Fi & Fantasy, Documentaries, Comedies, International TV Shows, Romantic TV Shows, TV Comedies, International TV Shows, TV Dramas, Dramas, International Movies, Dramas, International Movies, TV Horror, TV Mysteries, Teen TV Shows, Action & Adventure, Dramas, International Movies, Comedies, International Movies, Romantic Movies, Comedies, Dramas, International Movies, Comedies, Dramas, International Movies, Documentaries, Music & Musicals, Action & Adventure, Sci-Fi & Fantasy, Docuseries, Comedies, Dramas, Independent Movies, Stand-Up Comedy, Action & Adventure, Dramas, Comedies, International Movies, Horror Movies, International Movies, Children & Family Movies, Comedies, Comedies, International Movies, Romantic Movies, Comedies, International Movies, Romantic Movies, Dramas, Thrillers, Comedies, International Movies, Thrillers, TV Shows, Comedies, Romantic Movies, Documentaries, Children & Family Movies, Action & Adventure, Comedies, International Movies, Comedies, Dramas, International Movies, Dramas, International Movies, Comedies, International Movies, Stand-Up Comedy, Documentaries, International Movies, Dramas, Independent Movies, International Movies, Dramas, Thrillers, Stand-Up Comedy, Documentaries, TV Comedies, Children & Family Movies, Comedies, Kids' TV, TV Comedies, Documentaries, International Movies, Documentaries, Documentaries, Documentaries, International Movies, Documentaries, International Movies, Documentaries, Stand-Up Comedy, British TV Shows, Docuseries, International TV Shows, British TV Shows, Docuseries, Science & Nature TV, British TV Shows, Docuseries, Science & Nature TV, British TV Shows, Docuseries, International TV Shows, Documentaries, TV Comedies, Docuseries, Action & Adventure, Dramas, Independent Movies, Independent Movies, Romantic Movies, Dramas, International Movies, Documentaries, Dramas, Independent Movies, Romantic Movies, International TV Shows, Romantic TV Shows, TV Dramas, International TV Shows, Romantic TV Shows, TV Dramas, International TV Shows, Romantic TV Shows, TV Dramas, Comedies, Dramas, Independent Movies, Comedies, Dramas, Documentaries, Comedies, Comedies, Romantic Movies, Comedies, Dramas, International Movies, Dramas, International Movies, Stand-Up Comedy, Crime TV Shows, International TV Shows, Spanish-Language TV Shows, Dramas, Comedies, Action & Adventure, Dramas, International Movies, Dramas, Romantic Movies, Sports Movies, Documentaries, Dramas, Independent Movies, International TV Shows, TV Action & Adventure, TV Comedies, International TV Shows, TV Comedies, Dramas, Independent Movies, International Movies, International TV Shows, Romantic TV Shows, Anime Series, International TV Shows, Dramas, International Movies, Comedies, Romantic Movies, Documentaries, Dramas, International Movies, Comedies, Dramas, International Movies, International TV Shows, TV Dramas, Action & Adventure, Dramas, International Movies, Documentaries, Documentaries, Comedies, International Movies, Comedies, International Movies, Comedies, International Movies, Comedies, International Movies, Action & Adventure, Dramas, International Movies, Horror Movies, Independent Movies, International Movies, Horror Movies, International Movies, Kids' TV, Children & Family Movies, Comedies, Stand-Up Comedy, Dramas, Independent Movies, International Movies, Horror Movies, International Movies, Comedies, International Movies, Stand-Up Comedy, Documentaries, Music & Musicals, Crime TV Shows, International TV Shows, TV Dramas, Stand-Up Comedy & Talk Shows, TV Comedies, TV Dramas, TV Mysteries, TV Sci-Fi & Fantasy, Stand-Up Comedy, Comedies, Comedies, Dramas, International Movies, Children & Family Movies, Comedies, Faith & Spirituality, Dramas, Independent Movies, Sci-Fi & Fantasy, Children & Family Movies, Documentaries, Action & Adventure, Horror Movies, Sci-Fi & Fantasy, Dramas, Independent Movies, Romantic Movies, Dramas, Independent Movies, Romantic TV Shows, TV Dramas, TV Sci-Fi & Fantasy, Comedies, Dramas, International Movies, International Movies, Music & Musicals, Thrillers, Documentaries, Sports Movies, Dramas, International Movies, Romantic Movies, Comedies, International Movies, Music & Musicals, Comedies, International Movies, Romantic Movies, Dramas, International Movies, Sci-Fi & Fantasy, Dramas, International Movies, Romantic Movies, Action & Adventure, Comedies, Dramas, Comedies, Independent Movies, Romantic Movies, Action & Adventure, Sci-Fi & Fantasy, Stand-Up Comedy, Children & Family Movies, Comedies, Documentaries, International Movies, Music & Musicals, Dramas, Thrillers, Crime TV Shows, International TV Shows, TV Action & Adventure, International TV Shows, Romantic TV Shows, TV Dramas, Children & Family Movies, Music & Musicals, Children & Family Movies, Music & Musicals, Children & Family Movies, Music & Musicals, International TV Shows, Stand-Up Comedy & Talk Shows, TV Comedies, International TV Shows, TV Action & Adventure, TV Sci-Fi & Fantasy, Kids' TV, TV Comedies, Crime TV Shows, International TV Shows, Spanish-Language TV Shows, Comedies, Dramas, International Movies, Comedies, Dramas, International Movies, Action & Adventure, Comedies, Independent Movies, Dramas, International Movies, Documentaries, Documentaries, Action & Adventure, Horror Movies, Horror Movies, Dramas, Dramas, International Movies, Romantic Movies, Comedies, Dramas, International Movies, Comedies, Dramas, International Movies, Thrillers, Documentaries, Comedies, International Movies, Dramas, International Movies, Dramas, International Movies, International TV Shows, Romantic TV Shows, TV Comedies, Dramas, Faith & Spirituality, Independent Movies, Comedies, International Movies, Romantic Movies, TV Action & Adventure, TV Dramas, TV Sci-Fi & Fantasy, International TV Shows, Romantic TV Shows, TV Dramas, Dramas, International Movies, Sports Movies, Comedies, Dramas, Independent Movies, Action & Adventure, International Movies, Horror Movies, International Movies, Horror Movies, International Movies, Stand-Up Comedy, Horror Movies, International Movies, TV Comedies, TV Comedies, Comedies, Romantic Movies, Dramas, Independent Movies, International Movies, Comedies, International Movies, LGBTQ Movies, Documentaries, International Movies, Sports Movies, TV Action & Adventure, TV Dramas, TV Horror, International TV Shows, Korean TV Shows, TV Dramas, Stand-Up Comedy, Comedies, Romantic Movies, Stand-Up Comedy, Horror Movies, Thrillers, Kids' TV, Reality TV, Science & Nature TV, Stand-Up Comedy, Comedies, International TV Shows, Korean TV Shows, TV Dramas, Horror Movies, International Movies, Dramas, Sports Movies, Documentaries, Sports Movies, Comedies, Romantic Movies, Dramas, Thrillers, Action & Adventure, Comedies, Children & Family Movies, Documentaries, Documentaries, Faith & Spirituality, Kids' TV, Kids' TV, TV Comedies, International Movies, Romantic Movies, Sci-Fi & Fantasy, International TV Shows, TV Comedies, Dramas, Romantic Movies, International TV Shows, TV Dramas, Children & Family Movies, Comedies, Romantic Movies, Dramas, Independent Movies, International Movies, British TV Shows, Docuseries, International TV Shows, Action & Adventure, Comedies, Children & Family Movies, Comedies, Children & Family Movies, Comedies, International TV Shows, Korean TV Shows, Romantic TV Shows, Horror Movies, Thrillers, International TV Shows, Reality TV, Anime Series, Comedies, Dramas, International Movies, Comedies, Thrillers, Documentaries, Anime Series, International TV Shows, Action & Adventure, Dramas, Independent Movies, International Movies, Dramas, Romantic Movies, Dramas, International Movies, Thrillers, Children & Family Movies, Children & Family Movies, Children & Family Movies, Children & Family Movies, Children & Family Movies, Dramas, Children & Family Movies, Children & Family Movies, Action & Adventure, International Movies, Music & Musicals, International TV Shows, TV Comedies, Documentaries, Dramas, International Movies, International TV Shows, TV Dramas, Dramas, Dramas, Dramas, Independent Movies, International Movies, Dramas, Independent Movies, Romantic Movies, Dramas, International Movies, Music & Musicals, International Movies, Music & Musicals, Thrillers, Crime TV Shows, International TV Shows, TV Comedies, Documentaries, Sports Movies, Documentaries, Dramas, Romantic Movies, Documentaries, International Movies, Stand-Up Comedy, Dramas, International Movies, Romantic Movies, International TV Shows, Spanish-Language TV Shows, TV Dramas, British TV Shows, International TV Shows, TV Comedies, Action & Adventure, Dramas, Independent Movies, Action & Adventure, Comedies, Dramas, Dramas, International Movies, Romantic Movies, Dramas, International Movies, Thrillers, Comedies, Dramas, International Movies, Dramas, International Movies, Romantic Movies, Comedies, Dramas, International Movies, Action & Adventure, International Movies, International TV Shows, TV Dramas, Dramas, Independent Movies, International Movies, Dramas, International Movies, Romantic Movies, Classic Movies, Dramas, Dramas, Thrillers, Dramas, International Movies, Sci-Fi & Fantasy, Dramas, International Movies, Romantic Movies, Documentaries, Dramas, International Movies, International TV Shows, TV Dramas, International TV Shows, Spanish-Language TV Shows, TV Dramas, Documentaries, International Movies, Sports Movies, Documentaries, International Movies, International TV Shows, TV Dramas, Documentaries, International Movies, Comedies, Dramas, International Movies, Dramas, Independent Movies, International Movies, Dramas, Documentaries, International Movies, Action & Adventure, Cult Movies, International Movies, Anime Series, International TV Shows, Dramas, Independent Movies, Documentaries, International Movies, Music & Musicals, International TV Shows, TV Dramas, Dramas, International Movies, Dramas, International Movies, Thrillers, Documentaries, International TV Shows, TV Action & Adventure, TV Sci-Fi & Fantasy, Anime Series, Romantic TV Shows, Teen TV Shows, International TV Shows, Romantic TV Shows, TV Dramas, Action & Adventure, International Movies, Music & Musicals, Docuseries, International TV Shows, Documentaries, Dramas, International Movies, Documentaries, Documentaries, International Movies, Music & Musicals, Dramas, International Movies, Dramas, International Movies, Thrillers, Anime Series, International TV Shows, Documentaries, Comedies, Dramas, Independent Movies, Documentaries, Sports Movies, Documentaries, Anime Series, Kids' TV, Kids' TV, TV Comedies, International TV Shows, TV Comedies, British TV Shows, Crime TV Shows, TV Dramas, Classic & Cult TV, TV Horror, TV Mysteries, Crime TV Shows, TV Action & Adventure, TV Dramas, Kids' TV, TV Action & Adventure, TV Comedies, Crime TV Shows, International TV Shows, Spanish-Language TV Shows, British TV Shows, Docuseries, International TV Shows, TV Dramas, TV Sci-Fi & Fantasy, TV Dramas, TV Dramas, TV Mysteries, TV Sci-Fi & Fantasy, Crime TV Shows, TV Action & Adventure, TV Dramas, TV Comedies, Kids' TV, Kids' TV, TV Comedies, Crime TV Shows, International TV Shows, Spanish-Language TV Shows, Docuseries, International TV Shows, TV Comedies, International TV Shows, Reality TV, Docuseries, International TV Shows, TV Dramas, TV Horror, Crime TV Shows, International TV Shows, Spanish-Language TV Shows, TV Comedies, TV Sci-Fi & Fantasy, TV Thrillers, TV Horror, TV Mysteries, TV Thrillers, International TV Shows, TV Action & Adventure, TV Dramas, Kids' TV, Crime TV Shows, TV Action & Adventure, TV Dramas, TV Action & Adventure, TV Comedies, TV Sci-Fi & Fantasy, Reality TV, Crime TV Shows, TV Dramas, TV Mysteries, Crime TV Shows, TV Dramas, TV Thrillers, Crime TV Shows, Romantic TV Shows, TV Dramas, International TV Shows, TV Dramas, TV Dramas, TV Horror, TV Mysteries, Kids' TV, Crime TV Shows, International TV Shows, TV Action & Adventure, Kids' TV, Crime TV Shows, TV Comedies, Teen TV Shows, Crime TV Shows, International TV Shows, Spanish-Language TV Shows, TV Comedies, Docuseries, TV Comedies, Kids' TV, TV Comedies, TV Dramas, Kids' TV, Korean TV Shows, TV Comedies, TV Dramas, Anime Series, International TV Shows, TV Action & Adventure, TV Sci-Fi & Fantasy, Docuseries, Science & Nature TV, Anime Series, International TV Shows, British TV Shows, Docuseries, Science & Nature TV, Crime TV Shows, TV Horror, TV Mysteries, Classic & Cult TV, TV Action & Adventure, TV Dramas, Crime TV Shows, TV Action & Adventure, TV Dramas, Kids' TV, Korean TV Shows, British TV Shows, Classic & Cult TV, TV Comedies, Crime TV Shows, Docuseries, Science & Nature TV, TV Dramas, TV Mysteries, TV Sci-Fi & Fantasy, Kids' TV, TV Dramas, Teen TV Shows, Kids' TV, Kids' TV, TV Dramas, British TV Shows, Kids' TV, TV Thrillers, British TV Shows, Crime TV Shows, International TV Shows, Docuseries, Science & Nature TV, Kids' TV, Anime Series, International TV Shows, International TV Shows, TV Dramas, Kids' TV, Docuseries, International TV Shows, Anime Series, International TV Shows, TV Dramas, TV Mysteries, TV Sci-Fi & Fantasy, Reality TV, Anime Series, TV Horror, TV Thrillers, TV Comedies, Kids' TV, Kids' TV, TV Dramas, Teen TV Shows, TV Comedies, TV Dramas, TV Comedies, British TV Shows, TV Comedies, Stand-Up Comedy & Talk Shows, TV Horror, TV Mysteries, TV Thrillers, Kids' TV, TV Comedies, TV Comedies, Teen TV Shows, British TV Shows, Classic & Cult TV, International TV Shows, Crime TV Shows, Docuseries, Crime TV Shows, TV Action & Adventure, International TV Shows, TV Dramas, Teen TV Shows, International TV Shows, TV Dramas, Teen TV Shows, British TV Shows, Kids' TV, Docuseries, Reality TV, Science & Nature TV, Kids' TV, International TV Shows, Spanish-Language TV Shows, TV Comedies, International TV Shows, TV Comedies, Crime TV Shows, International TV Shows, TV Action & Adventure, Kids' TV, TV Comedies, Crime TV Shows, International TV Shows, TV Comedies, Kids' TV, TV Comedies, British TV Shows, Kids' TV, Kids' TV, Anime Series, International TV Shows, Docuseries, Reality TV, Anime Series, International TV Shows, Romantic TV Shows, Crime TV Shows, Kids' TV, Kids' TV, TV Comedies, Reality TV, TV Horror, TV Thrillers, TV Comedies, TV Dramas, Teen TV Shows, International TV Shows, Romantic TV Shows, TV Comedies, Kids' TV, Korean TV Shows, TV Comedies, British TV Shows, TV Comedies, Kids' TV, TV Thrillers, British TV Shows, TV Comedies, British TV Shows, Crime TV Shows, Docuseries, British TV Shows, Classic & Cult TV, TV Comedies, Romantic TV Shows, TV Comedies, TV Dramas, TV Dramas, TV Sci-Fi & Fantasy, TV Thrillers, Romantic TV Shows, TV Comedies, TV Dramas, Kids' TV, Classic & Cult TV, TV Action & Adventure, TV Sci-Fi & Fantasy, Classic & Cult TV, TV Action & Adventure, TV Sci-Fi & Fantasy, TV Action & Adventure, TV Sci-Fi & Fantasy, Reality TV, International TV Shows, Romantic TV Shows, TV Comedies, Kids' TV, TV Thrillers, British TV Shows, Kids' TV, International TV Shows, Korean TV Shows, Stand-Up Comedy & Talk Shows, British TV Shows, Reality TV, Crime TV Shows, International TV Shows, Spanish-Language TV Shows, Anime Series, International TV Shows, Kids' TV, International TV Shows, Romantic TV Shows, Spanish-Language TV Shows, Kids' TV, TV Comedies, Kids' TV, TV Action & Adventure, TV Sci-Fi & Fantasy, British TV Shows, International TV Shows, TV Comedies, British TV Shows, TV Comedies, TV Comedies, Kids' TV, British TV Shows, TV Comedies, Anime Series, International TV Shows, International TV Shows, TV Comedies, Kids' TV, Kids' TV, Crime TV Shows, International TV Shows, Spanish-Language TV Shows, International TV Shows, Romantic TV Shows, TV Comedies, British TV Shows, Crime TV Shows, International TV Shows, Crime TV Shows, International TV Shows, TV Dramas, International TV Shows, TV Action & Adventure, TV Dramas, British TV Shows, International TV Shows, TV Comedies, Crime TV Shows, International TV Shows, Spanish-Language TV Shows, Reality TV, Kids' TV, TV Action & Adventure, TV Sci-Fi & Fantasy, Kids' TV, TV Comedies, TV Comedies, TV Sci-Fi & Fantasy, Crime TV Shows, TV Comedies, TV Dramas, Kids' TV, TV Comedies, TV Dramas, TV Thrillers, British TV Shows, International TV Shows, TV Action & Adventure, Kids' TV, TV Thrillers, Kids' TV, British TV Shows, International TV Shows, TV Dramas, Crime TV Shows, TV Dramas, Kids' TV, Kids' TV, TV Dramas, Anime Series, Teen TV Shows, Kids' TV, Docuseries, Reality TV, Crime TV Shows, International TV Shows, TV Dramas, International TV Shows, Korean TV Shows, TV Dramas, Kids' TV, TV Comedies, Anime Series, Kids' TV, TV Comedies, TV Comedies, TV Dramas, Teen TV Shows, International TV Shows, Reality TV, TV Comedies, Reality TV, Anime Series, Teen TV Shows, Anime Series, International TV Shows, Teen TV Shows, Anime Series, Romantic TV Shows, Teen TV Shows, Docuseries, Science & Nature TV, TV Dramas, Anime Series, International TV Shows, Reality TV, Kids' TV, Kids' TV, Spanish-Language TV Shows, Docuseries, International TV Shows, Romantic TV Shows, Spanish-Language TV Shows, TV Comedies, Docuseries, British TV Shows, Crime TV Shows, International TV Shows, TV Dramas, Crime TV Shows, Docuseries, Crime TV Shows, TV Comedies, TV Dramas, Crime TV Shows, TV Action & Adventure, TV Dramas, Kids' TV, TV Comedies, Kids' TV, Kids' TV, Crime TV Shows, TV Dramas, Stand-Up Comedy & Talk Shows, Kids' TV, TV Action & Adventure, TV Sci-Fi & Fantasy, TV Comedies, Crime TV Shows, TV Dramas, Kids' TV, TV Comedies, Classic & Cult TV, TV Action & Adventure, TV Horror, Kids' TV, TV Comedies, TV Comedies, TV Action & Adventure, TV Sci-Fi & Fantasy, Crime TV Shows, TV Action & Adventure, TV Action & Adventure, TV Sci-Fi & Fantasy, Kids' TV, TV Comedies, TV Dramas, TV Mysteries, TV Thrillers, International TV Shows, TV Dramas, TV Horror, Kids' TV, TV Action & Adventure, TV Sci-Fi & Fantasy, Romantic TV Shows, TV Comedies, TV Dramas, International TV Shows, TV Action & Adventure, TV Dramas, Crime TV Shows, TV Dramas, TV Mysteries, Crime TV Shows, TV Action & Adventure, TV Sci-Fi & Fantasy, International TV Shows, Romantic TV Shows, Spanish-Language TV Shows, Kids' TV, TV Comedies, Crime TV Shows, TV Action & Adventure, Kids' TV, TV Comedies, Crime TV Shows, International TV Shows, Spanish-Language TV Shows, TV Action & Adventure, TV Dramas, TV Sci-Fi & Fantasy, Crime TV Shows, TV Dramas, Kids' TV, Crime TV Shows, Kids' TV, TV Comedies, TV Comedies, TV Dramas, Reality TV, International TV Shows, TV Dramas, TV Mysteries, British TV Shows, International TV Shows, TV Comedies, British TV Shows, International TV Shows, TV Dramas, British TV Shows, Crime TV Shows, International TV Shows, TV Comedies, Stand-Up Comedy & Talk Shows, International TV Shows, TV Comedies, TV Comedies, TV Dramas, Crime TV Shows, International TV Shows, TV Dramas, Anime Series, International TV Shows, Kids' TV, Anime Series, Kids' TV, International TV Shows, Romantic TV Shows, TV Dramas, Romantic TV Shows, TV Comedies, TV Dramas, Anime Series, International TV Shows, Crime TV Shows, TV Dramas, International TV Shows, TV Dramas, TV Mysteries, Crime TV Shows, TV Dramas, TV Mysteries, British TV Shows, Classic & Cult TV, TV Comedies, International TV Shows, TV Dramas, British TV Shows, International TV Shows, Romantic TV Shows, British TV Shows, Crime TV Shows, TV Dramas, Kids' TV, International TV Shows, TV Dramas, Anime Series, Kids' TV, British TV Shows, TV Comedies, British TV Shows, TV Comedies, International TV Shows, Reality TV, British TV Shows, Docuseries, Science & Nature TV, Crime TV Shows, TV Comedies, TV Dramas, Crime TV Shows, TV Dramas, TV Mysteries, Classic & Cult TV, Crime TV Shows, International TV Shows, Romantic TV Shows, TV Comedies, TV Dramas, TV Comedies, TV Horror, TV Thrillers, International TV Shows, TV Dramas, International TV Shows, Korean TV Shows, Reality TV, International TV Shows, Reality TV, Romantic TV Shows, TV Action & Adventure, TV Dramas, TV Sci-Fi & Fantasy, Crime TV Shows, TV Comedies, TV Dramas, British TV Shows, Kids' TV, TV Dramas, TV Mysteries, TV Sci-Fi & Fantasy, TV Dramas, Romantic TV Shows, TV Dramas, Stand-Up Comedy & Talk Shows, TV Comedies, International TV Shows, Spanish-Language TV Shows, TV Dramas, Reality TV, Kids' TV, TV Comedies, British TV Shows, Crime TV Shows, International TV Shows, Docuseries, Science & Nature TV, Crime TV Shows, International TV Shows, Spanish-Language TV Shows, British TV Shows, Kids' TV, International TV Shows, Reality TV, TV Action & Adventure, Kids' TV, TV Comedies, Kids' TV, Korean TV Shows, TV Comedies, Kids' TV, TV Comedies, Anime Series, International TV Shows, Teen TV Shows, British TV Shows, Crime TV Shows, Docuseries, Docuseries, British TV Shows, Crime TV Shows, International TV Shows, International TV Shows, TV Dramas, TV Sci-Fi & Fantasy, Crime TV Shows, TV Dramas, TV Thrillers, TV Dramas, British TV Shows, International TV Shows, TV Dramas, TV Dramas, Reality TV, TV Comedies, TV Horror, International TV Shows, Romantic TV Shows, TV Dramas, Crime TV Shows, TV Dramas, TV Mysteries, Anime Series, International TV Shows, Kids' TV, TV Comedies, TV Comedies, TV Dramas, Crime TV Shows, Docuseries, International TV Shows, Reality TV, Kids' TV, International TV Shows, Spanish-Language TV Shows, TV Comedies, TV Horror, TV Mysteries, TV Thrillers, Anime Series, International TV Shows, International TV Shows, Reality TV, Crime TV Shows, TV Action & Adventure, TV Dramas, Crime TV Shows, International TV Shows, TV Dramas, Docuseries, Reality TV, Kids' TV, Spanish-Language TV Shows, Teen TV Shows, Anime Series, International TV Shows, International TV Shows, Romantic TV Shows, Teen TV Shows, Crime TV Shows, TV Action & Adventure, TV Dramas, International TV Shows, Reality TV, Crime TV Shows, Docuseries, TV Comedies, Kids' TV, TV Comedies, Anime Series, Kids' TV, TV Comedies, TV Dramas, International TV Shows, Romantic TV Shows, TV Dramas, Crime TV Shows, TV Dramas, Kids' TV, Anime Series, International TV Shows, Romantic TV Shows, TV Dramas, British TV Shows, Kids' TV, TV Comedies, Anime Series, International TV Shows, Crime TV Shows, International TV Shows, TV Dramas, Crime TV Shows, International TV Shows, Spanish-Language TV Shows, TV Comedies, TV Dramas, TV Comedies, Crime TV Shows, TV Action & Adventure, TV Dramas, Anime Series, International TV Shows, TV Thrillers, Kids' TV, International TV Shows, TV Dramas, Anime Series, International TV Shows, Teen TV Shows, Crime TV Shows, International TV Shows, TV Dramas, Kids' TV, TV Comedies, Stand-Up Comedy & Talk Shows, International TV Shows, Romantic TV Shows, TV Dramas, Kids' TV, Kids' TV, International TV Shows, TV Dramas, Teen TV Shows, British TV Shows, Kids' TV, TV Dramas, Docuseries, International TV Shows, Docuseries, International TV Shows, TV Dramas, TV Thrillers, TV Horror, TV Mysteries, TV Sci-Fi & Fantasy, Anime Series, International TV Shows, International TV Shows, TV Comedies, TV Dramas, International TV Shows, TV Comedies, Anime Series, International TV Shows, International TV Shows, Reality TV, Kids' TV, TV Comedies, Crime TV Shows, Spanish-Language TV Shows, TV Action & Adventure, British TV Shows, International TV Shows, Reality TV, International TV Shows, Korean TV Shows, Romantic TV Shows, TV Comedies, TV Dramas, Reality TV, British TV Shows, Kids' TV, Kids' TV, Kids' TV, Crime TV Shows, Docuseries, Reality TV, Kids' TV, TV Comedies, Kids' TV, Docuseries, TV Dramas, TV Sci-Fi & Fantasy, Stand-Up Comedy & Talk Shows, TV Comedies, Crime TV Shows, International TV Shows, Spanish-Language TV Shows, Docuseries, Reality TV, Kids' TV, TV Comedies, TV Comedies, TV Dramas, Crime TV Shows, TV Dramas, TV Comedies, TV Dramas, Teen TV Shows, Kids' TV, TV Comedies, International TV Shows, TV Action & Adventure, TV Dramas, Stand-Up Comedy & Talk Shows, TV Comedies, Kids' TV, Kids' TV, TV Action & Adventure, TV Sci-Fi & Fantasy, International TV Shows, TV Dramas, British TV Shows, International TV Shows, Reality TV, International TV Shows, TV Action & Adventure, TV Dramas, British TV Shows, International TV Shows, Reality TV, Crime TV Shows, Docuseries, Kids' TV, Kids' TV, Korean TV Shows, Kids' TV, Korean TV Shows, TV Comedies, Crime TV Shows, TV Dramas, TV Mysteries, Romantic TV Shows, TV Dramas, Classic & Cult TV, TV Comedies, International TV Shows, Romantic TV Shows, Spanish-Language TV Shows, Crime TV Shows, International TV Shows, TV Dramas, International TV Shows, Romantic TV Shows, TV Dramas, Classic & Cult TV, TV Comedies, Classic & Cult TV, TV Sci-Fi & Fantasy, Classic & Cult TV, Crime TV Shows, TV Dramas, Crime TV Shows, International TV Shows, TV Dramas, International TV Shows, TV Dramas, TV Mysteries, TV Action & Adventure, TV Dramas, TV Dramas, Classic & Cult TV, TV Comedies, Docuseries, International TV Shows, Science & Nature TV, International TV Shows, TV Comedies, TV Dramas, International TV Shows, TV Dramas, International TV Shows, Spanish-Language TV Shows, TV Action & Adventure, TV Action & Adventure, TV Comedies, TV Horror, Kids' TV, TV Comedies, International TV Shows, Spanish-Language TV Shows, TV Comedies, International TV Shows, TV Dramas, TV Action & Adventure, TV Dramas, TV Sci-Fi & Fantasy, Crime TV Shows, TV Action & Adventure, TV Thrillers, British TV Shows, Docuseries, International TV Shows, Docuseries, International TV Shows, Docuseries, Reality TV, International TV Shows, TV Dramas, Kids' TV, TV Comedies, Anime Series, International TV Shows, International TV Shows, TV Comedies, TV Dramas, TV Comedies, TV Dramas, Kids' TV, TV Comedies, Crime TV Shows, TV Action & Adventure, TV Thrillers, TV Comedies, Romantic TV Shows, TV Comedies, TV Comedies, British TV Shows, Kids' TV, TV Comedies, International TV Shows, Spanish-Language TV Shows, TV Dramas, Kids' TV, TV Comedies, Kids' TV, Spanish-Language TV Shows, Anime Series, Crime TV Shows, International TV Shows, Reality TV, Kids' TV, Anime Series, International TV Shows, Kids' TV, TV Action & Adventure, TV Comedies, Stand-Up Comedy & Talk Shows, TV Comedies, International TV Shows, TV Dramas, Crime TV Shows, TV Dramas, TV Mysteries, Anime Series, International TV Shows, Kids' TV, British TV Shows, International TV Shows, Romantic TV Shows, British TV Shows, TV Comedies, TV Action & Adventure, TV Sci-Fi & Fantasy, Kids' TV, TV Comedies, Kids' TV, TV Comedies, Kids' TV, Crime TV Shows, International TV Shows, TV Dramas, TV Comedies, British TV Shows, TV Comedies, TV Comedies, Kids' TV, TV Dramas, Kids' TV, Kids' TV, International TV Shows, Spanish-Language TV Shows, TV Comedies, Crime TV Shows, International TV Shows, TV Dramas, International TV Shows, TV Dramas, TV Thrillers, Docuseries, Reality TV, International TV Shows, TV Dramas, Crime TV Shows, International TV Shows, TV Dramas, British TV Shows, International TV Shows, Reality TV, Kids' TV, International TV Shows, Romantic TV Shows, TV Comedies, Crime TV Shows, TV Dramas, TV Horror, British TV Shows, Crime TV Shows, International TV Shows, Crime TV Shows, International TV Shows, TV Dramas, International TV Shows, Romantic TV Shows, TV Comedies, Kids' TV, TV Action & Adventure, International TV Shows, Romantic TV Shows, TV Dramas, Kids' TV, International TV Shows, Romantic TV Shows, Spanish-Language TV Shows, British TV Shows, Docuseries, Kids' TV, Kids' TV, Kids' TV, Kids' TV, TV Comedies, Docuseries, Kids' TV, Crime TV Shows, Docuseries, International TV Shows, British TV Shows, Kids' TV, Kids' TV, Korean TV Shows, TV Comedies, TV Action & Adventure, TV Dramas, TV Dramas, TV Comedies, TV Sci-Fi & Fantasy, Teen TV Shows, TV Comedies, TV Dramas, Classic & Cult TV, TV Action & Adventure, TV Horror, Kids' TV, Korean TV Shows, International TV Shows, TV Dramas, TV Thrillers, Reality TV, TV Comedies, TV Dramas, Kids' TV, TV Comedies, Reality TV, International TV Shows, Korean TV Shows, TV Comedies, Kids' TV, TV Comedies, TV Dramas, TV Dramas, Stand-Up Comedy & Talk Shows, TV Comedies, Anime Series, International TV Shows, TV Dramas, Crime TV Shows, Spanish-Language TV Shows, TV Action & Adventure, Anime Series, Kids' TV, TV Dramas, TV Mysteries, TV Sci-Fi & Fantasy, TV Comedies, TV Dramas, British TV Shows, TV Comedies, Anime Series, International TV Shows, Anime Series, International TV Shows, British TV Shows, TV Comedies, International TV Shows, Korean TV Shows, Romantic TV Shows, Classic & Cult TV, Kids' TV, TV Comedies, TV Dramas, TV Sci-Fi & Fantasy, Kids' TV, Korean TV Shows, Kids' TV, Kids' TV, TV Comedies, British TV Shows, TV Comedies, British TV Shows, TV Comedies, TV Dramas, International TV Shows, TV Dramas, Docuseries, Reality TV, Science & Nature TV, British TV Shows, Docuseries, International TV Shows, British TV Shows, International TV Shows, TV Comedies, Anime Series, International TV Shows, British TV Shows, International TV Shows, TV Action & Adventure, TV Comedies, TV Dramas, International TV Shows, Reality TV, British TV Shows, Crime TV Shows, Docuseries, International TV Shows, Reality TV, Crime TV Shows, International TV Shows, TV Dramas, Kids' TV, TV Dramas, Crime TV Shows, International TV Shows, TV Dramas, Romantic TV Shows, TV Action & Adventure, TV Dramas, Anime Series, International TV Shows, Anime Series, Kids' TV, Kids' TV, Korean TV Shows, TV Comedies, British TV Shows, Reality TV, TV Comedies, TV Dramas, TV Comedies, British TV Shows, International TV Shows, Reality TV, British TV Shows, Reality TV, Kids' TV, TV Comedies, Kids' TV, Korean TV Shows, TV Dramas, International TV Shows, Romantic TV Shows, Spanish-Language TV Shows, TV Comedies, TV Dramas, TV Comedies, TV Dramas, TV Horror, TV Dramas, TV Horror, TV Mysteries, Romantic TV Shows, TV Comedies, TV Dramas, Kids' TV, TV Comedies, TV Dramas, Kids' TV, International TV Shows, Korean TV Shows, Stand-Up Comedy & Talk Shows, International TV Shows, Korean TV Shows, Reality TV, Docuseries, Crime TV Shows, TV Dramas, TV Thrillers, Stand-Up Comedy & Talk Shows, TV Comedies, Reality TV, Reality TV, Spanish-Language TV Shows, Kids' TV, TV Comedies, British TV Shows, Reality TV, Kids' TV, Kids' TV, International TV Shows, TV Comedies, Reality TV, International TV Shows, TV Action & Adventure, TV Dramas, British TV Shows, International TV Shows, Reality TV, TV Comedies, Anime Series, Kids' TV, Crime TV Shows, TV Dramas, TV Mysteries, Crime TV Shows, Docuseries, Anime Series, Crime TV Shows, International TV Shows, Crime TV Shows, International TV Shows, TV Dramas, Kids' TV, TV Comedies, TV Dramas, British TV Shows, International TV Shows, TV Comedies, Kids' TV, TV Action & Adventure, British TV Shows, International TV Shows, TV Dramas, Crime TV Shows, TV Dramas, TV Thrillers, British TV Shows, Crime TV Shows, Docuseries, Kids' TV, Kids' TV, Crime TV Shows, TV Dramas, TV Mysteries, Docuseries, Classic & Cult TV, TV Action & Adventure, TV Dramas, Crime TV Shows, International TV Shows, TV Dramas, British TV Shows, Crime TV Shows, Docuseries, TV Action & Adventure, TV Dramas, TV Sci-Fi & Fantasy, International TV Shows, Romantic TV Shows, TV Dramas, TV Dramas, Kids' TV, British TV Shows, International TV Shows, Reality TV, TV Dramas, Crime TV Shows, TV Dramas, TV Mysteries, Crime TV Shows, TV Dramas, British TV Shows, Crime TV Shows, International TV Shows, British TV Shows, International TV Shows, TV Dramas, British TV Shows, Classic & Cult TV, International TV Shows, British TV Shows, Crime TV Shows, International TV Shows, Kids' TV, Korean TV Shows, International TV Shows, Korean TV Shows, Stand-Up Comedy & Talk Shows, TV Dramas, Kids' TV, TV Horror, TV Mysteries, TV Sci-Fi & Fantasy, British TV Shows, International TV Shows, TV Comedies, Crime TV Shows, International TV Shows, TV Comedies, Docuseries, Kids' TV, British TV Shows, International TV Shows, Romantic TV Shows, Anime Series, International TV Shows, TV Comedies, TV Action & Adventure, TV Comedies, TV Horror, Crime TV Shows, International TV Shows, Spanish-Language TV Shows, International TV Shows, TV Dramas, TV Horror, Crime TV Shows, International TV Shows, Spanish-Language TV Shows, International TV Shows, Reality TV, Spanish-Language TV Shows, International TV Shows, Romantic TV Shows, TV Action & Adventure, International TV Shows, Romantic TV Shows, TV Comedies, Kids' TV, TV Comedies, Kids' TV, TV Comedies, International TV Shows, Korean TV Shows, TV Comedies, TV Action & Adventure, TV Sci-Fi & Fantasy, British TV Shows, International TV Shows, TV Comedies, Kids' TV, Korean TV Shows, International TV Shows, TV Comedies, Crime TV Shows, Docuseries, TV Dramas, TV Horror, TV Mysteries, Kids' TV, TV Comedies, International TV Shows, Spanish-Language TV Shows, TV Comedies, Kids' TV, TV Comedies, Crime TV Shows, International TV Shows, TV Action & Adventure, International TV Shows, Romantic TV Shows, TV Comedies, Stand-Up Comedy & Talk Shows, TV Comedies, Romantic TV Shows, TV Comedies, Kids' TV, Romantic TV Shows, TV Comedies, Kids' TV, TV Comedies, Anime Series, Kids' TV, Kids' TV, International TV Shows, Reality TV, TV Comedies, TV Dramas, Anime Series, Crime TV Shows, Docuseries, Classic & Cult TV, TV Comedies, International TV Shows, Spanish-Language TV Shows, TV Comedies, Kids' TV, TV Comedies, Kids' TV, TV Action & Adventure, TV Comedies, TV Sci-Fi & Fantasy, TV Comedies, Movies, British TV Shows, TV Comedies, TV Dramas, Classic & Cult TV, TV Comedies\""
      ]
     },
     "execution_count": 26,
     "metadata": {},
     "output_type": "execute_result"
    }
   ],
   "source": [
    "\", \".join(donnees[\"listed_in\"].dropna())"
   ]
  },
  {
   "cell_type": "markdown",
   "metadata": {},
   "source": [
    "Chaque valeur de la série \"listed_in\", contenait une ou plusieurs valeurs séparées par \", \". En joignant l'ensemble des valeurs par \", \", on obtient une chaine de caractères unique de toutes les catégories au sein de la série, films et séries confondus. Le but à présent est d'utiliser la méthode split() pour couper cette chaine de caractère selon le motif \", \", ce qui nous permettra d'obtenir une série avec une valeur par catégorie. Grâce au séparateur \", \", nous allons pouvoir séparer chaque catégorie."
   ]
  },
  {
   "cell_type": "code",
   "execution_count": 27,
   "metadata": {
    "scrolled": false
   },
   "outputs": [
    {
     "data": {
      "text/plain": [
       "['Children & Family Movies',\n",
       " 'Comedies',\n",
       " 'Stand-Up Comedy',\n",
       " \"Kids' TV\",\n",
       " \"Kids' TV\",\n",
       " 'Comedies',\n",
       " 'Crime TV Shows',\n",
       " 'International TV Shows',\n",
       " 'Spanish-Language TV Shows',\n",
       " 'International Movies']"
      ]
     },
     "execution_count": 27,
     "metadata": {},
     "output_type": "execute_result"
    }
   ],
   "source": [
    "# on affiche seulement les 10 premières lignes de la liste\n",
    "# pour voir à quoi cela ressemble\n",
    "\", \".join(donnees[\"listed_in\"].dropna()).split(\", \")[:10]"
   ]
  },
  {
   "cell_type": "markdown",
   "metadata": {},
   "source": [
    "Ici, on obtient une liste de toutes les catégories du jeu de données Netflix, films et séries confondus. On constate que \"Children & Family Movies\" et \"Comedies\" sont maintenant deux catégories bien séparées. Ainsi, nous allons transformer cette liste en série, pour pouvoir ensuite utiliser la méthode value_counts() que nous connaissons bien, afin d'avoir le nombre d'occurrences de chaque catégorie. En effet, la méthode value_counts() est une méthode Pandas, qui fonctionne donc sur une série et non sur une liste."
   ]
  },
  {
   "cell_type": "code",
   "execution_count": 28,
   "metadata": {},
   "outputs": [
    {
     "data": {
      "text/plain": [
       "International Movies      1926\n",
       "Dramas                    1622\n",
       "Comedies                  1113\n",
       "International TV Shows    1001\n",
       "Documentaries              668\n",
       "dtype: int64"
      ]
     },
     "execution_count": 28,
     "metadata": {},
     "output_type": "execute_result"
    }
   ],
   "source": [
    "categories=pd.Series(\", \".join(donnees[\"listed_in\"].dropna()).split(\", \"))\n",
    "categories.value_counts().head()"
   ]
  },
  {
   "cell_type": "markdown",
   "metadata": {},
   "source": [
    "A présent, on peut conclure que la catégorie contenant le plus de contenu est la catégorie \"International Movies\", suivi par \"Dramas\" et \"Comedies\". Lorsqu'on avait étudié la colonne \"listed_in\" en début de notebook avec la méthode describe(), la catégorie la plus fréquente était \"Documentaries\". Mais cela était biaisé par le fait que la colonne \"listed_in\" pouvaient contenir plusieurs catégories pour chaque contenu. En comptant chaque catégorie séparémment, on se rend compte que Documentaries n'est qu'en 4ème position des catégories contenant le plus de films/séries, en réalité."
   ]
  },
  {
   "cell_type": "markdown",
   "metadata": {},
   "source": [
    "Ce \"problème\" de liste de valeurs au sein d'un contenu existe pour les catégories, mais aussi pour les directeurs de production et les acteurs. Ainsi, nous ré-utiliserons cette méthode de séparation plus tard dans le notebook, pour étudier les directeurs de production et les acteurs."
   ]
  },
  {
   "cell_type": "markdown",
   "metadata": {},
   "source": [
    "## 3.12. Quels directeurs ont produit le plus de films/séries disponibles sur Netflix ?"
   ]
  },
  {
   "cell_type": "markdown",
   "metadata": {},
   "source": [
    "Pour répondre à cette question, il va falloir séparer les listes de directeurs, dans le cas où les films/séries en possèdent plusieurs. Aussi, on ne prendra pas en compte les contenus pour lequels il n'y a pas de directeur de production (NaN)."
   ]
  },
  {
   "cell_type": "code",
   "execution_count": 29,
   "metadata": {},
   "outputs": [
    {
     "data": {
      "text/plain": [
       "Jan Suter           21\n",
       "Raúl Campos         19\n",
       "Jay Karas           14\n",
       "Marcus Raboy        14\n",
       "Jay Chapman         12\n",
       "Martin Scorsese      9\n",
       "Steven Spielberg     9\n",
       "Shannon Hartman      8\n",
       "Umesh Mehra          8\n",
       "Johnnie To           8\n",
       "dtype: int64"
      ]
     },
     "execution_count": 29,
     "metadata": {},
     "output_type": "execute_result"
    }
   ],
   "source": [
    "directors=pd.Series(\", \".join(donnees[\"director\"].dropna()).split(\", \"))\n",
    "directors.value_counts().head(n=10)"
   ]
  },
  {
   "cell_type": "markdown",
   "metadata": {},
   "source": [
    "Jan Suter, Raúl Campos, Jay Karas et Marcus Raboy sont les directeurs de production qui ont le plus de films/séries sur Netflix."
   ]
  },
  {
   "cell_type": "markdown",
   "metadata": {},
   "source": [
    " ## 3.13. Est-ce que Jan Suter travaille souvent avec les mêmes acteurs ?"
   ]
  },
  {
   "cell_type": "markdown",
   "metadata": {},
   "source": [
    "Nous allons sélectionner les lignes pour lesquelles la colonne \"director\" contient le mot \"Jan Suter\". On ne peut pas utiliser une expression booléenne avec le symbole \"==\" ici, car il est possible que la colonne \"director\" contienne Jan Suter et d'autres directeurs de production : on ne peut donc pas demander l'égalité stricte.\n",
    "\n",
    "Précédemment, nous avons utilisé la fonction str.replace(). Ici, nous allons utiliser la fonction str.contains() qui permet de chercher une égalité partielle dans du texte. Cette fonction ne travaille pas avec des NaN, nous les supprimerons du tableau avant de l'utiliser."
   ]
  },
  {
   "cell_type": "code",
   "execution_count": 30,
   "metadata": {},
   "outputs": [
    {
     "data": {
      "text/html": [
       "<div>\n",
       "<style scoped>\n",
       "    .dataframe tbody tr th:only-of-type {\n",
       "        vertical-align: middle;\n",
       "    }\n",
       "\n",
       "    .dataframe tbody tr th {\n",
       "        vertical-align: top;\n",
       "    }\n",
       "\n",
       "    .dataframe thead th {\n",
       "        text-align: right;\n",
       "    }\n",
       "</style>\n",
       "<table border=\"1\" class=\"dataframe\">\n",
       "  <thead>\n",
       "    <tr style=\"text-align: right;\">\n",
       "      <th></th>\n",
       "      <th>type</th>\n",
       "      <th>title</th>\n",
       "      <th>director</th>\n",
       "      <th>cast</th>\n",
       "      <th>country</th>\n",
       "      <th>date_added</th>\n",
       "      <th>release_year</th>\n",
       "      <th>rating</th>\n",
       "      <th>duration</th>\n",
       "      <th>listed_in</th>\n",
       "      <th>description</th>\n",
       "    </tr>\n",
       "    <tr>\n",
       "      <th>show_id</th>\n",
       "      <th></th>\n",
       "      <th></th>\n",
       "      <th></th>\n",
       "      <th></th>\n",
       "      <th></th>\n",
       "      <th></th>\n",
       "      <th></th>\n",
       "      <th></th>\n",
       "      <th></th>\n",
       "      <th></th>\n",
       "      <th></th>\n",
       "    </tr>\n",
       "  </thead>\n",
       "  <tbody>\n",
       "    <tr>\n",
       "      <th>80183198</th>\n",
       "      <td>Movie</td>\n",
       "      <td>El Especial de Alex Fernández, el Especial</td>\n",
       "      <td>Jan Suter</td>\n",
       "      <td>Alex Fernández</td>\n",
       "      <td>Mexico</td>\n",
       "      <td>October 13, 2017</td>\n",
       "      <td>2017</td>\n",
       "      <td>TV-MA</td>\n",
       "      <td>52 min</td>\n",
       "      <td>Stand-Up Comedy</td>\n",
       "      <td>From a Mexico City theme park, energetic stand...</td>\n",
       "    </tr>\n",
       "    <tr>\n",
       "      <th>80124725</th>\n",
       "      <td>Movie</td>\n",
       "      <td>Carlos Ballarta: El amor es de putos</td>\n",
       "      <td>Jan Suter, Raúl Campos Delgado</td>\n",
       "      <td>Carlos Ballarta</td>\n",
       "      <td>Mexico</td>\n",
       "      <td>November 21, 2016</td>\n",
       "      <td>2016</td>\n",
       "      <td>TV-MA</td>\n",
       "      <td>67 min</td>\n",
       "      <td>Stand-Up Comedy</td>\n",
       "      <td>Carlos Ballarta mocks daily life in Mexico, in...</td>\n",
       "    </tr>\n",
       "    <tr>\n",
       "      <th>80183088</th>\n",
       "      <td>Movie</td>\n",
       "      <td>Mea Culpa</td>\n",
       "      <td>Raúl Campos, Jan Suter</td>\n",
       "      <td>Alexis de Anda</td>\n",
       "      <td>Mexico</td>\n",
       "      <td>November 10, 2017</td>\n",
       "      <td>2017</td>\n",
       "      <td>TV-MA</td>\n",
       "      <td>54 min</td>\n",
       "      <td>Stand-Up Comedy</td>\n",
       "      <td>Raw and outspoken, comedian Alexis de Anda bar...</td>\n",
       "    </tr>\n",
       "    <tr>\n",
       "      <th>80124727</th>\n",
       "      <td>Movie</td>\n",
       "      <td>Simplemente Manu NNa</td>\n",
       "      <td>Jan Suter, Raúl Campos</td>\n",
       "      <td>Manu NNa</td>\n",
       "      <td>Mexico</td>\n",
       "      <td>May 5, 2017</td>\n",
       "      <td>2017</td>\n",
       "      <td>TV-MA</td>\n",
       "      <td>72 min</td>\n",
       "      <td>Stand-Up Comedy</td>\n",
       "      <td>Eclectic stand-up comic Manu NNa relays everyd...</td>\n",
       "    </tr>\n",
       "    <tr>\n",
       "      <th>80192137</th>\n",
       "      <td>Movie</td>\n",
       "      <td>Fernando Sanjiao: Hombre</td>\n",
       "      <td>Raúl Campos, Jan Suter</td>\n",
       "      <td>Fernando Sanjiao</td>\n",
       "      <td>Argentina</td>\n",
       "      <td>May 25, 2018</td>\n",
       "      <td>2018</td>\n",
       "      <td>TV-MA</td>\n",
       "      <td>63 min</td>\n",
       "      <td>Stand-Up Comedy</td>\n",
       "      <td>Argentine actor and comedian Fernando Sanjiao ...</td>\n",
       "    </tr>\n",
       "  </tbody>\n",
       "</table>\n",
       "</div>"
      ],
      "text/plain": [
       "           type                                       title  \\\n",
       "show_id                                                       \n",
       "80183198  Movie  El Especial de Alex Fernández, el Especial   \n",
       "80124725  Movie        Carlos Ballarta: El amor es de putos   \n",
       "80183088  Movie                                   Mea Culpa   \n",
       "80124727  Movie                        Simplemente Manu NNa   \n",
       "80192137  Movie                    Fernando Sanjiao: Hombre   \n",
       "\n",
       "                                director              cast    country  \\\n",
       "show_id                                                                 \n",
       "80183198                       Jan Suter    Alex Fernández     Mexico   \n",
       "80124725  Jan Suter, Raúl Campos Delgado   Carlos Ballarta     Mexico   \n",
       "80183088          Raúl Campos, Jan Suter    Alexis de Anda     Mexico   \n",
       "80124727          Jan Suter, Raúl Campos          Manu NNa     Mexico   \n",
       "80192137          Raúl Campos, Jan Suter  Fernando Sanjiao  Argentina   \n",
       "\n",
       "                 date_added  release_year rating duration        listed_in  \\\n",
       "show_id                                                                      \n",
       "80183198   October 13, 2017          2017  TV-MA   52 min  Stand-Up Comedy   \n",
       "80124725  November 21, 2016          2016  TV-MA   67 min  Stand-Up Comedy   \n",
       "80183088  November 10, 2017          2017  TV-MA   54 min  Stand-Up Comedy   \n",
       "80124727        May 5, 2017          2017  TV-MA   72 min  Stand-Up Comedy   \n",
       "80192137       May 25, 2018          2018  TV-MA   63 min  Stand-Up Comedy   \n",
       "\n",
       "                                                description  \n",
       "show_id                                                      \n",
       "80183198  From a Mexico City theme park, energetic stand...  \n",
       "80124725  Carlos Ballarta mocks daily life in Mexico, in...  \n",
       "80183088  Raw and outspoken, comedian Alexis de Anda bar...  \n",
       "80124727  Eclectic stand-up comic Manu NNa relays everyd...  \n",
       "80192137  Argentine actor and comedian Fernando Sanjiao ...  "
      ]
     },
     "execution_count": 30,
     "metadata": {},
     "output_type": "execute_result"
    }
   ],
   "source": [
    "# on ne garde que les lignes avec des valeurs différentes de NaN dans la colonne director\n",
    "donnees_sans_NaN=donnees[donnees['director'].notna()]\n",
    "# on ne garde que les lignes pour lesquelles la valeur dans la colonne director contient la chaine de caractères Jan Suter\n",
    "donnees_jan_suter=donnees_sans_NaN[donnees_sans_NaN['director'].str.contains(\"Jan Suter\")]\n",
    "donnees_jan_suter.head()"
   ]
  },
  {
   "cell_type": "markdown",
   "metadata": {},
   "source": [
    "Une fois le tableau des films/séries de Jan Suter créé, on peut l'utiliser pour compter l'occurrence de chaque acteur."
   ]
  },
  {
   "cell_type": "code",
   "execution_count": 31,
   "metadata": {},
   "outputs": [
    {
     "data": {
      "text/plain": [
       "Sofía Niño de Rivera           3\n",
       "Carlos Ballarta                3\n",
       "Ricardo O'Farrill              2\n",
       "Alex Fernández                 1\n",
       "Sebastián Marcelo Wainraich    1\n",
       "dtype: int64"
      ]
     },
     "execution_count": 31,
     "metadata": {},
     "output_type": "execute_result"
    }
   ],
   "source": [
    "acteurs_jan_suter=pd.Series(\", \".join(donnees_jan_suter[\"cast\"].dropna()).split(\", \"))\n",
    "acteurs_jan_suter.value_counts().head(n=5)"
   ]
  },
  {
   "cell_type": "markdown",
   "metadata": {},
   "source": [
    "On peut conclure que Jan Suter ne travaille pas toujours avec les mêmes acteurs. Sur ses 21 productions disponibles sur Netflix, 3 acteurs sont présents dans plusieurs de ces productions, 3 fois ou 2 fois."
   ]
  },
  {
   "cell_type": "markdown",
   "metadata": {},
   "source": [
    "La suite de cette question n'était pas demandé dans l'énoncé du chapitre, il s'agit d'un \"bonus\""
   ]
  },
  {
   "cell_type": "markdown",
   "metadata": {},
   "source": [
    "En s'intéressant aux acteurs, peu importe le directeur, lesquels sont les plus présents sur Netflix ?"
   ]
  },
  {
   "cell_type": "code",
   "execution_count": 32,
   "metadata": {},
   "outputs": [
    {
     "data": {
      "text/plain": [
       "Anupam Kher         33\n",
       "Shah Rukh Khan      30\n",
       "Om Puri             27\n",
       "Naseeruddin Shah    27\n",
       "Yuki Kaji           26\n",
       "dtype: int64"
      ]
     },
     "execution_count": 32,
     "metadata": {},
     "output_type": "execute_result"
    }
   ],
   "source": [
    "acteurs=pd.Series(\", \".join(donnees[\"cast\"].dropna()).split(\", \"))\n",
    "acteurs.value_counts().head(n=5)"
   ]
  },
  {
   "cell_type": "markdown",
   "metadata": {},
   "source": [
    "Anupam Kher a effectivement joué dans plus de 200 films, dont 33 contenus disponibles sur Netflix. Faisons la même chose pour sortir l'acteur le plus présents dans des films (uniquement) produits aux Etats-Unis, en France ?"
   ]
  },
  {
   "cell_type": "code",
   "execution_count": 33,
   "metadata": {},
   "outputs": [
    {
     "data": {
      "text/plain": [
       "Adam Sandler         13\n",
       "Laura Bailey         13\n",
       "Samuel L. Jackson    12\n",
       "Kate Higgins         12\n",
       "Fred Tatasciore      12\n",
       "dtype: int64"
      ]
     },
     "execution_count": 33,
     "metadata": {},
     "output_type": "execute_result"
    }
   ],
   "source": [
    "donnees_etats_unis=donnees[(donnees[\"country\"]==\"United States\") & (donnees[\"type\"]==\"Movie\")]\n",
    "acteurs=pd.Series(\", \".join(donnees_etats_unis[\"cast\"].dropna()).split(\", \"))\n",
    "acteurs.value_counts().head(n=5)"
   ]
  },
  {
   "cell_type": "code",
   "execution_count": 34,
   "metadata": {},
   "outputs": [
    {
     "data": {
      "text/plain": [
       "Chantal Lauby     2\n",
       "Blanche Gardin    2\n",
       "Rufus             2\n",
       "David Saracino    2\n",
       "Sami Bouajila     2\n",
       "dtype: int64"
      ]
     },
     "execution_count": 34,
     "metadata": {},
     "output_type": "execute_result"
    }
   ],
   "source": [
    "donnees_france=donnees[(donnees[\"country\"]==\"France\") & (donnees[\"type\"]==\"Movie\")]\n",
    "acteurs=pd.Series(\", \".join(donnees_france[\"cast\"].dropna()).split(\", \"))\n",
    "acteurs.value_counts().head(n=5)"
   ]
  },
  {
   "cell_type": "markdown",
   "metadata": {},
   "source": [
    "## 3.14. Représenter les 10 pays qui ont produits le plus de contenus disponibles sur Netflix, avec le nombre de contenus par pays"
   ]
  },
  {
   "cell_type": "markdown",
   "metadata": {},
   "source": [
    "Il faut commencer par créer un sous-tableau contenant les 10 pays avec le plus de contenus disponibles sur Netflix."
   ]
  },
  {
   "cell_type": "code",
   "execution_count": 35,
   "metadata": {},
   "outputs": [],
   "source": [
    "# création d'une série contenant les 10 pays avec le plus de contenu\n",
    "series_10_pays=donnees[\"country\"].value_counts().head(n=10)\n",
    "# création d'un sous tableau dont les valeurs de la colonne country sont égales à un des éléments de la série \"series_10_pays\"\n",
    "donnees_pays=donnees[donnees[\"country\"].isin(series_10_pays.index)]"
   ]
  },
  {
   "cell_type": "markdown",
   "metadata": {},
   "source": [
    "On crée une série contenant les 10 pays avec le plus de contenu. series_10_pays.index contient les noms de ces pays. On utilise la méthode isin() sur la colonne \"country\" pour ne garder que les lignes dont les valeurs de country sont compris dans une des valeurs de series_10_pays.index. Ainsi on ne garde que les lignes des 10 pays avec le plus de contenus."
   ]
  },
  {
   "cell_type": "markdown",
   "metadata": {},
   "source": [
    "On donne ce sous-tableau à la fonction countplot() de Seaborn pour visualiser le nombre de contenus dans chaque pays."
   ]
  },
  {
   "cell_type": "code",
   "execution_count": 36,
   "metadata": {},
   "outputs": [
    {
     "data": {
      "image/png": "[encoded data removed]",
      "text/plain": [
       "<Figure size 1080x432 with 1 Axes>"
      ]
     },
     "metadata": {
      "needs_background": "light"
     },
     "output_type": "display_data"
    }
   ],
   "source": [
    "import matplotlib.pyplot as plt\n",
    "import seaborn as sns\n",
    "palette=sns.color_palette(\"Paired\")\n",
    "sns.set_palette(palette)\n",
    "plt.figure(figsize=[15,6])\n",
    "plt.subplot(111)\n",
    "# utiliser ce sous-tableau pour créer le countplot\n",
    "sns.countplot(data=donnees_pays, x=\"country\")\n",
    "plt.title(\"Nombre de contenus produits / pays\")\n",
    "plt.xticks(rotation=90)\n",
    "plt.show()"
   ]
  },
  {
   "cell_type": "markdown",
   "metadata": {},
   "source": [
    "On pourrait vouloir trier ce graphique du pays avec le plus de contenu au pays avec le moins de contenu. Pour cela, la fonction countplot() possède une option, order, qui permet de définir l'ordre à donner aux barres. L'option order attend en entrée la liste des modalités du graphique en X et tracera ces modalités dans l'ordre qu'on lui demande. Pour cela, nous lui donnerons la liste des index de la série après la méthode value_counts(), étant donné que cette méthode trie les valeurs de la plus présente à la moins présente."
   ]
  },
  {
   "cell_type": "code",
   "execution_count": 37,
   "metadata": {},
   "outputs": [
    {
     "data": {
      "text/plain": [
       "Index(['United States', 'India', 'United Kingdom', 'Japan', 'Canada',\n",
       "       'South Korea', 'Spain', 'France', 'Mexico', 'Turkey'],\n",
       "      dtype='object')"
      ]
     },
     "execution_count": 37,
     "metadata": {},
     "output_type": "execute_result"
    }
   ],
   "source": [
    "donnees_pays['country'].value_counts().index"
   ]
  },
  {
   "cell_type": "code",
   "execution_count": 38,
   "metadata": {},
   "outputs": [
    {
     "data": {
      "image/png": "[encoded data removed]",
      "text/plain": [
       "<Figure size 1080x432 with 1 Axes>"
      ]
     },
     "metadata": {
      "needs_background": "light"
     },
     "output_type": "display_data"
    }
   ],
   "source": [
    "import matplotlib.pyplot as plt\n",
    "import seaborn as sns\n",
    "palette=sns.color_palette(\"Paired\")\n",
    "sns.set_palette(palette)\n",
    "plt.figure(figsize=[15,6])\n",
    "plt.subplot(111)\n",
    "# utiliser ce sous-tableau pour créer le countplot\n",
    "sns.countplot(data=donnees_pays, x=\"country\",order = donnees_pays['country'].value_counts().keys())\n",
    "plt.title(\"Nombre de contenus produits / pays\")\n",
    "plt.xticks(rotation=90)\n",
    "plt.show()"
   ]
  },
  {
   "cell_type": "markdown",
   "metadata": {},
   "source": [
    "Nous avions déjà remarqué que les Etats-Unis était le pays avec le plus de contenu disponible sur Netflix. Après lui vient l'Inde : l'industrie du cinéma en Inde est très développé, notamment avec le célèbre Bollywood qui produit un nombre de films impressionnant tous les ans. Cela se répercute sur les disponibilités sur Netflix. En 3ème position vient le Royaume-Uni. La France est en 8ème position dans ce classement."
   ]
  },
  {
   "cell_type": "markdown",
   "metadata": {},
   "source": [
    "## 3.15. Tracer un graphe à barres du nombre de films/séries par classement de contenu (rating)"
   ]
  },
  {
   "cell_type": "markdown",
   "metadata": {},
   "source": [
    "Pour tracer ce graphique, il s'agira d'utiliser à nouveau la fonction countplot de seaborn, avec la variable \"rating\" cette fois-ci."
   ]
  },
  {
   "cell_type": "code",
   "execution_count": 39,
   "metadata": {},
   "outputs": [
    {
     "data": {
      "image/png": "[encoded data removed]",
      "text/plain": [
       "<Figure size 1080x432 with 1 Axes>"
      ]
     },
     "metadata": {
      "needs_background": "light"
     },
     "output_type": "display_data"
    }
   ],
   "source": [
    "import matplotlib.pyplot as plt\n",
    "import seaborn as sns\n",
    "palette=sns.color_palette(\"Paired\")\n",
    "sns.set_palette(palette)\n",
    "plt.figure(figsize=[15,6])\n",
    "plt.subplot(111)\n",
    "# utiliser ce sous-tableau pour créer le countplot\n",
    "sns.countplot(data=donnees, x=\"rating\",order = donnees['rating'].value_counts().keys())\n",
    "plt.title(\"Nombre de films/séries par classement de contenu\")\n",
    "plt.xticks(rotation=90)\n",
    "plt.show()"
   ]
  },
  {
   "cell_type": "markdown",
   "metadata": {},
   "source": [
    "Nous l'avions constaté lors de l'utilisation de la méthode describe(), le classement TV-MA possède le plus de contenus (inapproprié pour les jeunes de moins de 17 ans). Suivi de prêt par le contenu TV-14 ( inappropriés pour les jeunes de moins de 14 ans). TV-PG signifie : inappropriés pour les enfants. De même, R n'est pas conseillé pour les moins de 17 ans. Globalement, on peut en conclure qu'il faut faire attention au contenu Netflix pour les enfants. Heureusement, il est possible de créer des profils pour les enfants sur Netflix, qui filtre l'ensemble du contenu inaproprié."
   ]
  },
  {
   "cell_type": "markdown",
   "metadata": {},
   "source": [
    "## 3.16. Evolution du nombre de films/séries disponibles sur Netflix au cours du temps"
   ]
  },
  {
   "cell_type": "markdown",
   "metadata": {},
   "source": [
    "Nous allons repartir du tableau d'origine et supprimer les lignes pour lesquelles les valeurs sont manquantes dans la colonne \"date_added\", grâce à la méthode notna() de Pandas, que nous avons vu ensemble.\n",
    "\n",
    "Ensuite, nous allons utiliser la fonction to_datetime() de pandas pour formater la colonne \"date_added\" en format datetime64.\n",
    "\n",
    "Enfin, nous ajouterons une colonne, nommée \"year_added\" contenant uniquement l'année où le contenu a été ajouté sur Netflix et non pas la date complète.\n",
    "\n",
    "Cela nous permettra d'utiliser la fonction pointplot() de Seaborn pour afficher le nombre de contenus ajoutés par année et nous utiliserons l'option \"hue\" pour séparer les deux courbes selon le type du contenu, \"Movie\" ou \"TV Show\"."
   ]
  },
  {
   "cell_type": "code",
   "execution_count": 40,
   "metadata": {},
   "outputs": [
    {
     "ename": "FileNotFoundError",
     "evalue": "[Errno 2] No such file or directory: '../datasets/netflix_titles.csv'",
     "output_type": "error",
     "traceback": [
      "\u001b[1;31m---------------------------------------------------------------------------\u001b[0m",
      "\u001b[1;31mFileNotFoundError\u001b[0m                         Traceback (most recent call last)",
      "\u001b[1;32m~\\AppData\\Local\\Temp/ipykernel_16492/1984635691.py\u001b[0m in \u001b[0;36m<module>\u001b[1;34m\u001b[0m\n\u001b[1;32m----> 1\u001b[1;33m \u001b[0mdonnees_dates\u001b[0m\u001b[1;33m=\u001b[0m\u001b[0mpd\u001b[0m\u001b[1;33m.\u001b[0m\u001b[0mread_csv\u001b[0m\u001b[1;33m(\u001b[0m\u001b[1;34m\"../datasets/netflix_titles.csv\"\u001b[0m\u001b[1;33m,\u001b[0m \u001b[0mindex_col\u001b[0m\u001b[1;33m=\u001b[0m\u001b[1;33m[\u001b[0m\u001b[1;36m0\u001b[0m\u001b[1;33m]\u001b[0m\u001b[1;33m)\u001b[0m\u001b[1;33m\u001b[0m\u001b[1;33m\u001b[0m\u001b[0m\n\u001b[0m\u001b[0;32m      2\u001b[0m \u001b[0mdonnees_dates\u001b[0m\u001b[1;33m=\u001b[0m\u001b[0mdonnees_dates\u001b[0m\u001b[1;33m[\u001b[0m\u001b[0mdonnees_dates\u001b[0m\u001b[1;33m[\u001b[0m\u001b[1;34m\"date_added\"\u001b[0m\u001b[1;33m]\u001b[0m\u001b[1;33m.\u001b[0m\u001b[0mnotna\u001b[0m\u001b[1;33m(\u001b[0m\u001b[1;33m)\u001b[0m\u001b[1;33m]\u001b[0m\u001b[1;33m\u001b[0m\u001b[1;33m\u001b[0m\u001b[0m\n\u001b[0;32m      3\u001b[0m \u001b[0mdonnees_dates\u001b[0m\u001b[1;33m[\u001b[0m\u001b[1;34m\"date_added\"\u001b[0m\u001b[1;33m]\u001b[0m \u001b[1;33m=\u001b[0m \u001b[0mpd\u001b[0m\u001b[1;33m.\u001b[0m\u001b[0mto_datetime\u001b[0m\u001b[1;33m(\u001b[0m\u001b[0mdonnees_dates\u001b[0m\u001b[1;33m[\u001b[0m\u001b[1;34m'date_added'\u001b[0m\u001b[1;33m]\u001b[0m\u001b[1;33m)\u001b[0m\u001b[1;33m\u001b[0m\u001b[1;33m\u001b[0m\u001b[0m\n\u001b[0;32m      4\u001b[0m \u001b[0mdonnees_dates\u001b[0m\u001b[1;33m[\u001b[0m\u001b[1;34m'year_added'\u001b[0m\u001b[1;33m]\u001b[0m \u001b[1;33m=\u001b[0m \u001b[0mdonnees_dates\u001b[0m\u001b[1;33m[\u001b[0m\u001b[1;34m'date_added'\u001b[0m\u001b[1;33m]\u001b[0m\u001b[1;33m.\u001b[0m\u001b[0mdt\u001b[0m\u001b[1;33m.\u001b[0m\u001b[0myear\u001b[0m\u001b[1;33m.\u001b[0m\u001b[0mastype\u001b[0m\u001b[1;33m(\u001b[0m\u001b[1;34m\"int\"\u001b[0m\u001b[1;33m)\u001b[0m\u001b[1;33m\u001b[0m\u001b[1;33m\u001b[0m\u001b[0m\n\u001b[0;32m      5\u001b[0m \u001b[0mdonnees_dates\u001b[0m\u001b[1;33m.\u001b[0m\u001b[0mhead\u001b[0m\u001b[1;33m(\u001b[0m\u001b[0mn\u001b[0m\u001b[1;33m=\u001b[0m\u001b[1;36m2\u001b[0m\u001b[1;33m)\u001b[0m\u001b[1;33m\u001b[0m\u001b[1;33m\u001b[0m\u001b[0m\n",
      "\u001b[1;32m~\\anaconda3\\lib\\site-packages\\pandas\\util\\_decorators.py\u001b[0m in \u001b[0;36mwrapper\u001b[1;34m(*args, **kwargs)\u001b[0m\n\u001b[0;32m    309\u001b[0m                     \u001b[0mstacklevel\u001b[0m\u001b[1;33m=\u001b[0m\u001b[0mstacklevel\u001b[0m\u001b[1;33m,\u001b[0m\u001b[1;33m\u001b[0m\u001b[1;33m\u001b[0m\u001b[0m\n\u001b[0;32m    310\u001b[0m                 )\n\u001b[1;32m--> 311\u001b[1;33m             \u001b[1;32mreturn\u001b[0m \u001b[0mfunc\u001b[0m\u001b[1;33m(\u001b[0m\u001b[1;33m*\u001b[0m\u001b[0margs\u001b[0m\u001b[1;33m,\u001b[0m \u001b[1;33m**\u001b[0m\u001b[0mkwargs\u001b[0m\u001b[1;33m)\u001b[0m\u001b[1;33m\u001b[0m\u001b[1;33m\u001b[0m\u001b[0m\n\u001b[0m\u001b[0;32m    312\u001b[0m \u001b[1;33m\u001b[0m\u001b[0m\n\u001b[0;32m    313\u001b[0m         \u001b[1;32mreturn\u001b[0m \u001b[0mwrapper\u001b[0m\u001b[1;33m\u001b[0m\u001b[1;33m\u001b[0m\u001b[0m\n",
      "\u001b[1;32m~\\anaconda3\\lib\\site-packages\\pandas\\io\\parsers\\readers.py\u001b[0m in \u001b[0;36mread_csv\u001b[1;34m(filepath_or_buffer, sep, delimiter, header, names, index_col, usecols, squeeze, prefix, mangle_dupe_cols, dtype, engine, converters, true_values, false_values, skipinitialspace, skiprows, skipfooter, nrows, na_values, keep_default_na, na_filter, verbose, skip_blank_lines, parse_dates, infer_datetime_format, keep_date_col, date_parser, dayfirst, cache_dates, iterator, chunksize, compression, thousands, decimal, lineterminator, quotechar, quoting, doublequote, escapechar, comment, encoding, encoding_errors, dialect, error_bad_lines, warn_bad_lines, on_bad_lines, delim_whitespace, low_memory, memory_map, float_precision, storage_options)\u001b[0m\n\u001b[0;32m    584\u001b[0m     \u001b[0mkwds\u001b[0m\u001b[1;33m.\u001b[0m\u001b[0mupdate\u001b[0m\u001b[1;33m(\u001b[0m\u001b[0mkwds_defaults\u001b[0m\u001b[1;33m)\u001b[0m\u001b[1;33m\u001b[0m\u001b[1;33m\u001b[0m\u001b[0m\n\u001b[0;32m    585\u001b[0m \u001b[1;33m\u001b[0m\u001b[0m\n\u001b[1;32m--> 586\u001b[1;33m     \u001b[1;32mreturn\u001b[0m \u001b[0m_read\u001b[0m\u001b[1;33m(\u001b[0m\u001b[0mfilepath_or_buffer\u001b[0m\u001b[1;33m,\u001b[0m \u001b[0mkwds\u001b[0m\u001b[1;33m)\u001b[0m\u001b[1;33m\u001b[0m\u001b[1;33m\u001b[0m\u001b[0m\n\u001b[0m\u001b[0;32m    587\u001b[0m \u001b[1;33m\u001b[0m\u001b[0m\n\u001b[0;32m    588\u001b[0m \u001b[1;33m\u001b[0m\u001b[0m\n",
      "\u001b[1;32m~\\anaconda3\\lib\\site-packages\\pandas\\io\\parsers\\readers.py\u001b[0m in \u001b[0;36m_read\u001b[1;34m(filepath_or_buffer, kwds)\u001b[0m\n\u001b[0;32m    480\u001b[0m \u001b[1;33m\u001b[0m\u001b[0m\n\u001b[0;32m    481\u001b[0m     \u001b[1;31m# Create the parser.\u001b[0m\u001b[1;33m\u001b[0m\u001b[1;33m\u001b[0m\u001b[0m\n\u001b[1;32m--> 482\u001b[1;33m     \u001b[0mparser\u001b[0m \u001b[1;33m=\u001b[0m \u001b[0mTextFileReader\u001b[0m\u001b[1;33m(\u001b[0m\u001b[0mfilepath_or_buffer\u001b[0m\u001b[1;33m,\u001b[0m \u001b[1;33m**\u001b[0m\u001b[0mkwds\u001b[0m\u001b[1;33m)\u001b[0m\u001b[1;33m\u001b[0m\u001b[1;33m\u001b[0m\u001b[0m\n\u001b[0m\u001b[0;32m    483\u001b[0m \u001b[1;33m\u001b[0m\u001b[0m\n\u001b[0;32m    484\u001b[0m     \u001b[1;32mif\u001b[0m \u001b[0mchunksize\u001b[0m \u001b[1;32mor\u001b[0m \u001b[0miterator\u001b[0m\u001b[1;33m:\u001b[0m\u001b[1;33m\u001b[0m\u001b[1;33m\u001b[0m\u001b[0m\n",
      "\u001b[1;32m~\\anaconda3\\lib\\site-packages\\pandas\\io\\parsers\\readers.py\u001b[0m in \u001b[0;36m__init__\u001b[1;34m(self, f, engine, **kwds)\u001b[0m\n\u001b[0;32m    809\u001b[0m             \u001b[0mself\u001b[0m\u001b[1;33m.\u001b[0m\u001b[0moptions\u001b[0m\u001b[1;33m[\u001b[0m\u001b[1;34m\"has_index_names\"\u001b[0m\u001b[1;33m]\u001b[0m \u001b[1;33m=\u001b[0m \u001b[0mkwds\u001b[0m\u001b[1;33m[\u001b[0m\u001b[1;34m\"has_index_names\"\u001b[0m\u001b[1;33m]\u001b[0m\u001b[1;33m\u001b[0m\u001b[1;33m\u001b[0m\u001b[0m\n\u001b[0;32m    810\u001b[0m \u001b[1;33m\u001b[0m\u001b[0m\n\u001b[1;32m--> 811\u001b[1;33m         \u001b[0mself\u001b[0m\u001b[1;33m.\u001b[0m\u001b[0m_engine\u001b[0m \u001b[1;33m=\u001b[0m \u001b[0mself\u001b[0m\u001b[1;33m.\u001b[0m\u001b[0m_make_engine\u001b[0m\u001b[1;33m(\u001b[0m\u001b[0mself\u001b[0m\u001b[1;33m.\u001b[0m\u001b[0mengine\u001b[0m\u001b[1;33m)\u001b[0m\u001b[1;33m\u001b[0m\u001b[1;33m\u001b[0m\u001b[0m\n\u001b[0m\u001b[0;32m    812\u001b[0m \u001b[1;33m\u001b[0m\u001b[0m\n\u001b[0;32m    813\u001b[0m     \u001b[1;32mdef\u001b[0m \u001b[0mclose\u001b[0m\u001b[1;33m(\u001b[0m\u001b[0mself\u001b[0m\u001b[1;33m)\u001b[0m\u001b[1;33m:\u001b[0m\u001b[1;33m\u001b[0m\u001b[1;33m\u001b[0m\u001b[0m\n",
      "\u001b[1;32m~\\anaconda3\\lib\\site-packages\\pandas\\io\\parsers\\readers.py\u001b[0m in \u001b[0;36m_make_engine\u001b[1;34m(self, engine)\u001b[0m\n\u001b[0;32m   1038\u001b[0m             )\n\u001b[0;32m   1039\u001b[0m         \u001b[1;31m# error: Too many arguments for \"ParserBase\"\u001b[0m\u001b[1;33m\u001b[0m\u001b[1;33m\u001b[0m\u001b[0m\n\u001b[1;32m-> 1040\u001b[1;33m         \u001b[1;32mreturn\u001b[0m \u001b[0mmapping\u001b[0m\u001b[1;33m[\u001b[0m\u001b[0mengine\u001b[0m\u001b[1;33m]\u001b[0m\u001b[1;33m(\u001b[0m\u001b[0mself\u001b[0m\u001b[1;33m.\u001b[0m\u001b[0mf\u001b[0m\u001b[1;33m,\u001b[0m \u001b[1;33m**\u001b[0m\u001b[0mself\u001b[0m\u001b[1;33m.\u001b[0m\u001b[0moptions\u001b[0m\u001b[1;33m)\u001b[0m  \u001b[1;31m# type: ignore[call-arg]\u001b[0m\u001b[1;33m\u001b[0m\u001b[1;33m\u001b[0m\u001b[0m\n\u001b[0m\u001b[0;32m   1041\u001b[0m \u001b[1;33m\u001b[0m\u001b[0m\n\u001b[0;32m   1042\u001b[0m     \u001b[1;32mdef\u001b[0m \u001b[0m_failover_to_python\u001b[0m\u001b[1;33m(\u001b[0m\u001b[0mself\u001b[0m\u001b[1;33m)\u001b[0m\u001b[1;33m:\u001b[0m\u001b[1;33m\u001b[0m\u001b[1;33m\u001b[0m\u001b[0m\n",
      "\u001b[1;32m~\\anaconda3\\lib\\site-packages\\pandas\\io\\parsers\\c_parser_wrapper.py\u001b[0m in \u001b[0;36m__init__\u001b[1;34m(self, src, **kwds)\u001b[0m\n\u001b[0;32m     49\u001b[0m \u001b[1;33m\u001b[0m\u001b[0m\n\u001b[0;32m     50\u001b[0m         \u001b[1;31m# open handles\u001b[0m\u001b[1;33m\u001b[0m\u001b[1;33m\u001b[0m\u001b[0m\n\u001b[1;32m---> 51\u001b[1;33m         \u001b[0mself\u001b[0m\u001b[1;33m.\u001b[0m\u001b[0m_open_handles\u001b[0m\u001b[1;33m(\u001b[0m\u001b[0msrc\u001b[0m\u001b[1;33m,\u001b[0m \u001b[0mkwds\u001b[0m\u001b[1;33m)\u001b[0m\u001b[1;33m\u001b[0m\u001b[1;33m\u001b[0m\u001b[0m\n\u001b[0m\u001b[0;32m     52\u001b[0m         \u001b[1;32massert\u001b[0m \u001b[0mself\u001b[0m\u001b[1;33m.\u001b[0m\u001b[0mhandles\u001b[0m \u001b[1;32mis\u001b[0m \u001b[1;32mnot\u001b[0m \u001b[1;32mNone\u001b[0m\u001b[1;33m\u001b[0m\u001b[1;33m\u001b[0m\u001b[0m\n\u001b[0;32m     53\u001b[0m \u001b[1;33m\u001b[0m\u001b[0m\n",
      "\u001b[1;32m~\\anaconda3\\lib\\site-packages\\pandas\\io\\parsers\\base_parser.py\u001b[0m in \u001b[0;36m_open_handles\u001b[1;34m(self, src, kwds)\u001b[0m\n\u001b[0;32m    220\u001b[0m         \u001b[0mLet\u001b[0m \u001b[0mthe\u001b[0m \u001b[0mreaders\u001b[0m \u001b[0mopen\u001b[0m \u001b[0mIOHandles\u001b[0m \u001b[0mafter\u001b[0m \u001b[0mthey\u001b[0m \u001b[0mare\u001b[0m \u001b[0mdone\u001b[0m \u001b[1;32mwith\u001b[0m \u001b[0mtheir\u001b[0m \u001b[0mpotential\u001b[0m \u001b[0mraises\u001b[0m\u001b[1;33m.\u001b[0m\u001b[1;33m\u001b[0m\u001b[1;33m\u001b[0m\u001b[0m\n\u001b[0;32m    221\u001b[0m         \"\"\"\n\u001b[1;32m--> 222\u001b[1;33m         self.handles = get_handle(\n\u001b[0m\u001b[0;32m    223\u001b[0m             \u001b[0msrc\u001b[0m\u001b[1;33m,\u001b[0m\u001b[1;33m\u001b[0m\u001b[1;33m\u001b[0m\u001b[0m\n\u001b[0;32m    224\u001b[0m             \u001b[1;34m\"r\"\u001b[0m\u001b[1;33m,\u001b[0m\u001b[1;33m\u001b[0m\u001b[1;33m\u001b[0m\u001b[0m\n",
      "\u001b[1;32m~\\anaconda3\\lib\\site-packages\\pandas\\io\\common.py\u001b[0m in \u001b[0;36mget_handle\u001b[1;34m(path_or_buf, mode, encoding, compression, memory_map, is_text, errors, storage_options)\u001b[0m\n\u001b[0;32m    700\u001b[0m         \u001b[1;32mif\u001b[0m \u001b[0mioargs\u001b[0m\u001b[1;33m.\u001b[0m\u001b[0mencoding\u001b[0m \u001b[1;32mand\u001b[0m \u001b[1;34m\"b\"\u001b[0m \u001b[1;32mnot\u001b[0m \u001b[1;32min\u001b[0m \u001b[0mioargs\u001b[0m\u001b[1;33m.\u001b[0m\u001b[0mmode\u001b[0m\u001b[1;33m:\u001b[0m\u001b[1;33m\u001b[0m\u001b[1;33m\u001b[0m\u001b[0m\n\u001b[0;32m    701\u001b[0m             \u001b[1;31m# Encoding\u001b[0m\u001b[1;33m\u001b[0m\u001b[1;33m\u001b[0m\u001b[0m\n\u001b[1;32m--> 702\u001b[1;33m             handle = open(\n\u001b[0m\u001b[0;32m    703\u001b[0m                 \u001b[0mhandle\u001b[0m\u001b[1;33m,\u001b[0m\u001b[1;33m\u001b[0m\u001b[1;33m\u001b[0m\u001b[0m\n\u001b[0;32m    704\u001b[0m                 \u001b[0mioargs\u001b[0m\u001b[1;33m.\u001b[0m\u001b[0mmode\u001b[0m\u001b[1;33m,\u001b[0m\u001b[1;33m\u001b[0m\u001b[1;33m\u001b[0m\u001b[0m\n",
      "\u001b[1;31mFileNotFoundError\u001b[0m: [Errno 2] No such file or directory: '../datasets/netflix_titles.csv'"
     ]
    }
   ],
   "source": [
    "donnees_dates=pd.read_csv(\"../datasets/netflix_titles.csv\", index_col=[0])\n",
    "donnees_dates=donnees_dates[donnees_dates[\"date_added\"].notna()]\n",
    "donnees_dates[\"date_added\"] = pd.to_datetime(donnees_dates['date_added'])\n",
    "donnees_dates['year_added'] = donnees_dates['date_added'].dt.year.astype(\"int\")\n",
    "donnees_dates.head(n=2)"
   ]
  },
  {
   "cell_type": "markdown",
   "metadata": {},
   "source": [
    "Une fois le dataframe correctement formaté, nous groupons le dataframe sur les colonnes year_added et type avec la méthode groupby()"
   ]
  },
  {
   "cell_type": "code",
   "execution_count": 41,
   "metadata": {},
   "outputs": [
    {
     "ename": "NameError",
     "evalue": "name 'donnees_dates' is not defined",
     "output_type": "error",
     "traceback": [
      "\u001b[1;31m---------------------------------------------------------------------------\u001b[0m",
      "\u001b[1;31mNameError\u001b[0m                                 Traceback (most recent call last)",
      "\u001b[1;32m~\\AppData\\Local\\Temp/ipykernel_16492/4194930330.py\u001b[0m in \u001b[0;36m<module>\u001b[1;34m\u001b[0m\n\u001b[1;32m----> 1\u001b[1;33m \u001b[0mdonnees_dates\u001b[0m\u001b[1;33m.\u001b[0m\u001b[0mgroupby\u001b[0m\u001b[1;33m(\u001b[0m\u001b[1;33m[\u001b[0m\u001b[1;34m'year_added'\u001b[0m\u001b[1;33m,\u001b[0m\u001b[1;34m'type'\u001b[0m\u001b[1;33m]\u001b[0m\u001b[1;33m)\u001b[0m\u001b[1;33m.\u001b[0m\u001b[0msize\u001b[0m\u001b[1;33m(\u001b[0m\u001b[1;33m)\u001b[0m\u001b[1;33m.\u001b[0m\u001b[0mreset_index\u001b[0m\u001b[1;33m(\u001b[0m\u001b[0mname\u001b[0m\u001b[1;33m=\u001b[0m\u001b[1;34m'Count'\u001b[0m\u001b[1;33m)\u001b[0m\u001b[1;33m.\u001b[0m\u001b[0mhead\u001b[0m\u001b[1;33m(\u001b[0m\u001b[1;33m)\u001b[0m\u001b[1;33m\u001b[0m\u001b[1;33m\u001b[0m\u001b[0m\n\u001b[0m",
      "\u001b[1;31mNameError\u001b[0m: name 'donnees_dates' is not defined"
     ]
    }
   ],
   "source": [
    "donnees_dates.groupby(['year_added','type']).size().reset_index(name='Count').head()"
   ]
  },
  {
   "cell_type": "markdown",
   "metadata": {},
   "source": [
    "Puis nous utilisons la fonction pointplot() pour tracer l'évolution de l'ajout de contenu sur Netflix au fil des ans."
   ]
  },
  {
   "cell_type": "code",
   "execution_count": 42,
   "metadata": {},
   "outputs": [
    {
     "ename": "NameError",
     "evalue": "name 'donnees_dates' is not defined",
     "output_type": "error",
     "traceback": [
      "\u001b[1;31m---------------------------------------------------------------------------\u001b[0m",
      "\u001b[1;31mNameError\u001b[0m                                 Traceback (most recent call last)",
      "\u001b[1;32m~\\AppData\\Local\\Temp/ipykernel_16492/4247875321.py\u001b[0m in \u001b[0;36m<module>\u001b[1;34m\u001b[0m\n\u001b[0;32m      3\u001b[0m \u001b[0mplt\u001b[0m\u001b[1;33m.\u001b[0m\u001b[0mfigure\u001b[0m\u001b[1;33m(\u001b[0m\u001b[0mfigsize\u001b[0m\u001b[1;33m=\u001b[0m\u001b[1;33m[\u001b[0m\u001b[1;36m15\u001b[0m\u001b[1;33m,\u001b[0m\u001b[1;36m6\u001b[0m\u001b[1;33m]\u001b[0m\u001b[1;33m)\u001b[0m\u001b[1;33m\u001b[0m\u001b[1;33m\u001b[0m\u001b[0m\n\u001b[0;32m      4\u001b[0m \u001b[0mplt\u001b[0m\u001b[1;33m.\u001b[0m\u001b[0msubplot\u001b[0m\u001b[1;33m(\u001b[0m\u001b[1;36m111\u001b[0m\u001b[1;33m)\u001b[0m\u001b[1;33m\u001b[0m\u001b[1;33m\u001b[0m\u001b[0m\n\u001b[1;32m----> 5\u001b[1;33m \u001b[0mdonnees_pointplot\u001b[0m\u001b[1;33m=\u001b[0m\u001b[0mdonnees_dates\u001b[0m\u001b[1;33m.\u001b[0m\u001b[0mgroupby\u001b[0m\u001b[1;33m(\u001b[0m\u001b[1;33m[\u001b[0m\u001b[1;34m'year_added'\u001b[0m\u001b[1;33m,\u001b[0m\u001b[1;34m'type'\u001b[0m\u001b[1;33m]\u001b[0m\u001b[1;33m)\u001b[0m\u001b[1;33m.\u001b[0m\u001b[0msize\u001b[0m\u001b[1;33m(\u001b[0m\u001b[1;33m)\u001b[0m\u001b[1;33m.\u001b[0m\u001b[0mreset_index\u001b[0m\u001b[1;33m(\u001b[0m\u001b[0mname\u001b[0m\u001b[1;33m=\u001b[0m\u001b[1;34m'Count'\u001b[0m\u001b[1;33m)\u001b[0m\u001b[1;33m\u001b[0m\u001b[1;33m\u001b[0m\u001b[0m\n\u001b[0m\u001b[0;32m      6\u001b[0m \u001b[0msns\u001b[0m\u001b[1;33m.\u001b[0m\u001b[0mpointplot\u001b[0m\u001b[1;33m(\u001b[0m\u001b[0mx\u001b[0m \u001b[1;33m=\u001b[0m\u001b[1;34m'year_added'\u001b[0m\u001b[1;33m,\u001b[0m \u001b[0my\u001b[0m \u001b[1;33m=\u001b[0m\u001b[1;34m'Count'\u001b[0m\u001b[1;33m,\u001b[0m \u001b[0mdata\u001b[0m \u001b[1;33m=\u001b[0m \u001b[0mdonnees_pointplot\u001b[0m\u001b[1;33m,\u001b[0m \u001b[0mhue\u001b[0m\u001b[1;33m=\u001b[0m\u001b[1;34m\"type\"\u001b[0m\u001b[1;33m)\u001b[0m\u001b[1;33m\u001b[0m\u001b[1;33m\u001b[0m\u001b[0m\n\u001b[0;32m      7\u001b[0m \u001b[0mplt\u001b[0m\u001b[1;33m.\u001b[0m\u001b[0mxticks\u001b[0m\u001b[1;33m(\u001b[0m\u001b[0mrotation\u001b[0m\u001b[1;33m=\u001b[0m\u001b[1;36m90\u001b[0m\u001b[1;33m)\u001b[0m\u001b[1;33m\u001b[0m\u001b[1;33m\u001b[0m\u001b[0m\n",
      "\u001b[1;31mNameError\u001b[0m: name 'donnees_dates' is not defined"
     ]
    },
    {
     "data": {
      "image/png": "[encoded data removed]",
      "text/plain": [
       "<Figure size 1080x432 with 1 Axes>"
      ]
     },
     "metadata": {
      "needs_background": "light"
     },
     "output_type": "display_data"
    }
   ],
   "source": [
    "import matplotlib.pyplot as plt\n",
    "import seaborn as sns\n",
    "plt.figure(figsize=[15,6])\n",
    "plt.subplot(111)\n",
    "donnees_pointplot=donnees_dates.groupby(['year_added','type']).size().reset_index(name='Count')\n",
    "sns.pointplot(x ='year_added', y ='Count', data = donnees_pointplot, hue=\"type\")\n",
    "plt.xticks(rotation=90)\n",
    "plt.show()"
   ]
  },
  {
   "cell_type": "markdown",
   "metadata": {},
   "source": [
    "On constate un boom d'ajout de contenus à partir de 2014, avec une courbe qui ne cesse d'augmenter jusqu'en 2019. La valeur à l'année 2020 est trompeuse, ce jeu de données s'arrête à l'année 2019, les quelques données sur l'année 2020 ne sont pas à prendre en compte. L'ajout de films et séries augmentait de la même manière jusqu'en 2016. Après 2016, l'ajout de films est devenu encore plus conséquent que celui des séries, avec toujours une forte augmentation d'ajout de contenus dans les deux catégories.En 2019, près de 1600 films et 800 séries ont été ajoutée sur la plateforme de streaming."
   ]
  },
  {
   "cell_type": "markdown",
   "metadata": {},
   "source": [
    "## Tracer un graphique qui montre l'évolution du nombre de films/séries produits par les 10 pays les plus producteurs de contenus sur Netflix, au fil des ans (non demandé dans le chapitre)"
   ]
  },
  {
   "cell_type": "markdown",
   "metadata": {},
   "source": [
    "On formate les dates comme précédemment, on crée un sous tableau contenant uniquement les données des 10 pays les plus présents sur Netflix puis on trace le pointplot."
   ]
  },
  {
   "cell_type": "code",
   "execution_count": 43,
   "metadata": {},
   "outputs": [
    {
     "ename": "FileNotFoundError",
     "evalue": "[Errno 2] No such file or directory: '../datasets/netflix_titles.csv'",
     "output_type": "error",
     "traceback": [
      "\u001b[1;31m---------------------------------------------------------------------------\u001b[0m",
      "\u001b[1;31mFileNotFoundError\u001b[0m                         Traceback (most recent call last)",
      "\u001b[1;32m~\\AppData\\Local\\Temp/ipykernel_16492/3269217830.py\u001b[0m in \u001b[0;36m<module>\u001b[1;34m\u001b[0m\n\u001b[0;32m      1\u001b[0m \u001b[1;31m# formatage des dates\u001b[0m\u001b[1;33m\u001b[0m\u001b[1;33m\u001b[0m\u001b[0m\n\u001b[1;32m----> 2\u001b[1;33m \u001b[0mdonnees_dates\u001b[0m\u001b[1;33m=\u001b[0m\u001b[0mpd\u001b[0m\u001b[1;33m.\u001b[0m\u001b[0mread_csv\u001b[0m\u001b[1;33m(\u001b[0m\u001b[1;34m\"../datasets/netflix_titles.csv\"\u001b[0m\u001b[1;33m,\u001b[0m \u001b[0mindex_col\u001b[0m\u001b[1;33m=\u001b[0m\u001b[1;33m[\u001b[0m\u001b[1;36m0\u001b[0m\u001b[1;33m]\u001b[0m\u001b[1;33m)\u001b[0m\u001b[1;33m\u001b[0m\u001b[1;33m\u001b[0m\u001b[0m\n\u001b[0m\u001b[0;32m      3\u001b[0m \u001b[0mdonnees_dates\u001b[0m\u001b[1;33m=\u001b[0m\u001b[0mdonnees_dates\u001b[0m\u001b[1;33m[\u001b[0m\u001b[0mdonnees_dates\u001b[0m\u001b[1;33m[\u001b[0m\u001b[1;34m\"date_added\"\u001b[0m\u001b[1;33m]\u001b[0m\u001b[1;33m.\u001b[0m\u001b[0mnotna\u001b[0m\u001b[1;33m(\u001b[0m\u001b[1;33m)\u001b[0m\u001b[1;33m]\u001b[0m\u001b[1;33m\u001b[0m\u001b[1;33m\u001b[0m\u001b[0m\n\u001b[0;32m      4\u001b[0m \u001b[0mdonnees_dates\u001b[0m\u001b[1;33m[\u001b[0m\u001b[1;34m\"date_added\"\u001b[0m\u001b[1;33m]\u001b[0m \u001b[1;33m=\u001b[0m \u001b[0mpd\u001b[0m\u001b[1;33m.\u001b[0m\u001b[0mto_datetime\u001b[0m\u001b[1;33m(\u001b[0m\u001b[0mdonnees_dates\u001b[0m\u001b[1;33m[\u001b[0m\u001b[1;34m'date_added'\u001b[0m\u001b[1;33m]\u001b[0m\u001b[1;33m)\u001b[0m\u001b[1;33m\u001b[0m\u001b[1;33m\u001b[0m\u001b[0m\n\u001b[0;32m      5\u001b[0m \u001b[0mdonnees_dates\u001b[0m\u001b[1;33m[\u001b[0m\u001b[1;34m'year_added'\u001b[0m\u001b[1;33m]\u001b[0m \u001b[1;33m=\u001b[0m \u001b[0mdonnees_dates\u001b[0m\u001b[1;33m[\u001b[0m\u001b[1;34m'date_added'\u001b[0m\u001b[1;33m]\u001b[0m\u001b[1;33m.\u001b[0m\u001b[0mdt\u001b[0m\u001b[1;33m.\u001b[0m\u001b[0myear\u001b[0m\u001b[1;33m.\u001b[0m\u001b[0mastype\u001b[0m\u001b[1;33m(\u001b[0m\u001b[1;34m\"int\"\u001b[0m\u001b[1;33m)\u001b[0m\u001b[1;33m\u001b[0m\u001b[1;33m\u001b[0m\u001b[0m\n",
      "\u001b[1;32m~\\anaconda3\\lib\\site-packages\\pandas\\util\\_decorators.py\u001b[0m in \u001b[0;36mwrapper\u001b[1;34m(*args, **kwargs)\u001b[0m\n\u001b[0;32m    309\u001b[0m                     \u001b[0mstacklevel\u001b[0m\u001b[1;33m=\u001b[0m\u001b[0mstacklevel\u001b[0m\u001b[1;33m,\u001b[0m\u001b[1;33m\u001b[0m\u001b[1;33m\u001b[0m\u001b[0m\n\u001b[0;32m    310\u001b[0m                 )\n\u001b[1;32m--> 311\u001b[1;33m             \u001b[1;32mreturn\u001b[0m \u001b[0mfunc\u001b[0m\u001b[1;33m(\u001b[0m\u001b[1;33m*\u001b[0m\u001b[0margs\u001b[0m\u001b[1;33m,\u001b[0m \u001b[1;33m**\u001b[0m\u001b[0mkwargs\u001b[0m\u001b[1;33m)\u001b[0m\u001b[1;33m\u001b[0m\u001b[1;33m\u001b[0m\u001b[0m\n\u001b[0m\u001b[0;32m    312\u001b[0m \u001b[1;33m\u001b[0m\u001b[0m\n\u001b[0;32m    313\u001b[0m         \u001b[1;32mreturn\u001b[0m \u001b[0mwrapper\u001b[0m\u001b[1;33m\u001b[0m\u001b[1;33m\u001b[0m\u001b[0m\n",
      "\u001b[1;32m~\\anaconda3\\lib\\site-packages\\pandas\\io\\parsers\\readers.py\u001b[0m in \u001b[0;36mread_csv\u001b[1;34m(filepath_or_buffer, sep, delimiter, header, names, index_col, usecols, squeeze, prefix, mangle_dupe_cols, dtype, engine, converters, true_values, false_values, skipinitialspace, skiprows, skipfooter, nrows, na_values, keep_default_na, na_filter, verbose, skip_blank_lines, parse_dates, infer_datetime_format, keep_date_col, date_parser, dayfirst, cache_dates, iterator, chunksize, compression, thousands, decimal, lineterminator, quotechar, quoting, doublequote, escapechar, comment, encoding, encoding_errors, dialect, error_bad_lines, warn_bad_lines, on_bad_lines, delim_whitespace, low_memory, memory_map, float_precision, storage_options)\u001b[0m\n\u001b[0;32m    584\u001b[0m     \u001b[0mkwds\u001b[0m\u001b[1;33m.\u001b[0m\u001b[0mupdate\u001b[0m\u001b[1;33m(\u001b[0m\u001b[0mkwds_defaults\u001b[0m\u001b[1;33m)\u001b[0m\u001b[1;33m\u001b[0m\u001b[1;33m\u001b[0m\u001b[0m\n\u001b[0;32m    585\u001b[0m \u001b[1;33m\u001b[0m\u001b[0m\n\u001b[1;32m--> 586\u001b[1;33m     \u001b[1;32mreturn\u001b[0m \u001b[0m_read\u001b[0m\u001b[1;33m(\u001b[0m\u001b[0mfilepath_or_buffer\u001b[0m\u001b[1;33m,\u001b[0m \u001b[0mkwds\u001b[0m\u001b[1;33m)\u001b[0m\u001b[1;33m\u001b[0m\u001b[1;33m\u001b[0m\u001b[0m\n\u001b[0m\u001b[0;32m    587\u001b[0m \u001b[1;33m\u001b[0m\u001b[0m\n\u001b[0;32m    588\u001b[0m \u001b[1;33m\u001b[0m\u001b[0m\n",
      "\u001b[1;32m~\\anaconda3\\lib\\site-packages\\pandas\\io\\parsers\\readers.py\u001b[0m in \u001b[0;36m_read\u001b[1;34m(filepath_or_buffer, kwds)\u001b[0m\n\u001b[0;32m    480\u001b[0m \u001b[1;33m\u001b[0m\u001b[0m\n\u001b[0;32m    481\u001b[0m     \u001b[1;31m# Create the parser.\u001b[0m\u001b[1;33m\u001b[0m\u001b[1;33m\u001b[0m\u001b[0m\n\u001b[1;32m--> 482\u001b[1;33m     \u001b[0mparser\u001b[0m \u001b[1;33m=\u001b[0m \u001b[0mTextFileReader\u001b[0m\u001b[1;33m(\u001b[0m\u001b[0mfilepath_or_buffer\u001b[0m\u001b[1;33m,\u001b[0m \u001b[1;33m**\u001b[0m\u001b[0mkwds\u001b[0m\u001b[1;33m)\u001b[0m\u001b[1;33m\u001b[0m\u001b[1;33m\u001b[0m\u001b[0m\n\u001b[0m\u001b[0;32m    483\u001b[0m \u001b[1;33m\u001b[0m\u001b[0m\n\u001b[0;32m    484\u001b[0m     \u001b[1;32mif\u001b[0m \u001b[0mchunksize\u001b[0m \u001b[1;32mor\u001b[0m \u001b[0miterator\u001b[0m\u001b[1;33m:\u001b[0m\u001b[1;33m\u001b[0m\u001b[1;33m\u001b[0m\u001b[0m\n",
      "\u001b[1;32m~\\anaconda3\\lib\\site-packages\\pandas\\io\\parsers\\readers.py\u001b[0m in \u001b[0;36m__init__\u001b[1;34m(self, f, engine, **kwds)\u001b[0m\n\u001b[0;32m    809\u001b[0m             \u001b[0mself\u001b[0m\u001b[1;33m.\u001b[0m\u001b[0moptions\u001b[0m\u001b[1;33m[\u001b[0m\u001b[1;34m\"has_index_names\"\u001b[0m\u001b[1;33m]\u001b[0m \u001b[1;33m=\u001b[0m \u001b[0mkwds\u001b[0m\u001b[1;33m[\u001b[0m\u001b[1;34m\"has_index_names\"\u001b[0m\u001b[1;33m]\u001b[0m\u001b[1;33m\u001b[0m\u001b[1;33m\u001b[0m\u001b[0m\n\u001b[0;32m    810\u001b[0m \u001b[1;33m\u001b[0m\u001b[0m\n\u001b[1;32m--> 811\u001b[1;33m         \u001b[0mself\u001b[0m\u001b[1;33m.\u001b[0m\u001b[0m_engine\u001b[0m \u001b[1;33m=\u001b[0m \u001b[0mself\u001b[0m\u001b[1;33m.\u001b[0m\u001b[0m_make_engine\u001b[0m\u001b[1;33m(\u001b[0m\u001b[0mself\u001b[0m\u001b[1;33m.\u001b[0m\u001b[0mengine\u001b[0m\u001b[1;33m)\u001b[0m\u001b[1;33m\u001b[0m\u001b[1;33m\u001b[0m\u001b[0m\n\u001b[0m\u001b[0;32m    812\u001b[0m \u001b[1;33m\u001b[0m\u001b[0m\n\u001b[0;32m    813\u001b[0m     \u001b[1;32mdef\u001b[0m \u001b[0mclose\u001b[0m\u001b[1;33m(\u001b[0m\u001b[0mself\u001b[0m\u001b[1;33m)\u001b[0m\u001b[1;33m:\u001b[0m\u001b[1;33m\u001b[0m\u001b[1;33m\u001b[0m\u001b[0m\n",
      "\u001b[1;32m~\\anaconda3\\lib\\site-packages\\pandas\\io\\parsers\\readers.py\u001b[0m in \u001b[0;36m_make_engine\u001b[1;34m(self, engine)\u001b[0m\n\u001b[0;32m   1038\u001b[0m             )\n\u001b[0;32m   1039\u001b[0m         \u001b[1;31m# error: Too many arguments for \"ParserBase\"\u001b[0m\u001b[1;33m\u001b[0m\u001b[1;33m\u001b[0m\u001b[0m\n\u001b[1;32m-> 1040\u001b[1;33m         \u001b[1;32mreturn\u001b[0m \u001b[0mmapping\u001b[0m\u001b[1;33m[\u001b[0m\u001b[0mengine\u001b[0m\u001b[1;33m]\u001b[0m\u001b[1;33m(\u001b[0m\u001b[0mself\u001b[0m\u001b[1;33m.\u001b[0m\u001b[0mf\u001b[0m\u001b[1;33m,\u001b[0m \u001b[1;33m**\u001b[0m\u001b[0mself\u001b[0m\u001b[1;33m.\u001b[0m\u001b[0moptions\u001b[0m\u001b[1;33m)\u001b[0m  \u001b[1;31m# type: ignore[call-arg]\u001b[0m\u001b[1;33m\u001b[0m\u001b[1;33m\u001b[0m\u001b[0m\n\u001b[0m\u001b[0;32m   1041\u001b[0m \u001b[1;33m\u001b[0m\u001b[0m\n\u001b[0;32m   1042\u001b[0m     \u001b[1;32mdef\u001b[0m \u001b[0m_failover_to_python\u001b[0m\u001b[1;33m(\u001b[0m\u001b[0mself\u001b[0m\u001b[1;33m)\u001b[0m\u001b[1;33m:\u001b[0m\u001b[1;33m\u001b[0m\u001b[1;33m\u001b[0m\u001b[0m\n",
      "\u001b[1;32m~\\anaconda3\\lib\\site-packages\\pandas\\io\\parsers\\c_parser_wrapper.py\u001b[0m in \u001b[0;36m__init__\u001b[1;34m(self, src, **kwds)\u001b[0m\n\u001b[0;32m     49\u001b[0m \u001b[1;33m\u001b[0m\u001b[0m\n\u001b[0;32m     50\u001b[0m         \u001b[1;31m# open handles\u001b[0m\u001b[1;33m\u001b[0m\u001b[1;33m\u001b[0m\u001b[0m\n\u001b[1;32m---> 51\u001b[1;33m         \u001b[0mself\u001b[0m\u001b[1;33m.\u001b[0m\u001b[0m_open_handles\u001b[0m\u001b[1;33m(\u001b[0m\u001b[0msrc\u001b[0m\u001b[1;33m,\u001b[0m \u001b[0mkwds\u001b[0m\u001b[1;33m)\u001b[0m\u001b[1;33m\u001b[0m\u001b[1;33m\u001b[0m\u001b[0m\n\u001b[0m\u001b[0;32m     52\u001b[0m         \u001b[1;32massert\u001b[0m \u001b[0mself\u001b[0m\u001b[1;33m.\u001b[0m\u001b[0mhandles\u001b[0m \u001b[1;32mis\u001b[0m \u001b[1;32mnot\u001b[0m \u001b[1;32mNone\u001b[0m\u001b[1;33m\u001b[0m\u001b[1;33m\u001b[0m\u001b[0m\n\u001b[0;32m     53\u001b[0m \u001b[1;33m\u001b[0m\u001b[0m\n",
      "\u001b[1;32m~\\anaconda3\\lib\\site-packages\\pandas\\io\\parsers\\base_parser.py\u001b[0m in \u001b[0;36m_open_handles\u001b[1;34m(self, src, kwds)\u001b[0m\n\u001b[0;32m    220\u001b[0m         \u001b[0mLet\u001b[0m \u001b[0mthe\u001b[0m \u001b[0mreaders\u001b[0m \u001b[0mopen\u001b[0m \u001b[0mIOHandles\u001b[0m \u001b[0mafter\u001b[0m \u001b[0mthey\u001b[0m \u001b[0mare\u001b[0m \u001b[0mdone\u001b[0m \u001b[1;32mwith\u001b[0m \u001b[0mtheir\u001b[0m \u001b[0mpotential\u001b[0m \u001b[0mraises\u001b[0m\u001b[1;33m.\u001b[0m\u001b[1;33m\u001b[0m\u001b[1;33m\u001b[0m\u001b[0m\n\u001b[0;32m    221\u001b[0m         \"\"\"\n\u001b[1;32m--> 222\u001b[1;33m         self.handles = get_handle(\n\u001b[0m\u001b[0;32m    223\u001b[0m             \u001b[0msrc\u001b[0m\u001b[1;33m,\u001b[0m\u001b[1;33m\u001b[0m\u001b[1;33m\u001b[0m\u001b[0m\n\u001b[0;32m    224\u001b[0m             \u001b[1;34m\"r\"\u001b[0m\u001b[1;33m,\u001b[0m\u001b[1;33m\u001b[0m\u001b[1;33m\u001b[0m\u001b[0m\n",
      "\u001b[1;32m~\\anaconda3\\lib\\site-packages\\pandas\\io\\common.py\u001b[0m in \u001b[0;36mget_handle\u001b[1;34m(path_or_buf, mode, encoding, compression, memory_map, is_text, errors, storage_options)\u001b[0m\n\u001b[0;32m    700\u001b[0m         \u001b[1;32mif\u001b[0m \u001b[0mioargs\u001b[0m\u001b[1;33m.\u001b[0m\u001b[0mencoding\u001b[0m \u001b[1;32mand\u001b[0m \u001b[1;34m\"b\"\u001b[0m \u001b[1;32mnot\u001b[0m \u001b[1;32min\u001b[0m \u001b[0mioargs\u001b[0m\u001b[1;33m.\u001b[0m\u001b[0mmode\u001b[0m\u001b[1;33m:\u001b[0m\u001b[1;33m\u001b[0m\u001b[1;33m\u001b[0m\u001b[0m\n\u001b[0;32m    701\u001b[0m             \u001b[1;31m# Encoding\u001b[0m\u001b[1;33m\u001b[0m\u001b[1;33m\u001b[0m\u001b[0m\n\u001b[1;32m--> 702\u001b[1;33m             handle = open(\n\u001b[0m\u001b[0;32m    703\u001b[0m                 \u001b[0mhandle\u001b[0m\u001b[1;33m,\u001b[0m\u001b[1;33m\u001b[0m\u001b[1;33m\u001b[0m\u001b[0m\n\u001b[0;32m    704\u001b[0m                 \u001b[0mioargs\u001b[0m\u001b[1;33m.\u001b[0m\u001b[0mmode\u001b[0m\u001b[1;33m,\u001b[0m\u001b[1;33m\u001b[0m\u001b[1;33m\u001b[0m\u001b[0m\n",
      "\u001b[1;31mFileNotFoundError\u001b[0m: [Errno 2] No such file or directory: '../datasets/netflix_titles.csv'"
     ]
    }
   ],
   "source": [
    "# formatage des dates\n",
    "donnees_dates=pd.read_csv(\"../datasets/netflix_titles.csv\", index_col=[0])\n",
    "donnees_dates=donnees_dates[donnees_dates[\"date_added\"].notna()]\n",
    "donnees_dates[\"date_added\"] = pd.to_datetime(donnees_dates['date_added'])\n",
    "donnees_dates['year_added'] = donnees_dates['date_added'].dt.year.astype(\"int\")\n",
    "# sélection des 10 pays les plus producteurs\n",
    "series_10_pays=donnees_dates[\"country\"].value_counts().head(n=10)\n",
    "donnees_pays=donnees_dates[donnees_dates[\"country\"].isin(series_10_pays.keys())]\n",
    "# création du graphique\n",
    "import matplotlib.pyplot as plt\n",
    "import seaborn as sns\n",
    "plt.figure(figsize=[15,6])\n",
    "plt.subplot(111)\n",
    "# on groupe le DataFrame sur les variables year_added et country pour étudier le nombre de contenus\n",
    "# par année et par pays\n",
    "donnees_pointplot=donnees_pays.groupby(['year_added','country']).size().reset_index(name='Count')\n",
    "sns.pointplot(x ='year_added', y ='Count', data = donnees_pointplot, hue=\"country\")\n",
    "plt.xticks(rotation=90)\n",
    "plt.show()"
   ]
  },
  {
   "cell_type": "markdown",
   "metadata": {},
   "source": [
    "Même si le Mexique est en 9ème position parmis les pays avec le plus de contenus disponibles sur Netflix, on constate une augmentation du nombre d'ajouts de contenus depuis 2015, supérieur à d'autres pays qui sont mieux positionnés que lui."
   ]
  },
  {
   "cell_type": "markdown",
   "metadata": {},
   "source": [
    "## 3.17. Distribution de la durée des films disponibles sur Netflix"
   ]
  },
  {
   "cell_type": "markdown",
   "metadata": {},
   "source": [
    "A partir de la colonne \"duration\", nous allons créer une nouvelle série dans laquelle la durée des films sera en nombre entier. Pour cela, nous supprimons le texte \" min\" puis transformons la colonne en \"int\" et stockerons ça dans une variable nommée duree."
   ]
  },
  {
   "cell_type": "code",
   "execution_count": 44,
   "metadata": {},
   "outputs": [
    {
     "ename": "FileNotFoundError",
     "evalue": "[Errno 2] No such file or directory: '../datasets/netflix_titles.csv'",
     "output_type": "error",
     "traceback": [
      "\u001b[1;31m---------------------------------------------------------------------------\u001b[0m",
      "\u001b[1;31mFileNotFoundError\u001b[0m                         Traceback (most recent call last)",
      "\u001b[1;32m~\\AppData\\Local\\Temp/ipykernel_16492/807108459.py\u001b[0m in \u001b[0;36m<module>\u001b[1;34m\u001b[0m\n\u001b[1;32m----> 1\u001b[1;33m \u001b[0mdonnees\u001b[0m\u001b[1;33m=\u001b[0m\u001b[0mpd\u001b[0m\u001b[1;33m.\u001b[0m\u001b[0mread_csv\u001b[0m\u001b[1;33m(\u001b[0m\u001b[1;34m\"../datasets/netflix_titles.csv\"\u001b[0m\u001b[1;33m,\u001b[0m \u001b[0mindex_col\u001b[0m\u001b[1;33m=\u001b[0m\u001b[1;33m[\u001b[0m\u001b[1;36m0\u001b[0m\u001b[1;33m]\u001b[0m\u001b[1;33m)\u001b[0m\u001b[1;33m\u001b[0m\u001b[1;33m\u001b[0m\u001b[0m\n\u001b[0m\u001b[0;32m      2\u001b[0m \u001b[1;31m# sélection des contenus correspondant à un film\u001b[0m\u001b[1;33m\u001b[0m\u001b[1;33m\u001b[0m\u001b[0m\n\u001b[0;32m      3\u001b[0m \u001b[0mdonnees_film\u001b[0m\u001b[1;33m=\u001b[0m\u001b[0mdonnees\u001b[0m\u001b[1;33m[\u001b[0m\u001b[1;33m(\u001b[0m\u001b[0mdonnees\u001b[0m\u001b[1;33m[\u001b[0m\u001b[1;34m\"type\"\u001b[0m\u001b[1;33m]\u001b[0m\u001b[1;33m==\u001b[0m\u001b[1;34m\"Movie\"\u001b[0m\u001b[1;33m)\u001b[0m\u001b[1;33m]\u001b[0m\u001b[1;33m\u001b[0m\u001b[1;33m\u001b[0m\u001b[0m\n\u001b[0;32m      4\u001b[0m \u001b[1;31m# on re-défini la colonne \"duration\" de notre DataFrame en lui donnant une Series (pd.Series) contenant les valeurs\u001b[0m\u001b[1;33m\u001b[0m\u001b[1;33m\u001b[0m\u001b[0m\n\u001b[0;32m      5\u001b[0m \u001b[1;31m# de la colonne \"duration\" sans le texte \" min\" et qu'on a transformé en integer grâce à la fonction astype(\"int\")\u001b[0m\u001b[1;33m\u001b[0m\u001b[1;33m\u001b[0m\u001b[0m\n",
      "\u001b[1;32m~\\anaconda3\\lib\\site-packages\\pandas\\util\\_decorators.py\u001b[0m in \u001b[0;36mwrapper\u001b[1;34m(*args, **kwargs)\u001b[0m\n\u001b[0;32m    309\u001b[0m                     \u001b[0mstacklevel\u001b[0m\u001b[1;33m=\u001b[0m\u001b[0mstacklevel\u001b[0m\u001b[1;33m,\u001b[0m\u001b[1;33m\u001b[0m\u001b[1;33m\u001b[0m\u001b[0m\n\u001b[0;32m    310\u001b[0m                 )\n\u001b[1;32m--> 311\u001b[1;33m             \u001b[1;32mreturn\u001b[0m \u001b[0mfunc\u001b[0m\u001b[1;33m(\u001b[0m\u001b[1;33m*\u001b[0m\u001b[0margs\u001b[0m\u001b[1;33m,\u001b[0m \u001b[1;33m**\u001b[0m\u001b[0mkwargs\u001b[0m\u001b[1;33m)\u001b[0m\u001b[1;33m\u001b[0m\u001b[1;33m\u001b[0m\u001b[0m\n\u001b[0m\u001b[0;32m    312\u001b[0m \u001b[1;33m\u001b[0m\u001b[0m\n\u001b[0;32m    313\u001b[0m         \u001b[1;32mreturn\u001b[0m \u001b[0mwrapper\u001b[0m\u001b[1;33m\u001b[0m\u001b[1;33m\u001b[0m\u001b[0m\n",
      "\u001b[1;32m~\\anaconda3\\lib\\site-packages\\pandas\\io\\parsers\\readers.py\u001b[0m in \u001b[0;36mread_csv\u001b[1;34m(filepath_or_buffer, sep, delimiter, header, names, index_col, usecols, squeeze, prefix, mangle_dupe_cols, dtype, engine, converters, true_values, false_values, skipinitialspace, skiprows, skipfooter, nrows, na_values, keep_default_na, na_filter, verbose, skip_blank_lines, parse_dates, infer_datetime_format, keep_date_col, date_parser, dayfirst, cache_dates, iterator, chunksize, compression, thousands, decimal, lineterminator, quotechar, quoting, doublequote, escapechar, comment, encoding, encoding_errors, dialect, error_bad_lines, warn_bad_lines, on_bad_lines, delim_whitespace, low_memory, memory_map, float_precision, storage_options)\u001b[0m\n\u001b[0;32m    584\u001b[0m     \u001b[0mkwds\u001b[0m\u001b[1;33m.\u001b[0m\u001b[0mupdate\u001b[0m\u001b[1;33m(\u001b[0m\u001b[0mkwds_defaults\u001b[0m\u001b[1;33m)\u001b[0m\u001b[1;33m\u001b[0m\u001b[1;33m\u001b[0m\u001b[0m\n\u001b[0;32m    585\u001b[0m \u001b[1;33m\u001b[0m\u001b[0m\n\u001b[1;32m--> 586\u001b[1;33m     \u001b[1;32mreturn\u001b[0m \u001b[0m_read\u001b[0m\u001b[1;33m(\u001b[0m\u001b[0mfilepath_or_buffer\u001b[0m\u001b[1;33m,\u001b[0m \u001b[0mkwds\u001b[0m\u001b[1;33m)\u001b[0m\u001b[1;33m\u001b[0m\u001b[1;33m\u001b[0m\u001b[0m\n\u001b[0m\u001b[0;32m    587\u001b[0m \u001b[1;33m\u001b[0m\u001b[0m\n\u001b[0;32m    588\u001b[0m \u001b[1;33m\u001b[0m\u001b[0m\n",
      "\u001b[1;32m~\\anaconda3\\lib\\site-packages\\pandas\\io\\parsers\\readers.py\u001b[0m in \u001b[0;36m_read\u001b[1;34m(filepath_or_buffer, kwds)\u001b[0m\n\u001b[0;32m    480\u001b[0m \u001b[1;33m\u001b[0m\u001b[0m\n\u001b[0;32m    481\u001b[0m     \u001b[1;31m# Create the parser.\u001b[0m\u001b[1;33m\u001b[0m\u001b[1;33m\u001b[0m\u001b[0m\n\u001b[1;32m--> 482\u001b[1;33m     \u001b[0mparser\u001b[0m \u001b[1;33m=\u001b[0m \u001b[0mTextFileReader\u001b[0m\u001b[1;33m(\u001b[0m\u001b[0mfilepath_or_buffer\u001b[0m\u001b[1;33m,\u001b[0m \u001b[1;33m**\u001b[0m\u001b[0mkwds\u001b[0m\u001b[1;33m)\u001b[0m\u001b[1;33m\u001b[0m\u001b[1;33m\u001b[0m\u001b[0m\n\u001b[0m\u001b[0;32m    483\u001b[0m \u001b[1;33m\u001b[0m\u001b[0m\n\u001b[0;32m    484\u001b[0m     \u001b[1;32mif\u001b[0m \u001b[0mchunksize\u001b[0m \u001b[1;32mor\u001b[0m \u001b[0miterator\u001b[0m\u001b[1;33m:\u001b[0m\u001b[1;33m\u001b[0m\u001b[1;33m\u001b[0m\u001b[0m\n",
      "\u001b[1;32m~\\anaconda3\\lib\\site-packages\\pandas\\io\\parsers\\readers.py\u001b[0m in \u001b[0;36m__init__\u001b[1;34m(self, f, engine, **kwds)\u001b[0m\n\u001b[0;32m    809\u001b[0m             \u001b[0mself\u001b[0m\u001b[1;33m.\u001b[0m\u001b[0moptions\u001b[0m\u001b[1;33m[\u001b[0m\u001b[1;34m\"has_index_names\"\u001b[0m\u001b[1;33m]\u001b[0m \u001b[1;33m=\u001b[0m \u001b[0mkwds\u001b[0m\u001b[1;33m[\u001b[0m\u001b[1;34m\"has_index_names\"\u001b[0m\u001b[1;33m]\u001b[0m\u001b[1;33m\u001b[0m\u001b[1;33m\u001b[0m\u001b[0m\n\u001b[0;32m    810\u001b[0m \u001b[1;33m\u001b[0m\u001b[0m\n\u001b[1;32m--> 811\u001b[1;33m         \u001b[0mself\u001b[0m\u001b[1;33m.\u001b[0m\u001b[0m_engine\u001b[0m \u001b[1;33m=\u001b[0m \u001b[0mself\u001b[0m\u001b[1;33m.\u001b[0m\u001b[0m_make_engine\u001b[0m\u001b[1;33m(\u001b[0m\u001b[0mself\u001b[0m\u001b[1;33m.\u001b[0m\u001b[0mengine\u001b[0m\u001b[1;33m)\u001b[0m\u001b[1;33m\u001b[0m\u001b[1;33m\u001b[0m\u001b[0m\n\u001b[0m\u001b[0;32m    812\u001b[0m \u001b[1;33m\u001b[0m\u001b[0m\n\u001b[0;32m    813\u001b[0m     \u001b[1;32mdef\u001b[0m \u001b[0mclose\u001b[0m\u001b[1;33m(\u001b[0m\u001b[0mself\u001b[0m\u001b[1;33m)\u001b[0m\u001b[1;33m:\u001b[0m\u001b[1;33m\u001b[0m\u001b[1;33m\u001b[0m\u001b[0m\n",
      "\u001b[1;32m~\\anaconda3\\lib\\site-packages\\pandas\\io\\parsers\\readers.py\u001b[0m in \u001b[0;36m_make_engine\u001b[1;34m(self, engine)\u001b[0m\n\u001b[0;32m   1038\u001b[0m             )\n\u001b[0;32m   1039\u001b[0m         \u001b[1;31m# error: Too many arguments for \"ParserBase\"\u001b[0m\u001b[1;33m\u001b[0m\u001b[1;33m\u001b[0m\u001b[0m\n\u001b[1;32m-> 1040\u001b[1;33m         \u001b[1;32mreturn\u001b[0m \u001b[0mmapping\u001b[0m\u001b[1;33m[\u001b[0m\u001b[0mengine\u001b[0m\u001b[1;33m]\u001b[0m\u001b[1;33m(\u001b[0m\u001b[0mself\u001b[0m\u001b[1;33m.\u001b[0m\u001b[0mf\u001b[0m\u001b[1;33m,\u001b[0m \u001b[1;33m**\u001b[0m\u001b[0mself\u001b[0m\u001b[1;33m.\u001b[0m\u001b[0moptions\u001b[0m\u001b[1;33m)\u001b[0m  \u001b[1;31m# type: ignore[call-arg]\u001b[0m\u001b[1;33m\u001b[0m\u001b[1;33m\u001b[0m\u001b[0m\n\u001b[0m\u001b[0;32m   1041\u001b[0m \u001b[1;33m\u001b[0m\u001b[0m\n\u001b[0;32m   1042\u001b[0m     \u001b[1;32mdef\u001b[0m \u001b[0m_failover_to_python\u001b[0m\u001b[1;33m(\u001b[0m\u001b[0mself\u001b[0m\u001b[1;33m)\u001b[0m\u001b[1;33m:\u001b[0m\u001b[1;33m\u001b[0m\u001b[1;33m\u001b[0m\u001b[0m\n",
      "\u001b[1;32m~\\anaconda3\\lib\\site-packages\\pandas\\io\\parsers\\c_parser_wrapper.py\u001b[0m in \u001b[0;36m__init__\u001b[1;34m(self, src, **kwds)\u001b[0m\n\u001b[0;32m     49\u001b[0m \u001b[1;33m\u001b[0m\u001b[0m\n\u001b[0;32m     50\u001b[0m         \u001b[1;31m# open handles\u001b[0m\u001b[1;33m\u001b[0m\u001b[1;33m\u001b[0m\u001b[0m\n\u001b[1;32m---> 51\u001b[1;33m         \u001b[0mself\u001b[0m\u001b[1;33m.\u001b[0m\u001b[0m_open_handles\u001b[0m\u001b[1;33m(\u001b[0m\u001b[0msrc\u001b[0m\u001b[1;33m,\u001b[0m \u001b[0mkwds\u001b[0m\u001b[1;33m)\u001b[0m\u001b[1;33m\u001b[0m\u001b[1;33m\u001b[0m\u001b[0m\n\u001b[0m\u001b[0;32m     52\u001b[0m         \u001b[1;32massert\u001b[0m \u001b[0mself\u001b[0m\u001b[1;33m.\u001b[0m\u001b[0mhandles\u001b[0m \u001b[1;32mis\u001b[0m \u001b[1;32mnot\u001b[0m \u001b[1;32mNone\u001b[0m\u001b[1;33m\u001b[0m\u001b[1;33m\u001b[0m\u001b[0m\n\u001b[0;32m     53\u001b[0m \u001b[1;33m\u001b[0m\u001b[0m\n",
      "\u001b[1;32m~\\anaconda3\\lib\\site-packages\\pandas\\io\\parsers\\base_parser.py\u001b[0m in \u001b[0;36m_open_handles\u001b[1;34m(self, src, kwds)\u001b[0m\n\u001b[0;32m    220\u001b[0m         \u001b[0mLet\u001b[0m \u001b[0mthe\u001b[0m \u001b[0mreaders\u001b[0m \u001b[0mopen\u001b[0m \u001b[0mIOHandles\u001b[0m \u001b[0mafter\u001b[0m \u001b[0mthey\u001b[0m \u001b[0mare\u001b[0m \u001b[0mdone\u001b[0m \u001b[1;32mwith\u001b[0m \u001b[0mtheir\u001b[0m \u001b[0mpotential\u001b[0m \u001b[0mraises\u001b[0m\u001b[1;33m.\u001b[0m\u001b[1;33m\u001b[0m\u001b[1;33m\u001b[0m\u001b[0m\n\u001b[0;32m    221\u001b[0m         \"\"\"\n\u001b[1;32m--> 222\u001b[1;33m         self.handles = get_handle(\n\u001b[0m\u001b[0;32m    223\u001b[0m             \u001b[0msrc\u001b[0m\u001b[1;33m,\u001b[0m\u001b[1;33m\u001b[0m\u001b[1;33m\u001b[0m\u001b[0m\n\u001b[0;32m    224\u001b[0m             \u001b[1;34m\"r\"\u001b[0m\u001b[1;33m,\u001b[0m\u001b[1;33m\u001b[0m\u001b[1;33m\u001b[0m\u001b[0m\n",
      "\u001b[1;32m~\\anaconda3\\lib\\site-packages\\pandas\\io\\common.py\u001b[0m in \u001b[0;36mget_handle\u001b[1;34m(path_or_buf, mode, encoding, compression, memory_map, is_text, errors, storage_options)\u001b[0m\n\u001b[0;32m    700\u001b[0m         \u001b[1;32mif\u001b[0m \u001b[0mioargs\u001b[0m\u001b[1;33m.\u001b[0m\u001b[0mencoding\u001b[0m \u001b[1;32mand\u001b[0m \u001b[1;34m\"b\"\u001b[0m \u001b[1;32mnot\u001b[0m \u001b[1;32min\u001b[0m \u001b[0mioargs\u001b[0m\u001b[1;33m.\u001b[0m\u001b[0mmode\u001b[0m\u001b[1;33m:\u001b[0m\u001b[1;33m\u001b[0m\u001b[1;33m\u001b[0m\u001b[0m\n\u001b[0;32m    701\u001b[0m             \u001b[1;31m# Encoding\u001b[0m\u001b[1;33m\u001b[0m\u001b[1;33m\u001b[0m\u001b[0m\n\u001b[1;32m--> 702\u001b[1;33m             handle = open(\n\u001b[0m\u001b[0;32m    703\u001b[0m                 \u001b[0mhandle\u001b[0m\u001b[1;33m,\u001b[0m\u001b[1;33m\u001b[0m\u001b[1;33m\u001b[0m\u001b[0m\n\u001b[0;32m    704\u001b[0m                 \u001b[0mioargs\u001b[0m\u001b[1;33m.\u001b[0m\u001b[0mmode\u001b[0m\u001b[1;33m,\u001b[0m\u001b[1;33m\u001b[0m\u001b[1;33m\u001b[0m\u001b[0m\n",
      "\u001b[1;31mFileNotFoundError\u001b[0m: [Errno 2] No such file or directory: '../datasets/netflix_titles.csv'"
     ]
    }
   ],
   "source": [
    "donnees=pd.read_csv(\"../datasets/netflix_titles.csv\", index_col=[0])\n",
    "# sélection des contenus correspondant à un film\n",
    "donnees_film=donnees[(donnees[\"type\"]==\"Movie\")]\n",
    "# on re-défini la colonne \"duration\" de notre DataFrame en lui donnant une Series (pd.Series) contenant les valeurs\n",
    "# de la colonne \"duration\" sans le texte \" min\" et qu'on a transformé en integer grâce à la fonction astype(\"int\")\n",
    "duree=pd.Series(donnees_film[\"duration\"].str.replace(\" min\", \"\").astype(\"int\"))\n",
    "# .str.replace(\" min\", \"\") : remplace le mot \" min\" par rien"
   ]
  },
  {
   "cell_type": "markdown",
   "metadata": {},
   "source": [
    "A partir de la variable \"duree\" contenant les durées des films du jeu de données, nous allons tracer un histogramme avec la fonction distplot() de Seaborn."
   ]
  },
  {
   "cell_type": "code",
   "execution_count": 45,
   "metadata": {},
   "outputs": [
    {
     "name": "stderr",
     "output_type": "stream",
     "text": [
      "C:\\Users\\phili\\anaconda3\\lib\\site-packages\\seaborn\\distributions.py:2619: FutureWarning: `distplot` is a deprecated function and will be removed in a future version. Please adapt your code to use either `displot` (a figure-level function with similar flexibility) or `histplot` (an axes-level function for histograms).\n",
      "  warnings.warn(msg, FutureWarning)\n"
     ]
    },
    {
     "data": {
      "image/png": "[encoded data removed]",
      "text/plain": [
       "<Figure size 1080x432 with 1 Axes>"
      ]
     },
     "metadata": {
      "needs_background": "light"
     },
     "output_type": "display_data"
    }
   ],
   "source": [
    "import matplotlib.pyplot as plt\n",
    "import seaborn as sns\n",
    "palette= sns.color_palette([\"#3498db\",\"#e74c3c\"])\n",
    "sns.set_palette(palette)\n",
    "plt.figure(figsize=[15,6])\n",
    "plt.subplot(111)\n",
    "sns.distplot(duree)\n",
    "plt.title(\"Distribution de la durée des films dans le jeu de données Netflix\")\n",
    "plt.xticks(rotation=90)\n",
    "plt.show()"
   ]
  },
  {
   "cell_type": "markdown",
   "metadata": {},
   "source": [
    "La durée moyenne d'un film est de 100min soit 1h40. Il y a des mini-films courts sur Netflix ainsi que de très long films. "
   ]
  },
  {
   "cell_type": "code",
   "execution_count": 43,
   "metadata": {},
   "outputs": [
    {
     "data": {
      "text/plain": [
       "count    4265.000000\n",
       "mean       99.100821\n",
       "std        28.074857\n",
       "min         3.000000\n",
       "25%        86.000000\n",
       "50%        98.000000\n",
       "75%       115.000000\n",
       "max       312.000000\n",
       "Name: duration, dtype: float64"
      ]
     },
     "execution_count": 43,
     "metadata": {},
     "output_type": "execute_result"
    }
   ],
   "source": [
    "duree.describe()"
   ]
  },
  {
   "cell_type": "markdown",
   "metadata": {},
   "source": [
    "## 3.18. Tracer un graphique représentant le nombre de séries par modalité de nombre de saisons"
   ]
  },
  {
   "cell_type": "code",
   "execution_count": 44,
   "metadata": {},
   "outputs": [
    {
     "data": {
      "image/png": "[encoded data removed]",
      "text/plain": [
       "<Figure size 1080x432 with 1 Axes>"
      ]
     },
     "metadata": {
      "needs_background": "light"
     },
     "output_type": "display_data"
    }
   ],
   "source": [
    "donnees_series=donnees[(donnees[\"type\"]==\"TV Show\")]\n",
    "import matplotlib.pyplot as plt\n",
    "import seaborn as sns\n",
    "palette=sns.color_palette(\"Paired\")\n",
    "sns.set_palette(palette)\n",
    "plt.figure(figsize=[15,6])\n",
    "plt.subplot(111)\n",
    "sns.countplot(data=donnees_series, x=\"duration\",order = donnees_series['duration'].value_counts().keys())\n",
    "plt.title(\"Nombre de séries par modalité de nombre de saisons\")\n",
    "plt.xticks(rotation=90)\n",
    "plt.show()"
   ]
  },
  {
   "cell_type": "markdown",
   "metadata": {},
   "source": [
    "Un maximum de séries n'ont qu'une seule saison, cela est peut-être dû à un boom récent de la création de nouvelles séries sur Netflix et financées par Netflix ou parce-que beaucoup de séries n'ont pas le succès escompté et restent inachevées.\n",
    "\n",
    "Le nombre maximum de saison est de 14, affichons les séries ayant ce nombre de saisons."
   ]
  },
  {
   "cell_type": "code",
   "execution_count": 45,
   "metadata": {},
   "outputs": [
    {
     "data": {
      "text/html": [
       "<div>\n",
       "<style scoped>\n",
       "    .dataframe tbody tr th:only-of-type {\n",
       "        vertical-align: middle;\n",
       "    }\n",
       "\n",
       "    .dataframe tbody tr th {\n",
       "        vertical-align: top;\n",
       "    }\n",
       "\n",
       "    .dataframe thead th {\n",
       "        text-align: right;\n",
       "    }\n",
       "</style>\n",
       "<table border=\"1\" class=\"dataframe\">\n",
       "  <thead>\n",
       "    <tr style=\"text-align: right;\">\n",
       "      <th></th>\n",
       "      <th>type</th>\n",
       "      <th>title</th>\n",
       "      <th>director</th>\n",
       "      <th>cast</th>\n",
       "      <th>country</th>\n",
       "      <th>date_added</th>\n",
       "      <th>release_year</th>\n",
       "      <th>rating</th>\n",
       "      <th>duration</th>\n",
       "      <th>listed_in</th>\n",
       "      <th>description</th>\n",
       "    </tr>\n",
       "    <tr>\n",
       "      <th>show_id</th>\n",
       "      <th></th>\n",
       "      <th></th>\n",
       "      <th></th>\n",
       "      <th></th>\n",
       "      <th></th>\n",
       "      <th></th>\n",
       "      <th></th>\n",
       "      <th></th>\n",
       "      <th></th>\n",
       "      <th></th>\n",
       "      <th></th>\n",
       "    </tr>\n",
       "  </thead>\n",
       "  <tbody>\n",
       "    <tr>\n",
       "      <th>70143825</th>\n",
       "      <td>TV Show</td>\n",
       "      <td>Supernatural</td>\n",
       "      <td>Phil Sgriccia</td>\n",
       "      <td>Jared Padalecki, Jensen Ackles, Mark Sheppard,...</td>\n",
       "      <td>United States</td>\n",
       "      <td>May 3, 2019</td>\n",
       "      <td>2019</td>\n",
       "      <td>TV-14</td>\n",
       "      <td>14 Seasons</td>\n",
       "      <td>Classic &amp; Cult TV, TV Action &amp; Adventure, TV H...</td>\n",
       "      <td>Siblings Dean and Sam crisscross the country, ...</td>\n",
       "    </tr>\n",
       "  </tbody>\n",
       "</table>\n",
       "</div>"
      ],
      "text/plain": [
       "             type         title       director  \\\n",
       "show_id                                          \n",
       "70143825  TV Show  Supernatural  Phil Sgriccia   \n",
       "\n",
       "                                                       cast        country  \\\n",
       "show_id                                                                      \n",
       "70143825  Jared Padalecki, Jensen Ackles, Mark Sheppard,...  United States   \n",
       "\n",
       "            date_added  release_year rating    duration  \\\n",
       "show_id                                                   \n",
       "70143825   May 3, 2019          2019  TV-14  14 Seasons   \n",
       "\n",
       "                                                  listed_in  \\\n",
       "show_id                                                       \n",
       "70143825  Classic & Cult TV, TV Action & Adventure, TV H...   \n",
       "\n",
       "                                                description  \n",
       "show_id                                                      \n",
       "70143825  Siblings Dean and Sam crisscross the country, ...  "
      ]
     },
     "execution_count": 45,
     "metadata": {},
     "output_type": "execute_result"
    }
   ],
   "source": [
    "donnees[(donnees[\"duration\"]==\"14 Seasons\")]"
   ]
  },
  {
   "cell_type": "markdown",
   "metadata": {},
   "source": [
    "Effectivement la série Supernatural date de 2005, année de sortie de la première saison. Dans ce jeu de données il est précisé 2019 comme release_year, c'est je pense, l'année de sortie de la dernière saison en date."
   ]
  }
 ],
 "metadata": {
  "kernelspec": {
   "display_name": "Python 3 (ipykernel)",
   "language": "python",
   "name": "python3"
  },
  "language_info": {
   "codemirror_mode": {
    "name": "ipython",
    "version": 3
   },
   "file_extension": ".py",
   "mimetype": "text/x-python",
   "name": "python",
   "nbconvert_exporter": "python",
   "pygments_lexer": "ipython3",
   "version": "3.9.7"
  }
 },
 "nbformat": 4,
 "nbformat_minor": 4
}
