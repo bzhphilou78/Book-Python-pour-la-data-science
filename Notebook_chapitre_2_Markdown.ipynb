{
 "cells": [
  {
   "cell_type": "markdown",
   "metadata": {},
   "source": [
    "# Mon analyse\n",
    "\n",
    "## 1ère étape\n",
    "\n",
    "Mon premier paragraphe\n",
    "\n",
    "Mon deuxième paragraphe\n",
    "\n",
    "Mon troisième paragraphe\n",
    "\n",
    "**mon texte en gras**\n",
    "\n",
    "*mon texte en italique*\n",
    "\n",
    "## 2ème étape\n",
    "\n",
    "Me première liste\n",
    "\n",
    "* élément 1\n",
    "* élément 2\n",
    "* élément 3\n",
    "\n",
    "Ma deuxième liste\n",
    "\n",
    "1. élément 1\n",
    "2. élément 2\n",
    "3. élément 3\n",
    "\n",
    "### Etape 2.1\n",
    "\n",
    "Mon code Python : \n",
    "\n",
    "```\n",
    "print(\"Hello\")\n",
    "a= 3+2\n",
    "print(a)\n",
    "```\n",
    "\n",
    "Mon lien :\n",
    "\n",
    "[Mon lien]( https://www.mon_lien.fr/)\n",
    "\n",
    "Ma formule mathématique\n",
    "\n",
    "$x=\\frac{-b\\pm\\sqrt{b^2-4ac}}{2a}$\n",
    "\n",
    "Mon image :\n",
    "\n",
    "<img style=\"float: left;\" src=\"22.PNG\"/>"
   ]
  },
  {
   "cell_type": "code",
   "execution_count": null,
   "metadata": {},
   "outputs": [],
   "source": []
  }
 ],
 "metadata": {
  "kernelspec": {
   "display_name": "Python 3 (ipykernel)",
   "language": "python",
   "name": "python3"
  },
  "language_info": {
   "codemirror_mode": {
    "name": "ipython",
    "version": 3
   },
   "file_extension": ".py",
   "mimetype": "text/x-python",
   "name": "python",
   "nbconvert_exporter": "python",
   "pygments_lexer": "ipython3",
   "version": "3.9.7"
  }
 },
 "nbformat": 4,
 "nbformat_minor": 2
}
