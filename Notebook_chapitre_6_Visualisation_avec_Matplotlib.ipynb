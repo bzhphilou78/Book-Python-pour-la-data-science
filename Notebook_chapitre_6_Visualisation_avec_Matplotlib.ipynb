{
 "cells": [
  {
   "cell_type": "markdown",
   "metadata": {},
   "source": [
    "# 3. Créer son premier graphique simple\n",
    "## 3.1.\tPréparer son jeu de données"
   ]
  },
  {
   "cell_type": "code",
   "execution_count": null,
   "metadata": {},
   "outputs": [],
   "source": [
    "import pandas as pd\n",
    "donnees=pd.read_csv(\"../datasets/120-years-of-olympic-history-athletes-and-results.csv\", index_col=[1])\n",
    "donnees.isna().sum()"
   ]
  },
  {
   "cell_type": "code",
   "execution_count": null,
   "metadata": {},
   "outputs": [],
   "source": [
    "import pandas as pd\n",
    "donnees=pd.read_csv(\"../datasets/120-years-of-olympic-history-athletes-and-results.csv\", index_col=[1])\n",
    "donnees['Medal']=donnees['Medal'].fillna(\"None\")\n",
    "donnees_NaN_supprimes = donnees.dropna(how=\"any\")\n",
    "donnees[['Age','Height', 'Weight']] = donnees[['Age','Height','Weight']].fillna(donnees[['Age','Height','Weight']].mean())\n",
    "donnees_NaN_remplaces=donnees.drop_duplicates()\n",
    "donnees_NaN_supprimes=donnees_NaN_supprimes.drop_duplicates()\n",
    "print(\"Tableau avec NaN remplacés\")\n",
    "print(donnees_NaN_remplaces.shape)\n",
    "print(\"Tableau avec suppression des lignes contenant des NaN\")\n",
    "print(donnees_NaN_supprimes.shape)"
   ]
  },
  {
   "cell_type": "markdown",
   "metadata": {},
   "source": [
    "## 3.2.\tCréer un nuage de points"
   ]
  },
  {
   "cell_type": "code",
   "execution_count": null,
   "metadata": {},
   "outputs": [],
   "source": [
    "import matplotlib.pyplot as plt\n",
    "plt.figure()\n",
    "plt.subplot(111)\n",
    "plt.plot(donnees_NaN_supprimes[\"Height\"],donnees_NaN_supprimes[\"Weight\"])\n",
    "plt.show()"
   ]
  },
  {
   "cell_type": "code",
   "execution_count": null,
   "metadata": {},
   "outputs": [],
   "source": [
    "import matplotlib.pyplot as plt\n",
    "plt.figure()\n",
    "plt.subplot(111)\n",
    "plt.plot(donnees_NaN_supprimes[\"Height\"],donnees_NaN_supprimes[\"Weight\"],marker='o', color=\"k\", linestyle='')\n",
    "plt.show()"
   ]
  },
  {
   "cell_type": "code",
   "execution_count": null,
   "metadata": {
    "scrolled": true
   },
   "outputs": [],
   "source": [
    "import matplotlib.pyplot as plt\n",
    "plt.figure()\n",
    "plt.subplot(111)\n",
    "plt.plot(donnees_NaN_supprimes[\"Height\"],donnees_NaN_supprimes[\"Weight\"],marker='o', color=\"black\", linestyle='', markersize=1.5)\n",
    "plt.show()"
   ]
  },
  {
   "cell_type": "markdown",
   "metadata": {},
   "source": [
    "## 3.3. Ajouter un titre principal et des labels aux axes du nuage de points"
   ]
  },
  {
   "cell_type": "code",
   "execution_count": null,
   "metadata": {},
   "outputs": [],
   "source": [
    "import matplotlib.pyplot as plt\n",
    "plt.figure()\n",
    "plt.subplot(111)\n",
    "plt.plot(donnees_NaN_supprimes[\"Height\"],donnees_NaN_supprimes[\"Weight\"],marker='o', color=\"black\", linestyle='')\n",
    "plt.title(\"Poids des athlètes en fonction de leur taille\")\n",
    "plt.ylabel(\"Poids\")\n",
    "plt.xlabel(\"Taille\")\n",
    "plt.show()"
   ]
  },
  {
   "cell_type": "markdown",
   "metadata": {},
   "source": [
    "## 3.4. Enregistrer son graphique"
   ]
  },
  {
   "cell_type": "code",
   "execution_count": null,
   "metadata": {},
   "outputs": [],
   "source": [
    "import matplotlib.pyplot as plt\n",
    "plt.figure()\n",
    "plt.subplot(111)\n",
    "plt.plot(donnees_NaN_supprimes[\"Height\"],donnees_NaN_supprimes[\"Weight\"],marker='o', color=\"black\", linestyle='')\n",
    "plt.title(\"Poids en fonction de la taille des ahtlètes des JOs\")\n",
    "plt.ylabel(\"Poids\")\n",
    "plt.xlabel(\"Taille\")\n",
    "plt.savefig(\"athlètes.png\", dpi=300, format=\"png\")\n",
    "plt.close()"
   ]
  },
  {
   "cell_type": "markdown",
   "metadata": {},
   "source": [
    "## 3.5. Changer la taille de la fenêtre graphique et la résolution de son graphique"
   ]
  },
  {
   "cell_type": "code",
   "execution_count": null,
   "metadata": {},
   "outputs": [],
   "source": [
    "import matplotlib.pyplot as plt\n",
    "plt.figure(figsize=[5,5], dpi=150, facecolor='grey')\n",
    "plt.subplot(111)\n",
    "plt.plot(donnees_NaN_supprimes[\"Height\"],donnees_NaN_supprimes[\"Weight\"],marker='o', color=\"black\", linestyle='', markersize=1.8)\n",
    "plt.title(\"Poids en fonction de la taille des ahtlètes des JOs\")\n",
    "plt.ylabel(\"Poids\")\n",
    "plt.xlabel(\"Taille\")\n",
    "plt.show()"
   ]
  },
  {
   "cell_type": "markdown",
   "metadata": {},
   "source": [
    "## 3.6.\tTracer plusieurs courbes sur un même graphique (sur un même objet axes)"
   ]
  },
  {
   "cell_type": "code",
   "execution_count": null,
   "metadata": {},
   "outputs": [],
   "source": [
    "import matplotlib.pyplot as plt\n",
    "plt.figure()\n",
    "plt.subplot(111)\n",
    "plt.plot(donnees_NaN_supprimes[\"Height\"],donnees_NaN_supprimes[\"Weight\"],marker='o', color=\"black\", linestyle='', markersize=2.5)\n",
    "plt.plot(donnees_NaN_supprimes[\"Height\"],donnees_NaN_supprimes[\"Age\"],marker='v', color=\"blue\", linestyle='', markersize=2.5)\n",
    "plt.title(\"Poids en fonction de la taille des athlètes (noir) et Age en fonction de la taille des athlètes (bleu)\")\n",
    "plt.ylabel(\"Poids/Age\")\n",
    "plt.xlabel(\"Taille\")\n",
    "plt.show()"
   ]
  },
  {
   "cell_type": "code",
   "execution_count": null,
   "metadata": {},
   "outputs": [],
   "source": [
    "import matplotlib.pyplot as plt\n",
    "import numpy as np\n",
    "plt.figure()\n",
    "plt.subplot(111)\n",
    "plt.plot(donnees_NaN_supprimes[\"Height\"],donnees_NaN_supprimes[\"Weight\"],marker='o', color=\"black\", linestyle='', markersize=2.5)\n",
    "plt.plot(donnees_NaN_supprimes[\"Height\"],donnees_NaN_supprimes[\"Age\"],marker='v', color=\"blue\", linestyle='', markersize=2.5)\n",
    "plt.title(\"Poids en fonction de la taille des athlètes (noir) et Age en fonction de la taille des athlètes (bleu)\")\n",
    "plt.plot(donnees_NaN_supprimes[\"Height\"],[np.mean(donnees_NaN_supprimes[\"Age\"])]*len(donnees_NaN_supprimes[\"Height\"]), linestyle='--', color=\"green\")\n",
    "plt.ylabel(\"Poids/Age\")\n",
    "plt.xlabel(\"Taille\")\n",
    "plt.show()"
   ]
  },
  {
   "cell_type": "markdown",
   "metadata": {},
   "source": [
    "## 3.7.\tAjouter une légende à son graphique"
   ]
  },
  {
   "cell_type": "code",
   "execution_count": null,
   "metadata": {
    "scrolled": true
   },
   "outputs": [],
   "source": [
    "import matplotlib.pyplot as plt\n",
    "import numpy as np\n",
    "plt.figure()\n",
    "plt.subplot(111)\n",
    "plt.plot(donnees_NaN_supprimes[\"Height\"],donnees_NaN_supprimes[\"Weight\"],marker='o', color=\"black\", linestyle='', markersize=2.5, label='Poids_vs_Taille')\n",
    "plt.plot(donnees_NaN_supprimes[\"Height\"],donnees_NaN_supprimes[\"Age\"],marker='v', color=\"blue\", linestyle='', markersize=2.5, label='Age_vs_Taille')\n",
    "plt.plot(donnees_NaN_supprimes[\"Height\"],[np.mean(donnees_NaN_supprimes[\"Age\"])]*len(donnees_NaN_supprimes[\"Height\"]), linestyle='--', color=\"green\",label='Moyenne_age')\n",
    "plt.title(\"Athlètes des JOs\")\n",
    "plt.ylabel(\"Poids/Age\")\n",
    "plt.xlabel(\"Taille\")\n",
    "plt.legend(loc='upper left')\n",
    "plt.show()"
   ]
  },
  {
   "cell_type": "markdown",
   "metadata": {},
   "source": [
    "## 3.8. Annoter son graphique avec du texte"
   ]
  },
  {
   "cell_type": "code",
   "execution_count": null,
   "metadata": {},
   "outputs": [],
   "source": [
    "import matplotlib.pyplot as plt\n",
    "import numpy as np\n",
    "plt.figure()\n",
    "plt.subplot(111)\n",
    "plt.plot(donnees_NaN_supprimes[\"Height\"],donnees_NaN_supprimes[\"Weight\"],marker='o', color=\"black\", linestyle='', markersize=2.5, label='Poids_vs_Taille')\n",
    "plt.plot(donnees_NaN_supprimes[\"Height\"],donnees_NaN_supprimes[\"Age\"],marker='v', color=\"blue\", linestyle='', markersize=2.5, label='Age_vs_Taille')\n",
    "plt.plot(donnees_NaN_supprimes[\"Height\"],[np.mean(donnees_NaN_supprimes[\"Age\"])]*len(donnees_NaN_supprimes[\"Height\"]), linestyle='--', color=\"green\",label='Moyenne_age')\n",
    "plt.annotate(\"Moyenne = 25 ans\", xy=(210,25), xytext=(250,200),arrowprops=dict(facecolor='black'))\n",
    "plt.title(\"Athlètes des JOs\")\n",
    "plt.ylabel(\"Poids/Age\")\n",
    "plt.xlabel(\"Taille\")\n",
    "plt.legend(loc='upper left')\n",
    "plt.show()"
   ]
  },
  {
   "cell_type": "code",
   "execution_count": null,
   "metadata": {},
   "outputs": [],
   "source": [
    "import matplotlib.pyplot as plt\n",
    "import numpy as np\n",
    "plt.figure()\n",
    "plt.subplot(111)\n",
    "plt.plot(donnees_NaN_supprimes[\"Height\"],donnees_NaN_supprimes[\"Weight\"],marker='o', color=\"black\", linestyle='', markersize=2.5, label='Poids_vs_Taille')\n",
    "plt.plot(donnees_NaN_supprimes[\"Height\"],donnees_NaN_supprimes[\"Age\"],marker='v', color=\"blue\", linestyle='', markersize=2.5, label='Age_vs_Taille')\n",
    "plt.plot(donnees_NaN_supprimes[\"Height\"],[np.mean(donnees_NaN_supprimes[\"Age\"])]*len(donnees_NaN_supprimes[\"Height\"]), linestyle='--', color=\"green\",label='Moyenne_age')\n",
    "plt.text(180,130,\"y=Poids, x=Taille\",size=13,bbox=dict(boxstyle=\"round\", fc=\"white\", ec=\"k\"))\n",
    "plt.title(\"Athlètes des JOs\")\n",
    "plt.ylabel(\"Poids/Age\")\n",
    "plt.xlabel(\"Taille\")\n",
    "plt.legend(loc='upper left')\n",
    "plt.show()"
   ]
  },
  {
   "cell_type": "markdown",
   "metadata": {},
   "source": [
    "## 3.9. Combiner plusieurs graphiques grâce à subplots\n",
    "### 3.9.1. Tracer des sous-graphiques (subplot) sur une ligne ou une colonne"
   ]
  },
  {
   "cell_type": "code",
   "execution_count": null,
   "metadata": {},
   "outputs": [],
   "source": [
    "import matplotlib.pyplot as plt\n",
    "import numpy as np\n",
    "plt.figure(figsize=[10,5])\n",
    "plt.subplot(121)\n",
    "plt.plot(donnees_NaN_supprimes[\"Height\"],donnees_NaN_supprimes[\"Weight\"],marker='o', color=\"black\", linestyle='', markersize=2.5)\n",
    "plt.title(\"Poids en fonction de la taille\")\n",
    "plt.ylabel(\"Poids\")\n",
    "plt.xlabel(\"Taille\")\n",
    "plt.subplot(122)\n",
    "plt.plot(donnees_NaN_supprimes[\"Height\"],donnees_NaN_supprimes[\"Age\"],marker='v', color=\"black\", linestyle='', markersize=3.5)\n",
    "plt.plot(donnees_NaN_supprimes[\"Height\"],[np.mean(donnees_NaN_supprimes[\"Age\"])]*len(donnees_NaN_supprimes[\"Height\"]), linestyle='--', color=\"green\",label='Moyenne_age')\n",
    "plt.title(\"Age en fonction de la taille\")\n",
    "plt.ylabel(\"Age\")\n",
    "plt.xlabel(\"Taille\")\n",
    "plt.legend(loc='upper left')\n",
    "plt.show()"
   ]
  },
  {
   "cell_type": "markdown",
   "metadata": {},
   "source": [
    "### 3.9.2. Tracer des sous-graphiques (subplots) sur plusieurs lignes et plusieurs colonnes"
   ]
  },
  {
   "cell_type": "code",
   "execution_count": null,
   "metadata": {},
   "outputs": [],
   "source": [
    "import matplotlib.pyplot as plt\n",
    "import numpy as np\n",
    "fig, axs = plt.subplots(2, 2, figsize=(10, 10))\n",
    "axs[0,0].plot(donnees_NaN_supprimes[\"Height\"],donnees_NaN_supprimes[\"Weight\"],marker='o', color=\"black\", linestyle='', markersize=1.8)\n",
    "axs[0,0].set_title(\"Poids en fonction de la taille\")\n",
    "axs[0,0].set_ylabel(\"Poids\")\n",
    "axs[0,0].set_xlabel(\"Taille\")\n",
    "axs[0,1].plot(donnees_NaN_supprimes[\"Height\"],donnees_NaN_supprimes[\"Age\"],marker='v', color=\"black\", linestyle='', markersize=3.5)\n",
    "axs[0,1].plot(donnees_NaN_supprimes[\"Height\"],[np.mean(donnees_NaN_supprimes[\"Age\"])]*len(donnees_NaN_supprimes[\"Height\"]), linestyle='--', color=\"green\",label='Moyenne_age')\n",
    "axs[0,1].set_title(\"Age en fonction de la taille\")\n",
    "axs[0,1].set_ylabel(\"Age\")\n",
    "axs[0,1].set_xlabel(\"Taille\")\n",
    "axs[0,1].legend(loc='upper left')\n",
    "axs[1,0].plot(donnees_NaN_supprimes[\"Height\"],donnees_NaN_supprimes[\"Weight\"],marker='o', color=\"black\", linestyle='', markersize=1.8)\n",
    "axs[1,0].set_title(\"Poids en fonction de la taille\")\n",
    "axs[1,0].set_ylabel(\"Poids\")\n",
    "axs[1,0].set_xlabel(\"Taille\")\n",
    "axs[1,1].plot(donnees_NaN_supprimes[\"Height\"],donnees_NaN_supprimes[\"Age\"],marker='v', color=\"black\", linestyle='', markersize=3.5)\n",
    "axs[1,1].plot(donnees_NaN_supprimes[\"Height\"],[np.mean(donnees_NaN_supprimes[\"Age\"])]*len(donnees_NaN_supprimes[\"Height\"]), linestyle='--', color=\"green\",label='Moyenne_age')\n",
    "axs[1,1].set_title(\"Age en fonction de la taille\")\n",
    "axs[1,1].set_ylabel(\"Age\")\n",
    "axs[1,1].set_xlabel(\"Taille\")\n",
    "axs[1,1].legend(loc='upper left')\n",
    "plt.show()"
   ]
  },
  {
   "cell_type": "markdown",
   "metadata": {},
   "source": [
    "### 3.9.3.\tIncruster un objet axes dans un autre"
   ]
  },
  {
   "cell_type": "code",
   "execution_count": null,
   "metadata": {},
   "outputs": [],
   "source": [
    "import matplotlib.pyplot as plt\n",
    "fig, axe_principal = plt.subplots()\n",
    "axe_principal.plot(donnees_NaN_supprimes[\"Height\"],donnees_NaN_supprimes[\"Weight\"],marker='o', color=\"black\", linestyle='', markersize=2.5)\n",
    "axe_principal.set_title(\"Poids en fonction de la taille\")\n",
    "axe_principal.set_ylabel(\"Poids\")\n",
    "axe_principal.set_xlabel(\"Taille\")\n",
    "axe_incruste=fig.add_axes([0.25,0.6,.2,.2])\n",
    "axe_incruste.plot(donnees_NaN_supprimes[\"Height\"],donnees_NaN_supprimes[\"Age\"],marker='v', color=\"black\", linestyle='', markersize=2.5)\n",
    "axe_incruste.set_title(\"Age en fonction de la taille\")\n",
    "plt.show()"
   ]
  },
  {
   "cell_type": "code",
   "execution_count": null,
   "metadata": {},
   "outputs": [],
   "source": [
    "import matplotlib.pyplot as plt\n",
    "fig, axe_principal = plt.subplots()\n",
    "axe_principal.plot(donnees_NaN_supprimes[\"Height\"],donnees_NaN_supprimes[\"Weight\"],marker='o', color=\"black\", linestyle='', markersize=2.5)\n",
    "axe_principal.set_title(\"Poids en fonction de la taille\")\n",
    "axe_principal.set_ylabel(\"Poids\")\n",
    "axe_principal.set_xlabel(\"Taille\")\n",
    "axe_incruste=fig.add_axes([0,1,.4,.4])\n",
    "axe_incruste.plot(donnees_NaN_supprimes[\"Height\"],donnees_NaN_supprimes[\"Age\"],marker='v', color=\"black\", linestyle='', markersize=2.5)\n",
    "axe_incruste.set_title(\"Age en fonction de la taille\")\n",
    "plt.show()"
   ]
  },
  {
   "cell_type": "markdown",
   "metadata": {},
   "source": [
    "# 4.\tLes différents types de graphes"
   ]
  },
  {
   "cell_type": "markdown",
   "metadata": {},
   "source": [
    "## 4.2. Scatterplot"
   ]
  },
  {
   "cell_type": "code",
   "execution_count": null,
   "metadata": {},
   "outputs": [],
   "source": [
    "import matplotlib.pyplot as plt\n",
    "plt.figure()\n",
    "plt.subplot(111)\n",
    "plt.scatter(donnees_NaN_supprimes[\"Height\"], donnees_NaN_supprimes[\"Weight\"],s=0.5)\n",
    "plt.show()"
   ]
  },
  {
   "cell_type": "code",
   "execution_count": null,
   "metadata": {
    "scrolled": true
   },
   "outputs": [],
   "source": [
    "import matplotlib.pyplot as plt\n",
    "plt.figure()\n",
    "plt.subplot(111)\n",
    "colors = {'F':'red', 'M':'blue'}\n",
    "plt.scatter(donnees_NaN_supprimes[\"Height\"], donnees_NaN_supprimes[\"Weight\"],c=donnees_NaN_supprimes['Sex'].apply(lambda x: colors[x]),s=0.5)\n",
    "plt.show()"
   ]
  },
  {
   "cell_type": "markdown",
   "metadata": {},
   "source": [
    "## 4.3. Graphique à barres (bargraph)\n",
    "### 4.3.1.\tGraphique à barres simple"
   ]
  },
  {
   "cell_type": "code",
   "execution_count": null,
   "metadata": {},
   "outputs": [],
   "source": [
    "import matplotlib.pyplot as plt\n",
    "import pandas as pd\n",
    "plt.figure()\n",
    "plt.subplot(111)\n",
    "labels_X=donnees_NaN_remplaces['Team'].value_counts()[:10].keys()\n",
    "valeurs_Y=donnees_NaN_remplaces['Team'].value_counts()[:10].values\n",
    "plt.bar(labels_X, valeurs_Y)\n",
    "plt.xticks(labels_X,rotation=90)\n",
    "plt.ylabel(\"Nombre d'athlètes\")\n",
    "plt.title(\"Top 10 des équipes avec le plus d'athlètes\")\n",
    "plt.show()"
   ]
  },
  {
   "cell_type": "code",
   "execution_count": null,
   "metadata": {},
   "outputs": [],
   "source": [
    "import matplotlib.pyplot as plt\n",
    "import pandas as pd\n",
    "plt.figure()\n",
    "plt.subplot(111)\n",
    "labels_X=donnees_NaN_remplaces['Sport'].value_counts()[:10].keys()\n",
    "valeurs_Y=donnees_NaN_remplaces['Sport'].value_counts()[:10].values\n",
    "plt.bar(labels_X, valeurs_Y)\n",
    "plt.xticks(labels_X,rotation=90)\n",
    "plt.ylabel(\"Nombre d'athlètes\")\n",
    "plt.title(\"Top 10 des disciplines avec le plus d'athlètes\")\n",
    "plt.show()"
   ]
  },
  {
   "cell_type": "markdown",
   "metadata": {},
   "source": [
    "### 4.3.2. Graphique à barres groupées"
   ]
  },
  {
   "cell_type": "code",
   "execution_count": null,
   "metadata": {},
   "outputs": [],
   "source": [
    "sports_10=donnees_NaN_remplaces['Sport'].value_counts()[:10].keys()\n",
    "donnees_bar=donnees_NaN_remplaces.loc[donnees_NaN_remplaces['Sport'].isin(sports_10)].groupby([\"Sport\", \"Sex\"]).size().unstack(1)\n",
    "donnees_bar"
   ]
  },
  {
   "cell_type": "code",
   "execution_count": null,
   "metadata": {
    "scrolled": true
   },
   "outputs": [],
   "source": [
    "import matplotlib.pyplot as plt\n",
    "pos = list(range(len(donnees_bar['F']))) \n",
    "width = 0.25 \n",
    "plt.figure()\n",
    "plt.subplot(111)\n",
    "# Créer une barre avec les données F,\n",
    "# à la position pos\n",
    "plt.bar(pos, donnees_bar['F'], width, color='red',label=\"Femmes\") \n",
    "# Créer une barre avec les données F,\n",
    "# à la position pos + 0.25 afin que la barre M soit décalée à droite de la première barre F\n",
    "plt.bar([p + width for p in pos], donnees_bar['M'],width, color='blue', label=\"Hommes\") \n",
    "plt.xticks([p + 0.125 for p in pos],donnees_bar.index,rotation=90)\n",
    "plt.ylabel(\"Nombre d'athlètes\")\n",
    "plt.legend()\n",
    "plt.title(\"Nombre d'athlètes hommes et femmes dans les 10 disciplines\")\n",
    "plt.show()"
   ]
  },
  {
   "cell_type": "markdown",
   "metadata": {},
   "source": [
    "### 4.3.3. Graphique à barres empilées"
   ]
  },
  {
   "cell_type": "code",
   "execution_count": null,
   "metadata": {},
   "outputs": [],
   "source": [
    "import matplotlib.pyplot as plt\n",
    "sports_10= donnees_NaN_remplaces['Sport'].value_counts()[:10].keys()\n",
    "donnees_bar=donnees_NaN_remplaces.loc[donnees_NaN_remplaces['Sport'].isin(sports_10)].groupby([\"Sport\", \"Sex\"]).size().unstack(1)\n",
    "valeurs_hommes = donnees_bar[\"M\"]\n",
    "valeurs_femmes = donnees_bar[\"F\"]\n",
    "width = 0.35\n",
    "plt.figure()\n",
    "plt.subplot(111)\n",
    "plt.bar(donnees_bar.index, valeurs_hommes, width, label='Hommes')\n",
    "plt.bar(donnees_bar.index, valeurs_femmes, width, bottom=valeurs_hommes,label='Femmes')\n",
    "plt.ylabel('Nombre')\n",
    "plt.title(\"Nombre d'athlètes par discipline en fonction du genre\")\n",
    "plt.xticks(donnees_bar.index,rotation=90)\n",
    "plt.legend()\n",
    "plt.show()"
   ]
  },
  {
   "cell_type": "markdown",
   "metadata": {},
   "source": [
    "## 4.4. Box plots"
   ]
  },
  {
   "cell_type": "code",
   "execution_count": null,
   "metadata": {},
   "outputs": [],
   "source": [
    "import matplotlib.pyplot as plt\n",
    "plt.figure()\n",
    "plt.subplot(111)\n",
    "plt.boxplot(donnees_NaN_supprimes[\"Age\"])\n",
    "plt.show()"
   ]
  },
  {
   "cell_type": "code",
   "execution_count": null,
   "metadata": {},
   "outputs": [],
   "source": [
    "import matplotlib.pyplot as plt\n",
    "plt.figure()\n",
    "plt.subplot(111)\n",
    "plt.boxplot(donnees_NaN_supprimes[\"Age\"],showfliers=False)\n",
    "plt.title(\"Boite à moustache sur la variable Age\")\n",
    "plt.xticks([1], ['Age'])\n",
    "plt.show()"
   ]
  },
  {
   "cell_type": "code",
   "execution_count": null,
   "metadata": {},
   "outputs": [],
   "source": []
  }
 ],
 "metadata": {
  "kernelspec": {
   "display_name": "Python 3",
   "language": "python",
   "name": "python3"
  },
  "language_info": {
   "codemirror_mode": {
    "name": "ipython",
    "version": 3
   },
   "file_extension": ".py",
   "mimetype": "text/x-python",
   "name": "python",
   "nbconvert_exporter": "python",
   "pygments_lexer": "ipython3",
   "version": "3.7.6"
  }
 },
 "nbformat": 4,
 "nbformat_minor": 4
}
