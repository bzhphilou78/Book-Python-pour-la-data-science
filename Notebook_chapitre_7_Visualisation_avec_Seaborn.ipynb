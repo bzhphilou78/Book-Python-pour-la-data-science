{
 "cells": [
  {
   "cell_type": "markdown",
   "metadata": {},
   "source": [
    "# Importation des données et nettoyage"
   ]
  },
  {
   "cell_type": "code",
   "execution_count": null,
   "metadata": {},
   "outputs": [],
   "source": [
    "import pandas as pd\n",
    "donnees=pd.read_csv(\"../datasets/120-years-of-olympic-history-athletes-and-results.csv\", index_col=[1])\n",
    "donnees['Medal']=donnees['Medal'].fillna(\"None\")\n",
    "donnees_NaN_supprimes = donnees[pd.notnull(donnees['Age'])]\n",
    "donnees_NaN_supprimes = donnees_NaN_supprimes[pd.notnull(donnees_NaN_supprimes['Height'])]\n",
    "donnees_NaN_supprimes = donnees_NaN_supprimes[pd.notnull(donnees_NaN_supprimes['Weight'])]\n",
    "donnees[['Age','Height', 'Weight']] = donnees[['Age','Height','Weight']].fillna(donnees[['Age','Height','Weight']].mean())\n",
    "donnees_NaN_remplaces=donnees.drop_duplicates()\n",
    "donnees_NaN_supprimes=donnees_NaN_supprimes.drop_duplicates()\n",
    "print(\"Tableau avec NaN remplacés\")\n",
    "print(donnees_NaN_remplaces.shape)\n",
    "print(\"Tableau avec suppression des lignes contenant des NaN\")\n",
    "print(donnees_NaN_supprimes.shape)"
   ]
  },
  {
   "cell_type": "markdown",
   "metadata": {},
   "source": [
    "# 2. L'esthétique des figures avec Seaborn (Aesthetic)\n",
    "## 2.1.\tParamétrer les styles Seaborn (thèmes)"
   ]
  },
  {
   "cell_type": "code",
   "execution_count": null,
   "metadata": {},
   "outputs": [],
   "source": [
    "import matplotlib.pyplot as plt\n",
    "plt.figure()\n",
    "plt.subplot(111)\n",
    "plt.plot(donnees_NaN_supprimes[\"Height\"],donnees_NaN_supprimes[\"Weight\"])\n",
    "plt.show()"
   ]
  },
  {
   "cell_type": "code",
   "execution_count": null,
   "metadata": {
    "scrolled": true
   },
   "outputs": [],
   "source": [
    "import matplotlib.pyplot as plt\n",
    "import seaborn as sns\n",
    "sns.set_style(\"darkgrid\")\n",
    "plt.figure()\n",
    "plt.subplot(111)\n",
    "plt.plot(donnees_NaN_supprimes[\"Height\"],donnees_NaN_supprimes[\"Weight\"])\n",
    "plt.show()"
   ]
  },
  {
   "cell_type": "markdown",
   "metadata": {},
   "source": [
    "## 2.2. Supprimer les axes"
   ]
  },
  {
   "cell_type": "code",
   "execution_count": null,
   "metadata": {},
   "outputs": [],
   "source": [
    "import matplotlib.pyplot as plt\n",
    "import seaborn as sns\n",
    "sns.set_style(\"white\")\n",
    "plt.figure()\n",
    "plt.subplot(111)\n",
    "plt.plot(donnees_NaN_supprimes[\"Height\"],donnees_NaN_supprimes[\"Weight\"])\n",
    "plt.show()"
   ]
  },
  {
   "cell_type": "code",
   "execution_count": null,
   "metadata": {},
   "outputs": [],
   "source": [
    "import matplotlib.pyplot as plt\n",
    "import seaborn as sns\n",
    "sns.set_style(\"white\")\n",
    "plt.figure()\n",
    "plt.subplot(111)\n",
    "plt.plot(donnees_NaN_supprimes[\"Height\"],donnees_NaN_supprimes[\"Weight\"])\n",
    "sns.despine()\n",
    "plt.show()"
   ]
  },
  {
   "cell_type": "markdown",
   "metadata": {},
   "source": [
    "## 2.3. Paramétrer les contextes avec Seaborn"
   ]
  },
  {
   "cell_type": "code",
   "execution_count": null,
   "metadata": {},
   "outputs": [],
   "source": [
    "import matplotlib.pyplot as plt\n",
    "import seaborn as sns\n",
    "sns.set_style(\"darkgrid\")\n",
    "sns.set_context(\"notebook\")\n",
    "plt.figure()\n",
    "plt.subplot(111)\n",
    "plt.plot(donnees_NaN_supprimes[\"Height\"],donnees_NaN_supprimes[\"Weight\"])\n",
    "plt.show()"
   ]
  },
  {
   "cell_type": "code",
   "execution_count": null,
   "metadata": {},
   "outputs": [],
   "source": [
    "import matplotlib.pyplot as plt\n",
    "import seaborn as sns\n",
    "sns.set_style(\"darkgrid\")\n",
    "sns.set_context(\"talk\")\n",
    "plt.figure()\n",
    "plt.subplot(111)\n",
    "plt.plot(donnees_NaN_supprimes[\"Height\"],donnees_NaN_supprimes[\"Weight\"])\n",
    "plt.show()"
   ]
  },
  {
   "cell_type": "code",
   "execution_count": null,
   "metadata": {},
   "outputs": [],
   "source": [
    "sns.set_context(\"notebook\")\n",
    "sns.plotting_context()"
   ]
  },
  {
   "cell_type": "code",
   "execution_count": null,
   "metadata": {},
   "outputs": [],
   "source": [
    "sns.set_context(\"talk\")\n",
    "sns.plotting_context()"
   ]
  },
  {
   "cell_type": "code",
   "execution_count": null,
   "metadata": {},
   "outputs": [],
   "source": [
    "import matplotlib.pyplot as plt\n",
    "import seaborn as sns\n",
    "sns.set_style(\"darkgrid\")\n",
    "sns.set_context(\"notebook\",rc={\"xtick.labelsize\": 20})\n",
    "plt.figure()\n",
    "plt.subplot(111)\n",
    "plt.plot(donnees_NaN_supprimes[\"Height\"],donnees_NaN_supprimes[\"Weight\"])\n",
    "plt.show()\n",
    "sns.set_context(\"notebook\",rc={\"xtick.labelsize\": 16.5})"
   ]
  },
  {
   "cell_type": "markdown",
   "metadata": {},
   "source": [
    "## 2.4. Les palettes de couleur avec Seaborn\n",
    "### 2.4.1.\tChoisir une palette de couleurs existante"
   ]
  },
  {
   "cell_type": "code",
   "execution_count": null,
   "metadata": {},
   "outputs": [],
   "source": [
    "sns.palplot(sns.color_palette())"
   ]
  },
  {
   "cell_type": "code",
   "execution_count": null,
   "metadata": {},
   "outputs": [],
   "source": [
    "sns.palplot(sns.color_palette(\"dark\",15))"
   ]
  },
  {
   "cell_type": "code",
   "execution_count": null,
   "metadata": {},
   "outputs": [],
   "source": [
    "sns.palplot(sns.color_palette(\"Paired\"))"
   ]
  },
  {
   "cell_type": "code",
   "execution_count": null,
   "metadata": {},
   "outputs": [],
   "source": [
    "sns.palplot(sns.color_palette(\"OrRd\",10))\n",
    "sns.palplot(sns.color_palette(\"Blues\",10))"
   ]
  },
  {
   "cell_type": "code",
   "execution_count": null,
   "metadata": {},
   "outputs": [],
   "source": [
    "sns.palplot(sns.color_palette(\"RdBu\", 10))"
   ]
  },
  {
   "cell_type": "markdown",
   "metadata": {},
   "source": [
    "### 2.4.2.\tCréer sa propre palette de couleurs"
   ]
  },
  {
   "cell_type": "code",
   "execution_count": null,
   "metadata": {},
   "outputs": [],
   "source": [
    "palette= sns.color_palette([\"#9b59b6\",\"#3498db\",\"#e74c3c\",\"#34495e\",\"#2ecc71\"])\n",
    "sns.set_palette(palette)\n",
    "sns.palplot(palette)"
   ]
  },
  {
   "cell_type": "markdown",
   "metadata": {},
   "source": [
    "# 3. Les différents types de graphiques\n",
    "## 3.2.\tNuage de points (scatterplot)"
   ]
  },
  {
   "cell_type": "code",
   "execution_count": null,
   "metadata": {},
   "outputs": [],
   "source": [
    "import matplotlib.pyplot as plt\n",
    "import seaborn as sns\n",
    "palette= sns.color_palette([\"#3498db\",\"#e74c3c\"])\n",
    "sns.set_palette(palette)\n",
    "sns.set_style(\"white\")\n",
    "plt.figure(figsize=[10,6])\n",
    "plt.subplot(111)\n",
    "sns.scatterplot(data=donnees_NaN_supprimes, x='Height', y='Weight',hue='Sex',style='Medal')\n",
    "plt.title(\"Poids des athlètes en fonction de leur taille\")\n",
    "plt.legend(loc='upper left')\n",
    "plt.show()"
   ]
  },
  {
   "cell_type": "code",
   "execution_count": null,
   "metadata": {},
   "outputs": [],
   "source": [
    "import matplotlib.pyplot as plt\n",
    "import seaborn as sns\n",
    "plt.figure(figsize=[10,6])\n",
    "plt.subplot(111)\n",
    "sns.scatterplot(data=donnees_NaN_supprimes, x='Height', y='Weight',hue='Weight', style=\"Sex\", palette=\"Blues\")\n",
    "plt.title(\"Poids des athlètes en fonction de leur taille\")\n",
    "plt.legend(loc='upper left')\n",
    "plt.show()"
   ]
  },
  {
   "cell_type": "markdown",
   "metadata": {},
   "source": [
    "## 3.3. Graphiques de régression"
   ]
  },
  {
   "cell_type": "code",
   "execution_count": null,
   "metadata": {},
   "outputs": [],
   "source": [
    "import matplotlib.pyplot as plt\n",
    "import seaborn as sns\n",
    "#sns.set(rc={'figure.dpi':200})\n",
    "sns.lmplot(x ='Height', y ='Weight', data = donnees_NaN_supprimes,line_kws={'color': 'red'}) \n",
    "plt.show()"
   ]
  },
  {
   "cell_type": "code",
   "execution_count": null,
   "metadata": {},
   "outputs": [],
   "source": [
    "import matplotlib.pyplot as plt\n",
    "import seaborn as sns\n",
    "sns.lmplot(x ='Height', y ='Weight', data = donnees_NaN_supprimes, hue=\"Sex\")\n",
    "plt.show()"
   ]
  },
  {
   "cell_type": "code",
   "execution_count": null,
   "metadata": {},
   "outputs": [],
   "source": [
    "import matplotlib.pyplot as plt\n",
    "import seaborn as sns\n",
    "sns.lmplot(x ='Height', y ='Weight', data = donnees_NaN_supprimes, col=\"Sex\",line_kws={'color': 'red'})\n",
    "plt.show()"
   ]
  },
  {
   "cell_type": "markdown",
   "metadata": {},
   "source": [
    "## 3.4.\tPoint plot"
   ]
  },
  {
   "cell_type": "code",
   "execution_count": null,
   "metadata": {},
   "outputs": [],
   "source": [
    "import matplotlib.pyplot as plt\n",
    "import seaborn as sns\n",
    "sns.set_context(\"notebook\",rc={\"xtick.labelsize\": 15,\"ytick.labelsize\": 15})\n",
    "sns.set_style(\"white\")\n",
    "plt.figure(figsize=[15,6])\n",
    "plt.subplot(111)\n",
    "donnees_summer=donnees_NaN_remplaces[donnees_NaN_remplaces[\"Season\"]==\"Summer\"]\n",
    "donnees_pointplot=donnees_summer.groupby(['Year','Sex']).size().reset_index(name='Count')\n",
    "sns.pointplot(x ='Year', y ='Count', data = donnees_pointplot, hue=\"Sex\")\n",
    "plt.xticks(rotation=90)\n",
    "plt.show()"
   ]
  },
  {
   "cell_type": "code",
   "execution_count": null,
   "metadata": {},
   "outputs": [],
   "source": [
    "donnees_pointplot.head()"
   ]
  },
  {
   "cell_type": "code",
   "execution_count": null,
   "metadata": {},
   "outputs": [],
   "source": [
    "import matplotlib.pyplot as plt\n",
    "import seaborn as sns\n",
    "sns.set_context(\"notebook\",rc={\"xtick.labelsize\": 15,\"ytick.labelsize\": 15})\n",
    "plt.figure(figsize=[15,6])\n",
    "plt.subplot(111)\n",
    "donnees_summer=donnees_NaN_remplaces[donnees_NaN_remplaces[\"Season\"]==\"Summer\"]\n",
    "sns.pointplot(x ='Year', y ='Age', data = donnees_summer, hue=\"Sex\")\n",
    "plt.xticks(rotation=90)\n",
    "plt.show()"
   ]
  },
  {
   "cell_type": "markdown",
   "metadata": {},
   "source": [
    "## 3.5 Nuage de points avec une variable qualitative : stripplot"
   ]
  },
  {
   "cell_type": "code",
   "execution_count": null,
   "metadata": {},
   "outputs": [],
   "source": [
    "import matplotlib.pyplot as plt\n",
    "import seaborn as sns\n",
    "donnees_summer=donnees_NaN_supprimes[donnees_NaN_supprimes[\"Season\"]==\"Summer\"]\n",
    "palette= sns.color_palette([\"#3498db\",\"#e74c3c\"])\n",
    "sns.set_palette(palette)\n",
    "plt.figure(figsize=[15,6])\n",
    "plt.subplot(111)\n",
    "sns.stripplot(x='Year', y='Height', hue='Sex', data=donnees_summer)\n",
    "plt.xticks(rotation=90)\n",
    "plt.show()"
   ]
  },
  {
   "cell_type": "markdown",
   "metadata": {},
   "source": [
    "## 3.6.\tBoxplots"
   ]
  },
  {
   "cell_type": "code",
   "execution_count": null,
   "metadata": {},
   "outputs": [],
   "source": [
    "import matplotlib.pyplot as plt\n",
    "import seaborn as sns\n",
    "donnees_Winter=donnees_NaN_supprimes[donnees_NaN_supprimes[\"Season\"]==\"Winter\"]\n",
    "plt.figure(figsize=[15,6])\n",
    "plt.subplot(111)\n",
    "sns.boxplot(x='Sport', y='Age', data=donnees_Winter)\n",
    "plt.xticks(rotation=90)\n",
    "plt.show()"
   ]
  },
  {
   "cell_type": "markdown",
   "metadata": {},
   "source": [
    "## 3.7.\tGraphique à barres : countplot"
   ]
  },
  {
   "cell_type": "code",
   "execution_count": null,
   "metadata": {},
   "outputs": [],
   "source": [
    "import matplotlib.pyplot as plt\n",
    "import seaborn as sns\n",
    "plt.figure(figsize=[15,13])\n",
    "plt.subplot(111)\n",
    "donnees_medaille_or=donnees_NaN_supprimes.loc[donnees_NaN_supprimes[\"Medal\"]==\"Gold\"]\n",
    "sns.countplot(data=donnees_medaille_or, x=\"Age\")\n",
    "plt.title(\"Distribution de l'âge des athlètes ayant obtenu une médaille d'or\")\n",
    "plt.xticks(rotation=90)\n",
    "plt.show()"
   ]
  },
  {
   "cell_type": "code",
   "execution_count": null,
   "metadata": {},
   "outputs": [],
   "source": [
    "import matplotlib.pyplot as plt\n",
    "import seaborn as sns\n",
    "palette=sns.color_palette(\"Paired\")\n",
    "sns.set_palette(palette)\n",
    "disciplines_ages = donnees_NaN_supprimes.loc[(donnees_NaN_supprimes[\"Medal\"]==\"Gold\") & (donnees_NaN_supprimes[\"Age\"]>45)]\n",
    "disciplines_jeunes = donnees_NaN_supprimes.loc[(donnees_NaN_supprimes[\"Medal\"]==\"Gold\") & (donnees_NaN_supprimes[\"Age\"]<15)]\n",
    "plt.figure(figsize=[15,6])\n",
    "plt.subplot(121)\n",
    "sns.countplot(data= disciplines_ages, x=\"Sport\")\n",
    "plt.title(\"Disciplines des médaillés d'or de plus de 45 ans\")\n",
    "plt.xticks(rotation=90)\n",
    "plt.subplot(122)\n",
    "sns.countplot(data= disciplines_jeunes, x=\"Sport\")\n",
    "plt.title(\"Disciplines des médaillés d'or de moins de 15 ans\")\n",
    "plt.xticks(rotation=90)\n",
    "plt.show()"
   ]
  },
  {
   "cell_type": "markdown",
   "metadata": {},
   "source": [
    "## 3.8.\tHistogrammes"
   ]
  },
  {
   "cell_type": "code",
   "execution_count": null,
   "metadata": {},
   "outputs": [],
   "source": [
    "import matplotlib.pyplot as plt\n",
    "import seaborn as sns\n",
    "palette= sns.color_palette([\"#3498db\",\"#e74c3c\"])\n",
    "sns.set_palette(palette)\n",
    "plt.figure()\n",
    "#plt.figure(figsize=[8,6], dpi=300)\n",
    "plt.subplot(111)\n",
    "sns.distplot(donnees_NaN_supprimes[\"Height\"])\n",
    "plt.title(\"Distribution des tailles chez les athlètes des JO\")\n",
    "plt.xticks(rotation=90)\n",
    "plt.show()"
   ]
  },
  {
   "cell_type": "code",
   "execution_count": null,
   "metadata": {},
   "outputs": [],
   "source": [
    "import matplotlib.pyplot as plt\n",
    "import seaborn as sns\n",
    "palette= sns.color_palette([\"#3498db\",\"#e74c3c\"])\n",
    "sns.set_palette(palette)\n",
    "plt.figure()\n",
    "#plt.figure(figsize=[8,6], dpi=300)\n",
    "plt.subplot(111)\n",
    "sns.distplot(donnees_NaN_supprimes[\"Height\"], kde=False)\n",
    "plt.title(\"Distribution des tailles chez les athlètes des JO\")\n",
    "plt.xticks(rotation=90)\n",
    "plt.show()"
   ]
  },
  {
   "cell_type": "code",
   "execution_count": null,
   "metadata": {},
   "outputs": [],
   "source": [
    "import matplotlib.pyplot as plt\n",
    "import seaborn as sns\n",
    "palette= sns.color_palette([\"#3498db\",\"#e74c3c\"])\n",
    "sns.set_palette(palette)\n",
    "valeurs_athletes_feminines=donnees_NaN_supprimes.loc[(donnees_NaN_supprimes[\"Sex\"]==\"F\")]\n",
    "valeurs_athletes_masculins=donnees_NaN_supprimes.loc[(donnees_NaN_supprimes[\"Sex\"]==\"M\")]\n",
    "plt.figure()\n",
    "#plt.figure(figsize=[8,6], dpi=300)\n",
    "plt.subplot(111)\n",
    "sns.distplot(valeurs_athletes_masculins[\"Height\"], label=\"Tailles M\")\n",
    "sns.distplot(valeurs_athletes_feminines[\"Height\"], label=\"Tailles F\")\n",
    "plt.title(\"Distribution des tailles chez les athlètes des JO\")\n",
    "plt.xticks(rotation=90)\n",
    "plt.legend()\n",
    "plt.show()"
   ]
  },
  {
   "cell_type": "markdown",
   "metadata": {},
   "source": [
    "## 3.9.\tJointplot"
   ]
  },
  {
   "cell_type": "code",
   "execution_count": null,
   "metadata": {},
   "outputs": [],
   "source": [
    "import matplotlib.pyplot as plt\n",
    "import seaborn as sns\n",
    "#sns.set(rc={'figure.dpi':200})\n",
    "sns.set(style=\"white\", color_codes=True)\n",
    "sns.jointplot(data=donnees_NaN_supprimes, x='Height', y='Weight')\n",
    "plt.show()"
   ]
  },
  {
   "cell_type": "code",
   "execution_count": null,
   "metadata": {},
   "outputs": [],
   "source": [
    "import matplotlib.pyplot as plt\n",
    "import seaborn as sns\n",
    "sns.set(style=\"white\", color_codes=True)\n",
    "sns.jointplot(data=donnees_NaN_supprimes, x='Height', y='Weight', kind=\"reg\",line_kws={'color': 'red'})\n",
    "plt.show()"
   ]
  },
  {
   "cell_type": "code",
   "execution_count": null,
   "metadata": {
    "scrolled": true
   },
   "outputs": [],
   "source": [
    "import matplotlib.pyplot as plt\n",
    "import seaborn as sns\n",
    "sns.set(style=\"white\", color_codes=True)\n",
    "#sns.set(rc={'figure.dpi':200})\n",
    "sns.pairplot(data=donnees_NaN_supprimes)\n",
    "plt.show()"
   ]
  },
  {
   "cell_type": "code",
   "execution_count": null,
   "metadata": {
    "scrolled": true
   },
   "outputs": [],
   "source": [
    "donnees_pairplot = donnees_NaN_supprimes.drop(columns = ['ID', 'Year'])\n",
    "import matplotlib.pyplot as plt\n",
    "import seaborn as sns\n",
    "sns.set(style=\"white\", color_codes=True)\n",
    "sns.pairplot(data=donnees_pairplot)\n",
    "plt.show()"
   ]
  },
  {
   "cell_type": "markdown",
   "metadata": {},
   "source": [
    "## 3.11. Heatmap "
   ]
  },
  {
   "cell_type": "code",
   "execution_count": null,
   "metadata": {},
   "outputs": [],
   "source": [
    "import matplotlib.pyplot as plt\n",
    "import seaborn as sns\n",
    "donnees_heatmap=donnees_NaN_supprimes.loc[(donnees_NaN_supprimes[\"Medal\"]==\"Gold\") | (donnees_NaN_supprimes[\"Medal\"]==\"Silver\") | (donnees_NaN_supprimes[\"Medal\"]==\"Bronze\")]\n",
    "donnees_heatmap=donnees_heatmap[[\"Sex\",\"Age\",\"Weight\",\"Height\",\"Medal\",\"Year\",\"Team\"]]\n",
    "dictionnaire = {\"Bronze\" : 1, \"Silver\" : 2, \"Gold\" : 3}\n",
    "donnees_heatmap[\"Medal\"] = donnees_heatmap[\"Medal\"].map(dictionnaire)\n",
    "donnees_heatmap[\"Team\"]=donnees_heatmap[\"Team\"].astype(\"category\").cat.codes\n",
    "correlation = donnees_heatmap.corr()\n",
    "plt.figure()\n",
    "plt.subplot(111)\n",
    "sns.heatmap(correlation, annot=True, linewidths=1.0)\n",
    "plt.show()"
   ]
  },
  {
   "cell_type": "code",
   "execution_count": null,
   "metadata": {},
   "outputs": [],
   "source": [
    "donnees_NaN_supprimes.head()"
   ]
  },
  {
   "cell_type": "markdown",
   "metadata": {},
   "source": [
    "# 4. Graphiques multi-grilles\n",
    "## 4.1.\tFacetGrid "
   ]
  },
  {
   "cell_type": "markdown",
   "metadata": {},
   "source": [
    "## Etude de la relation entre le poids et la taille des athlètes aux Jeux Olympiques d'été et d'hiver"
   ]
  },
  {
   "cell_type": "markdown",
   "metadata": {},
   "source": [
    "Nuages de points séparés selon le type de médaille obtenue par les athlètes et colorés selon le genre des athlètes"
   ]
  },
  {
   "cell_type": "code",
   "execution_count": null,
   "metadata": {
    "scrolled": false
   },
   "outputs": [],
   "source": [
    "import matplotlib.pyplot as plt\n",
    "import seaborn as sns\n",
    "sns.set(rc={'figure.dpi':200})\n",
    "mon_facetgrid = sns.FacetGrid(donnees_NaN_supprimes, row = 'Season', col = 'Medal', hue = 'Sex')\n",
    "mon_facetgrid.map(sns.scatterplot, 'Height', 'Weight')\n",
    "mon_facetgrid.add_legend()\n",
    "plt.show()"
   ]
  },
  {
   "cell_type": "markdown",
   "metadata": {},
   "source": [
    "## 4.2. PairGrid "
   ]
  },
  {
   "cell_type": "code",
   "execution_count": null,
   "metadata": {},
   "outputs": [],
   "source": [
    "import matplotlib.pyplot as plt\n",
    "import seaborn as sns\n",
    "mon_pairgrid = sns.PairGrid(donnees_NaN_supprimes,vars=[\"Age\",\"Height\",\"Weight\"], hue=\"Sex\")\n",
    "mon_pairgrid.map(sns.scatterplot)\n",
    "mon_pairgrid.add_legend()\n",
    "plt.show()"
   ]
  },
  {
   "cell_type": "code",
   "execution_count": null,
   "metadata": {},
   "outputs": [],
   "source": [
    "import matplotlib.pyplot as plt\n",
    "import seaborn as sns\n",
    "mon_pairgrid = sns.PairGrid(donnees_NaN_supprimes,vars=[\"Age\",\"Height\",\"Weight\"], hue=\"Sex\")\n",
    "mon_pairgrid.map_diag(sns.distplot)\n",
    "mon_pairgrid.map_offdiag(sns.scatterplot)\n",
    "mon_pairgrid.add_legend()\n",
    "plt.show()"
   ]
  },
  {
   "cell_type": "markdown",
   "metadata": {},
   "source": [
    "## 4.3.\tJointGrid"
   ]
  },
  {
   "cell_type": "code",
   "execution_count": null,
   "metadata": {},
   "outputs": [],
   "source": [
    "import matplotlib.pyplot as plt\n",
    "import seaborn as sns\n",
    "mon_JointGrid=sns.JointGrid(data=donnees_NaN_supprimes,x=\"Height\",y=\"Weight\")\n",
    "mon_JointGrid.plot(sns.scatterplot, sns.distplot)\n",
    "plt.show()"
   ]
  }
 ],
 "metadata": {
  "kernelspec": {
   "display_name": "Python 3",
   "language": "python",
   "name": "python3"
  },
  "language_info": {
   "codemirror_mode": {
    "name": "ipython",
    "version": 3
   },
   "file_extension": ".py",
   "mimetype": "text/x-python",
   "name": "python",
   "nbconvert_exporter": "python",
   "pygments_lexer": "ipython3",
   "version": "3.7.6"
  }
 },
 "nbformat": 4,
 "nbformat_minor": 4
}
